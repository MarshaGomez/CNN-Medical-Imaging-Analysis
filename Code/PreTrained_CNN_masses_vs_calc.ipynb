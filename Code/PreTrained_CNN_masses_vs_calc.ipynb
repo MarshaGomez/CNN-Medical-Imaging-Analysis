{
  "nbformat": 4,
  "nbformat_minor": 0,
  "metadata": {
    "colab": {
      "name": "PreTrained_CNN_masses_vs_calc.ipynb",
      "provenance": [],
      "collapsed_sections": [],
      "include_colab_link": true
    },
    "kernelspec": {
      "name": "python3",
      "display_name": "Python 3"
    },
    "accelerator": "GPU"
  },
  "cells": [
    {
      "cell_type": "markdown",
      "metadata": {
        "id": "view-in-github",
        "colab_type": "text"
      },
      "source": [
        "<a href=\"https://colab.research.google.com/github/MarshaGomez/CNN-Medical-Imaging-Analysis/blob/main/Code/PreTrained_CNN_masses_vs_calc.ipynb\" target=\"_parent\"><img src=\"https://colab.research.google.com/assets/colab-badge.svg\" alt=\"Open In Colab\"/></a>"
      ]
    },
    {
      "cell_type": "code",
      "metadata": {
        "id": "BeGh5tmR5jsu",
        "colab": {
          "base_uri": "https://localhost:8080/"
        },
        "outputId": "77210c32-a81c-4963-8037-856897939f0b"
      },
      "source": [
        "from google.colab import drive\r\n",
        "drive.mount('/content/gdrive', force_remount=True) "
      ],
      "execution_count": null,
      "outputs": [
        {
          "output_type": "stream",
          "text": [
            "Mounted at /content/gdrive\n"
          ],
          "name": "stdout"
        }
      ]
    },
    {
      "cell_type": "markdown",
      "metadata": {
        "id": "JH6FExPNWyBu"
      },
      "source": [
        "##0. Base Operations\r\n"
      ]
    },
    {
      "cell_type": "code",
      "metadata": {
        "colab": {
          "base_uri": "https://localhost:8080/"
        },
        "id": "Ky7WTnmMVRJC",
        "outputId": "4d69f11e-27c6-4684-e6bb-9092665a5cd3"
      },
      "source": [
        "import matplotlib.pyplot as plt\r\n",
        "import tensorflow as tf\r\n",
        "import seaborn as sns # Grouped bar plot\r\n",
        "import itertools\r\n",
        "import numpy as np\r\n",
        "import pandas as pd \r\n",
        "import ast #Abstract Syntax Trees\r\n",
        "import os \r\n",
        "import gc # Garbage Collector\r\n",
        "\r\n",
        "from tensorflow.keras import backend as K # Useful to free GPU and memory\r\n",
        "from sklearn.metrics import confusion_matrix, classification_report\r\n",
        "from tensorflow.keras.preprocessing.image import ImageDataGenerator\r\n",
        "from tensorflow.keras.preprocessing import image\r\n",
        "from tensorflow.keras.models import load_model\r\n",
        "from keras import layers, optimizers, models, regularizers, metrics\r\n",
        "from keras.models import load_model\r\n",
        "from sklearn.metrics import roc_curve\r\n",
        "from sklearn.metrics import auc\r\n",
        "\r\n",
        "\r\n",
        "BATCH_SIZE = 20\r\n",
        "EPOCHS = 100\r\n",
        "\r\n",
        "base_path = \"/content/gdrive/My Drive/Colab Notebooks/CIDL/DL Project\"\r\n",
        "train_img_path = os.path.join(base_path, \"numpy data/train_tensor.npy\")\r\n",
        "train_label_path = os.path.join(base_path, \"numpy data/train_labels.npy\")\r\n",
        "test_img_path = os.path.join(base_path, \"numpy data/public_test_tensor.npy\")\r\n",
        "test_label_path = os.path.join(base_path, \"numpy data/public_test_labels.npy\")\r\n",
        "\r\n",
        "MODEL_PATH = os.path.join(base_path, \"models/Masses-Calcifications\")\r\n",
        "PLOTS_PATH = os.path.join(base_path, \"plots/Masses-Calcifications\")\r\n",
        "\r\n",
        "\r\n",
        "print(\"Done\")"
      ],
      "execution_count": null,
      "outputs": [
        {
          "output_type": "stream",
          "text": [
            "Done\n"
          ],
          "name": "stdout"
        }
      ]
    },
    {
      "cell_type": "code",
      "metadata": {
        "colab": {
          "base_uri": "https://localhost:8080/"
        },
        "id": "mNvVHvHnVRfq",
        "outputId": "1121adb0-0916-4e46-a3a4-1c1e256461d4"
      },
      "source": [
        "# Load Arrays from Numpy Files\r\n",
        "def load_training():\r\n",
        "  train_images = np.load(train_img_path)\r\n",
        "  train_labels = np.load(train_label_path)\r\n",
        "  test_images = np.load(test_img_path)\r\n",
        "  test_labels = np.load(test_label_path)\r\n",
        "\r\n",
        "  return train_images, train_labels, test_images, test_labels\r\n",
        "\r\n",
        "def get_model_predictions(model, dataset, labels, sample_count): \r\n",
        "  predictions = np.zeros((sample_count,))   \r\n",
        "\r\n",
        "  BATCH_SIZE = 1\r\n",
        "  i = 0\r\n",
        "  for batch, labels_batch in test_datagen.flow(dataset, labels, batch_size=BATCH_SIZE, shuffle=False):\r\n",
        "    predictions[i * BATCH_SIZE : (i + 1) * BATCH_SIZE] = model.predict(batch)\r\n",
        "    i += 1\r\n",
        "\r\n",
        "    if i * BATCH_SIZE  >= sample_count:\r\n",
        "      break\r\n",
        "\r\n",
        "    #np.where(predictions < 0.5, 0, 1)\r\n",
        "    #predictions = np.where(predictions < 0.5, 0, 1)\r\n",
        "\r\n",
        "  return predictions\r\n",
        "\r\n",
        "\r\n",
        "# Remove baseline samples\r\n",
        "def remove_baseline(tensor): \r\n",
        "  max_ind = int(len(tensor)/2)\r\n",
        "  indexes = [2*i + 1 for i in range(0, max_ind)]\r\n",
        "\r\n",
        "  return tensor[indexes]\r\n",
        "\r\n",
        "# Interchange the dataset index\r\n",
        "def shuffle_dataset(x, y):\r\n",
        "  indices = tf.range(start=0, limit=tf.shape(x)[0], dtype=tf.int32)\r\n",
        "  shuffled_indices = tf.random.shuffle(indices)\r\n",
        "\r\n",
        "  x = tf.gather(x, shuffled_indices)\r\n",
        "  y = tf.gather(y, shuffled_indices)\r\n",
        "\r\n",
        "  x = x.numpy()\r\n",
        "  y = y.numpy()\r\n",
        "\r\n",
        "  return x, y\r\n",
        "\r\n",
        "# Unify masses and calcifications \r\n",
        "def labels_mapping(labels):\r\n",
        "  labels_local = np.zeros(shape=labels.shape, dtype=\"float32\")\r\n",
        "  idx = 0\r\n",
        "  for label in labels:\r\n",
        "    # Masses\r\n",
        "    if label == 1 or label == 2:\r\n",
        "      labels_local[idx] = 0\r\n",
        "    # Calcifications\r\n",
        "    else:\r\n",
        "      labels_local[idx] = 1\r\n",
        "    idx += 1\r\n",
        "\r\n",
        "  return labels_local\r\n",
        "\r\n",
        "print(\"Done\")"
      ],
      "execution_count": null,
      "outputs": [
        {
          "output_type": "stream",
          "text": [
            "Done\n"
          ],
          "name": "stdout"
        }
      ]
    },
    {
      "cell_type": "code",
      "metadata": {
        "colab": {
          "base_uri": "https://localhost:8080/"
        },
        "id": "L8GiRAXVVhbm",
        "outputId": "d0ba821b-9b5a-4bde-9680-42697f1a017e"
      },
      "source": [
        "# Visualization Confusion Matrix\r\n",
        "def plot_confusion_matrix(classes, # Array with the classes name\r\n",
        "                          datagen,\r\n",
        "                          dataset, \r\n",
        "                          labels,\r\n",
        "                          batch_size=BATCH_SIZE,\r\n",
        "                          title='Confusion matrix'):\r\n",
        "    \"\"\"\r\n",
        "    This function prints and plots the confusion matrix.\r\n",
        "    \"\"\"\r\n",
        "    predicted = model.predict(datagen.flow(dataset,\r\n",
        "                                            labels,\r\n",
        "                                            batch_size=batch_size,\r\n",
        "                                            shuffle=False),\r\n",
        "                          steps=len(dataset) // batch_size)\r\n",
        "\r\n",
        "    prediction = np.where(predicted < 0.5, 0, 1)\r\n",
        "\r\n",
        "    print('Confusion Matrix')\r\n",
        "    cm = confusion_matrix(labels, prediction)\r\n",
        "\r\n",
        "    print(classification_report(labels, prediction))\r\n",
        "\r\n",
        "    plt.imshow(cm, interpolation='nearest', cmap='Blues')\r\n",
        "    plt.title(title)\r\n",
        "    plt.colorbar()\r\n",
        "    tick_marks = np.arange(len(classes))\r\n",
        "    plt.xticks(tick_marks, classes, rotation=45)\r\n",
        "    plt.yticks(tick_marks, classes)\r\n",
        "\r\n",
        "    print(cm)\r\n",
        "\r\n",
        "    thresh = cm.max() / 2.\r\n",
        "    for i, j in itertools.product(range(cm.shape[0]), range(cm.shape[1])):\r\n",
        "        plt.text(j, i, cm[i, j],\r\n",
        "            horizontalalignment=\"center\",\r\n",
        "            color=\"white\" if cm[i, j] > thresh else \"black\")\r\n",
        "\r\n",
        "    plt.tight_layout()\r\n",
        "    plt.ylabel('True label')\r\n",
        "    plt.xlabel('Predicted label')\r\n",
        "\r\n",
        "\r\n",
        "# Visualization Data Histogram\r\n",
        "def plot(history):\r\n",
        "  acc = history.history['accuracy']\r\n",
        "  val_acc = history.history['val_accuracy']\r\n",
        "  loss = history.history['loss']\r\n",
        "  val_loss = history.history['val_loss']\r\n",
        "\r\n",
        "  epochs = range(len(acc))\r\n",
        "\r\n",
        "  plt.plot(epochs, acc, 'bo', label='Training accuracy')\r\n",
        "  plt.plot(epochs, val_acc, 'b', label='Validation accuracy')\r\n",
        "  plt.title('Training and validation accuracy')\r\n",
        "  plt.legend()\r\n",
        "\r\n",
        "  plt.figure()\r\n",
        "\r\n",
        "  plt.plot(epochs, loss, 'bo', label='Training loss')\r\n",
        "  plt.plot(epochs, val_loss, 'b', label='Validation loss')\r\n",
        "  plt.title('Training and validation loss')\r\n",
        "  plt.legend()\r\n",
        "\r\n",
        "  return plt\r\n",
        "\r\n",
        "# Visualization Detail Metric\r\n",
        "def plot_metrics(history):\r\n",
        "  metrics = ['loss', 'auc', 'precision', 'recall']\r\n",
        "  plt.figure(figsize=(12,10))\r\n",
        "\r\n",
        "  for n, metric in enumerate(metrics):\r\n",
        "    name = metric.replace(\"_\",\" \").capitalize()\r\n",
        "    plt.subplot(2,2,n+1)\r\n",
        "    plt.plot(history.epoch, history.history[metric], label='Train')\r\n",
        "    plt.plot(history.epoch, history.history['val_'+metric],\r\n",
        "             linestyle=\"--\", label='Val')\r\n",
        "    plt.xlabel('Epoch')\r\n",
        "    plt.ylabel(name)\r\n",
        "\r\n",
        "    if metric == 'loss':\r\n",
        "      plt.ylim([0, plt.ylim()[1]])\r\n",
        "    elif metric == 'auc':\r\n",
        "      plt.ylim([0.8,1])\r\n",
        "    else:\r\n",
        "      plt.ylim([0,1])\r\n",
        "\r\n",
        "    plt.legend()\r\n",
        "\r\n",
        "  return plt\r\n",
        "\r\n",
        "\r\n",
        "def plot_AUC(model, dataset, labels):\r\n",
        "  y_pred_keras = model.predict(dataset).ravel()\r\n",
        "  fpr_keras, tpr_keras, thresholds_keras = roc_curve(labels, y_pred_keras)\r\n",
        "  auc_keras = auc(fpr_keras, tpr_keras)\r\n",
        "\r\n",
        "  plt.figure(1)\r\n",
        "  plt.plot([0, 1], [0, 1], 'k--')\r\n",
        "  plt.plot(fpr_keras, tpr_keras, label='CNN (area = {:.3f})'.format(auc_keras))\r\n",
        "  plt.xlabel('False positive rate')\r\n",
        "  plt.ylabel('True positive rate')\r\n",
        "  plt.title('ROC curve')\r\n",
        "  plt.legend(loc='best')\r\n",
        "\r\n",
        "  return plt\r\n",
        "\r\n",
        "def plot_AUC2(model, dataset, labels):\r\n",
        "  y_pred_keras = get_model_predictions(model, dataset, labels, len(dataset))\r\n",
        "  fpr_keras, tpr_keras, thresholds_keras = roc_curve(labels, y_pred_keras)\r\n",
        "  #thresholds_keras = np.linspace(0,1,num=100)\r\n",
        "  auc_keras = auc(fpr_keras, tpr_keras)\r\n",
        "\r\n",
        "  plt.figure(1)\r\n",
        "  plt.plot([0, 1], [0, 1], 'k--')\r\n",
        "  plt.plot(fpr_keras, tpr_keras, label='CNN (area = {:.3f})'.format(auc_keras))\r\n",
        "  plt.xlabel('False positive rate')\r\n",
        "  plt.ylabel('True positive rate')\r\n",
        "  plt.title('ROC curve')\r\n",
        "  plt.legend(loc='best')\r\n",
        "  plt.show()\r\n",
        "\r\n",
        "\r\n",
        "print(\"Done\")"
      ],
      "execution_count": null,
      "outputs": [
        {
          "output_type": "stream",
          "text": [
            "Done\n"
          ],
          "name": "stdout"
        }
      ]
    },
    {
      "cell_type": "code",
      "metadata": {
        "colab": {
          "base_uri": "https://localhost:8080/"
        },
        "id": "vxVkGARBYRSZ",
        "outputId": "90716f8f-df0a-422d-8495-93617e9bf7da"
      },
      "source": [
        "# Custom Callback To Include in Callbacks List At Training Time\r\n",
        "class GarbageCollectorCallback(tf.keras.callbacks.Callback):\r\n",
        "    def on_epoch_end(self, epoch, logs=None):\r\n",
        "      gc.collect()\r\n",
        "\r\n",
        "print(\"Done\")"
      ],
      "execution_count": null,
      "outputs": [
        {
          "output_type": "stream",
          "text": [
            "Done\n"
          ],
          "name": "stdout"
        }
      ]
    },
    {
      "cell_type": "code",
      "metadata": {
        "colab": {
          "base_uri": "https://localhost:8080/"
        },
        "id": "ZmwlJRfuV63_",
        "outputId": "0aa0e0e0-d102-4de2-b49d-2b00af17a171"
      },
      "source": [
        "# Get images and labels (test, train)\r\n",
        "train_images, train_labels, test_images, test_labels = load_training()\r\n",
        "\r\n",
        "#count quantity masses and calcifications\r\n",
        "unique, counts = np.unique(train_labels, return_counts=True)\r\n",
        "#print(unique, counts)\r\n",
        "\r\n",
        "print(\"Benign Masses samples: \\t\", counts[1])\r\n",
        "print(\"Malign Masses samples: \\t\", counts[2])\r\n",
        "print(\"Benign Calc samples: \\t\", counts[3])\r\n",
        "print(\"Malign Calc samples: \\t\", counts[4])"
      ],
      "execution_count": null,
      "outputs": [
        {
          "output_type": "stream",
          "text": [
            "Benign Masses samples: \t 620\n",
            "Malign Masses samples: \t 598\n",
            "Benign Calc samples: \t 948\n",
            "Malign Calc samples: \t 510\n"
          ],
          "name": "stdout"
        }
      ]
    },
    {
      "cell_type": "code",
      "metadata": {
        "id": "8RRPFcu8V7Hy"
      },
      "source": [
        "# Get abnormalities only \r\n",
        "train_images = remove_baseline(train_images)\r\n",
        "train_labels = remove_baseline(train_labels)\r\n",
        "test_images = remove_baseline(test_images)\r\n",
        "test_labels = remove_baseline(test_labels)\r\n",
        "\r\n",
        "# Mapping labels with standard index\r\n",
        "train_labels = labels_mapping(train_labels)\r\n",
        "test_labels = labels_mapping(test_labels)\r\n",
        "\r\n"
      ],
      "execution_count": null,
      "outputs": []
    },
    {
      "cell_type": "code",
      "metadata": {
        "colab": {
          "base_uri": "https://localhost:8080/"
        },
        "id": "yNfz5dUYfK5A",
        "outputId": "8a9f4041-cdab-4138-b40a-396bc39d3b29"
      },
      "source": [
        "# Suffle index (Previous dataset is ordered by index)\r\n",
        "train_images, train_labels = shuffle_dataset(train_images, train_labels)\r\n",
        "test_images, test_labels = shuffle_dataset(test_images, test_labels)\r\n",
        "\r\n",
        "print(\"Train shape: \", train_images.shape)\r\n",
        "print(\"Test shape: \", test_images.shape)"
      ],
      "execution_count": null,
      "outputs": [
        {
          "output_type": "stream",
          "text": [
            "Train shape:  (2676, 150, 150)\n",
            "Test shape:  (336, 150, 150)\n"
          ],
          "name": "stdout"
        }
      ]
    },
    {
      "cell_type": "code",
      "metadata": {
        "colab": {
          "base_uri": "https://localhost:8080/"
        },
        "id": "SsKgP2ntWq_J",
        "outputId": "0eb4cdc6-f53d-46d6-c1af-dd54d1c0a531"
      },
      "source": [
        "# Prepare the data with the expected format\r\n",
        "train_images = train_images.reshape(train_images.shape + (1,))\r\n",
        "test_images = test_images.reshape(test_images.shape + (1,))\r\n",
        "\r\n",
        "print(\"Train shape: \", train_images.shape)\r\n",
        "print(\"Test shape: \", test_images.shape)"
      ],
      "execution_count": null,
      "outputs": [
        {
          "output_type": "stream",
          "text": [
            "Train shape:  (2676, 150, 150, 1)\n",
            "Test shape:  (336, 150, 150, 1)\n"
          ],
          "name": "stdout"
        }
      ]
    },
    {
      "cell_type": "code",
      "metadata": {
        "colab": {
          "base_uri": "https://localhost:8080/"
        },
        "id": "KpKKa9tyYKid",
        "outputId": "b98f7905-92df-4cff-a566-c95735a1ec9b"
      },
      "source": [
        "# Split dataset into training and validation set 70-30\r\n",
        "train_images_split = train_images[:int(0.7*len(train_images))]\r\n",
        "valid_images_split = train_images[int(0.7*len(train_images)):]\r\n",
        "train_labels_split = train_labels[:int(0.7*len(train_labels))]\r\n",
        "valid_labels_split = train_labels[int(0.7*len(train_labels)):]\r\n",
        "\r\n",
        "# All images will be rescaled by 1./65535 (max value range)\r\n",
        "train_datagen = ImageDataGenerator(rescale=1./65535)\r\n",
        "valid_datagen = ImageDataGenerator(rescale=1./65535)\r\n",
        "test_datagen = ImageDataGenerator(rescale=1./65535)\r\n",
        "\r\n",
        "print(train_images_split.shape)\r\n",
        "print(valid_images_split.shape) "
      ],
      "execution_count": null,
      "outputs": [
        {
          "output_type": "stream",
          "text": [
            "(1873, 150, 150, 1)\n",
            "(803, 150, 150, 1)\n"
          ],
          "name": "stdout"
        }
      ]
    },
    {
      "cell_type": "markdown",
      "metadata": {
        "id": "Y6hOsETAW1FB"
      },
      "source": [
        "##1. VGG16\r\n",
        "\r\n"
      ]
    },
    {
      "cell_type": "code",
      "metadata": {
        "colab": {
          "base_uri": "https://localhost:8080/"
        },
        "id": "7THd7qmPWrJd",
        "outputId": "fc328b39-f552-47df-f725-e14da234b8b8"
      },
      "source": [
        "from keras.applications.vgg16 import VGG16\r\n",
        "\r\n",
        "\r\n",
        "conv_base = VGG16(weights='imagenet',\r\n",
        "                  include_top=False,\r\n",
        "                  input_shape=(150, 150, 3))\r\n",
        "\r\n",
        "conv_base.summary()"
      ],
      "execution_count": null,
      "outputs": [
        {
          "output_type": "stream",
          "text": [
            "Model: \"vgg16\"\n",
            "_________________________________________________________________\n",
            "Layer (type)                 Output Shape              Param #   \n",
            "=================================================================\n",
            "input_2 (InputLayer)         [(None, 150, 150, 3)]     0         \n",
            "_________________________________________________________________\n",
            "block1_conv1 (Conv2D)        (None, 150, 150, 64)      1792      \n",
            "_________________________________________________________________\n",
            "block1_conv2 (Conv2D)        (None, 150, 150, 64)      36928     \n",
            "_________________________________________________________________\n",
            "block1_pool (MaxPooling2D)   (None, 75, 75, 64)        0         \n",
            "_________________________________________________________________\n",
            "block2_conv1 (Conv2D)        (None, 75, 75, 128)       73856     \n",
            "_________________________________________________________________\n",
            "block2_conv2 (Conv2D)        (None, 75, 75, 128)       147584    \n",
            "_________________________________________________________________\n",
            "block2_pool (MaxPooling2D)   (None, 37, 37, 128)       0         \n",
            "_________________________________________________________________\n",
            "block3_conv1 (Conv2D)        (None, 37, 37, 256)       295168    \n",
            "_________________________________________________________________\n",
            "block3_conv2 (Conv2D)        (None, 37, 37, 256)       590080    \n",
            "_________________________________________________________________\n",
            "block3_conv3 (Conv2D)        (None, 37, 37, 256)       590080    \n",
            "_________________________________________________________________\n",
            "block3_pool (MaxPooling2D)   (None, 18, 18, 256)       0         \n",
            "_________________________________________________________________\n",
            "block4_conv1 (Conv2D)        (None, 18, 18, 512)       1180160   \n",
            "_________________________________________________________________\n",
            "block4_conv2 (Conv2D)        (None, 18, 18, 512)       2359808   \n",
            "_________________________________________________________________\n",
            "block4_conv3 (Conv2D)        (None, 18, 18, 512)       2359808   \n",
            "_________________________________________________________________\n",
            "block4_pool (MaxPooling2D)   (None, 9, 9, 512)         0         \n",
            "_________________________________________________________________\n",
            "block5_conv1 (Conv2D)        (None, 9, 9, 512)         2359808   \n",
            "_________________________________________________________________\n",
            "block5_conv2 (Conv2D)        (None, 9, 9, 512)         2359808   \n",
            "_________________________________________________________________\n",
            "block5_conv3 (Conv2D)        (None, 9, 9, 512)         2359808   \n",
            "_________________________________________________________________\n",
            "block5_pool (MaxPooling2D)   (None, 4, 4, 512)         0         \n",
            "=================================================================\n",
            "Total params: 14,714,688\n",
            "Trainable params: 14,714,688\n",
            "Non-trainable params: 0\n",
            "_________________________________________________________________\n"
          ],
          "name": "stdout"
        }
      ]
    },
    {
      "cell_type": "markdown",
      "metadata": {
        "id": "UYdYbVqvZVmg"
      },
      "source": [
        "##1.1 Base Test with Vgg"
      ]
    },
    {
      "cell_type": "code",
      "metadata": {
        "id": "V-cx-ngnX3fl"
      },
      "source": [
        "from tensorflow.keras import models\r\n",
        "from tensorflow.keras import layers\r\n",
        "\r\n",
        "model = models.Sequential()\r\n",
        "model.add(conv_base)\r\n",
        "model.add(layers.Flatten())\r\n",
        "model.add(layers.Dense(256, activation='relu'))\r\n",
        "model.add(layers.Dense(1, activation='sigmoid'))\r\n",
        "\r\n"
      ],
      "execution_count": null,
      "outputs": []
    },
    {
      "cell_type": "code",
      "metadata": {
        "id": "7j5MBQy2cA9-"
      },
      "source": [
        "INPUT_SHAPE = (150, 150, 1)\r\n",
        "IMG_HEIGHT = 150\r\n",
        "IMG_WIDTH = 150\r\n",
        "BATCH_SIZE = 20"
      ],
      "execution_count": null,
      "outputs": []
    },
    {
      "cell_type": "code",
      "metadata": {
        "id": "SZ8uT25xcJIy"
      },
      "source": [
        "from tensorflow.keras.applications.vgg16 import preprocess_input\r\n",
        "\r\n",
        "#train_datagen = ImageDataGenerator(preprocessing_function=preprocess_input,\r\n",
        "    #validation_split=0.2) # set validation split\r\n",
        "\r\n",
        "train_datagen = ImageDataGenerator(rescale=1./65535,preprocessing_function=preprocess_input)\r\n",
        "valid_datagen = ImageDataGenerator(rescale=1./65535,preprocessing_function=preprocess_input)\r\n",
        "test_datagen = ImageDataGenerator(rescale=1./65535,preprocessing_function=preprocess_input)"
      ],
      "execution_count": null,
      "outputs": []
    },
    {
      "cell_type": "markdown",
      "metadata": {
        "id": "2cyc15IZxUBK"
      },
      "source": [
        "Reshape to expand grayscale to rgb"
      ]
    },
    {
      "cell_type": "code",
      "metadata": {
        "id": "lS-Smb-OxTfW"
      },
      "source": [
        "train_res = np.repeat(train_images_split,3, axis = 3)\r\n",
        "val_res = np.repeat(valid_images_split,3, axis = 3)"
      ],
      "execution_count": null,
      "outputs": []
    },
    {
      "cell_type": "markdown",
      "metadata": {
        "id": "0j7O8JxSZKWm"
      },
      "source": [
        "##1.1.1 Trainable?\r\n"
      ]
    },
    {
      "cell_type": "code",
      "metadata": {
        "id": "GsDKl0kNX3uK"
      },
      "source": [
        "conv_base.trainable = False"
      ],
      "execution_count": null,
      "outputs": []
    },
    {
      "cell_type": "code",
      "metadata": {
        "id": "syRCaJCuX379"
      },
      "source": [
        "METRICS = [\r\n",
        "      metrics.TruePositives(name='tp'),\r\n",
        "      metrics.FalsePositives(name='fp'),\r\n",
        "      metrics.TrueNegatives(name='tn'),\r\n",
        "      metrics.FalseNegatives(name='fn'), \r\n",
        "      metrics.BinaryAccuracy(name='accuracy'),\r\n",
        "      metrics.Precision(name='precision'),\r\n",
        "      metrics.Recall(name='recall'),\r\n",
        "      metrics.AUC(name='auc'),\r\n",
        "]\r\n",
        "\r\n",
        "model.compile(loss='binary_crossentropy',\r\n",
        "              optimizer=optimizers.RMSprop(lr=1e-3),\r\n",
        "              metrics=METRICS)"
      ],
      "execution_count": null,
      "outputs": []
    },
    {
      "cell_type": "code",
      "metadata": {
        "colab": {
          "base_uri": "https://localhost:8080/"
        },
        "id": "Lh0SeUcUZpog",
        "outputId": "57cfd7b1-7acb-495a-bb0e-9252d407e199"
      },
      "source": [
        "history = model.fit(train_datagen.flow(train_res,\r\n",
        "                                       train_labels_split,\r\n",
        "                                       batch_size=BATCH_SIZE,\r\n",
        "                                       shuffle=False),\r\n",
        "                    steps_per_epoch=len(train_images_split) // BATCH_SIZE, \r\n",
        "                    epochs=EPOCHS,\r\n",
        "                    validation_data=valid_datagen.flow(val_res,\r\n",
        "                                       valid_labels_split,\r\n",
        "                                       batch_size=BATCH_SIZE,\r\n",
        "                                       shuffle=False),\r\n",
        "                    validation_steps=len(valid_labels_split) // BATCH_SIZE,\r\n",
        "                    callbacks=[GarbageCollectorCallback()],\r\n",
        "                    verbose=2)"
      ],
      "execution_count": null,
      "outputs": [
        {
          "output_type": "stream",
          "text": [
            "Epoch 1/100\n",
            "93/93 - 9s - loss: 0.7772 - tp: 678.0000 - fp: 409.0000 - tn: 419.0000 - fn: 347.0000 - accuracy: 0.5920 - precision: 0.6237 - recall: 0.6615 - auc: 0.6465 - val_loss: 0.6597 - val_tp: 123.0000 - val_fp: 10.0000 - val_tn: 372.0000 - val_fn: 295.0000 - val_accuracy: 0.6187 - val_precision: 0.9248 - val_recall: 0.2943 - val_auc: 0.8801\n",
            "Epoch 2/100\n",
            "93/93 - 7s - loss: 0.5815 - tp: 737.0000 - fp: 288.0000 - tn: 542.0000 - fn: 286.0000 - accuracy: 0.6902 - precision: 0.7190 - recall: 0.7204 - auc: 0.7600 - val_loss: 0.4726 - val_tp: 275.0000 - val_fp: 30.0000 - val_tn: 352.0000 - val_fn: 143.0000 - val_accuracy: 0.7837 - val_precision: 0.9016 - val_recall: 0.6579 - val_auc: 0.8938\n",
            "Epoch 3/100\n",
            "93/93 - 7s - loss: 0.5338 - tp: 765.0000 - fp: 274.0000 - tn: 551.0000 - fn: 263.0000 - accuracy: 0.7102 - precision: 0.7363 - recall: 0.7442 - auc: 0.8016 - val_loss: 0.4357 - val_tp: 314.0000 - val_fp: 37.0000 - val_tn: 345.0000 - val_fn: 104.0000 - val_accuracy: 0.8238 - val_precision: 0.8946 - val_recall: 0.7512 - val_auc: 0.9048\n",
            "Epoch 4/100\n",
            "93/93 - 7s - loss: 0.4884 - tp: 787.0000 - fp: 209.0000 - tn: 621.0000 - fn: 236.0000 - accuracy: 0.7598 - precision: 0.7902 - recall: 0.7693 - auc: 0.8415 - val_loss: 0.4318 - val_tp: 372.0000 - val_fp: 91.0000 - val_tn: 291.0000 - val_fn: 46.0000 - val_accuracy: 0.8288 - val_precision: 0.8035 - val_recall: 0.8900 - val_auc: 0.9077\n",
            "Epoch 5/100\n",
            "93/93 - 7s - loss: 0.4710 - tp: 816.0000 - fp: 212.0000 - tn: 610.0000 - fn: 215.0000 - accuracy: 0.7696 - precision: 0.7938 - recall: 0.7915 - auc: 0.8543 - val_loss: 0.4079 - val_tp: 303.0000 - val_fp: 31.0000 - val_tn: 351.0000 - val_fn: 115.0000 - val_accuracy: 0.8175 - val_precision: 0.9072 - val_recall: 0.7249 - val_auc: 0.9159\n",
            "Epoch 6/100\n",
            "93/93 - 7s - loss: 0.4336 - tp: 830.0000 - fp: 175.0000 - tn: 651.0000 - fn: 197.0000 - accuracy: 0.7992 - precision: 0.8259 - recall: 0.8082 - auc: 0.8783 - val_loss: 0.4520 - val_tp: 252.0000 - val_fp: 14.0000 - val_tn: 368.0000 - val_fn: 166.0000 - val_accuracy: 0.7750 - val_precision: 0.9474 - val_recall: 0.6029 - val_auc: 0.9194\n",
            "Epoch 7/100\n",
            "93/93 - 7s - loss: 0.4282 - tp: 824.0000 - fp: 174.0000 - tn: 654.0000 - fn: 201.0000 - accuracy: 0.7976 - precision: 0.8257 - recall: 0.8039 - auc: 0.8818 - val_loss: 0.3855 - val_tp: 308.0000 - val_fp: 25.0000 - val_tn: 357.0000 - val_fn: 110.0000 - val_accuracy: 0.8313 - val_precision: 0.9249 - val_recall: 0.7368 - val_auc: 0.9217\n",
            "Epoch 8/100\n",
            "93/93 - 7s - loss: 0.4082 - tp: 841.0000 - fp: 170.0000 - tn: 658.0000 - fn: 184.0000 - accuracy: 0.8090 - precision: 0.8318 - recall: 0.8205 - auc: 0.8934 - val_loss: 0.3633 - val_tp: 335.0000 - val_fp: 38.0000 - val_tn: 344.0000 - val_fn: 83.0000 - val_accuracy: 0.8487 - val_precision: 0.8981 - val_recall: 0.8014 - val_auc: 0.9246\n",
            "Epoch 9/100\n",
            "93/93 - 7s - loss: 0.3817 - tp: 840.0000 - fp: 144.0000 - tn: 684.0000 - fn: 185.0000 - accuracy: 0.8225 - precision: 0.8537 - recall: 0.8195 - auc: 0.9076 - val_loss: 0.7179 - val_tp: 415.0000 - val_fp: 287.0000 - val_tn: 95.0000 - val_fn: 3.0000 - val_accuracy: 0.6375 - val_precision: 0.5912 - val_recall: 0.9928 - val_auc: 0.9267\n",
            "Epoch 10/100\n",
            "93/93 - 7s - loss: 0.3709 - tp: 868.0000 - fp: 141.0000 - tn: 686.0000 - fn: 158.0000 - accuracy: 0.8386 - precision: 0.8603 - recall: 0.8460 - auc: 0.9131 - val_loss: 0.3521 - val_tp: 333.0000 - val_fp: 37.0000 - val_tn: 345.0000 - val_fn: 85.0000 - val_accuracy: 0.8475 - val_precision: 0.9000 - val_recall: 0.7967 - val_auc: 0.9275\n",
            "Epoch 11/100\n",
            "93/93 - 7s - loss: 0.3553 - tp: 878.0000 - fp: 148.0000 - tn: 676.0000 - fn: 151.0000 - accuracy: 0.8386 - precision: 0.8558 - recall: 0.8533 - auc: 0.9208 - val_loss: 0.5101 - val_tp: 242.0000 - val_fp: 9.0000 - val_tn: 373.0000 - val_fn: 176.0000 - val_accuracy: 0.7688 - val_precision: 0.9641 - val_recall: 0.5789 - val_auc: 0.9287\n",
            "Epoch 12/100\n",
            "93/93 - 7s - loss: 0.3648 - tp: 869.0000 - fp: 137.0000 - tn: 690.0000 - fn: 157.0000 - accuracy: 0.8413 - precision: 0.8638 - recall: 0.8470 - auc: 0.9169 - val_loss: 0.4190 - val_tp: 395.0000 - val_fp: 130.0000 - val_tn: 252.0000 - val_fn: 23.0000 - val_accuracy: 0.8087 - val_precision: 0.7524 - val_recall: 0.9450 - val_auc: 0.9298\n",
            "Epoch 13/100\n",
            "93/93 - 7s - loss: 0.3496 - tp: 891.0000 - fp: 133.0000 - tn: 692.0000 - fn: 137.0000 - accuracy: 0.8543 - precision: 0.8701 - recall: 0.8667 - auc: 0.9237 - val_loss: 0.4255 - val_tp: 281.0000 - val_fp: 12.0000 - val_tn: 370.0000 - val_fn: 137.0000 - val_accuracy: 0.8138 - val_precision: 0.9590 - val_recall: 0.6722 - val_auc: 0.9324\n",
            "Epoch 14/100\n",
            "93/93 - 7s - loss: 0.3451 - tp: 883.0000 - fp: 139.0000 - tn: 689.0000 - fn: 142.0000 - accuracy: 0.8484 - precision: 0.8640 - recall: 0.8615 - auc: 0.9258 - val_loss: 0.3356 - val_tp: 360.0000 - val_fp: 58.0000 - val_tn: 324.0000 - val_fn: 58.0000 - val_accuracy: 0.8550 - val_precision: 0.8612 - val_recall: 0.8612 - val_auc: 0.9339\n",
            "Epoch 15/100\n",
            "93/93 - 7s - loss: 0.3396 - tp: 896.0000 - fp: 127.0000 - tn: 699.0000 - fn: 131.0000 - accuracy: 0.8608 - precision: 0.8759 - recall: 0.8724 - auc: 0.9281 - val_loss: 0.3814 - val_tp: 388.0000 - val_fp: 105.0000 - val_tn: 277.0000 - val_fn: 30.0000 - val_accuracy: 0.8313 - val_precision: 0.7870 - val_recall: 0.9282 - val_auc: 0.9328\n",
            "Epoch 16/100\n",
            "93/93 - 7s - loss: 0.3181 - tp: 885.0000 - fp: 123.0000 - tn: 705.0000 - fn: 140.0000 - accuracy: 0.8581 - precision: 0.8780 - recall: 0.8634 - auc: 0.9371 - val_loss: 0.3546 - val_tp: 379.0000 - val_fp: 82.0000 - val_tn: 300.0000 - val_fn: 39.0000 - val_accuracy: 0.8487 - val_precision: 0.8221 - val_recall: 0.9067 - val_auc: 0.9342\n",
            "Epoch 17/100\n",
            "93/93 - 7s - loss: 0.3255 - tp: 895.0000 - fp: 130.0000 - tn: 696.0000 - fn: 132.0000 - accuracy: 0.8586 - precision: 0.8732 - recall: 0.8715 - auc: 0.9340 - val_loss: 0.3805 - val_tp: 311.0000 - val_fp: 21.0000 - val_tn: 361.0000 - val_fn: 107.0000 - val_accuracy: 0.8400 - val_precision: 0.9367 - val_recall: 0.7440 - val_auc: 0.9344\n",
            "Epoch 18/100\n",
            "93/93 - 7s - loss: 0.3171 - tp: 899.0000 - fp: 121.0000 - tn: 705.0000 - fn: 128.0000 - accuracy: 0.8656 - precision: 0.8814 - recall: 0.8754 - auc: 0.9377 - val_loss: 0.3753 - val_tp: 309.0000 - val_fp: 21.0000 - val_tn: 361.0000 - val_fn: 109.0000 - val_accuracy: 0.8375 - val_precision: 0.9364 - val_recall: 0.7392 - val_auc: 0.9350\n",
            "Epoch 19/100\n",
            "93/93 - 7s - loss: 0.3039 - tp: 902.0000 - fp: 115.0000 - tn: 712.0000 - fn: 124.0000 - accuracy: 0.8710 - precision: 0.8869 - recall: 0.8791 - auc: 0.9428 - val_loss: 0.5009 - val_tp: 264.0000 - val_fp: 7.0000 - val_tn: 375.0000 - val_fn: 154.0000 - val_accuracy: 0.7987 - val_precision: 0.9742 - val_recall: 0.6316 - val_auc: 0.9365\n",
            "Epoch 20/100\n",
            "93/93 - 7s - loss: 0.3060 - tp: 905.0000 - fp: 127.0000 - tn: 700.0000 - fn: 121.0000 - accuracy: 0.8662 - precision: 0.8769 - recall: 0.8821 - auc: 0.9423 - val_loss: 0.7062 - val_tp: 217.0000 - val_fp: 5.0000 - val_tn: 377.0000 - val_fn: 201.0000 - val_accuracy: 0.7425 - val_precision: 0.9775 - val_recall: 0.5191 - val_auc: 0.9363\n",
            "Epoch 21/100\n",
            "93/93 - 7s - loss: 0.3013 - tp: 903.0000 - fp: 111.0000 - tn: 712.0000 - fn: 127.0000 - accuracy: 0.8716 - precision: 0.8905 - recall: 0.8767 - auc: 0.9435 - val_loss: 0.4273 - val_tp: 399.0000 - val_fp: 130.0000 - val_tn: 252.0000 - val_fn: 19.0000 - val_accuracy: 0.8138 - val_precision: 0.7543 - val_recall: 0.9545 - val_auc: 0.9374\n",
            "Epoch 22/100\n",
            "93/93 - 7s - loss: 0.3128 - tp: 906.0000 - fp: 123.0000 - tn: 704.0000 - fn: 120.0000 - accuracy: 0.8689 - precision: 0.8805 - recall: 0.8830 - auc: 0.9398 - val_loss: 0.4085 - val_tp: 398.0000 - val_fp: 126.0000 - val_tn: 256.0000 - val_fn: 20.0000 - val_accuracy: 0.8175 - val_precision: 0.7595 - val_recall: 0.9522 - val_auc: 0.9374\n",
            "Epoch 23/100\n",
            "93/93 - 7s - loss: 0.2942 - tp: 912.0000 - fp: 116.0000 - tn: 712.0000 - fn: 113.0000 - accuracy: 0.8764 - precision: 0.8872 - recall: 0.8898 - auc: 0.9465 - val_loss: 0.3781 - val_tp: 388.0000 - val_fp: 103.0000 - val_tn: 279.0000 - val_fn: 30.0000 - val_accuracy: 0.8338 - val_precision: 0.7902 - val_recall: 0.9282 - val_auc: 0.9369\n",
            "Epoch 24/100\n",
            "93/93 - 7s - loss: 0.2972 - tp: 914.0000 - fp: 110.0000 - tn: 713.0000 - fn: 116.0000 - accuracy: 0.8780 - precision: 0.8926 - recall: 0.8874 - auc: 0.9456 - val_loss: 0.3322 - val_tp: 369.0000 - val_fp: 61.0000 - val_tn: 321.0000 - val_fn: 49.0000 - val_accuracy: 0.8625 - val_precision: 0.8581 - val_recall: 0.8828 - val_auc: 0.9369\n",
            "Epoch 25/100\n",
            "93/93 - 7s - loss: 0.2915 - tp: 914.0000 - fp: 113.0000 - tn: 718.0000 - fn: 108.0000 - accuracy: 0.8807 - precision: 0.8900 - recall: 0.8943 - auc: 0.9475 - val_loss: 0.3414 - val_tp: 330.0000 - val_fp: 34.0000 - val_tn: 348.0000 - val_fn: 88.0000 - val_accuracy: 0.8475 - val_precision: 0.9066 - val_recall: 0.7895 - val_auc: 0.9382\n",
            "Epoch 26/100\n",
            "93/93 - 8s - loss: 0.2826 - tp: 922.0000 - fp: 111.0000 - tn: 711.0000 - fn: 109.0000 - accuracy: 0.8813 - precision: 0.8925 - recall: 0.8943 - auc: 0.9506 - val_loss: 0.7369 - val_tp: 225.0000 - val_fp: 6.0000 - val_tn: 376.0000 - val_fn: 193.0000 - val_accuracy: 0.7513 - val_precision: 0.9740 - val_recall: 0.5383 - val_auc: 0.9340\n",
            "Epoch 27/100\n",
            "93/93 - 8s - loss: 0.2833 - tp: 911.0000 - fp: 109.0000 - tn: 717.0000 - fn: 116.0000 - accuracy: 0.8786 - precision: 0.8931 - recall: 0.8870 - auc: 0.9504 - val_loss: 0.3326 - val_tp: 374.0000 - val_fp: 69.0000 - val_tn: 313.0000 - val_fn: 44.0000 - val_accuracy: 0.8587 - val_precision: 0.8442 - val_recall: 0.8947 - val_auc: 0.9398\n",
            "Epoch 28/100\n",
            "93/93 - 8s - loss: 0.2774 - tp: 922.0000 - fp: 105.0000 - tn: 719.0000 - fn: 107.0000 - accuracy: 0.8856 - precision: 0.8978 - recall: 0.8960 - auc: 0.9523 - val_loss: 0.3482 - val_tp: 333.0000 - val_fp: 31.0000 - val_tn: 351.0000 - val_fn: 85.0000 - val_accuracy: 0.8550 - val_precision: 0.9148 - val_recall: 0.7967 - val_auc: 0.9402\n",
            "Epoch 29/100\n",
            "93/93 - 8s - loss: 0.2710 - tp: 916.0000 - fp: 105.0000 - tn: 723.0000 - fn: 109.0000 - accuracy: 0.8845 - precision: 0.8972 - recall: 0.8937 - auc: 0.9546 - val_loss: 0.3465 - val_tp: 321.0000 - val_fp: 25.0000 - val_tn: 357.0000 - val_fn: 97.0000 - val_accuracy: 0.8475 - val_precision: 0.9277 - val_recall: 0.7679 - val_auc: 0.9419\n",
            "Epoch 30/100\n",
            "93/93 - 8s - loss: 0.2755 - tp: 915.0000 - fp: 102.0000 - tn: 723.0000 - fn: 113.0000 - accuracy: 0.8840 - precision: 0.8997 - recall: 0.8901 - auc: 0.9529 - val_loss: 0.3367 - val_tp: 376.0000 - val_fp: 72.0000 - val_tn: 310.0000 - val_fn: 42.0000 - val_accuracy: 0.8575 - val_precision: 0.8393 - val_recall: 0.8995 - val_auc: 0.9405\n",
            "Epoch 31/100\n",
            "93/93 - 8s - loss: 0.2764 - tp: 919.0000 - fp: 99.0000 - tn: 729.0000 - fn: 106.0000 - accuracy: 0.8894 - precision: 0.9028 - recall: 0.8966 - auc: 0.9527 - val_loss: 0.3185 - val_tp: 367.0000 - val_fp: 56.0000 - val_tn: 326.0000 - val_fn: 51.0000 - val_accuracy: 0.8662 - val_precision: 0.8676 - val_recall: 0.8780 - val_auc: 0.9411\n",
            "Epoch 32/100\n",
            "93/93 - 7s - loss: 0.2553 - tp: 922.0000 - fp: 99.0000 - tn: 727.0000 - fn: 105.0000 - accuracy: 0.8899 - precision: 0.9030 - recall: 0.8978 - auc: 0.9595 - val_loss: 0.3260 - val_tp: 366.0000 - val_fp: 52.0000 - val_tn: 330.0000 - val_fn: 52.0000 - val_accuracy: 0.8700 - val_precision: 0.8756 - val_recall: 0.8756 - val_auc: 0.9401\n",
            "Epoch 33/100\n",
            "93/93 - 7s - loss: 0.2643 - tp: 928.0000 - fp: 95.0000 - tn: 728.0000 - fn: 102.0000 - accuracy: 0.8937 - precision: 0.9071 - recall: 0.9010 - auc: 0.9568 - val_loss: 0.4097 - val_tp: 306.0000 - val_fp: 20.0000 - val_tn: 362.0000 - val_fn: 112.0000 - val_accuracy: 0.8350 - val_precision: 0.9387 - val_recall: 0.7321 - val_auc: 0.9400\n",
            "Epoch 34/100\n",
            "93/93 - 7s - loss: 0.2658 - tp: 923.0000 - fp: 100.0000 - tn: 726.0000 - fn: 104.0000 - accuracy: 0.8899 - precision: 0.9022 - recall: 0.8987 - auc: 0.9563 - val_loss: 0.6156 - val_tp: 413.0000 - val_fp: 210.0000 - val_tn: 172.0000 - val_fn: 5.0000 - val_accuracy: 0.7312 - val_precision: 0.6629 - val_recall: 0.9880 - val_auc: 0.9382\n",
            "Epoch 35/100\n",
            "93/93 - 7s - loss: 0.2699 - tp: 919.0000 - fp: 102.0000 - tn: 726.0000 - fn: 106.0000 - accuracy: 0.8877 - precision: 0.9001 - recall: 0.8966 - auc: 0.9551 - val_loss: 0.3241 - val_tp: 363.0000 - val_fp: 51.0000 - val_tn: 331.0000 - val_fn: 55.0000 - val_accuracy: 0.8675 - val_precision: 0.8768 - val_recall: 0.8684 - val_auc: 0.9410\n",
            "Epoch 36/100\n",
            "93/93 - 7s - loss: 0.2659 - tp: 931.0000 - fp: 106.0000 - tn: 718.0000 - fn: 98.0000 - accuracy: 0.8899 - precision: 0.8978 - recall: 0.9048 - auc: 0.9563 - val_loss: 0.4649 - val_tp: 283.0000 - val_fp: 14.0000 - val_tn: 368.0000 - val_fn: 135.0000 - val_accuracy: 0.8138 - val_precision: 0.9529 - val_recall: 0.6770 - val_auc: 0.9397\n",
            "Epoch 37/100\n",
            "93/93 - 8s - loss: 0.2691 - tp: 913.0000 - fp: 94.0000 - tn: 737.0000 - fn: 109.0000 - accuracy: 0.8904 - precision: 0.9067 - recall: 0.8933 - auc: 0.9555 - val_loss: 0.3276 - val_tp: 368.0000 - val_fp: 56.0000 - val_tn: 326.0000 - val_fn: 50.0000 - val_accuracy: 0.8675 - val_precision: 0.8679 - val_recall: 0.8804 - val_auc: 0.9410\n",
            "Epoch 38/100\n",
            "93/93 - 8s - loss: 0.2531 - tp: 928.0000 - fp: 101.0000 - tn: 724.0000 - fn: 100.0000 - accuracy: 0.8915 - precision: 0.9018 - recall: 0.9027 - auc: 0.9603 - val_loss: 0.3601 - val_tp: 332.0000 - val_fp: 31.0000 - val_tn: 351.0000 - val_fn: 86.0000 - val_accuracy: 0.8537 - val_precision: 0.9146 - val_recall: 0.7943 - val_auc: 0.9403\n",
            "Epoch 39/100\n",
            "93/93 - 8s - loss: 0.2434 - tp: 942.0000 - fp: 88.0000 - tn: 741.0000 - fn: 82.0000 - accuracy: 0.9083 - precision: 0.9146 - recall: 0.9199 - auc: 0.9629 - val_loss: 0.3741 - val_tp: 325.0000 - val_fp: 24.0000 - val_tn: 358.0000 - val_fn: 93.0000 - val_accuracy: 0.8537 - val_precision: 0.9312 - val_recall: 0.7775 - val_auc: 0.9404\n",
            "Epoch 40/100\n",
            "93/93 - 8s - loss: 0.2306 - tp: 929.0000 - fp: 89.0000 - tn: 741.0000 - fn: 94.0000 - accuracy: 0.9012 - precision: 0.9126 - recall: 0.9081 - auc: 0.9670 - val_loss: 0.3283 - val_tp: 358.0000 - val_fp: 46.0000 - val_tn: 336.0000 - val_fn: 60.0000 - val_accuracy: 0.8675 - val_precision: 0.8861 - val_recall: 0.8565 - val_auc: 0.9411\n",
            "Epoch 41/100\n",
            "93/93 - 8s - loss: 0.2411 - tp: 941.0000 - fp: 95.0000 - tn: 728.0000 - fn: 89.0000 - accuracy: 0.9007 - precision: 0.9083 - recall: 0.9136 - auc: 0.9640 - val_loss: 0.4507 - val_tp: 293.0000 - val_fp: 15.0000 - val_tn: 367.0000 - val_fn: 125.0000 - val_accuracy: 0.8250 - val_precision: 0.9513 - val_recall: 0.7010 - val_auc: 0.9405\n",
            "Epoch 42/100\n",
            "93/93 - 8s - loss: 0.2474 - tp: 942.0000 - fp: 93.0000 - tn: 730.0000 - fn: 88.0000 - accuracy: 0.9023 - precision: 0.9101 - recall: 0.9146 - auc: 0.9620 - val_loss: 0.4813 - val_tp: 288.0000 - val_fp: 15.0000 - val_tn: 367.0000 - val_fn: 130.0000 - val_accuracy: 0.8188 - val_precision: 0.9505 - val_recall: 0.6890 - val_auc: 0.9402\n",
            "Epoch 43/100\n",
            "93/93 - 8s - loss: 0.2409 - tp: 932.0000 - fp: 79.0000 - tn: 747.0000 - fn: 95.0000 - accuracy: 0.9061 - precision: 0.9219 - recall: 0.9075 - auc: 0.9641 - val_loss: 0.3492 - val_tp: 377.0000 - val_fp: 66.0000 - val_tn: 316.0000 - val_fn: 41.0000 - val_accuracy: 0.8662 - val_precision: 0.8510 - val_recall: 0.9019 - val_auc: 0.9413\n",
            "Epoch 44/100\n",
            "93/93 - 8s - loss: 0.2489 - tp: 925.0000 - fp: 93.0000 - tn: 734.0000 - fn: 101.0000 - accuracy: 0.8953 - precision: 0.9086 - recall: 0.9016 - auc: 0.9621 - val_loss: 0.6956 - val_tp: 413.0000 - val_fp: 215.0000 - val_tn: 167.0000 - val_fn: 5.0000 - val_accuracy: 0.7250 - val_precision: 0.6576 - val_recall: 0.9880 - val_auc: 0.9339\n",
            "Epoch 45/100\n",
            "93/93 - 8s - loss: 0.2304 - tp: 940.0000 - fp: 88.0000 - tn: 737.0000 - fn: 88.0000 - accuracy: 0.9050 - precision: 0.9144 - recall: 0.9144 - auc: 0.9672 - val_loss: 0.3981 - val_tp: 327.0000 - val_fp: 23.0000 - val_tn: 359.0000 - val_fn: 91.0000 - val_accuracy: 0.8575 - val_precision: 0.9343 - val_recall: 0.7823 - val_auc: 0.9402\n",
            "Epoch 46/100\n",
            "93/93 - 8s - loss: 0.2323 - tp: 932.0000 - fp: 95.0000 - tn: 733.0000 - fn: 93.0000 - accuracy: 0.8985 - precision: 0.9075 - recall: 0.9093 - auc: 0.9668 - val_loss: 0.3300 - val_tp: 355.0000 - val_fp: 41.0000 - val_tn: 341.0000 - val_fn: 63.0000 - val_accuracy: 0.8700 - val_precision: 0.8965 - val_recall: 0.8493 - val_auc: 0.9413\n",
            "Epoch 47/100\n",
            "93/93 - 8s - loss: 0.2241 - tp: 942.0000 - fp: 82.0000 - tn: 746.0000 - fn: 83.0000 - accuracy: 0.9110 - precision: 0.9199 - recall: 0.9190 - auc: 0.9689 - val_loss: 0.3570 - val_tp: 383.0000 - val_fp: 79.0000 - val_tn: 303.0000 - val_fn: 35.0000 - val_accuracy: 0.8575 - val_precision: 0.8290 - val_recall: 0.9163 - val_auc: 0.9401\n",
            "Epoch 48/100\n",
            "93/93 - 8s - loss: 0.2315 - tp: 939.0000 - fp: 95.0000 - tn: 732.0000 - fn: 87.0000 - accuracy: 0.9018 - precision: 0.9081 - recall: 0.9152 - auc: 0.9674 - val_loss: 0.4064 - val_tp: 312.0000 - val_fp: 22.0000 - val_tn: 360.0000 - val_fn: 106.0000 - val_accuracy: 0.8400 - val_precision: 0.9341 - val_recall: 0.7464 - val_auc: 0.9387\n",
            "Epoch 49/100\n",
            "93/93 - 8s - loss: 0.2179 - tp: 938.0000 - fp: 76.0000 - tn: 751.0000 - fn: 88.0000 - accuracy: 0.9115 - precision: 0.9250 - recall: 0.9142 - auc: 0.9702 - val_loss: 0.5147 - val_tp: 403.0000 - val_fp: 148.0000 - val_tn: 234.0000 - val_fn: 15.0000 - val_accuracy: 0.7962 - val_precision: 0.7314 - val_recall: 0.9641 - val_auc: 0.9396\n",
            "Epoch 50/100\n",
            "93/93 - 8s - loss: 0.2255 - tp: 942.0000 - fp: 85.0000 - tn: 738.0000 - fn: 88.0000 - accuracy: 0.9066 - precision: 0.9172 - recall: 0.9146 - auc: 0.9686 - val_loss: 0.3374 - val_tp: 353.0000 - val_fp: 37.0000 - val_tn: 345.0000 - val_fn: 65.0000 - val_accuracy: 0.8725 - val_precision: 0.9051 - val_recall: 0.8445 - val_auc: 0.9418\n",
            "Epoch 51/100\n",
            "93/93 - 8s - loss: 0.2217 - tp: 932.0000 - fp: 80.0000 - tn: 746.0000 - fn: 95.0000 - accuracy: 0.9056 - precision: 0.9209 - recall: 0.9075 - auc: 0.9694 - val_loss: 0.4077 - val_tp: 394.0000 - val_fp: 103.0000 - val_tn: 279.0000 - val_fn: 24.0000 - val_accuracy: 0.8413 - val_precision: 0.7928 - val_recall: 0.9426 - val_auc: 0.9419\n",
            "Epoch 52/100\n",
            "93/93 - 7s - loss: 0.2187 - tp: 944.0000 - fp: 83.0000 - tn: 745.0000 - fn: 81.0000 - accuracy: 0.9115 - precision: 0.9192 - recall: 0.9210 - auc: 0.9707 - val_loss: 0.3994 - val_tp: 396.0000 - val_fp: 111.0000 - val_tn: 271.0000 - val_fn: 22.0000 - val_accuracy: 0.8338 - val_precision: 0.7811 - val_recall: 0.9474 - val_auc: 0.9399\n",
            "Epoch 53/100\n",
            "93/93 - 8s - loss: 0.2246 - tp: 942.0000 - fp: 84.0000 - tn: 742.0000 - fn: 85.0000 - accuracy: 0.9088 - precision: 0.9181 - recall: 0.9172 - auc: 0.9689 - val_loss: 0.3784 - val_tp: 383.0000 - val_fp: 79.0000 - val_tn: 303.0000 - val_fn: 35.0000 - val_accuracy: 0.8575 - val_precision: 0.8290 - val_recall: 0.9163 - val_auc: 0.9408\n",
            "Epoch 54/100\n",
            "93/93 - 8s - loss: 0.2179 - tp: 947.0000 - fp: 83.0000 - tn: 740.0000 - fn: 83.0000 - accuracy: 0.9104 - precision: 0.9194 - recall: 0.9194 - auc: 0.9706 - val_loss: 0.6270 - val_tp: 409.0000 - val_fp: 186.0000 - val_tn: 196.0000 - val_fn: 9.0000 - val_accuracy: 0.7563 - val_precision: 0.6874 - val_recall: 0.9785 - val_auc: 0.9330\n",
            "Epoch 55/100\n",
            "93/93 - 8s - loss: 0.2090 - tp: 946.0000 - fp: 81.0000 - tn: 745.0000 - fn: 81.0000 - accuracy: 0.9126 - precision: 0.9211 - recall: 0.9211 - auc: 0.9728 - val_loss: 0.6172 - val_tp: 263.0000 - val_fp: 7.0000 - val_tn: 375.0000 - val_fn: 155.0000 - val_accuracy: 0.7975 - val_precision: 0.9741 - val_recall: 0.6292 - val_auc: 0.9372\n",
            "Epoch 56/100\n",
            "93/93 - 8s - loss: 0.2171 - tp: 934.0000 - fp: 82.0000 - tn: 748.0000 - fn: 89.0000 - accuracy: 0.9077 - precision: 0.9193 - recall: 0.9130 - auc: 0.9711 - val_loss: 0.4741 - val_tp: 397.0000 - val_fp: 119.0000 - val_tn: 263.0000 - val_fn: 21.0000 - val_accuracy: 0.8250 - val_precision: 0.7694 - val_recall: 0.9498 - val_auc: 0.9374\n",
            "Epoch 57/100\n",
            "93/93 - 8s - loss: 0.1998 - tp: 958.0000 - fp: 83.0000 - tn: 743.0000 - fn: 69.0000 - accuracy: 0.9180 - precision: 0.9203 - recall: 0.9328 - auc: 0.9751 - val_loss: 0.3680 - val_tp: 354.0000 - val_fp: 39.0000 - val_tn: 343.0000 - val_fn: 64.0000 - val_accuracy: 0.8712 - val_precision: 0.9008 - val_recall: 0.8469 - val_auc: 0.9412\n",
            "Epoch 58/100\n",
            "93/93 - 8s - loss: 0.2119 - tp: 939.0000 - fp: 75.0000 - tn: 749.0000 - fn: 90.0000 - accuracy: 0.9110 - precision: 0.9260 - recall: 0.9125 - auc: 0.9720 - val_loss: 0.6164 - val_tp: 410.0000 - val_fp: 194.0000 - val_tn: 188.0000 - val_fn: 8.0000 - val_accuracy: 0.7475 - val_precision: 0.6788 - val_recall: 0.9809 - val_auc: 0.9345\n",
            "Epoch 59/100\n",
            "93/93 - 8s - loss: 0.2102 - tp: 944.0000 - fp: 88.0000 - tn: 737.0000 - fn: 84.0000 - accuracy: 0.9072 - precision: 0.9147 - recall: 0.9183 - auc: 0.9723 - val_loss: 0.3948 - val_tp: 381.0000 - val_fp: 75.0000 - val_tn: 307.0000 - val_fn: 37.0000 - val_accuracy: 0.8600 - val_precision: 0.8355 - val_recall: 0.9115 - val_auc: 0.9412\n",
            "Epoch 60/100\n",
            "93/93 - 8s - loss: 0.2103 - tp: 946.0000 - fp: 71.0000 - tn: 759.0000 - fn: 77.0000 - accuracy: 0.9201 - precision: 0.9302 - recall: 0.9247 - auc: 0.9725 - val_loss: 0.4661 - val_tp: 400.0000 - val_fp: 116.0000 - val_tn: 266.0000 - val_fn: 18.0000 - val_accuracy: 0.8325 - val_precision: 0.7752 - val_recall: 0.9569 - val_auc: 0.9367\n",
            "Epoch 61/100\n",
            "93/93 - 8s - loss: 0.1945 - tp: 956.0000 - fp: 68.0000 - tn: 757.0000 - fn: 72.0000 - accuracy: 0.9244 - precision: 0.9336 - recall: 0.9300 - auc: 0.9764 - val_loss: 0.3504 - val_tp: 351.0000 - val_fp: 40.0000 - val_tn: 342.0000 - val_fn: 67.0000 - val_accuracy: 0.8662 - val_precision: 0.8977 - val_recall: 0.8397 - val_auc: 0.9401\n",
            "Epoch 62/100\n",
            "93/93 - 8s - loss: 0.2068 - tp: 939.0000 - fp: 72.0000 - tn: 756.0000 - fn: 86.0000 - accuracy: 0.9147 - precision: 0.9288 - recall: 0.9161 - auc: 0.9732 - val_loss: 0.3750 - val_tp: 368.0000 - val_fp: 52.0000 - val_tn: 330.0000 - val_fn: 50.0000 - val_accuracy: 0.8725 - val_precision: 0.8762 - val_recall: 0.8804 - val_auc: 0.9407\n",
            "Epoch 63/100\n",
            "93/93 - 8s - loss: 0.2028 - tp: 949.0000 - fp: 73.0000 - tn: 754.0000 - fn: 77.0000 - accuracy: 0.9191 - precision: 0.9286 - recall: 0.9250 - auc: 0.9735 - val_loss: 0.4561 - val_tp: 294.0000 - val_fp: 14.0000 - val_tn: 368.0000 - val_fn: 124.0000 - val_accuracy: 0.8275 - val_precision: 0.9545 - val_recall: 0.7033 - val_auc: 0.9388\n",
            "Epoch 64/100\n",
            "93/93 - 8s - loss: 0.1959 - tp: 955.0000 - fp: 66.0000 - tn: 760.0000 - fn: 72.0000 - accuracy: 0.9255 - precision: 0.9354 - recall: 0.9299 - auc: 0.9758 - val_loss: 0.3477 - val_tp: 361.0000 - val_fp: 44.0000 - val_tn: 338.0000 - val_fn: 57.0000 - val_accuracy: 0.8737 - val_precision: 0.8914 - val_recall: 0.8636 - val_auc: 0.9401\n",
            "Epoch 65/100\n",
            "93/93 - 8s - loss: 0.1946 - tp: 954.0000 - fp: 74.0000 - tn: 749.0000 - fn: 76.0000 - accuracy: 0.9191 - precision: 0.9280 - recall: 0.9262 - auc: 0.9765 - val_loss: 0.4844 - val_tp: 398.0000 - val_fp: 117.0000 - val_tn: 265.0000 - val_fn: 20.0000 - val_accuracy: 0.8288 - val_precision: 0.7728 - val_recall: 0.9522 - val_auc: 0.9369\n",
            "Epoch 66/100\n",
            "93/93 - 8s - loss: 0.1830 - tp: 954.0000 - fp: 69.0000 - tn: 759.0000 - fn: 71.0000 - accuracy: 0.9244 - precision: 0.9326 - recall: 0.9307 - auc: 0.9792 - val_loss: 0.3833 - val_tp: 333.0000 - val_fp: 34.0000 - val_tn: 348.0000 - val_fn: 85.0000 - val_accuracy: 0.8512 - val_precision: 0.9074 - val_recall: 0.7967 - val_auc: 0.9383\n",
            "Epoch 67/100\n",
            "93/93 - 8s - loss: 0.1904 - tp: 947.0000 - fp: 71.0000 - tn: 756.0000 - fn: 79.0000 - accuracy: 0.9191 - precision: 0.9303 - recall: 0.9230 - auc: 0.9771 - val_loss: 0.4544 - val_tp: 325.0000 - val_fp: 25.0000 - val_tn: 357.0000 - val_fn: 93.0000 - val_accuracy: 0.8525 - val_precision: 0.9286 - val_recall: 0.7775 - val_auc: 0.9363\n",
            "Epoch 68/100\n",
            "93/93 - 8s - loss: 0.1979 - tp: 954.0000 - fp: 70.0000 - tn: 754.0000 - fn: 75.0000 - accuracy: 0.9217 - precision: 0.9316 - recall: 0.9271 - auc: 0.9756 - val_loss: 0.6260 - val_tp: 274.0000 - val_fp: 10.0000 - val_tn: 372.0000 - val_fn: 144.0000 - val_accuracy: 0.8075 - val_precision: 0.9648 - val_recall: 0.6555 - val_auc: 0.9339\n",
            "Epoch 69/100\n",
            "93/93 - 8s - loss: 0.2048 - tp: 938.0000 - fp: 80.0000 - tn: 746.0000 - fn: 89.0000 - accuracy: 0.9088 - precision: 0.9214 - recall: 0.9133 - auc: 0.9744 - val_loss: 0.3721 - val_tp: 367.0000 - val_fp: 53.0000 - val_tn: 329.0000 - val_fn: 51.0000 - val_accuracy: 0.8700 - val_precision: 0.8738 - val_recall: 0.8780 - val_auc: 0.9390\n",
            "Epoch 70/100\n",
            "93/93 - 8s - loss: 0.1924 - tp: 949.0000 - fp: 63.0000 - tn: 760.0000 - fn: 81.0000 - accuracy: 0.9223 - precision: 0.9377 - recall: 0.9214 - auc: 0.9770 - val_loss: 0.3802 - val_tp: 364.0000 - val_fp: 46.0000 - val_tn: 336.0000 - val_fn: 54.0000 - val_accuracy: 0.8750 - val_precision: 0.8878 - val_recall: 0.8708 - val_auc: 0.9407\n",
            "Epoch 71/100\n",
            "93/93 - 8s - loss: 0.2055 - tp: 945.0000 - fp: 73.0000 - tn: 754.0000 - fn: 81.0000 - accuracy: 0.9169 - precision: 0.9283 - recall: 0.9211 - auc: 0.9743 - val_loss: 0.4111 - val_tp: 392.0000 - val_fp: 100.0000 - val_tn: 282.0000 - val_fn: 26.0000 - val_accuracy: 0.8425 - val_precision: 0.7967 - val_recall: 0.9378 - val_auc: 0.9312\n",
            "Epoch 72/100\n",
            "93/93 - 8s - loss: 0.1965 - tp: 949.0000 - fp: 69.0000 - tn: 758.0000 - fn: 77.0000 - accuracy: 0.9212 - precision: 0.9322 - recall: 0.9250 - auc: 0.9758 - val_loss: 0.4475 - val_tp: 384.0000 - val_fp: 85.0000 - val_tn: 297.0000 - val_fn: 34.0000 - val_accuracy: 0.8512 - val_precision: 0.8188 - val_recall: 0.9187 - val_auc: 0.9341\n",
            "Epoch 73/100\n",
            "93/93 - 8s - loss: 0.1904 - tp: 941.0000 - fp: 69.0000 - tn: 761.0000 - fn: 82.0000 - accuracy: 0.9185 - precision: 0.9317 - recall: 0.9198 - auc: 0.9772 - val_loss: 0.3880 - val_tp: 357.0000 - val_fp: 43.0000 - val_tn: 339.0000 - val_fn: 61.0000 - val_accuracy: 0.8700 - val_precision: 0.8925 - val_recall: 0.8541 - val_auc: 0.9402\n",
            "Epoch 74/100\n",
            "93/93 - 8s - loss: 0.1949 - tp: 953.0000 - fp: 78.0000 - tn: 749.0000 - fn: 73.0000 - accuracy: 0.9185 - precision: 0.9243 - recall: 0.9288 - auc: 0.9765 - val_loss: 0.4997 - val_tp: 396.0000 - val_fp: 105.0000 - val_tn: 277.0000 - val_fn: 22.0000 - val_accuracy: 0.8413 - val_precision: 0.7904 - val_recall: 0.9474 - val_auc: 0.9335\n",
            "Epoch 75/100\n",
            "93/93 - 8s - loss: 0.1870 - tp: 950.0000 - fp: 65.0000 - tn: 763.0000 - fn: 75.0000 - accuracy: 0.9244 - precision: 0.9360 - recall: 0.9268 - auc: 0.9782 - val_loss: 0.4805 - val_tp: 400.0000 - val_fp: 117.0000 - val_tn: 265.0000 - val_fn: 18.0000 - val_accuracy: 0.8313 - val_precision: 0.7737 - val_recall: 0.9569 - val_auc: 0.9348\n",
            "Epoch 76/100\n",
            "93/93 - 8s - loss: 0.1898 - tp: 954.0000 - fp: 73.0000 - tn: 753.0000 - fn: 73.0000 - accuracy: 0.9212 - precision: 0.9289 - recall: 0.9289 - auc: 0.9779 - val_loss: 0.4795 - val_tp: 399.0000 - val_fp: 114.0000 - val_tn: 268.0000 - val_fn: 19.0000 - val_accuracy: 0.8338 - val_precision: 0.7778 - val_recall: 0.9545 - val_auc: 0.9332\n",
            "Epoch 77/100\n",
            "93/93 - 8s - loss: 0.1812 - tp: 950.0000 - fp: 66.0000 - tn: 760.0000 - fn: 77.0000 - accuracy: 0.9228 - precision: 0.9350 - recall: 0.9250 - auc: 0.9793 - val_loss: 0.4017 - val_tp: 369.0000 - val_fp: 52.0000 - val_tn: 330.0000 - val_fn: 49.0000 - val_accuracy: 0.8737 - val_precision: 0.8765 - val_recall: 0.8828 - val_auc: 0.9396\n",
            "Epoch 78/100\n",
            "93/93 - 8s - loss: 0.1756 - tp: 966.0000 - fp: 68.0000 - tn: 758.0000 - fn: 61.0000 - accuracy: 0.9304 - precision: 0.9342 - recall: 0.9406 - auc: 0.9806 - val_loss: 0.4522 - val_tp: 380.0000 - val_fp: 77.0000 - val_tn: 305.0000 - val_fn: 38.0000 - val_accuracy: 0.8562 - val_precision: 0.8315 - val_recall: 0.9091 - val_auc: 0.9343\n",
            "Epoch 79/100\n",
            "93/93 - 8s - loss: 0.1882 - tp: 943.0000 - fp: 71.0000 - tn: 756.0000 - fn: 83.0000 - accuracy: 0.9169 - precision: 0.9300 - recall: 0.9191 - auc: 0.9782 - val_loss: 0.4255 - val_tp: 353.0000 - val_fp: 43.0000 - val_tn: 339.0000 - val_fn: 65.0000 - val_accuracy: 0.8650 - val_precision: 0.8914 - val_recall: 0.8445 - val_auc: 0.9381\n",
            "Epoch 80/100\n",
            "93/93 - 8s - loss: 0.1839 - tp: 953.0000 - fp: 75.0000 - tn: 751.0000 - fn: 74.0000 - accuracy: 0.9196 - precision: 0.9270 - recall: 0.9279 - auc: 0.9792 - val_loss: 0.4221 - val_tp: 378.0000 - val_fp: 74.0000 - val_tn: 308.0000 - val_fn: 40.0000 - val_accuracy: 0.8575 - val_precision: 0.8363 - val_recall: 0.9043 - val_auc: 0.9376\n",
            "Epoch 81/100\n",
            "93/93 - 8s - loss: 0.1759 - tp: 951.0000 - fp: 61.0000 - tn: 769.0000 - fn: 72.0000 - accuracy: 0.9282 - precision: 0.9397 - recall: 0.9296 - auc: 0.9808 - val_loss: 0.4405 - val_tp: 328.0000 - val_fp: 26.0000 - val_tn: 356.0000 - val_fn: 90.0000 - val_accuracy: 0.8550 - val_precision: 0.9266 - val_recall: 0.7847 - val_auc: 0.9380\n",
            "Epoch 82/100\n",
            "93/93 - 8s - loss: 0.1816 - tp: 955.0000 - fp: 68.0000 - tn: 758.0000 - fn: 72.0000 - accuracy: 0.9244 - precision: 0.9335 - recall: 0.9299 - auc: 0.9795 - val_loss: 0.4168 - val_tp: 370.0000 - val_fp: 53.0000 - val_tn: 329.0000 - val_fn: 48.0000 - val_accuracy: 0.8737 - val_precision: 0.8747 - val_recall: 0.8852 - val_auc: 0.9353\n",
            "Epoch 83/100\n",
            "93/93 - 8s - loss: 0.1759 - tp: 956.0000 - fp: 60.0000 - tn: 766.0000 - fn: 71.0000 - accuracy: 0.9293 - precision: 0.9409 - recall: 0.9309 - auc: 0.9810 - val_loss: 0.4944 - val_tp: 389.0000 - val_fp: 99.0000 - val_tn: 283.0000 - val_fn: 29.0000 - val_accuracy: 0.8400 - val_precision: 0.7971 - val_recall: 0.9306 - val_auc: 0.9308\n",
            "Epoch 84/100\n",
            "93/93 - 8s - loss: 0.1735 - tp: 958.0000 - fp: 61.0000 - tn: 767.0000 - fn: 67.0000 - accuracy: 0.9309 - precision: 0.9401 - recall: 0.9346 - auc: 0.9807 - val_loss: 0.4607 - val_tp: 379.0000 - val_fp: 81.0000 - val_tn: 301.0000 - val_fn: 39.0000 - val_accuracy: 0.8500 - val_precision: 0.8239 - val_recall: 0.9067 - val_auc: 0.9329\n",
            "Epoch 85/100\n",
            "93/93 - 8s - loss: 0.1761 - tp: 955.0000 - fp: 60.0000 - tn: 766.0000 - fn: 72.0000 - accuracy: 0.9288 - precision: 0.9409 - recall: 0.9299 - auc: 0.9806 - val_loss: 0.4384 - val_tp: 357.0000 - val_fp: 42.0000 - val_tn: 340.0000 - val_fn: 61.0000 - val_accuracy: 0.8712 - val_precision: 0.8947 - val_recall: 0.8541 - val_auc: 0.9348\n",
            "Epoch 86/100\n",
            "93/93 - 8s - loss: 0.1964 - tp: 953.0000 - fp: 76.0000 - tn: 750.0000 - fn: 74.0000 - accuracy: 0.9191 - precision: 0.9261 - recall: 0.9279 - auc: 0.9767 - val_loss: 0.5448 - val_tp: 395.0000 - val_fp: 112.0000 - val_tn: 270.0000 - val_fn: 23.0000 - val_accuracy: 0.8313 - val_precision: 0.7791 - val_recall: 0.9450 - val_auc: 0.9300\n",
            "Epoch 87/100\n",
            "93/93 - 8s - loss: 0.1740 - tp: 959.0000 - fp: 60.0000 - tn: 766.0000 - fn: 68.0000 - accuracy: 0.9309 - precision: 0.9411 - recall: 0.9338 - auc: 0.9812 - val_loss: 0.3908 - val_tp: 372.0000 - val_fp: 53.0000 - val_tn: 329.0000 - val_fn: 46.0000 - val_accuracy: 0.8763 - val_precision: 0.8753 - val_recall: 0.8900 - val_auc: 0.9372\n",
            "Epoch 88/100\n",
            "93/93 - 8s - loss: 0.1700 - tp: 958.0000 - fp: 63.0000 - tn: 764.0000 - fn: 68.0000 - accuracy: 0.9293 - precision: 0.9383 - recall: 0.9337 - auc: 0.9817 - val_loss: 0.5411 - val_tp: 312.0000 - val_fp: 22.0000 - val_tn: 360.0000 - val_fn: 106.0000 - val_accuracy: 0.8400 - val_precision: 0.9341 - val_recall: 0.7464 - val_auc: 0.9360\n",
            "Epoch 89/100\n",
            "93/93 - 8s - loss: 0.1657 - tp: 962.0000 - fp: 56.0000 - tn: 772.0000 - fn: 63.0000 - accuracy: 0.9358 - precision: 0.9450 - recall: 0.9385 - auc: 0.9825 - val_loss: 0.4431 - val_tp: 340.0000 - val_fp: 32.0000 - val_tn: 350.0000 - val_fn: 78.0000 - val_accuracy: 0.8625 - val_precision: 0.9140 - val_recall: 0.8134 - val_auc: 0.9375\n",
            "Epoch 90/100\n",
            "93/93 - 8s - loss: 0.1714 - tp: 963.0000 - fp: 58.0000 - tn: 770.0000 - fn: 62.0000 - accuracy: 0.9352 - precision: 0.9432 - recall: 0.9395 - auc: 0.9815 - val_loss: 0.5017 - val_tp: 322.0000 - val_fp: 26.0000 - val_tn: 356.0000 - val_fn: 96.0000 - val_accuracy: 0.8475 - val_precision: 0.9253 - val_recall: 0.7703 - val_auc: 0.9369\n",
            "Epoch 91/100\n",
            "93/93 - 8s - loss: 0.1650 - tp: 964.0000 - fp: 66.0000 - tn: 757.0000 - fn: 66.0000 - accuracy: 0.9288 - precision: 0.9359 - recall: 0.9359 - auc: 0.9830 - val_loss: 0.4235 - val_tp: 363.0000 - val_fp: 50.0000 - val_tn: 332.0000 - val_fn: 55.0000 - val_accuracy: 0.8687 - val_precision: 0.8789 - val_recall: 0.8684 - val_auc: 0.9334\n",
            "Epoch 92/100\n",
            "93/93 - 8s - loss: 0.1752 - tp: 961.0000 - fp: 61.0000 - tn: 762.0000 - fn: 69.0000 - accuracy: 0.9298 - precision: 0.9403 - recall: 0.9330 - auc: 0.9813 - val_loss: 0.4319 - val_tp: 356.0000 - val_fp: 46.0000 - val_tn: 336.0000 - val_fn: 62.0000 - val_accuracy: 0.8650 - val_precision: 0.8856 - val_recall: 0.8517 - val_auc: 0.9337\n",
            "Epoch 93/100\n",
            "93/93 - 8s - loss: 0.1663 - tp: 961.0000 - fp: 60.0000 - tn: 765.0000 - fn: 67.0000 - accuracy: 0.9315 - precision: 0.9412 - recall: 0.9348 - auc: 0.9828 - val_loss: 0.5701 - val_tp: 311.0000 - val_fp: 19.0000 - val_tn: 363.0000 - val_fn: 107.0000 - val_accuracy: 0.8425 - val_precision: 0.9424 - val_recall: 0.7440 - val_auc: 0.9336\n",
            "Epoch 94/100\n",
            "93/93 - 8s - loss: 0.1740 - tp: 956.0000 - fp: 68.0000 - tn: 759.0000 - fn: 70.0000 - accuracy: 0.9255 - precision: 0.9336 - recall: 0.9318 - auc: 0.9817 - val_loss: 0.4132 - val_tp: 365.0000 - val_fp: 50.0000 - val_tn: 332.0000 - val_fn: 53.0000 - val_accuracy: 0.8712 - val_precision: 0.8795 - val_recall: 0.8732 - val_auc: 0.9363\n",
            "Epoch 95/100\n",
            "93/93 - 8s - loss: 0.1555 - tp: 959.0000 - fp: 59.0000 - tn: 768.0000 - fn: 67.0000 - accuracy: 0.9320 - precision: 0.9420 - recall: 0.9347 - auc: 0.9847 - val_loss: 0.5149 - val_tp: 327.0000 - val_fp: 34.0000 - val_tn: 348.0000 - val_fn: 91.0000 - val_accuracy: 0.8438 - val_precision: 0.9058 - val_recall: 0.7823 - val_auc: 0.9347\n",
            "Epoch 96/100\n",
            "93/93 - 8s - loss: 0.1728 - tp: 967.0000 - fp: 62.0000 - tn: 765.0000 - fn: 59.0000 - accuracy: 0.9347 - precision: 0.9397 - recall: 0.9425 - auc: 0.9815 - val_loss: 0.5104 - val_tp: 329.0000 - val_fp: 25.0000 - val_tn: 357.0000 - val_fn: 89.0000 - val_accuracy: 0.8575 - val_precision: 0.9294 - val_recall: 0.7871 - val_auc: 0.9349\n",
            "Epoch 97/100\n",
            "93/93 - 8s - loss: 0.1540 - tp: 968.0000 - fp: 54.0000 - tn: 768.0000 - fn: 63.0000 - accuracy: 0.9369 - precision: 0.9472 - recall: 0.9389 - auc: 0.9848 - val_loss: 0.6158 - val_tp: 401.0000 - val_fp: 129.0000 - val_tn: 253.0000 - val_fn: 17.0000 - val_accuracy: 0.8175 - val_precision: 0.7566 - val_recall: 0.9593 - val_auc: 0.9274\n",
            "Epoch 98/100\n",
            "93/93 - 8s - loss: 0.1622 - tp: 968.0000 - fp: 52.0000 - tn: 771.0000 - fn: 62.0000 - accuracy: 0.9385 - precision: 0.9490 - recall: 0.9398 - auc: 0.9833 - val_loss: 0.4511 - val_tp: 375.0000 - val_fp: 69.0000 - val_tn: 313.0000 - val_fn: 43.0000 - val_accuracy: 0.8600 - val_precision: 0.8446 - val_recall: 0.8971 - val_auc: 0.9276\n",
            "Epoch 99/100\n",
            "93/93 - 8s - loss: 0.1609 - tp: 964.0000 - fp: 54.0000 - tn: 773.0000 - fn: 62.0000 - accuracy: 0.9374 - precision: 0.9470 - recall: 0.9396 - auc: 0.9830 - val_loss: 0.5116 - val_tp: 388.0000 - val_fp: 86.0000 - val_tn: 296.0000 - val_fn: 30.0000 - val_accuracy: 0.8550 - val_precision: 0.8186 - val_recall: 0.9282 - val_auc: 0.9291\n",
            "Epoch 100/100\n",
            "93/93 - 8s - loss: 0.1553 - tp: 959.0000 - fp: 52.0000 - tn: 776.0000 - fn: 66.0000 - accuracy: 0.9363 - precision: 0.9486 - recall: 0.9356 - auc: 0.9845 - val_loss: 0.5833 - val_tp: 327.0000 - val_fp: 25.0000 - val_tn: 357.0000 - val_fn: 91.0000 - val_accuracy: 0.8550 - val_precision: 0.9290 - val_recall: 0.7823 - val_auc: 0.9333\n"
          ],
          "name": "stdout"
        }
      ]
    },
    {
      "cell_type": "code",
      "metadata": {
        "colab": {
          "base_uri": "https://localhost:8080/",
          "height": 609
        },
        "id": "6npqSuS7wpGh",
        "outputId": "f9d4d266-6a3b-46ac-9bce-6c656c61ecbd"
      },
      "source": [
        "plt = plot_metrics(history)"
      ],
      "execution_count": null,
      "outputs": [
        {
          "output_type": "display_data",
          "data": {
            "image/png": "[encoded data removed]",
            "text/plain": [
              "<Figure size 864x720 with 4 Axes>"
            ]
          },
          "metadata": {
            "tags": [],
            "needs_background": "light"
          }
        }
      ]
    }
  ]
}