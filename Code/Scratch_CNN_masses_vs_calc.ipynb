{
  "nbformat": 4,
  "nbformat_minor": 0,
  "metadata": {
    "accelerator": "GPU",
    "colab": {
      "name": "Scratch_CNN_masses_vs_calc.ipynb",
      "provenance": [],
      "collapsed_sections": [],
      "include_colab_link": true
    },
    "kernelspec": {
      "display_name": "Python 3",
      "name": "python3"
    }
  },
  "cells": [
    {
      "cell_type": "markdown",
      "metadata": {
        "id": "view-in-github",
        "colab_type": "text"
      },
      "source": [
        "<a href=\"https://colab.research.google.com/github/MarshaGomez/CNN-Medical-Imaging-Analysis/blob/main/Code/Scratch_CNN_masses_vs_calc.ipynb\" target=\"_parent\"><img src=\"https://colab.research.google.com/assets/colab-badge.svg\" alt=\"Open In Colab\"/></a>"
      ]
    },
    {
      "cell_type": "markdown",
      "metadata": {
        "id": "UPQ8gkXb0NY0"
      },
      "source": [
        "# **Scratch CNN**\r\n",
        "---\r\n",
        "Classification model for discriminating between 2 classes: **masses and calcification**. *Ad-hoc CNN architecture*.\r\n",
        "\r\n",
        "**Students:**   *A. Schiavo - M. Gómez - M. Daole*"
      ]
    },
    {
      "cell_type": "markdown",
      "metadata": {
        "id": "AB6hExesaEvW"
      },
      "source": [
        "## Data Loading\r\n",
        "This can be easily done with the Python data manipulation. Modern deep learning provides a very powerful framework for supervised learning, we introduce on this step the convolutional network for scaling to large images.\r\n"
      ]
    },
    {
      "cell_type": "code",
      "metadata": {
        "colab": {
          "base_uri": "https://localhost:8080/"
        },
        "id": "95hM4MvWjwfO",
        "outputId": "10ab8c73-a49a-4dc0-90cc-14fb09c1a4ab"
      },
      "source": [
        "from google.colab import drive\r\n",
        "drive.mount('/content/gdrive', force_remount=True) "
      ],
      "execution_count": 1,
      "outputs": [
        {
          "output_type": "stream",
          "text": [
            "Mounted at /content/gdrive\n"
          ],
          "name": "stdout"
        }
      ]
    },
    {
      "cell_type": "code",
      "metadata": {
        "colab": {
          "base_uri": "https://localhost:8080/"
        },
        "id": "iduaD281krFD",
        "outputId": "2d164287-48e4-47c2-b130-c2600e72e978"
      },
      "source": [
        "import matplotlib.pyplot as plt\r\n",
        "import tensorflow as tf\r\n",
        "import itertools\r\n",
        "import numpy as np\r\n",
        "import pandas as pd \r\n",
        "import ast #Abstract Syntax Trees\r\n",
        "import os \r\n",
        "import gc # Garbage Collector\r\n",
        "\r\n",
        "from tensorflow.keras import backend as K # Useful to free GPU and memory\r\n",
        "from sklearn.metrics import confusion_matrix, classification_report\r\n",
        "from tensorflow.keras.preprocessing.image import ImageDataGenerator\r\n",
        "from tensorflow.keras.preprocessing import image\r\n",
        "from tensorflow.keras.models import load_model\r\n",
        "from keras import layers\r\n",
        "from keras import optimizers \r\n",
        "from keras import models\r\n",
        "from keras import regularizers\r\n",
        "\r\n",
        "BATCH_SIZE = 20\r\n",
        "EPOCHS = 100\r\n",
        "\r\n",
        "base_path = \"/content/gdrive/My Drive/Colab_Notebooks/CIDL/DL Project\"\r\n",
        "train_img_path = os.path.join(base_path, \"numpy data/train_tensor.npy\")\r\n",
        "train_label_path = os.path.join(base_path, \"numpy data/train_labels.npy\")\r\n",
        "test_img_path = os.path.join(base_path, \"numpy data/public_test_tensor.npy\")\r\n",
        "test_label_path = os.path.join(base_path, \"numpy data/public_test_labels.npy\")\r\n",
        "\r\n",
        "MODEL_PATH = os.path.join(base_path, \"models\")\r\n",
        "\r\n",
        "print(\"Done\")"
      ],
      "execution_count": 45,
      "outputs": [
        {
          "output_type": "stream",
          "text": [
            "Done\n"
          ],
          "name": "stdout"
        }
      ]
    },
    {
      "cell_type": "code",
      "metadata": {
        "colab": {
          "base_uri": "https://localhost:8080/"
        },
        "id": "_HEhhQy4Sr_m",
        "outputId": "131fe346-8dff-42c2-a275-3ae530872e6c"
      },
      "source": [
        "# Custom Callback To Include in Callbacks List At Training Time\r\n",
        "class GarbageCollectorCallback(tf.keras.callbacks.Callback):\r\n",
        "    def on_epoch_end(self, epoch, logs=None):\r\n",
        "      gc.collect()\r\n",
        "\r\n",
        "print(\"Done\")"
      ],
      "execution_count": 4,
      "outputs": [
        {
          "output_type": "stream",
          "text": [
            "Done\n"
          ],
          "name": "stdout"
        }
      ]
    },
    {
      "cell_type": "code",
      "metadata": {
        "colab": {
          "base_uri": "https://localhost:8080/"
        },
        "id": "ek9JMlmD6GsU",
        "outputId": "f9d1c92f-21a9-4fee-c20e-60e1263b5eae"
      },
      "source": [
        "# Load Arrays from Numpy Files\r\n",
        "def load_training():\r\n",
        "  train_images = np.load(train_img_path)\r\n",
        "  train_labels = np.load(train_label_path)\r\n",
        "  test_images = np.load(test_img_path)\r\n",
        "  test_labels = np.load(test_label_path)\r\n",
        "\r\n",
        "  return train_images, train_labels, test_images, test_labels\r\n",
        "\r\n",
        "# Remove baseline samples\r\n",
        "def remove_baseline(tensor): \r\n",
        "  max_ind = int(len(tensor)/2)\r\n",
        "  indexes = [2*i + 1 for i in range(0, max_ind)]\r\n",
        "\r\n",
        "  return tensor[indexes]\r\n",
        "\r\n",
        "# Interchange the dataset index\r\n",
        "def shuffle_dataset(x, y):\r\n",
        "  indices = tf.range(start=0, limit=tf.shape(x)[0], dtype=tf.int32)\r\n",
        "  shuffled_indices = tf.random.shuffle(indices)\r\n",
        "\r\n",
        "  x = tf.gather(x, shuffled_indices)\r\n",
        "  y = tf.gather(y, shuffled_indices)\r\n",
        "\r\n",
        "  x = x.numpy()\r\n",
        "  y = y.numpy()\r\n",
        "\r\n",
        "  return x, y\r\n",
        "\r\n",
        "# Unify masses and calcifications \r\n",
        "def labels_mapping(labels):\r\n",
        "  labels_local = np.zeros(shape=labels.shape, dtype=\"float32\")\r\n",
        "  idx = 0\r\n",
        "  for label in labels:\r\n",
        "    # Masses\r\n",
        "    if label == 1 or label == 2:\r\n",
        "      labels_local[idx] = 0\r\n",
        "    # Calcifications\r\n",
        "    else:\r\n",
        "      labels_local[idx] = 1\r\n",
        "    idx += 1\r\n",
        "\r\n",
        "  return labels_local\r\n",
        "\r\n",
        "# Visualization Data Histogram\r\n",
        "def plot(history):\r\n",
        "  acc = history.history['acc']\r\n",
        "  val_acc = history.history['val_acc']\r\n",
        "  loss = history.history['loss']\r\n",
        "  val_loss = history.history['val_loss']\r\n",
        "\r\n",
        "  epochs = range(len(acc))\r\n",
        "\r\n",
        "  plt.plot(epochs, acc, 'bo', label='Training accuracy')\r\n",
        "  plt.plot(epochs, val_acc, 'b', label='Validation accuracy')\r\n",
        "  plt.title('Training and validation accuracy')\r\n",
        "  plt.legend()\r\n",
        "\r\n",
        "  plt.figure()\r\n",
        "\r\n",
        "  plt.plot(epochs, loss, 'bo', label='Training loss')\r\n",
        "  plt.plot(epochs, val_loss, 'b', label='Validation loss')\r\n",
        "  plt.title('Training and validation loss')\r\n",
        "  plt.legend()\r\n",
        "\r\n",
        "  return plt\r\n",
        "\r\n",
        "# Visualization Confusion Matrix\r\n",
        "def plot_confusion_matrix(classes, # Array with the classes name\r\n",
        "                          datagen,\r\n",
        "                          dataset, \r\n",
        "                          labels,\r\n",
        "                          batch_size=BATCH_SIZE,\r\n",
        "                          title='Confusion matrix'):\r\n",
        "    \"\"\"\r\n",
        "    This function prints and plots the confusion matrix.\r\n",
        "    \"\"\"\r\n",
        "    predicted = model.predict(datagen.flow(dataset,\r\n",
        "                                            labels,\r\n",
        "                                            batch_size=batch_size,\r\n",
        "                                            shuffle=False),\r\n",
        "                          steps=len(dataset) // batch_size)\r\n",
        "\r\n",
        "    prediction = np.where(predicted < 0.5, 0, 1)\r\n",
        "\r\n",
        "    print('Confusion Matrix')\r\n",
        "    cm = confusion_matrix(labels, prediction)\r\n",
        "\r\n",
        "    print(classification_report(labels, prediction))\r\n",
        "\r\n",
        "    plt.imshow(cm, interpolation='nearest', cmap='Blues')\r\n",
        "    plt.title(title)\r\n",
        "    plt.colorbar()\r\n",
        "    tick_marks = np.arange(len(classes))\r\n",
        "    plt.xticks(tick_marks, classes, rotation=45)\r\n",
        "    plt.yticks(tick_marks, classes)\r\n",
        "\r\n",
        "    print(cm)\r\n",
        "\r\n",
        "    thresh = cm.max() / 2.\r\n",
        "    for i, j in itertools.product(range(cm.shape[0]), range(cm.shape[1])):\r\n",
        "        plt.text(j, i, cm[i, j],\r\n",
        "            horizontalalignment=\"center\",\r\n",
        "            color=\"white\" if cm[i, j] > thresh else \"black\")\r\n",
        "\r\n",
        "    plt.tight_layout()\r\n",
        "    plt.ylabel('True label')\r\n",
        "    plt.xlabel('Predicted label')\r\n",
        "\r\n",
        "\r\n",
        "# Visualization Detail Metric\r\n",
        "def plot_metrics(history):\r\n",
        "  metrics = ['loss', 'auc', 'precision', 'recall']\r\n",
        "  for n, metric in enumerate(metrics):\r\n",
        "    name = metric.replace(\"_\",\" \").capitalize()\r\n",
        "    plt.subplot(2,2,n+1)\r\n",
        "    plt.plot(history.epoch, history.history[metric], color=colors[0], label='Train')\r\n",
        "    plt.plot(history.epoch, history.history['val_'+metric],\r\n",
        "             color=colors[0], linestyle=\"--\", label='Val')\r\n",
        "    plt.xlabel('Epoch')\r\n",
        "    plt.ylabel(name)\r\n",
        "    if metric == 'loss':\r\n",
        "      plt.ylim([0, plt.ylim()[1]])\r\n",
        "    elif metric == 'auc':\r\n",
        "      plt.ylim([0.8,1])\r\n",
        "    else:\r\n",
        "      plt.ylim([0,1])\r\n",
        "\r\n",
        "    plt.legend()\r\n",
        "\r\n",
        "print(\"Done\")"
      ],
      "execution_count": 53,
      "outputs": [
        {
          "output_type": "stream",
          "text": [
            "Done\n"
          ],
          "name": "stdout"
        }
      ]
    },
    {
      "cell_type": "code",
      "metadata": {
        "colab": {
          "base_uri": "https://localhost:8080/"
        },
        "id": "Gowt9JUQ6sdj",
        "outputId": "28854cd6-66c9-4547-dd9a-dabccafd8f46"
      },
      "source": [
        "# Get images and labels (test, train)\r\n",
        "train_images, train_labels, test_images, test_labels = load_training()\r\n",
        "\r\n",
        "# Get abnormalities only \r\n",
        "train_images = remove_baseline(train_images)\r\n",
        "train_labels = remove_baseline(train_labels)\r\n",
        "test_images = remove_baseline(test_images)\r\n",
        "test_labels = remove_baseline(test_labels)\r\n",
        "\r\n",
        "# Mapping labels with standard index\r\n",
        "train_labels = labels_mapping(train_labels)\r\n",
        "test_labels = labels_mapping(test_labels)\r\n",
        "\r\n",
        "# Suffle index (Previous dataset is ordered by index)\r\n",
        "train_images, train_labels = shuffle_dataset(train_images, train_labels)\r\n",
        "\r\n",
        "print(\"Train shape: \", train_images.shape)\r\n",
        "print(\"Test shape: \", test_images.shape)"
      ],
      "execution_count": 6,
      "outputs": [
        {
          "output_type": "stream",
          "text": [
            "Train shape:  (2676, 150, 150)\n",
            "Test shape:  (336, 150, 150)\n"
          ],
          "name": "stdout"
        }
      ]
    },
    {
      "cell_type": "code",
      "metadata": {
        "colab": {
          "base_uri": "https://localhost:8080/",
          "height": 265
        },
        "id": "nI7cnT2gDyf_",
        "outputId": "6741022f-fea9-4801-e991-75ee6ba4b348"
      },
      "source": [
        "# Check the value range and the distribution\r\n",
        "plt.hist(train_images[0]) \r\n",
        "plt.show()"
      ],
      "execution_count": 7,
      "outputs": [
        {
          "output_type": "display_data",
          "data": {
            "image/png": "[encoded data removed]",
            "text/plain": [
              "<Figure size 432x288 with 1 Axes>"
            ]
          },
          "metadata": {
            "tags": [],
            "needs_background": "light"
          }
        }
      ]
    },
    {
      "cell_type": "code",
      "metadata": {
        "colab": {
          "base_uri": "https://localhost:8080/"
        },
        "id": "SrrJFfg2e4fL",
        "outputId": "b5f4836f-b49d-448b-de57-792918cb2719"
      },
      "source": [
        "# Prepare the data with the expected format\r\n",
        "train_images = train_images.reshape(train_images.shape + (1,))\r\n",
        "test_images = test_images.reshape(test_images.shape + (1,))\r\n",
        "\r\n",
        "print(\"Train shape: \", train_images.shape)\r\n",
        "print(\"Test shape: \", test_images.shape)"
      ],
      "execution_count": 8,
      "outputs": [
        {
          "output_type": "stream",
          "text": [
            "Train shape:  (2676, 150, 150, 1)\n",
            "Test shape:  (336, 150, 150, 1)\n"
          ],
          "name": "stdout"
        }
      ]
    },
    {
      "cell_type": "code",
      "metadata": {
        "colab": {
          "base_uri": "https://localhost:8080/"
        },
        "id": "bEy_Dc7FhFQN",
        "outputId": "481f7f59-eb89-4ee9-c04f-b4c219463c59"
      },
      "source": [
        "# Verify values range: \r\n",
        "# Getting max value \r\n",
        "max = max([np.max(image) for image in train_images]) # max is 65535 \r\n",
        "\r\n",
        "# Getting min value\r\n",
        "min = min([np.min(image) for image in train_images]) # min is 0\r\n",
        "\r\n",
        "print(\"Original tensor are of type \", train_images[0].dtype, \" with values in the range [\", min,\",\", max, \"]\")"
      ],
      "execution_count": 9,
      "outputs": [
        {
          "output_type": "stream",
          "text": [
            "Original tensor are of type  uint16  with values in the range [ 0 , 65535 ]\n"
          ],
          "name": "stdout"
        }
      ]
    },
    {
      "cell_type": "markdown",
      "metadata": {
        "id": "5t4iLd0ExZho"
      },
      "source": [
        "## Data preprocessing\r\n",
        "\r\n",
        "Computer vision usually requires relatively little of this kind of preprocessing. The images should be standardized, formatting images to have the same scale is the only kind of preprocessing that is strictly necessary. As optional, we add dataset augmentation because is an excellent way to reduce the generalization error of most computer vision models."
      ]
    },
    {
      "cell_type": "code",
      "metadata": {
        "id": "TfMviUsBn-gX",
        "colab": {
          "base_uri": "https://localhost:8080/"
        },
        "outputId": "ee6db242-f481-43e6-d036-d119c344dc21"
      },
      "source": [
        "# Split dataset into training and validation set 70-30\r\n",
        "train_images_split = train_images[:int(0.7*len(train_images))]\r\n",
        "valid_images_split = train_images[int(0.7*len(train_images)):]\r\n",
        "train_labels_split = train_labels[:int(0.7*len(train_labels))]\r\n",
        "valid_labels_split = train_labels[int(0.7*len(train_labels)):]\r\n",
        "\r\n",
        "print(train_images_split.shape)\r\n",
        "print(valid_images_split.shape)                                       "
      ],
      "execution_count": 10,
      "outputs": [
        {
          "output_type": "stream",
          "text": [
            "(1873, 150, 150, 1)\n",
            "(803, 150, 150, 1)\n"
          ],
          "name": "stdout"
        }
      ]
    },
    {
      "cell_type": "code",
      "metadata": {
        "id": "hm9x-21nzEoE",
        "colab": {
          "base_uri": "https://localhost:8080/"
        },
        "outputId": "98fb0150-ee5d-4680-97e0-2b7768342276"
      },
      "source": [
        "# All images will be rescaled by 1./65535 (max value range)\r\n",
        "train_datagen = ImageDataGenerator(rescale=1./65535)\r\n",
        "valid_datagen = ImageDataGenerator(rescale=1./65535)\r\n",
        "test_datagen = ImageDataGenerator(rescale=1./65535) \r\n",
        "\r\n",
        "for batch, labels_batch in train_datagen.flow(train_images, train_labels, batch_size=BATCH_SIZE):\r\n",
        "  print(batch.shape)\r\n",
        "  print(labels_batch.shape)\r\n",
        "  break"
      ],
      "execution_count": 11,
      "outputs": [
        {
          "output_type": "stream",
          "text": [
            "(20, 150, 150, 1)\n",
            "(20,)\n"
          ],
          "name": "stdout"
        }
      ]
    },
    {
      "cell_type": "markdown",
      "metadata": {
        "id": "Mi0ZJVf1vA31"
      },
      "source": [
        "### Defining CNN \r\n"
      ]
    },
    {
      "cell_type": "code",
      "metadata": {
        "id": "kwQTeDPEvKql",
        "colab": {
          "base_uri": "https://localhost:8080/"
        },
        "outputId": "d25870a1-05be-4010-f1e2-989bd6d05ebc"
      },
      "source": [
        "def build_model(loss_function, eval_metric):\r\n",
        "  model = models.Sequential()\r\n",
        "  model.add(layers.Conv2D(32, (3, 3), activation='relu', input_shape=(150, 150, 1)))\r\n",
        "  model.add(layers.MaxPooling2D((2, 2)))\r\n",
        "  model.add(layers.Conv2D(64, (3, 3), activation='relu'))\r\n",
        "  model.add(layers.MaxPooling2D((2, 2)))\r\n",
        "  model.add(layers.Conv2D(128, (3, 3), activation='relu'))\r\n",
        "  model.add(layers.MaxPooling2D((2, 2)))\r\n",
        "  model.add(layers.Conv2D(128, (3, 3), activation='relu'))\r\n",
        "  model.add(layers.MaxPooling2D((2, 2)))\r\n",
        "  model.add(layers.Flatten())\r\n",
        "  #model.add(layers.Dense(512, activation='relu'))\r\n",
        "  #model.add(layers.Dropout(0.5))\r\n",
        "  model.add(layers.Dense(512, kernel_regularizer=regularizers.l2(0.001), activation=\"relu\"))\r\n",
        "  model.add(layers.Dense(1, activation='sigmoid'))\r\n",
        "\r\n",
        "  model.compile(loss=loss_function,\r\n",
        "              optimizer=optimizers.RMSprop(lr=1e-4), # lr = 0.0001\r\n",
        "              metrics=[\"acc\"]) \r\n",
        "  \r\n",
        "  return model \r\n",
        "\r\n",
        "print(\"Done\")"
      ],
      "execution_count": 12,
      "outputs": [
        {
          "output_type": "stream",
          "text": [
            "Done\n"
          ],
          "name": "stdout"
        }
      ]
    },
    {
      "cell_type": "markdown",
      "metadata": {
        "id": "fZIemXxawWLm"
      },
      "source": [
        "### CNN Compilation\r\n",
        "\r\n"
      ]
    },
    {
      "cell_type": "code",
      "metadata": {
        "id": "5iumGmf1whk1",
        "colab": {
          "base_uri": "https://localhost:8080/"
        },
        "outputId": "e3ba79ed-7ffc-4b61-8b0d-f3aa612fbf72"
      },
      "source": [
        "model = build_model(\"binary_crossentropy\", \"acc\")\r\n",
        "\r\n",
        "model.summary()"
      ],
      "execution_count": 13,
      "outputs": [
        {
          "output_type": "stream",
          "text": [
            "Model: \"sequential\"\n",
            "_________________________________________________________________\n",
            "Layer (type)                 Output Shape              Param #   \n",
            "=================================================================\n",
            "conv2d (Conv2D)              (None, 148, 148, 32)      320       \n",
            "_________________________________________________________________\n",
            "max_pooling2d (MaxPooling2D) (None, 74, 74, 32)        0         \n",
            "_________________________________________________________________\n",
            "conv2d_1 (Conv2D)            (None, 72, 72, 64)        18496     \n",
            "_________________________________________________________________\n",
            "max_pooling2d_1 (MaxPooling2 (None, 36, 36, 64)        0         \n",
            "_________________________________________________________________\n",
            "conv2d_2 (Conv2D)            (None, 34, 34, 128)       73856     \n",
            "_________________________________________________________________\n",
            "max_pooling2d_2 (MaxPooling2 (None, 17, 17, 128)       0         \n",
            "_________________________________________________________________\n",
            "conv2d_3 (Conv2D)            (None, 15, 15, 128)       147584    \n",
            "_________________________________________________________________\n",
            "max_pooling2d_3 (MaxPooling2 (None, 7, 7, 128)         0         \n",
            "_________________________________________________________________\n",
            "flatten (Flatten)            (None, 6272)              0         \n",
            "_________________________________________________________________\n",
            "dense (Dense)                (None, 512)               3211776   \n",
            "_________________________________________________________________\n",
            "dense_1 (Dense)              (None, 1)                 513       \n",
            "=================================================================\n",
            "Total params: 3,452,545\n",
            "Trainable params: 3,452,545\n",
            "Non-trainable params: 0\n",
            "_________________________________________________________________\n"
          ],
          "name": "stdout"
        }
      ]
    },
    {
      "cell_type": "code",
      "metadata": {
        "id": "H-V8cw96y_3Q",
        "colab": {
          "base_uri": "https://localhost:8080/"
        },
        "outputId": "725f4256-cefc-41c9-cdc0-9c9f7e589938"
      },
      "source": [
        "history = model.fit(train_datagen.flow(train_images_split,\r\n",
        "                                       train_labels_split,\r\n",
        "                                       batch_size=BATCH_SIZE,\r\n",
        "                                       shuffle=False),\r\n",
        "                    steps_per_epoch=len(train_images_split) // BATCH_SIZE, \r\n",
        "                    epochs=EPOCHS,\r\n",
        "                    validation_data=valid_datagen.flow(valid_images_split,\r\n",
        "                                       valid_labels_split,\r\n",
        "                                       batch_size=BATCH_SIZE,\r\n",
        "                                       shuffle=False),\r\n",
        "                    validation_steps=len(valid_labels_split) // BATCH_SIZE,\r\n",
        "                    callbacks=[GarbageCollectorCallback()])"
      ],
      "execution_count": 14,
      "outputs": [
        {
          "output_type": "stream",
          "text": [
            "Epoch 1/100\n",
            "93/93 [==============================] - 8s 18ms/step - loss: 1.4342 - acc: 0.5620 - val_loss: 1.0808 - val_acc: 0.5275\n",
            "Epoch 2/100\n",
            "93/93 [==============================] - 1s 13ms/step - loss: 0.9901 - acc: 0.5935 - val_loss: 0.8679 - val_acc: 0.5312\n",
            "Epoch 3/100\n",
            "93/93 [==============================] - 1s 13ms/step - loss: 0.7784 - acc: 0.6818 - val_loss: 0.6709 - val_acc: 0.8200\n",
            "Epoch 4/100\n",
            "93/93 [==============================] - 1s 13ms/step - loss: 0.6649 - acc: 0.7755 - val_loss: 0.6230 - val_acc: 0.8200\n",
            "Epoch 5/100\n",
            "93/93 [==============================] - 1s 13ms/step - loss: 0.6102 - acc: 0.7835 - val_loss: 0.5612 - val_acc: 0.7788\n",
            "Epoch 6/100\n",
            "93/93 [==============================] - 1s 13ms/step - loss: 0.5825 - acc: 0.7925 - val_loss: 0.5472 - val_acc: 0.7812\n",
            "Epoch 7/100\n",
            "93/93 [==============================] - 1s 13ms/step - loss: 0.5616 - acc: 0.7807 - val_loss: 0.6327 - val_acc: 0.7038\n",
            "Epoch 8/100\n",
            "93/93 [==============================] - 1s 13ms/step - loss: 0.5391 - acc: 0.8016 - val_loss: 0.5352 - val_acc: 0.8175\n",
            "Epoch 9/100\n",
            "93/93 [==============================] - 1s 13ms/step - loss: 0.5212 - acc: 0.8150 - val_loss: 0.4815 - val_acc: 0.8450\n",
            "Epoch 10/100\n",
            "93/93 [==============================] - 1s 14ms/step - loss: 0.5178 - acc: 0.8180 - val_loss: 0.4954 - val_acc: 0.8225\n",
            "Epoch 11/100\n",
            "93/93 [==============================] - 1s 13ms/step - loss: 0.4907 - acc: 0.8174 - val_loss: 0.5062 - val_acc: 0.7937\n",
            "Epoch 12/100\n",
            "93/93 [==============================] - 1s 13ms/step - loss: 0.4730 - acc: 0.8265 - val_loss: 0.5000 - val_acc: 0.8275\n",
            "Epoch 13/100\n",
            "93/93 [==============================] - 1s 13ms/step - loss: 0.4812 - acc: 0.8098 - val_loss: 0.4303 - val_acc: 0.8512\n",
            "Epoch 14/100\n",
            "93/93 [==============================] - 1s 14ms/step - loss: 0.4764 - acc: 0.8283 - val_loss: 0.4814 - val_acc: 0.8087\n",
            "Epoch 15/100\n",
            "93/93 [==============================] - 1s 13ms/step - loss: 0.4620 - acc: 0.8295 - val_loss: 0.4338 - val_acc: 0.8487\n",
            "Epoch 16/100\n",
            "93/93 [==============================] - 1s 14ms/step - loss: 0.4771 - acc: 0.8183 - val_loss: 0.4111 - val_acc: 0.8500\n",
            "Epoch 17/100\n",
            "93/93 [==============================] - 1s 13ms/step - loss: 0.4347 - acc: 0.8337 - val_loss: 0.4051 - val_acc: 0.8575\n",
            "Epoch 18/100\n",
            "93/93 [==============================] - 1s 13ms/step - loss: 0.4199 - acc: 0.8337 - val_loss: 0.4131 - val_acc: 0.8500\n",
            "Epoch 19/100\n",
            "93/93 [==============================] - 1s 13ms/step - loss: 0.4140 - acc: 0.8522 - val_loss: 0.3930 - val_acc: 0.8675\n",
            "Epoch 20/100\n",
            "93/93 [==============================] - 1s 13ms/step - loss: 0.4041 - acc: 0.8551 - val_loss: 0.4206 - val_acc: 0.8512\n",
            "Epoch 21/100\n",
            "93/93 [==============================] - 1s 14ms/step - loss: 0.3925 - acc: 0.8489 - val_loss: 0.3794 - val_acc: 0.8662\n",
            "Epoch 22/100\n",
            "93/93 [==============================] - 1s 14ms/step - loss: 0.4028 - acc: 0.8382 - val_loss: 0.3859 - val_acc: 0.8662\n",
            "Epoch 23/100\n",
            "93/93 [==============================] - 1s 13ms/step - loss: 0.4018 - acc: 0.8462 - val_loss: 0.4053 - val_acc: 0.8500\n",
            "Epoch 24/100\n",
            "93/93 [==============================] - 1s 13ms/step - loss: 0.3785 - acc: 0.8713 - val_loss: 0.3912 - val_acc: 0.8650\n",
            "Epoch 25/100\n",
            "93/93 [==============================] - 1s 14ms/step - loss: 0.3821 - acc: 0.8655 - val_loss: 0.3712 - val_acc: 0.8675\n",
            "Epoch 26/100\n",
            "93/93 [==============================] - 1s 14ms/step - loss: 0.3661 - acc: 0.8693 - val_loss: 0.3934 - val_acc: 0.8625\n",
            "Epoch 27/100\n",
            "93/93 [==============================] - 1s 14ms/step - loss: 0.3839 - acc: 0.8562 - val_loss: 0.3950 - val_acc: 0.8500\n",
            "Epoch 28/100\n",
            "93/93 [==============================] - 1s 13ms/step - loss: 0.3483 - acc: 0.8889 - val_loss: 0.3705 - val_acc: 0.8587\n",
            "Epoch 29/100\n",
            "93/93 [==============================] - 1s 13ms/step - loss: 0.3583 - acc: 0.8760 - val_loss: 0.4607 - val_acc: 0.8200\n",
            "Epoch 30/100\n",
            "93/93 [==============================] - 1s 13ms/step - loss: 0.3534 - acc: 0.8713 - val_loss: 0.3832 - val_acc: 0.8612\n",
            "Epoch 31/100\n",
            "93/93 [==============================] - 1s 14ms/step - loss: 0.3342 - acc: 0.8862 - val_loss: 0.3751 - val_acc: 0.8687\n",
            "Epoch 32/100\n",
            "93/93 [==============================] - 1s 14ms/step - loss: 0.3427 - acc: 0.8729 - val_loss: 0.5501 - val_acc: 0.7837\n",
            "Epoch 33/100\n",
            "93/93 [==============================] - 1s 14ms/step - loss: 0.3485 - acc: 0.8679 - val_loss: 0.4735 - val_acc: 0.8188\n",
            "Epoch 34/100\n",
            "93/93 [==============================] - 1s 14ms/step - loss: 0.3277 - acc: 0.8903 - val_loss: 0.3886 - val_acc: 0.8587\n",
            "Epoch 35/100\n",
            "93/93 [==============================] - 1s 14ms/step - loss: 0.3372 - acc: 0.8891 - val_loss: 0.4049 - val_acc: 0.8500\n",
            "Epoch 36/100\n",
            "93/93 [==============================] - 1s 13ms/step - loss: 0.3075 - acc: 0.8959 - val_loss: 0.4028 - val_acc: 0.8425\n",
            "Epoch 37/100\n",
            "93/93 [==============================] - 1s 14ms/step - loss: 0.3234 - acc: 0.8831 - val_loss: 0.3813 - val_acc: 0.8512\n",
            "Epoch 38/100\n",
            "93/93 [==============================] - 1s 13ms/step - loss: 0.3190 - acc: 0.8943 - val_loss: 0.4043 - val_acc: 0.8587\n",
            "Epoch 39/100\n",
            "93/93 [==============================] - 1s 14ms/step - loss: 0.3057 - acc: 0.8904 - val_loss: 0.3913 - val_acc: 0.8587\n",
            "Epoch 40/100\n",
            "93/93 [==============================] - 1s 13ms/step - loss: 0.3005 - acc: 0.8913 - val_loss: 0.3859 - val_acc: 0.8625\n",
            "Epoch 41/100\n",
            "93/93 [==============================] - 1s 14ms/step - loss: 0.2837 - acc: 0.9033 - val_loss: 0.3939 - val_acc: 0.8500\n",
            "Epoch 42/100\n",
            "93/93 [==============================] - 1s 13ms/step - loss: 0.3050 - acc: 0.8982 - val_loss: 1.1607 - val_acc: 0.6212\n",
            "Epoch 43/100\n",
            "93/93 [==============================] - 1s 13ms/step - loss: 0.3059 - acc: 0.9066 - val_loss: 0.3771 - val_acc: 0.8662\n",
            "Epoch 44/100\n",
            "93/93 [==============================] - 1s 13ms/step - loss: 0.3323 - acc: 0.8846 - val_loss: 0.3998 - val_acc: 0.8637\n",
            "Epoch 45/100\n",
            "93/93 [==============================] - 1s 14ms/step - loss: 0.2766 - acc: 0.8981 - val_loss: 0.4172 - val_acc: 0.8487\n",
            "Epoch 46/100\n",
            "93/93 [==============================] - 1s 14ms/step - loss: 0.2835 - acc: 0.9074 - val_loss: 0.4020 - val_acc: 0.8575\n",
            "Epoch 47/100\n",
            "93/93 [==============================] - 1s 14ms/step - loss: 0.2713 - acc: 0.9045 - val_loss: 0.4220 - val_acc: 0.8575\n",
            "Epoch 48/100\n",
            "93/93 [==============================] - 1s 13ms/step - loss: 0.2815 - acc: 0.9094 - val_loss: 0.3940 - val_acc: 0.8662\n",
            "Epoch 49/100\n",
            "93/93 [==============================] - 1s 13ms/step - loss: 0.2574 - acc: 0.9146 - val_loss: 0.3946 - val_acc: 0.8525\n",
            "Epoch 50/100\n",
            "93/93 [==============================] - 1s 13ms/step - loss: 0.2640 - acc: 0.9077 - val_loss: 0.4042 - val_acc: 0.8537\n",
            "Epoch 51/100\n",
            "93/93 [==============================] - 1s 13ms/step - loss: 0.2358 - acc: 0.9213 - val_loss: 0.3964 - val_acc: 0.8625\n",
            "Epoch 52/100\n",
            "93/93 [==============================] - 1s 13ms/step - loss: 0.2546 - acc: 0.9119 - val_loss: 0.5125 - val_acc: 0.8288\n",
            "Epoch 53/100\n",
            "93/93 [==============================] - 1s 13ms/step - loss: 0.2379 - acc: 0.9234 - val_loss: 0.4278 - val_acc: 0.8550\n",
            "Epoch 54/100\n",
            "93/93 [==============================] - 1s 13ms/step - loss: 0.2400 - acc: 0.9317 - val_loss: 0.4574 - val_acc: 0.8375\n",
            "Epoch 55/100\n",
            "93/93 [==============================] - 1s 13ms/step - loss: 0.2417 - acc: 0.9306 - val_loss: 0.4118 - val_acc: 0.8575\n",
            "Epoch 56/100\n",
            "93/93 [==============================] - 1s 14ms/step - loss: 0.2279 - acc: 0.9195 - val_loss: 0.4319 - val_acc: 0.8687\n",
            "Epoch 57/100\n",
            "93/93 [==============================] - 1s 14ms/step - loss: 0.2282 - acc: 0.9290 - val_loss: 0.4066 - val_acc: 0.8600\n",
            "Epoch 58/100\n",
            "93/93 [==============================] - 1s 13ms/step - loss: 0.2232 - acc: 0.9318 - val_loss: 0.4592 - val_acc: 0.8562\n",
            "Epoch 59/100\n",
            "93/93 [==============================] - 1s 14ms/step - loss: 0.2172 - acc: 0.9432 - val_loss: 0.4396 - val_acc: 0.8438\n",
            "Epoch 60/100\n",
            "93/93 [==============================] - 1s 14ms/step - loss: 0.2118 - acc: 0.9408 - val_loss: 0.4649 - val_acc: 0.8325\n",
            "Epoch 61/100\n",
            "93/93 [==============================] - 1s 13ms/step - loss: 0.2180 - acc: 0.9369 - val_loss: 0.4449 - val_acc: 0.8562\n",
            "Epoch 62/100\n",
            "93/93 [==============================] - 1s 13ms/step - loss: 0.2009 - acc: 0.9374 - val_loss: 0.5136 - val_acc: 0.8475\n",
            "Epoch 63/100\n",
            "93/93 [==============================] - 1s 14ms/step - loss: 0.1994 - acc: 0.9352 - val_loss: 0.4538 - val_acc: 0.8450\n",
            "Epoch 64/100\n",
            "93/93 [==============================] - 1s 14ms/step - loss: 0.2113 - acc: 0.9346 - val_loss: 0.4753 - val_acc: 0.8550\n",
            "Epoch 65/100\n",
            "93/93 [==============================] - 1s 13ms/step - loss: 0.2024 - acc: 0.9460 - val_loss: 0.4605 - val_acc: 0.8475\n",
            "Epoch 66/100\n",
            "93/93 [==============================] - 1s 13ms/step - loss: 0.1893 - acc: 0.9518 - val_loss: 0.4726 - val_acc: 0.8550\n",
            "Epoch 67/100\n",
            "93/93 [==============================] - 1s 13ms/step - loss: 0.1985 - acc: 0.9384 - val_loss: 0.4661 - val_acc: 0.8600\n",
            "Epoch 68/100\n",
            "93/93 [==============================] - 1s 13ms/step - loss: 0.1861 - acc: 0.9478 - val_loss: 0.4643 - val_acc: 0.8550\n",
            "Epoch 69/100\n",
            "93/93 [==============================] - 1s 13ms/step - loss: 0.1727 - acc: 0.9534 - val_loss: 0.4827 - val_acc: 0.8338\n",
            "Epoch 70/100\n",
            "93/93 [==============================] - 1s 14ms/step - loss: 0.1835 - acc: 0.9469 - val_loss: 0.4667 - val_acc: 0.8587\n",
            "Epoch 71/100\n",
            "93/93 [==============================] - 1s 14ms/step - loss: 0.1697 - acc: 0.9450 - val_loss: 0.4678 - val_acc: 0.8575\n",
            "Epoch 72/100\n",
            "93/93 [==============================] - 1s 14ms/step - loss: 0.1664 - acc: 0.9586 - val_loss: 0.4652 - val_acc: 0.8600\n",
            "Epoch 73/100\n",
            "93/93 [==============================] - 1s 13ms/step - loss: 0.1651 - acc: 0.9560 - val_loss: 0.4863 - val_acc: 0.8525\n",
            "Epoch 74/100\n",
            "93/93 [==============================] - 1s 14ms/step - loss: 0.1546 - acc: 0.9615 - val_loss: 0.5458 - val_acc: 0.8238\n",
            "Epoch 75/100\n",
            "93/93 [==============================] - 1s 13ms/step - loss: 0.1455 - acc: 0.9584 - val_loss: 0.6001 - val_acc: 0.8413\n",
            "Epoch 76/100\n",
            "93/93 [==============================] - 1s 13ms/step - loss: 0.1400 - acc: 0.9709 - val_loss: 0.4912 - val_acc: 0.8575\n",
            "Epoch 77/100\n",
            "93/93 [==============================] - 1s 13ms/step - loss: 0.1365 - acc: 0.9677 - val_loss: 0.5839 - val_acc: 0.8475\n",
            "Epoch 78/100\n",
            "93/93 [==============================] - 1s 13ms/step - loss: 0.1455 - acc: 0.9596 - val_loss: 0.5294 - val_acc: 0.8600\n",
            "Epoch 79/100\n",
            "93/93 [==============================] - 1s 13ms/step - loss: 0.1183 - acc: 0.9783 - val_loss: 0.6262 - val_acc: 0.8363\n",
            "Epoch 80/100\n",
            "93/93 [==============================] - 1s 14ms/step - loss: 0.1274 - acc: 0.9701 - val_loss: 0.5241 - val_acc: 0.8537\n",
            "Epoch 81/100\n",
            "93/93 [==============================] - 1s 14ms/step - loss: 0.1235 - acc: 0.9724 - val_loss: 0.5748 - val_acc: 0.8525\n",
            "Epoch 82/100\n",
            "93/93 [==============================] - 1s 14ms/step - loss: 0.1144 - acc: 0.9802 - val_loss: 0.5371 - val_acc: 0.8450\n",
            "Epoch 83/100\n",
            "93/93 [==============================] - 1s 14ms/step - loss: 0.1263 - acc: 0.9708 - val_loss: 0.5546 - val_acc: 0.8475\n",
            "Epoch 84/100\n",
            "93/93 [==============================] - 1s 14ms/step - loss: 0.1173 - acc: 0.9768 - val_loss: 0.5625 - val_acc: 0.8512\n",
            "Epoch 85/100\n",
            "93/93 [==============================] - 1s 14ms/step - loss: 0.1151 - acc: 0.9777 - val_loss: 0.6417 - val_acc: 0.8550\n",
            "Epoch 86/100\n",
            "93/93 [==============================] - 1s 14ms/step - loss: 0.1240 - acc: 0.9745 - val_loss: 0.5860 - val_acc: 0.8462\n",
            "Epoch 87/100\n",
            "93/93 [==============================] - 1s 13ms/step - loss: 0.1052 - acc: 0.9798 - val_loss: 0.6637 - val_acc: 0.8487\n",
            "Epoch 88/100\n",
            "93/93 [==============================] - 1s 14ms/step - loss: 0.1008 - acc: 0.9794 - val_loss: 0.6438 - val_acc: 0.8450\n",
            "Epoch 89/100\n",
            "93/93 [==============================] - 1s 14ms/step - loss: 0.0959 - acc: 0.9866 - val_loss: 0.5815 - val_acc: 0.8512\n",
            "Epoch 90/100\n",
            "93/93 [==============================] - 1s 14ms/step - loss: 0.1016 - acc: 0.9851 - val_loss: 0.5974 - val_acc: 0.8487\n",
            "Epoch 91/100\n",
            "93/93 [==============================] - 1s 14ms/step - loss: 0.0945 - acc: 0.9847 - val_loss: 0.5726 - val_acc: 0.8450\n",
            "Epoch 92/100\n",
            "93/93 [==============================] - 1s 14ms/step - loss: 0.0982 - acc: 0.9839 - val_loss: 0.6761 - val_acc: 0.8325\n",
            "Epoch 93/100\n",
            "93/93 [==============================] - 1s 14ms/step - loss: 0.0860 - acc: 0.9867 - val_loss: 0.6524 - val_acc: 0.8575\n",
            "Epoch 94/100\n",
            "93/93 [==============================] - 1s 14ms/step - loss: 0.0952 - acc: 0.9814 - val_loss: 0.6270 - val_acc: 0.8475\n",
            "Epoch 95/100\n",
            "93/93 [==============================] - 1s 14ms/step - loss: 0.0843 - acc: 0.9883 - val_loss: 0.6455 - val_acc: 0.8587\n",
            "Epoch 96/100\n",
            "93/93 [==============================] - 1s 13ms/step - loss: 0.0887 - acc: 0.9833 - val_loss: 0.6475 - val_acc: 0.8550\n",
            "Epoch 97/100\n",
            "93/93 [==============================] - 1s 14ms/step - loss: 0.0952 - acc: 0.9792 - val_loss: 0.6335 - val_acc: 0.8512\n",
            "Epoch 98/100\n",
            "93/93 [==============================] - 1s 13ms/step - loss: 0.0705 - acc: 0.9932 - val_loss: 0.6637 - val_acc: 0.8400\n",
            "Epoch 99/100\n",
            "93/93 [==============================] - 1s 14ms/step - loss: 0.0729 - acc: 0.9940 - val_loss: 0.6915 - val_acc: 0.8475\n",
            "Epoch 100/100\n",
            "93/93 [==============================] - 1s 14ms/step - loss: 0.0742 - acc: 0.9919 - val_loss: 1.7595 - val_acc: 0.6575\n"
          ],
          "name": "stdout"
        }
      ]
    },
    {
      "cell_type": "code",
      "metadata": {
        "colab": {
          "base_uri": "https://localhost:8080/"
        },
        "id": "BXMfOZ2Jk6g_",
        "outputId": "8ee6987d-9f78-4f5a-ffcb-9e2cc8fc68d6"
      },
      "source": [
        "# Save Model to drive\r\n",
        "models.save_model(model, os.path.join(MODEL_PATH, 'cnn_compilation.h5'))\r\n",
        "\r\n",
        "print(\"Done\")"
      ],
      "execution_count": 15,
      "outputs": [
        {
          "output_type": "stream",
          "text": [
            "Done\n"
          ],
          "name": "stdout"
        }
      ]
    },
    {
      "cell_type": "markdown",
      "metadata": {
        "id": "5Rwzwr-fM3_Y"
      },
      "source": [
        "### Visualizing The Data\r\n",
        "\r\n",
        "One way to do this is by looking at the distribution of some of the dataset’s variables and make scatter plots to see possible correlations. "
      ]
    },
    {
      "cell_type": "code",
      "metadata": {
        "id": "nI8FjTjY4KIe",
        "colab": {
          "base_uri": "https://localhost:8080/",
          "height": 545
        },
        "outputId": "b2d27c5c-a0d7-47e5-9e89-69fc2617bdeb"
      },
      "source": [
        "plt = plot(history)\r\n",
        "plt.show()"
      ],
      "execution_count": 16,
      "outputs": [
        {
          "output_type": "display_data",
          "data": {
            "image/png": "[encoded data removed]",
            "text/plain": [
              "<Figure size 432x288 with 1 Axes>"
            ]
          },
          "metadata": {
            "tags": [],
            "needs_background": "light"
          }
        },
        {
          "output_type": "display_data",
          "data": {
            "image/png": "[encoded data removed]",
            "text/plain": [
              "<Figure size 432x288 with 1 Axes>"
            ]
          },
          "metadata": {
            "tags": [],
            "needs_background": "light"
          }
        }
      ]
    },
    {
      "cell_type": "code",
      "metadata": {
        "colab": {
          "base_uri": "https://localhost:8080/"
        },
        "id": "pH89us9R_o_F",
        "outputId": "7c941ae9-7f34-4018-bf2f-6a5d3eea8d5d"
      },
      "source": [
        "test_loss, test_acc = model.evaluate(test_datagen.flow(test_images,\r\n",
        "                                                       test_labels,\r\n",
        "                                                       batch_size=BATCH_SIZE,\r\n",
        "                                                       shuffle=False),\r\n",
        "                                     steps=len(test_images) // BATCH_SIZE,\r\n",
        "                                     callbacks=[GarbageCollectorCallback()])\r\n",
        "\r\n",
        "print(\"Accuracy:\", \"%0.2f\" % (test_acc*100), \"%\")"
      ],
      "execution_count": 17,
      "outputs": [
        {
          "output_type": "stream",
          "text": [
            "16/16 [==============================] - 0s 5ms/step - loss: 2.2414 - acc: 0.6000\n",
            "Accuracy: 60.00 %\n"
          ],
          "name": "stdout"
        }
      ]
    },
    {
      "cell_type": "code",
      "metadata": {
        "colab": {
          "base_uri": "https://localhost:8080/",
          "height": 540
        },
        "id": "zUfe6a_rtqV8",
        "outputId": "0abe70f2-5105-4c27-bb59-fa839a24064d"
      },
      "source": [
        "#print confusion matrix\r\n",
        "classes = [\"Masses\", \"Calcification\"]\r\n",
        "batch_size = 16\r\n",
        "print(test_images.shape, test_labels.shape)\r\n",
        "plot_confusion_matrix(classes, test_datagen, test_images, test_labels, batch_size)"
      ],
      "execution_count": 54,
      "outputs": [
        {
          "output_type": "stream",
          "text": [
            "(336, 150, 150, 1) (336,)\n",
            "Confusion Matrix\n",
            "              precision    recall  f1-score   support\n",
            "\n",
            "         0.0       0.98      0.29      0.45       179\n",
            "         1.0       0.55      0.99      0.71       157\n",
            "\n",
            "    accuracy                           0.62       336\n",
            "   macro avg       0.77      0.64      0.58       336\n",
            "weighted avg       0.78      0.62      0.57       336\n",
            "\n",
            "[[ 52 127]\n",
            " [  1 156]]\n"
          ],
          "name": "stdout"
        },
        {
          "output_type": "display_data",
          "data": {
            "image/png": "[encoded data removed]",
            "text/plain": [
              "<Figure size 432x288 with 2 Axes>"
            ]
          },
          "metadata": {
            "tags": [],
            "needs_background": "light"
          }
        }
      ]
    },
    {
      "cell_type": "markdown",
      "metadata": {
        "id": "e2v_-h75Z3aZ"
      },
      "source": [
        "### Fighting overfitting: 1. Data Augmentation\r\n",
        "\r\n",
        "Neural networks prove not to be very robust to noise, and these plots are characteristic of **overfitting**. Training accuracy keeps increasing linearly while validation accuracy stalls around **82%**. \r\n",
        "\r\n"
      ]
    },
    {
      "cell_type": "code",
      "metadata": {
        "id": "ojvyPceIaunR"
      },
      "source": [
        "# Train data augmentation \r\n",
        "train_datagen = ImageDataGenerator(\r\n",
        "    rescale=1./65535,\r\n",
        "    rotation_range=40,\r\n",
        "    width_shift_range=0.2,\r\n",
        "    height_shift_range=0.2,\r\n",
        "    shear_range=20,\r\n",
        "    zoom_range=0.2,\r\n",
        "    horizontal_flip=True,\r\n",
        "    fill_mode='nearest')\r\n",
        "\r\n",
        "valid_datagen = ImageDataGenerator(rescale=1./65535)\r\n",
        "test_datagen = ImageDataGenerator(rescale=1./65535) \r\n",
        "\r\n",
        "print(\"Done\")"
      ],
      "execution_count": null,
      "outputs": []
    },
    {
      "cell_type": "code",
      "metadata": {
        "id": "8ex5WyyOwir4"
      },
      "source": [
        "# Building the new model with the train data augmentation\r\n",
        "model = build_model(\"binary_crossentropy\", \"acc\")\r\n",
        "model.summary()"
      ],
      "execution_count": null,
      "outputs": []
    },
    {
      "cell_type": "code",
      "metadata": {
        "id": "T_LVsSUEj0Vx"
      },
      "source": [
        "history = model.fit(train_datagen.flow(train_images_split,\r\n",
        "                                       train_labels_split,\r\n",
        "                                       batch_size=BATCH_SIZE,\r\n",
        "                                       shuffle=False),\r\n",
        "                    steps_per_epoch=len(train_images_split) // BATCH_SIZE, \r\n",
        "                    epochs=EPOCHS,\r\n",
        "                    validation_data=valid_datagen.flow(valid_images_split,\r\n",
        "                                       valid_labels_split,\r\n",
        "                                       batch_size=BATCH_SIZE,\r\n",
        "                                       shuffle=False),\r\n",
        "                    validation_steps=len(valid_labels_split) // BATCH_SIZE,\r\n",
        "                    callbacks=[GarbageCollectorCallback()])"
      ],
      "execution_count": null,
      "outputs": []
    },
    {
      "cell_type": "code",
      "metadata": {
        "id": "DNJBV5khoFEA"
      },
      "source": [
        "plt = plot(history)\r\n",
        "plt.show()"
      ],
      "execution_count": null,
      "outputs": []
    },
    {
      "cell_type": "code",
      "metadata": {
        "id": "YYDj_8GquRRh"
      },
      "source": [
        "test_loss, test_acc = model.evaluate(test_datagen.flow(test_images,\r\n",
        "                                                       test_labels,\r\n",
        "                                                       batch_size=BATCH_SIZE,\r\n",
        "                                                       shuffle=False),\r\n",
        "                                     steps=len(test_images) // BATCH_SIZE,\r\n",
        "                                     callbacks=[GarbageCollectorCallback()])\r\n",
        "\r\n",
        "print(\"Accuracy:\", \"%0.2f\" % (test_acc*100), \"%\")"
      ],
      "execution_count": null,
      "outputs": []
    },
    {
      "cell_type": "markdown",
      "metadata": {
        "id": "UrLD4fBGtc6k"
      },
      "source": [
        "##K-fold cross validation.\r\n"
      ]
    },
    {
      "cell_type": "code",
      "metadata": {
        "id": "YuiUODCT97Bq"
      },
      "source": [
        "# Train data augmentation for k-fold-cross-validation \r\n",
        "train_datagen = ImageDataGenerator(\r\n",
        "    rescale=1./65535,\r\n",
        "    rotation_range=40,\r\n",
        "    width_shift_range=0.2,\r\n",
        "    height_shift_range=0.2,\r\n",
        "    shear_range=20,\r\n",
        "    zoom_range=0.2,\r\n",
        "    horizontal_flip=True,\r\n",
        "    fill_mode='nearest')\r\n",
        "\r\n",
        "valid_datagen = ImageDataGenerator(rescale=1./65535)\r\n",
        "print(train_images.shape)"
      ],
      "execution_count": null,
      "outputs": []
    },
    {
      "cell_type": "code",
      "metadata": {
        "id": "DgdAZtZ1wMf3"
      },
      "source": [
        "def cross_validate(k, batch_size, num_epochs, dataset, targets, verbosity):\r\n",
        "  #10-Fold-Cross-Validation\r\n",
        "  num_val_samples = len(dataset) // k \r\n",
        "  validation_accuracies = []\r\n",
        "  validation_losses = []\r\n",
        "\r\n",
        "  for i in range(k):\r\n",
        "    # rigen augmented data \r\n",
        "    \r\n",
        "    print(\"processing fold #\", i)\r\n",
        "    validation_data = dataset[i * num_val_samples : (i + 1) * num_val_samples]\r\n",
        "    validation_labels = targets[i * num_val_samples : (i + 1) * num_val_samples]\r\n",
        "\r\n",
        "    partial_train_data = np.concatenate(\r\n",
        "        [dataset[:i * num_val_samples],\r\n",
        "        dataset[(i + 1) * num_val_samples:]], \r\n",
        "        axis=0)\r\n",
        "\r\n",
        "    partial_train_targets = np.concatenate(\r\n",
        "        [targets[:i * num_val_samples],\r\n",
        "        targets[(i + 1) * num_val_samples:]], \r\n",
        "        axis=0)\r\n",
        "\r\n",
        "    model = build_model(\"binary_crossentropy\", \"acc\")\r\n",
        "    \r\n",
        "    history = model.fit(train_datagen.flow(partial_train_data, \r\n",
        "                                          partial_train_targets,\r\n",
        "                                          batch_size=batch_size,\r\n",
        "                                          shuffle=False),\r\n",
        "                        epochs=num_epochs,\r\n",
        "                        steps_per_epoch=len(partial_train_data) // batch_size,\r\n",
        "                        verbose=verbosity,\r\n",
        "                        callbacks=[GarbageCollectorCallback()])\r\n",
        "    \r\n",
        "    val_loss, val_acc = model.evaluate(valid_datagen.flow(validation_data,\r\n",
        "                                                          validation_labels,\r\n",
        "                                                          batch_size=batch_size,\r\n",
        "                                                          shuffle=False),\r\n",
        "                                       steps=len(validation_data) // batch_size,\r\n",
        "                                       callbacks=[GarbageCollectorCallback()])\r\n",
        "    \r\n",
        "    validation_accuracies.append(val_acc)\r\n",
        "    validation_losses.append(val_loss)\r\n",
        "\r\n",
        "  return validation_accuracies, validation_losses \r\n",
        "  \r\n",
        "print(\"Done\")"
      ],
      "execution_count": null,
      "outputs": []
    },
    {
      "cell_type": "code",
      "metadata": {
        "id": "MdmZ-0dKuKlG"
      },
      "source": [
        "acc, loss = cross_validate(k=10, batch_size=20, num_epochs=100, dataset=train_images, targets=train_labels, verbosity=1)"
      ],
      "execution_count": null,
      "outputs": []
    },
    {
      "cell_type": "code",
      "metadata": {
        "id": "M3hbM3c6RxTq"
      },
      "source": [
        "print(len(acc))\r\n",
        "print(len(loss))\r\n",
        "print()\r\n",
        "print(np.mean(acc))\r\n",
        "print(np.mean(loss))"
      ],
      "execution_count": null,
      "outputs": []
    },
    {
      "cell_type": "markdown",
      "metadata": {
        "id": "DqQKeyLVTVi7"
      },
      "source": [
        "### Hyperparameters Tuning\r\n",
        "\r\n",
        "To compare the performance of one machine learning algorithm to another, it is necessary to perform controlled experiments\r\n",
        "\r\n",
        "*   Add Dropout or L2 Regularization\r\n",
        "*   Varying of convolutional layers: `[3, 5, 7]`\r\n",
        "*   Change Optimizer (try Adam)\r\n",
        "*   Varying batch size: `[20, 32, 64, 128]`\r\n",
        "*   Varying learning rate\r\n",
        "*   Varying number of units per layer:\r\n",
        "\r\n",
        "```\r\n",
        "Layer  | Unit per Layer \r\n",
        "1      | [32,32,64,128]  \r\n",
        "2      | [32,64,128,128] \r\n",
        "3      | [32,64,128,256] \r\n",
        "4      | [64,64,128,256] \r\n",
        "```"
      ]
    },
    {
      "cell_type": "code",
      "metadata": {
        "id": "VO1GEdyfkbRO"
      },
      "source": [
        "#Parameters Grid \r\n",
        "dropout_regularization = True                                               # grafico comparativo: sembra leggermente meglio con Dropout\r\n",
        "batch_sizes = [20, 32, 64, 128]                                             # 4 \r\n",
        "layers_number = 4                                                           # 1\r\n",
        "units_per_layer_dict = [[32,64,128,128], [32,64,128,256]]                   # 2\r\n",
        "learning_rates = [1e-2, 1e-3, 1e-4]                                         # 3\r\n",
        "num_epochs = 100\r\n",
        "num_folds = 5\r\n",
        "\r\n",
        "file_path_out = os.path.join(base_path, \"tuning results/top3_results.csv\")\r\n",
        "file_path = os.path.join(base_path, \"tuning results/results-CM.csv\")\r\n",
        "model_path = os.path.join(base_path, \"tuning results/best_model.h5\")\r\n",
        "\r\n",
        "# Top k models \r\n",
        "k = 3"
      ],
      "execution_count": null,
      "outputs": []
    },
    {
      "cell_type": "code",
      "metadata": {
        "id": "fQgC-nrCTcn7"
      },
      "source": [
        "def build_custom_model(layers_number, units_per_layer, batch_size, dropout, optimizer):\r\n",
        "  model = models.Sequential()\r\n",
        "\r\n",
        "  for i in range(layers_number):\r\n",
        "     # First layer. Setting input shape\r\n",
        "    if i == 0: \r\n",
        "      model.add(layers.Conv2D(units_per_layer[i], (3, 3), activation='relu', input_shape=(150, 150, 1)))\r\n",
        "      model.add(layers.MaxPooling2D((2, 2)))\r\n",
        "    else:\r\n",
        "      model.add(layers.Conv2D(units_per_layer[i], (3, 3), activation='relu'))\r\n",
        "      model.add(layers.MaxPooling2D((2, 2)))\r\n",
        "\r\n",
        "  model.add(layers.Flatten())\r\n",
        "  model.add(layers.Dense(512, activation='relu'))\r\n",
        "  \r\n",
        "  if dropout:\r\n",
        "    model.add(layers.Dropout(0.5))\r\n",
        "\r\n",
        "  model.add(layers.Dense(1, activation='sigmoid'))\r\n",
        "\r\n",
        "  model.compile(loss=\"binary_crossentropy\",\r\n",
        "              optimizer=optimizer,\r\n",
        "              metrics=[\"acc\"]) \r\n",
        "  \r\n",
        "  return model \r\n",
        "\r\n",
        "def CNN_tuning(num_folds, batch_sizes, num_epochs, layers_number, units_per_layer_dict, learning_rates, dropout_reg, dataset, targets):\r\n",
        "  lr = learning_rates[0]\r\n",
        "  opts = [optimizers.RMSprop(learning_rate=lr), optimizers.Adam(learning_rate=lr)]\r\n",
        "\r\n",
        "  with open(file_path, 'w') as f:\r\n",
        "    header = \"batch_size,num_epochs,units_per_layer,optimizer,learning_rate,mean_val_acc,mean_val_loss,num_folds\\n\"\r\n",
        "    f.write(header)\r\n",
        "\r\n",
        "  for batch_size in batch_sizes:                # 4\r\n",
        "    for opt in opts:                            # 2\r\n",
        "      for values_set in units_per_layer_dict:   # 2\r\n",
        "        # Build CNN model \r\n",
        "        model = build_custom_model(layers_number, values_set, batch_size, dropout_reg, opt)\r\n",
        "\r\n",
        "        if \"RMSprop\" in str(opt):\r\n",
        "          str_opt = \"RMSprop\"  \r\n",
        "        else:\r\n",
        "          str_opt = \"Adam\"\r\n",
        "\r\n",
        "        #print info \r\n",
        "        print(\"-----------------------------------------------------\")\r\n",
        "        print(\"batch_size: \\t\", batch_size)\r\n",
        "        print(\"num_epochs: \\t\", num_epochs)\r\n",
        "        print(\"units_per_layer:\", str(values_set).replace(\",\", \" \"))\r\n",
        "        print(\"optimizer: \\t\", str_opt)\r\n",
        "        print(\"learning_rate: \\t\", str(lr))\r\n",
        "        print(\"num_folds CV: \\t\", num_folds)\r\n",
        "        print(\"-----------------------------------------------------\")\r\n",
        "\r\n",
        "        #cross validate CNN model\r\n",
        "        val_acc, val_loss = cross_validate(num_folds, batch_size, num_epochs, dataset, targets, 1)\r\n",
        "\r\n",
        "        #save results on csv file \r\n",
        "        with open(file_path, 'a') as f:\r\n",
        "          row = str(batch_size) + \",\" \\\r\n",
        "              + str(num_epochs) + \",\" \\\r\n",
        "              + str(values_set).replace(\",\", \" \") + \",\" \\\r\n",
        "              + str_opt + \",\" \\\r\n",
        "              + str(lr) + \",\" \\\r\n",
        "              + \"%0.4f (+/- %0.4f)\" % (np.mean(val_acc), np.std(val_acc) * 2) + \",\" \\\r\n",
        "              + \"%0.4f (+/- %0.4f)\" % (np.mean(val_loss), np.std(val_loss) * 2) + \",\" \\\r\n",
        "              + str(num_folds) + \"\\n\"\r\n",
        "          f.write(row)\r\n",
        "\r\n",
        "        del model\r\n",
        "        K.clear_session()\r\n",
        "\r\n",
        "print(\"Done\")"
      ],
      "execution_count": null,
      "outputs": []
    },
    {
      "cell_type": "code",
      "metadata": {
        "id": "u0fLlSfbPOWB"
      },
      "source": [
        "CNN_tuning(num_folds, batch_sizes, num_epochs, layers_number, units_per_layer_dict, learning_rates, dropout_regularization, train_images, train_labels)"
      ],
      "execution_count": null,
      "outputs": []
    },
    {
      "cell_type": "markdown",
      "metadata": {
        "id": "SheVoIOTYxfa"
      },
      "source": [
        "##Testing best k models: \r\n",
        "feeding the models with all available data and evaluating these one last time on the test set."
      ]
    },
    {
      "cell_type": "code",
      "metadata": {
        "id": "0VKyXizMIfAT"
      },
      "source": [
        "# Full training set non-splitted \r\n",
        "print(train_images.shape)\r\n",
        "print(train_labels.shape)\r\n",
        "print(test_images.shape)\r\n",
        "print(test_labels.shape)"
      ],
      "execution_count": null,
      "outputs": []
    },
    {
      "cell_type": "code",
      "metadata": {
        "colab": {
          "base_uri": "https://localhost:8080/"
        },
        "id": "7PFZGbUeZPI4",
        "outputId": "cfe52649-4a3b-49a4-aeb3-f026c5a72eec"
      },
      "source": [
        "def evaluate_best_model(k, file_path, file_path_out):\r\n",
        "  # Load results  \r\n",
        "  data = pd.read_csv(file_path)\r\n",
        "\r\n",
        "  # Sort results by accuracies \r\n",
        "  data.sort_values(by=['mean_val_acc'], ascending=False, inplace=True)\r\n",
        "  data.head()\r\n",
        "\r\n",
        "  # Init variables\r\n",
        "  layers_number = 4\r\n",
        "  batch_size = 0\r\n",
        "  num_epochs = 0\r\n",
        "  units_per_layer = []\r\n",
        "  optimizer = 0\r\n",
        "  learning_rate = 0\r\n",
        "  dropout=True\r\n",
        "\r\n",
        "  with open(file_path_out, 'w') as f:\r\n",
        "    header = \"batch_size,num_epochs,units_per_layer,optimizer,learning_rate,mean_val_acc,mean_val_loss,prediction_acc\\n\"\r\n",
        "    f.write(header)\r\n",
        "\r\n",
        "  # Get parameters values\r\n",
        "  for index, row in data[:k].iterrows():\r\n",
        "\r\n",
        "    #print info \r\n",
        "    print(\"-----------------------------------------------------\")\r\n",
        "    print(\"batch_size: \\t\", str(row[\"batch_size\"]))\r\n",
        "    print(\"num_epochs: \\t\", str(row[\"num_epochs\"]))\r\n",
        "    print(\"units_per_layer:\", str(row[\"units_per_layer\"]))\r\n",
        "    print(\"optimizer: \\t\", str(row[\"optimizer\"]))\r\n",
        "    print(\"learning_rate: \\t\", str(row[\"learning_rate\"]))\r\n",
        "    print(\"mean_val_acc: \\t\", str(row[\"mean_val_acc\"]))\r\n",
        "    print(\"mean_val_loss: \\t\", str(row[\"mean_val_loss\"]))\r\n",
        "    print(\"-----------------------------------------------------\")\r\n",
        "\r\n",
        "\r\n",
        "    batch_size = int(row[\"batch_size\"])\r\n",
        "    num_epochs = int(row[\"num_epochs\"])\r\n",
        "    units_per_layer = ast.literal_eval(row[\"units_per_layer\"].replace(\"  \", \",\"))\r\n",
        "    optimizer = row[\"optimizer\"]\r\n",
        "    learning_rate = row[\"learning_rate\"]\r\n",
        "\r\n",
        "    if optimizer == \"Adam\":\r\n",
        "      opt = optimizers.Adam(learning_rate=float(learning_rate))\r\n",
        "    else: \r\n",
        "      opt = optimizers.RMSprop(learning_rate=float(learning_rate))\r\n",
        "\r\n",
        "    # Build model\r\n",
        "    model = build_custom_model(layers_number, units_per_layer, batch_size, dropout, opt)\r\n",
        "\r\n",
        "    # Fit model on all the available data\r\n",
        "    history = model.fit(train_datagen.flow(train_images, \r\n",
        "                                          train_labels,\r\n",
        "                                          batch_size=batch_size,\r\n",
        "                                          shuffle=False),\r\n",
        "                        epochs=num_epochs,\r\n",
        "                        steps_per_epoch=len(train_images) // batch_size,\r\n",
        "                        callbacks=[GarbageCollectorCallback()])\r\n",
        "    \r\n",
        "    # Evaluate model on test set \r\n",
        "    test_loss, test_acc = model.evaluate(test_datagen.flow(test_images,\r\n",
        "                                                        test_labels,\r\n",
        "                                                        batch_size=batch_size,\r\n",
        "                                                        shuffle=False),\r\n",
        "                                        steps=len(test_images) // batch_size,\r\n",
        "                                        callbacks=[GarbageCollectorCallback()])\r\n",
        "\r\n",
        "    print(\"Accuracy:\", \"%0.2f\" % (test_acc*100), \"%\")\r\n",
        "\r\n",
        "    # Get the prediction for each sample\r\n",
        "    predictions = model.predict(\r\n",
        "      test_images,\r\n",
        "      max_queue_size=10,\r\n",
        "      callbacks=[GarbageCollectorCallback()]) \r\n",
        "    \r\n",
        "    predicted = np.argmax(predictions,axis=1) \r\n",
        "\r\n",
        "    correct_predictions = np.sum(np.equal(predicted,test_labels))\r\n",
        "    accuracy = correct_predictions/len(test_labels)\r\n",
        "    print(\"\\n-----------------------------------------------------\")\r\n",
        "    print(\"Correct Predictions\")\r\n",
        "    print(\"Accuracy:\", \"%0.2f\" % (accuracy*100), \"%\")\r\n",
        "    print(\"-----------------------------------------------------\\n\")\r\n",
        "\r\n",
        "    if index == 0:\r\n",
        "      model.save(model_path)\r\n",
        "\r\n",
        "    # Save results on csv file \r\n",
        "    with open(file_path_out, 'a') as f:\r\n",
        "      row = str(row[\"batch_size\"]) + \",\" \\\r\n",
        "          + str(row[\"num_epochs\"]) + \",\" \\\r\n",
        "          + str(row[\"units_per_layer\"]) + \",\" \\\r\n",
        "          + str(row[\"optimizer\"]) + \",\" \\\r\n",
        "          + str(row[\"learning_rate\"]) + \",\" \\\r\n",
        "          + str(\"%0.4f\" % (test_acc)) + \",\" \\\r\n",
        "          + str(\"%0.4f\" % (test_loss)) + \",\" \\\r\n",
        "          + str(accuracy) + \"\\n\"\r\n",
        "      f.write(row)\r\n",
        "\r\n",
        "print(\"Done\")"
      ],
      "execution_count": null,
      "outputs": [
        {
          "output_type": "stream",
          "text": [
            "Done\n"
          ],
          "name": "stdout"
        }
      ]
    },
    {
      "cell_type": "code",
      "metadata": {
        "id": "ib4nzirrh6Jn"
      },
      "source": [
        "data[:k].head()"
      ],
      "execution_count": null,
      "outputs": []
    },
    {
      "cell_type": "code",
      "metadata": {
        "id": "4CT4ff1dw884"
      },
      "source": [
        "# Get from file the a list of models and evaluate the best\r\n",
        "evaluate_best_model(k, file_path, file_path_out)"
      ],
      "execution_count": null,
      "outputs": []
    },
    {
      "cell_type": "code",
      "metadata": {
        "id": "8lKwQPcOrTpO"
      },
      "source": [
        "# Get the prediction for each sample\r\n",
        "model = load_model(model_path)\r\n"
      ],
      "execution_count": null,
      "outputs": []
    },
    {
      "cell_type": "code",
      "metadata": {
        "id": "OpCFz_ewsJ5k"
      },
      "source": [
        "\r\n",
        "predictions = model.predict(\r\n",
        "  test_images,\r\n",
        "  max_queue_size=10,\r\n",
        "  callbacks=[GarbageCollectorCallback()]) \r\n",
        "\r\n",
        "predicted = np.argmax(predictions,axis=1) \r\n",
        "\r\n",
        "correct_predictions = np.sum(np.equal(predicted,test_labels))\r\n",
        "accuracy = correct_predictions/len(test_labels)\r\n",
        "\r\n",
        "\r\n",
        "# try to load the model again\r\n",
        "\r\n",
        "test_loss, test_acc = model.evaluate(test_images,test_labels)\r\n",
        "\r\n",
        "print('test_acc:', test_acc)"
      ],
      "execution_count": null,
      "outputs": []
    },
    {
      "cell_type": "code",
      "metadata": {
        "id": "XmYX-1Ol9cu0"
      },
      "source": [
        "a = [0.111,0.222,1.222]\r\n",
        "print(a)"
      ],
      "execution_count": null,
      "outputs": []
    },
    {
      "cell_type": "code",
      "metadata": {
        "id": "Rb1cu__U-Ggj"
      },
      "source": [
        "a = a.astype(int)\r\n",
        "\r\n",
        "np.clip(a, 0, 1)"
      ],
      "execution_count": null,
      "outputs": []
    },
    {
      "cell_type": "code",
      "metadata": {
        "colab": {
          "base_uri": "https://localhost:8080/",
          "height": 282
        },
        "id": "yIpdi8y9DZnx",
        "outputId": "855b644a-01c5-493c-fe74-feeb9564dc73"
      },
      "source": [
        "number_list = np.array([1, 1, 3, 3, 2, 3, 4, 4, 1])\r\n",
        "\r\n",
        "(unique, counts) = np.unique(test_labels, return_counts=True)\r\n",
        "\r\n",
        "plt.hist(counts, unique) \r\n",
        "plt.show()\r\n",
        "print(unique, counts)"
      ],
      "execution_count": null,
      "outputs": [
        {
          "output_type": "display_data",
          "data": {
            "image/png": "[encoded data removed]",
            "text/plain": [
              "<Figure size 432x288 with 1 Axes>"
            ]
          },
          "metadata": {
            "tags": []
          }
        },
        {
          "output_type": "stream",
          "text": [
            "[0. 1.] [179 157]\n"
          ],
          "name": "stdout"
        }
      ]
    },
    {
      "cell_type": "code",
      "metadata": {
        "id": "XfnUpk9bIwy0"
      },
      "source": [
        "#print confusion matrix\r\n",
        "classes = [\"Masses\", \"Calcification\"]\r\n",
        "plot_confusion_matrix(classes,\r\n",
        "                      test_images,\r\n",
        "                      test_labels,\r\n",
        "                      title='Confusion matrix',\r\n",
        "                      cmap=plt.cm.Blues) "
      ],
      "execution_count": null,
      "outputs": []
    },
    {
      "cell_type": "markdown",
      "metadata": {
        "id": "GUOdk75vBJyy"
      },
      "source": [
        "## Reference\r\n",
        "\r\n",
        "\r\n",
        ">**Student** | **Email contact**\r\n",
        ">--- | ---\r\n",
        ">A. Schiavo | a.schiavo2@studenti.unipi.it\r\n",
        ">M. Gómez\t|\tm.gomezgomez@studenti.unipi.it\r\n",
        ">M. Daole |\tm.daole@studenti.unipi.it\r\n"
      ]
    }
  ]
}