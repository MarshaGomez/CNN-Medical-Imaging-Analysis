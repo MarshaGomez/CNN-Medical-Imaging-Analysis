{
  "nbformat": 4,
  "nbformat_minor": 0,
  "metadata": {
    "colab": {
      "name": "ResultAnalysis.ipynb",
      "provenance": [],
      "toc_visible": true,
      "include_colab_link": true
    },
    "kernelspec": {
      "name": "python3",
      "display_name": "Python 3"
    }
  },
  "cells": [
    {
      "cell_type": "markdown",
      "metadata": {
        "id": "view-in-github",
        "colab_type": "text"
      },
      "source": [
        "<a href=\"https://colab.research.google.com/github/MarshaGomez/CNN-Medical-Imaging-Analysis/blob/main/Code/ResultAnalysis.ipynb\" target=\"_parent\"><img src=\"https://colab.research.google.com/assets/colab-badge.svg\" alt=\"Open In Colab\"/></a>"
      ]
    },
    {
      "cell_type": "markdown",
      "metadata": {
        "id": "KGD8ekTtF6cu"
      },
      "source": [
        "#Vgg16"
      ]
    },
    {
      "cell_type": "code",
      "metadata": {
        "id": "GoT_klVqFOTe",
        "colab": {
          "base_uri": "https://localhost:8080/",
          "height": 296
        },
        "outputId": "9da86bfd-ee70-47bd-b671-0cac2680594a"
      },
      "source": [
        "import matplotlib\r\n",
        "import matplotlib.pyplot as plt\r\n",
        "import numpy as np\r\n",
        "\r\n",
        "labels = ['1x', '3x', '5x']\r\n",
        "zero_ft = [83.44, 70.31, 82.81]\r\n",
        "all_ft = [84.38, 86.25, 89.06]\r\n",
        "one_ft = [86.87, 86.56, 87.19]\r\n",
        "two_ft = [87.50, 88.75, 85.62]\r\n",
        "three_ft = [89.69, 89.06, 85.62]\r\n",
        "\r\n",
        "\r\n",
        "x = 3*np.arange(len(labels))  # the label locations\r\n",
        "width = 0.42  # the width of the bars\r\n",
        "\r\n",
        "fig, ax = plt.subplots()\r\n",
        "\r\n",
        "rects1 = ax.bar(x - 2*1.2*width, zero_ft, width, label='0FT')\r\n",
        "rects2 = ax.bar(x - 1.2*width, one_ft, width, label='1FT')\r\n",
        "rects3 = ax.bar(x, two_ft, width, label='2FT')\r\n",
        "rects4 = ax.bar(x + 1.2*width, three_ft, width, label='3FT')\r\n",
        "rects5 = ax.bar(x + 2*1.2*width, all_ft, width, label='AllFT')\r\n",
        "\r\n",
        "# Add some text for labels, title and custom x-axis tick labels, etc.\r\n",
        "ax.set_ylabel('Accuracy %')\r\n",
        "ax.set_title('VGG16 performances')\r\n",
        "ax.set_xticks(x)\r\n",
        "ax.set_xticklabels(labels)\r\n",
        "ax.set_ylim([60,95])\r\n",
        "ax.set_yticks(np.arange(60,95,2))\r\n",
        "\r\n",
        "# Put a legend below current axis\r\n",
        "ax.legend(loc='upper center', bbox_to_anchor=(0.5, -0.1),\r\n",
        "          fancybox=False, shadow=False, ncol=5)\r\n",
        "ax.spines['top'].set_visible(False)\r\n",
        "ax.spines['right'].set_visible(False)\r\n",
        "ax.spines['left'].set_visible(False)\r\n",
        "ax.spines['bottom'].set_visible(False)\r\n",
        "ax.set_axisbelow(True)\r\n",
        "\r\n",
        "def autolabel(rects):\r\n",
        "    \"\"\"Attach a text label above each bar in *rects*, displaying its height.\"\"\"\r\n",
        "    for rect in rects:\r\n",
        "        height = rect.get_height()\r\n",
        "        ax.annotate('{}'.format(height),\r\n",
        "                    xy=(rect.get_x() + rect.get_width() / 2, height),\r\n",
        "                    xytext=(0, 3),  # 3 points vertical offset\r\n",
        "                    textcoords=\"offset points\",\r\n",
        "                    ha='center', va='bottom')\r\n",
        "\r\n",
        "#autolabel(rects1)\r\n",
        "#autolabel(rects2)\r\n",
        "#autolabel(rects3)\r\n",
        "#autolabel(rects4)\r\n",
        "#autolabel(rects5)\r\n",
        "\r\n",
        "fig.tight_layout()\r\n",
        "plt.grid(axis='y')\r\n",
        "plt.show()"
      ],
      "execution_count": null,
      "outputs": [
        {
          "output_type": "display_data",
          "data": {
            "image/png": "[encoded data removed]",
            "text/plain": [
              "<Figure size 432x288 with 1 Axes>"
            ]
          },
          "metadata": {
            "tags": [],
            "needs_background": "light"
          }
        }
      ]
    },
    {
      "cell_type": "markdown",
      "metadata": {
        "id": "iAFtoSJ8HDG8"
      },
      "source": [
        "# Resnet50V2"
      ]
    },
    {
      "cell_type": "code",
      "metadata": {
        "colab": {
          "base_uri": "https://localhost:8080/",
          "height": 296
        },
        "id": "04GagNURHCsH",
        "outputId": "e88fbf63-62b3-4109-c0ed-c3c13c4591a1"
      },
      "source": [
        "import matplotlib\r\n",
        "import matplotlib.pyplot as plt\r\n",
        "import numpy as np\r\n",
        "\r\n",
        "labels = ['1x', '3x', '5x']\r\n",
        "zero_ft = [88.44, 85, 85.94]\r\n",
        "all_ft = [89.39, 89.69,88.44]\r\n",
        "one_ft = [90, 86.56, 85.62]\r\n",
        "two_ft = [89.39, 88.13, 87.50]\r\n",
        "three_ft = [87.50, 90, 88.44]\r\n",
        "\r\n",
        "\r\n",
        "x = 3*np.arange(len(labels))  # the label locations\r\n",
        "width = 0.42  # the width of the bars\r\n",
        "\r\n",
        "fig, ax = plt.subplots()\r\n",
        "\r\n",
        "rects1 = ax.bar(x - 2*1.2*width, zero_ft, width, label='0FT')\r\n",
        "rects2 = ax.bar(x - 1.2*width, one_ft, width, label='1FT')\r\n",
        "rects3 = ax.bar(x, two_ft, width, label='2FT')\r\n",
        "rects4 = ax.bar(x + 1.2*width, three_ft, width, label='3FT')\r\n",
        "rects5 = ax.bar(x + 2*1.2*width, all_ft, width, label='AllFT')\r\n",
        "\r\n",
        "# Add some text for labels, title and custom x-axis tick labels, etc.\r\n",
        "ax.set_ylabel('Accuracy %')\r\n",
        "ax.set_title('ResNet50V2 performances')\r\n",
        "ax.set_xticks(x)\r\n",
        "ax.set_xticklabels(labels)\r\n",
        "ax.set_ylim([60,95])\r\n",
        "ax.set_yticks(np.arange(60,95,2))\r\n",
        "\r\n",
        "# Put a legend below current axis\r\n",
        "ax.legend(loc='upper center', bbox_to_anchor=(0.5, -0.1),\r\n",
        "          fancybox=False, shadow=False, ncol=5)\r\n",
        "ax.spines['top'].set_visible(False)\r\n",
        "ax.spines['right'].set_visible(False)\r\n",
        "ax.spines['left'].set_visible(False)\r\n",
        "ax.spines['bottom'].set_visible(False)\r\n",
        "ax.set_axisbelow(True)\r\n",
        "\r\n",
        "def autolabel(rects):\r\n",
        "    \"\"\"Attach a text label above each bar in *rects*, displaying its height.\"\"\"\r\n",
        "    for rect in rects:\r\n",
        "        height = rect.get_height()\r\n",
        "        ax.annotate('{}'.format(height),\r\n",
        "                    xy=(rect.get_x() + rect.get_width() / 2, height),\r\n",
        "                    xytext=(0, 3),  # 3 points vertical offset\r\n",
        "                    textcoords=\"offset points\",\r\n",
        "                    ha='center', va='bottom')\r\n",
        "\r\n",
        "#autolabel(rects1)\r\n",
        "#autolabel(rects2)\r\n",
        "#autolabel(rects3)\r\n",
        "#autolabel(rects4)\r\n",
        "#autolabel(rects5)\r\n",
        "\r\n",
        "fig.tight_layout()\r\n",
        "plt.grid(axis='y')\r\n",
        "plt.show()"
      ],
      "execution_count": null,
      "outputs": [
        {
          "output_type": "display_data",
          "data": {
            "image/png": "[encoded data removed]",
            "text/plain": [
              "<Figure size 432x288 with 1 Axes>"
            ]
          },
          "metadata": {
            "tags": [],
            "needs_background": "light"
          }
        }
      ]
    },
    {
      "cell_type": "markdown",
      "metadata": {
        "id": "BHhnvIyQIt1H"
      },
      "source": [
        "#Inception"
      ]
    },
    {
      "cell_type": "code",
      "metadata": {
        "colab": {
          "base_uri": "https://localhost:8080/",
          "height": 296
        },
        "id": "WkykbKw5IvAJ",
        "outputId": "07fb51e5-a9e8-4eec-b42d-797a7cc578b2"
      },
      "source": [
        "import matplotlib\r\n",
        "import matplotlib.pyplot as plt\r\n",
        "import numpy as np\r\n",
        "\r\n",
        "labels = ['1x', '3x', '5x']\r\n",
        "zero_ft = [84.06, 83.13, 83.75]\r\n",
        "all_ft = [89.38, 87.81, 88.13]\r\n",
        "one_ft = [86.56, 84.06, 83.13]\r\n",
        "two_ft = [87.19, 85.94, 85.94]\r\n",
        "three_ft = [88.13, 89.06, 85.62]\r\n",
        "\r\n",
        "\r\n",
        "x = 3*np.arange(len(labels))  # the label locations\r\n",
        "width = 0.42  # the width of the bars\r\n",
        "\r\n",
        "fig, ax = plt.subplots()\r\n",
        "\r\n",
        "rects1 = ax.bar(x - 2*1.2*width, zero_ft, width, label='0FT')\r\n",
        "rects2 = ax.bar(x - 1.2*width, one_ft, width, label='1FT')\r\n",
        "rects3 = ax.bar(x, two_ft, width, label='2FT')\r\n",
        "rects4 = ax.bar(x + 1.2*width, three_ft, width, label='3FT')\r\n",
        "rects5 = ax.bar(x + 2*1.2*width, all_ft, width, label='AllFT')\r\n",
        "\r\n",
        "# Add some text for labels, title and custom x-axis tick labels, etc.\r\n",
        "ax.set_ylabel('Accuracy %')\r\n",
        "ax.set_title('InceptionV3 performances')\r\n",
        "ax.set_xticks(x)\r\n",
        "ax.set_xticklabels(labels)\r\n",
        "ax.set_ylim([60,95])\r\n",
        "ax.set_yticks(np.arange(60,95,2))\r\n",
        "\r\n",
        "# Put a legend below current axis\r\n",
        "ax.legend(loc='upper center', bbox_to_anchor=(0.5, -0.1),\r\n",
        "          fancybox=False, shadow=False, ncol=5)\r\n",
        "ax.spines['top'].set_visible(False)\r\n",
        "ax.spines['right'].set_visible(False)\r\n",
        "ax.spines['left'].set_visible(False)\r\n",
        "ax.spines['bottom'].set_visible(False)\r\n",
        "ax.set_axisbelow(True)\r\n",
        "\r\n",
        "def autolabel(rects):\r\n",
        "    \"\"\"Attach a text label above each bar in *rects*, displaying its height.\"\"\"\r\n",
        "    for rect in rects:\r\n",
        "        height = rect.get_height()\r\n",
        "        ax.annotate('{}'.format(height),\r\n",
        "                    xy=(rect.get_x() + rect.get_width() / 2, height),\r\n",
        "                    xytext=(0, 3),  # 3 points vertical offset\r\n",
        "                    textcoords=\"offset points\",\r\n",
        "                    ha='center', va='bottom')\r\n",
        "\r\n",
        "#autolabel(rects1)\r\n",
        "#autolabel(rects2)\r\n",
        "#autolabel(rects3)\r\n",
        "#autolabel(rects4)\r\n",
        "#autolabel(rects5)\r\n",
        "\r\n",
        "fig.tight_layout()\r\n",
        "plt.grid(axis='y')\r\n",
        "plt.show()"
      ],
      "execution_count": null,
      "outputs": [
        {
          "output_type": "display_data",
          "data": {
            "image/png": "[encoded data removed]",
            "text/plain": [
              "<Figure size 432x288 with 1 Axes>"
            ]
          },
          "metadata": {
            "tags": [],
            "needs_background": "light"
          }
        }
      ]
    }
  ]
}