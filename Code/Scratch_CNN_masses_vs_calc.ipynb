{
  "nbformat": 4,
  "nbformat_minor": 0,
  "metadata": {
    "accelerator": "GPU",
    "colab": {
      "name": "Scratch_CNN_masses_vs_calc.ipynb",
      "provenance": [],
      "collapsed_sections": [],
      "include_colab_link": true
    },
    "kernelspec": {
      "display_name": "Python 3",
      "name": "python3"
    }
  },
  "cells": [
    {
      "cell_type": "markdown",
      "metadata": {
        "id": "view-in-github",
        "colab_type": "text"
      },
      "source": [
        "<a href=\"https://colab.research.google.com/github/MarshaGomez/CNN-Medical-Imaging-Analysis/blob/main/Code/Scratch_CNN_masses_vs_calc.ipynb\" target=\"_parent\"><img src=\"https://colab.research.google.com/assets/colab-badge.svg\" alt=\"Open In Colab\"/></a>"
      ]
    },
    {
      "cell_type": "markdown",
      "metadata": {
        "id": "UPQ8gkXb0NY0"
      },
      "source": [
        "# **Scratch CNN**\r\n",
        "---\r\n",
        "Classification model for discriminating between 2 classes: **masses and calcification**. *Ad-hoc CNN architecture*.\r\n",
        "\r\n",
        "**Students:**   *A. Schiavo - M. Gómez - M. Daole*"
      ]
    },
    {
      "cell_type": "markdown",
      "metadata": {
        "id": "AB6hExesaEvW"
      },
      "source": [
        "## Data Loading\r\n",
        "This can be easily done with the Python data manipulation. Modern deep learning provides a very powerful framework for supervised learning, we introduce on this step the convolutional network for scaling to large images.\r\n"
      ]
    },
    {
      "cell_type": "code",
      "metadata": {
        "colab": {
          "base_uri": "https://localhost:8080/"
        },
        "id": "95hM4MvWjwfO",
        "outputId": "5c465466-855e-4011-a848-55fcf5d30212"
      },
      "source": [
        "from google.colab import drive\r\n",
        "drive.mount('/content/gdrive', force_remount=True) "
      ],
      "execution_count": 51,
      "outputs": [
        {
          "output_type": "stream",
          "text": [
            "Mounted at /content/gdrive\n"
          ],
          "name": "stdout"
        }
      ]
    },
    {
      "cell_type": "code",
      "metadata": {
        "colab": {
          "base_uri": "https://localhost:8080/"
        },
        "id": "iduaD281krFD",
        "outputId": "950b9aec-a04f-47e2-858e-d416612700ba"
      },
      "source": [
        "import matplotlib.pyplot as plt\r\n",
        "import tensorflow as tf\r\n",
        "import itertools\r\n",
        "import numpy as np\r\n",
        "import pandas as pd \r\n",
        "import ast #Abstract Syntax Trees\r\n",
        "import os \r\n",
        "import gc # Garbage Collector\r\n",
        "\r\n",
        "from tensorflow.keras import backend as K # Useful to free GPU and memory\r\n",
        "from sklearn.metrics import confusion_matrix, classification_report\r\n",
        "from tensorflow.keras.preprocessing.image import ImageDataGenerator\r\n",
        "from tensorflow.keras.preprocessing import image\r\n",
        "from tensorflow.keras.models import load_model\r\n",
        "from keras import layers, optimizers, models, regularizers, metrics\r\n",
        "from keras.models import load_model\r\n",
        "\r\n",
        "BATCH_SIZE = 20\r\n",
        "EPOCHS = 100\r\n",
        "\r\n",
        "base_path = \"/content/gdrive/My Drive/Colab_Notebooks/CIDL/DL Project\"\r\n",
        "train_img_path = os.path.join(base_path, \"numpy data/train_tensor.npy\")\r\n",
        "train_label_path = os.path.join(base_path, \"numpy data/train_labels.npy\")\r\n",
        "test_img_path = os.path.join(base_path, \"numpy data/public_test_tensor.npy\")\r\n",
        "test_label_path = os.path.join(base_path, \"numpy data/public_test_labels.npy\")\r\n",
        "\r\n",
        "MODEL_PATH = os.path.join(base_path, \"models\")\r\n",
        "\r\n",
        "print(\"Done\")"
      ],
      "execution_count": 101,
      "outputs": [
        {
          "output_type": "stream",
          "text": [
            "Done\n"
          ],
          "name": "stdout"
        }
      ]
    },
    {
      "cell_type": "code",
      "metadata": {
        "colab": {
          "base_uri": "https://localhost:8080/"
        },
        "id": "_HEhhQy4Sr_m",
        "outputId": "ca21a992-c743-4f74-92a5-8505c3b894ec"
      },
      "source": [
        "# Custom Callback To Include in Callbacks List At Training Time\r\n",
        "class GarbageCollectorCallback(tf.keras.callbacks.Callback):\r\n",
        "    def on_epoch_end(self, epoch, logs=None):\r\n",
        "      gc.collect()\r\n",
        "\r\n",
        "print(\"Done\")"
      ],
      "execution_count": 100,
      "outputs": [
        {
          "output_type": "stream",
          "text": [
            "Done\n"
          ],
          "name": "stdout"
        }
      ]
    },
    {
      "cell_type": "code",
      "metadata": {
        "colab": {
          "base_uri": "https://localhost:8080/"
        },
        "id": "ek9JMlmD6GsU",
        "outputId": "f1c6353d-10fa-415c-88b4-e8d0f6ab7696"
      },
      "source": [
        "# Load Arrays from Numpy Files\r\n",
        "def load_training():\r\n",
        "  train_images = np.load(train_img_path)\r\n",
        "  train_labels = np.load(train_label_path)\r\n",
        "  test_images = np.load(test_img_path)\r\n",
        "  test_labels = np.load(test_label_path)\r\n",
        "\r\n",
        "  return train_images, train_labels, test_images, test_labels\r\n",
        "\r\n",
        "# Remove baseline samples\r\n",
        "def remove_baseline(tensor): \r\n",
        "  max_ind = int(len(tensor)/2)\r\n",
        "  indexes = [2*i + 1 for i in range(0, max_ind)]\r\n",
        "\r\n",
        "  return tensor[indexes]\r\n",
        "\r\n",
        "# Interchange the dataset index\r\n",
        "def shuffle_dataset(x, y):\r\n",
        "  indices = tf.range(start=0, limit=tf.shape(x)[0], dtype=tf.int32)\r\n",
        "  shuffled_indices = tf.random.shuffle(indices)\r\n",
        "\r\n",
        "  x = tf.gather(x, shuffled_indices)\r\n",
        "  y = tf.gather(y, shuffled_indices)\r\n",
        "\r\n",
        "  x = x.numpy()\r\n",
        "  y = y.numpy()\r\n",
        "\r\n",
        "  return x, y\r\n",
        "\r\n",
        "# Unify masses and calcifications \r\n",
        "def labels_mapping(labels):\r\n",
        "  labels_local = np.zeros(shape=labels.shape, dtype=\"float32\")\r\n",
        "  idx = 0\r\n",
        "  for label in labels:\r\n",
        "    # Masses\r\n",
        "    if label == 1 or label == 2:\r\n",
        "      labels_local[idx] = 0\r\n",
        "    # Calcifications\r\n",
        "    else:\r\n",
        "      labels_local[idx] = 1\r\n",
        "    idx += 1\r\n",
        "\r\n",
        "  return labels_local\r\n",
        "\r\n",
        "print(\"Done\")"
      ],
      "execution_count": 97,
      "outputs": [
        {
          "output_type": "stream",
          "text": [
            "Done\n"
          ],
          "name": "stdout"
        }
      ]
    },
    {
      "cell_type": "code",
      "metadata": {
        "colab": {
          "base_uri": "https://localhost:8080/"
        },
        "id": "IGuDx1JbCSHY",
        "outputId": "a3f38a98-30b8-410d-94ab-297c2bcc3094"
      },
      "source": [
        "# Visualization Confusion Matrix\r\n",
        "def plot_confusion_matrix(classes, # Array with the classes name\r\n",
        "                          datagen,\r\n",
        "                          dataset, \r\n",
        "                          labels,\r\n",
        "                          batch_size=BATCH_SIZE,\r\n",
        "                          title='Confusion matrix'):\r\n",
        "    \"\"\"\r\n",
        "    This function prints and plots the confusion matrix.\r\n",
        "    \"\"\"\r\n",
        "    predicted = model.predict(datagen.flow(dataset,\r\n",
        "                                            labels,\r\n",
        "                                            batch_size=batch_size,\r\n",
        "                                            shuffle=False),\r\n",
        "                          steps=len(dataset) // batch_size)\r\n",
        "\r\n",
        "    prediction = np.where(predicted < 0.5, 0, 1)\r\n",
        "\r\n",
        "    print('Confusion Matrix')\r\n",
        "    cm = confusion_matrix(labels, prediction)\r\n",
        "\r\n",
        "    print(classification_report(labels, prediction))\r\n",
        "\r\n",
        "    plt.imshow(cm, interpolation='nearest', cmap='Blues')\r\n",
        "    plt.title(title)\r\n",
        "    plt.colorbar()\r\n",
        "    tick_marks = np.arange(len(classes))\r\n",
        "    plt.xticks(tick_marks, classes, rotation=45)\r\n",
        "    plt.yticks(tick_marks, classes)\r\n",
        "\r\n",
        "    #print(cm)\r\n",
        "\r\n",
        "    thresh = cm.max() / 2.\r\n",
        "    for i, j in itertools.product(range(cm.shape[0]), range(cm.shape[1])):\r\n",
        "        plt.text(j, i, cm[i, j],\r\n",
        "            horizontalalignment=\"center\",\r\n",
        "            color=\"white\" if cm[i, j] > thresh else \"black\")\r\n",
        "\r\n",
        "    plt.tight_layout()\r\n",
        "    plt.ylabel('True label')\r\n",
        "    plt.xlabel('Predicted label')\r\n",
        "\r\n",
        "\r\n",
        "# Visualization Data Histogram\r\n",
        "def plot(history):\r\n",
        "  acc = history.history['acc']\r\n",
        "  val_acc = history.history['val_acc']\r\n",
        "  loss = history.history['loss']\r\n",
        "  val_loss = history.history['val_loss']\r\n",
        "\r\n",
        "  epochs = range(len(acc))\r\n",
        "\r\n",
        "  plt.plot(epochs, acc, 'bo', label='Training accuracy')\r\n",
        "  plt.plot(epochs, val_acc, 'b', label='Validation accuracy')\r\n",
        "  plt.title('Training and validation accuracy')\r\n",
        "  plt.legend()\r\n",
        "\r\n",
        "  plt.figure()\r\n",
        "\r\n",
        "  plt.plot(epochs, loss, 'bo', label='Training loss')\r\n",
        "  plt.plot(epochs, val_loss, 'b', label='Validation loss')\r\n",
        "  plt.title('Training and validation loss')\r\n",
        "  plt.legend()\r\n",
        "\r\n",
        "  return plt\r\n",
        "\r\n",
        "# Visualization Detail Metric\r\n",
        "def plot_metrics(history):\r\n",
        "  metrics = ['loss', 'auc', 'precision', 'recall']\r\n",
        "  for n, metric in enumerate(metrics):\r\n",
        "    name = metric.replace(\"_\",\" \").capitalize()\r\n",
        "    plt.plot(history.epoch, history.history[metric], label='Train')\r\n",
        "    plt.plot(history.epoch, history.history['val_'+metric],\r\n",
        "             linestyle=\"--\", label='Val')\r\n",
        "    plt.xlabel('Epoch')\r\n",
        "    plt.ylabel(name)\r\n",
        "\r\n",
        "    if metric == 'loss':\r\n",
        "      plt.ylim([0, plt.ylim()[1]])\r\n",
        "    elif metric == 'auc':\r\n",
        "      plt.ylim([0.8,1])\r\n",
        "    else:\r\n",
        "      plt.ylim([0,1])\r\n",
        "\r\n",
        "    plt.legend()\r\n",
        "    if metrics[-1] != metric:\r\n",
        "      plt.figure()\r\n",
        "\r\n",
        "  return plt\r\n",
        "\r\n",
        "print(\"Done\")"
      ],
      "execution_count": 106,
      "outputs": [
        {
          "output_type": "stream",
          "text": [
            "Done\n"
          ],
          "name": "stdout"
        }
      ]
    },
    {
      "cell_type": "code",
      "metadata": {
        "colab": {
          "base_uri": "https://localhost:8080/"
        },
        "id": "Gowt9JUQ6sdj",
        "outputId": "1f6a6269-510c-4bb3-ac15-e250fe6ae0c1"
      },
      "source": [
        "# Get images and labels (test, train)\r\n",
        "train_images, train_labels, test_images, test_labels = load_training()\r\n",
        "\r\n",
        "# Get abnormalities only \r\n",
        "train_images = remove_baseline(train_images)\r\n",
        "train_labels = remove_baseline(train_labels)\r\n",
        "test_images = remove_baseline(test_images)\r\n",
        "test_labels = remove_baseline(test_labels)\r\n",
        "\r\n",
        "# Mapping labels with standard index\r\n",
        "train_labels = labels_mapping(train_labels)\r\n",
        "test_labels = labels_mapping(test_labels)\r\n",
        "\r\n",
        "# Suffle index (Previous dataset is ordered by index)\r\n",
        "train_images, train_labels = shuffle_dataset(train_images, train_labels)\r\n",
        "\r\n",
        "print(\"Train shape: \", train_images.shape)\r\n",
        "print(\"Test shape: \", test_images.shape)"
      ],
      "execution_count": 28,
      "outputs": [
        {
          "output_type": "stream",
          "text": [
            "Train shape:  (2676, 150, 150)\n",
            "Test shape:  (336, 150, 150)\n"
          ],
          "name": "stdout"
        }
      ]
    },
    {
      "cell_type": "code",
      "metadata": {
        "colab": {
          "base_uri": "https://localhost:8080/",
          "height": 265
        },
        "id": "nI7cnT2gDyf_",
        "outputId": "f2bc098a-1c56-4088-fe83-36562a6ed05d"
      },
      "source": [
        "# Check the value range and the distribution\r\n",
        "plt.hist(train_images[0]) \r\n",
        "plt.show()"
      ],
      "execution_count": 29,
      "outputs": [
        {
          "output_type": "display_data",
          "data": {
            "image/png": "[encoded data removed]",
            "text/plain": [
              "<Figure size 432x288 with 1 Axes>"
            ]
          },
          "metadata": {
            "tags": [],
            "needs_background": "light"
          }
        }
      ]
    },
    {
      "cell_type": "code",
      "metadata": {
        "colab": {
          "base_uri": "https://localhost:8080/"
        },
        "id": "SrrJFfg2e4fL",
        "outputId": "beddcfcf-af4d-454f-d37c-1e767ded084b"
      },
      "source": [
        "# Prepare the data with the expected format\r\n",
        "train_images = train_images.reshape(train_images.shape + (1,))\r\n",
        "test_images = test_images.reshape(test_images.shape + (1,))\r\n",
        "\r\n",
        "print(\"Train shape: \", train_images.shape)\r\n",
        "print(\"Test shape: \", test_images.shape)"
      ],
      "execution_count": 30,
      "outputs": [
        {
          "output_type": "stream",
          "text": [
            "Train shape:  (2676, 150, 150, 1)\n",
            "Test shape:  (336, 150, 150, 1)\n"
          ],
          "name": "stdout"
        }
      ]
    },
    {
      "cell_type": "code",
      "metadata": {
        "colab": {
          "base_uri": "https://localhost:8080/"
        },
        "id": "bEy_Dc7FhFQN",
        "outputId": "502ec0f3-6e00-47d2-b51a-d08435c6c955"
      },
      "source": [
        "# Verify values range: \r\n",
        "# Getting max value \r\n",
        "max = max([np.max(image) for image in train_images]) # max is 65535 \r\n",
        "\r\n",
        "# Getting min value\r\n",
        "min = min([np.min(image) for image in train_images]) # min is 0\r\n",
        "\r\n",
        "print(\"Original tensor are of type \", train_images[0].dtype, \" with values in the range [\", min,\",\", max, \"]\")"
      ],
      "execution_count": 10,
      "outputs": [
        {
          "output_type": "stream",
          "text": [
            "Original tensor are of type  uint16  with values in the range [ 0 , 65535 ]\n"
          ],
          "name": "stdout"
        }
      ]
    },
    {
      "cell_type": "markdown",
      "metadata": {
        "id": "5t4iLd0ExZho"
      },
      "source": [
        "## Data preprocessing\r\n",
        "\r\n",
        "Computer vision usually requires relatively little of this kind of preprocessing. The images should be standardized, formatting images to have the same scale is the only kind of preprocessing that is strictly necessary. As optional, we add dataset augmentation because is an excellent way to reduce the generalization error of most computer vision models."
      ]
    },
    {
      "cell_type": "code",
      "metadata": {
        "id": "TfMviUsBn-gX",
        "colab": {
          "base_uri": "https://localhost:8080/"
        },
        "outputId": "37d5fc14-e1cf-4d6a-8f68-f55dd8105d2d"
      },
      "source": [
        "# Split dataset into training and validation set 70-30\r\n",
        "train_images_split = train_images[:int(0.7*len(train_images))]\r\n",
        "valid_images_split = train_images[int(0.7*len(train_images)):]\r\n",
        "train_labels_split = train_labels[:int(0.7*len(train_labels))]\r\n",
        "valid_labels_split = train_labels[int(0.7*len(train_labels)):]\r\n",
        "\r\n",
        "print(train_images_split.shape)\r\n",
        "print(valid_images_split.shape)                                       "
      ],
      "execution_count": 11,
      "outputs": [
        {
          "output_type": "stream",
          "text": [
            "(1873, 150, 150, 1)\n",
            "(803, 150, 150, 1)\n"
          ],
          "name": "stdout"
        }
      ]
    },
    {
      "cell_type": "code",
      "metadata": {
        "id": "hm9x-21nzEoE",
        "colab": {
          "base_uri": "https://localhost:8080/"
        },
        "outputId": "664eacd3-7972-4967-85dd-379d4f3c6665"
      },
      "source": [
        "# All images will be rescaled by 1./65535 (max value range)\r\n",
        "train_datagen = ImageDataGenerator(rescale=1./65535)\r\n",
        "valid_datagen = ImageDataGenerator(rescale=1./65535)\r\n",
        "test_datagen = ImageDataGenerator(rescale=1./65535) \r\n",
        "\r\n",
        "for batch, labels_batch in train_datagen.flow(train_images, train_labels, batch_size=BATCH_SIZE):\r\n",
        "  print(batch.shape)\r\n",
        "  print(labels_batch.shape)\r\n",
        "  break"
      ],
      "execution_count": 12,
      "outputs": [
        {
          "output_type": "stream",
          "text": [
            "(20, 150, 150, 1)\n",
            "(20,)\n"
          ],
          "name": "stdout"
        }
      ]
    },
    {
      "cell_type": "markdown",
      "metadata": {
        "id": "Mi0ZJVf1vA31"
      },
      "source": [
        "### Defining CNN \r\n"
      ]
    },
    {
      "cell_type": "code",
      "metadata": {
        "id": "kwQTeDPEvKql",
        "colab": {
          "base_uri": "https://localhost:8080/"
        },
        "outputId": "9f610bd9-cbda-4ab7-ca07-0e2c2c0debbe"
      },
      "source": [
        "def build_model(loss_function, eval_metric=[\"acc\"]):\r\n",
        "  model = models.Sequential()\r\n",
        "  model.add(layers.Conv2D(32, (3, 3), activation='relu', input_shape=(150, 150, 1)))\r\n",
        "  model.add(layers.MaxPooling2D((2, 2)))\r\n",
        "  model.add(layers.Conv2D(64, (3, 3), activation='relu'))\r\n",
        "  model.add(layers.MaxPooling2D((2, 2)))\r\n",
        "  model.add(layers.Conv2D(128, (3, 3), activation='relu'))\r\n",
        "  model.add(layers.MaxPooling2D((2, 2)))\r\n",
        "  model.add(layers.Conv2D(128, (3, 3), activation='relu'))\r\n",
        "  model.add(layers.MaxPooling2D((2, 2)))\r\n",
        "  model.add(layers.Flatten())\r\n",
        "  #model.add(layers.Dense(512, activation='relu'))\r\n",
        "  #model.add(layers.Dropout(0.5))\r\n",
        "  model.add(layers.Dense(512, kernel_regularizer=regularizers.l2(0.001), activation=\"relu\"))\r\n",
        "  model.add(layers.Dense(1, activation='sigmoid'))\r\n",
        "\r\n",
        "  model.compile(loss=loss_function,\r\n",
        "              optimizer=optimizers.RMSprop(lr=1e-4), # lr = 0.0001\r\n",
        "              metrics=eval_metric) \r\n",
        "  \r\n",
        "  return model \r\n",
        "\r\n",
        "print(\"Done\")"
      ],
      "execution_count": 53,
      "outputs": [
        {
          "output_type": "stream",
          "text": [
            "Done\n"
          ],
          "name": "stdout"
        }
      ]
    },
    {
      "cell_type": "markdown",
      "metadata": {
        "id": "fZIemXxawWLm"
      },
      "source": [
        "### CNN Compilation\r\n",
        "\r\n"
      ]
    },
    {
      "cell_type": "code",
      "metadata": {
        "id": "5iumGmf1whk1",
        "colab": {
          "base_uri": "https://localhost:8080/"
        },
        "outputId": "12da8e9c-57b3-4e32-94db-17ef464f4a9c"
      },
      "source": [
        "METRICS = [\r\n",
        "      metrics.BinaryAccuracy(name='acc'),\r\n",
        "      metrics.Precision(name='precision'),\r\n",
        "      metrics.Recall(name='recall'),\r\n",
        "      metrics.AUC(name='auc'),\r\n",
        "]\r\n",
        "\r\n",
        "model = build_model(\"binary_crossentropy\", METRICS)\r\n",
        "\r\n",
        "model.summary()"
      ],
      "execution_count": 62,
      "outputs": [
        {
          "output_type": "stream",
          "text": [
            "Model: \"sequential_7\"\n",
            "_________________________________________________________________\n",
            "Layer (type)                 Output Shape              Param #   \n",
            "=================================================================\n",
            "conv2d_28 (Conv2D)           (None, 148, 148, 32)      320       \n",
            "_________________________________________________________________\n",
            "max_pooling2d_28 (MaxPooling (None, 74, 74, 32)        0         \n",
            "_________________________________________________________________\n",
            "conv2d_29 (Conv2D)           (None, 72, 72, 64)        18496     \n",
            "_________________________________________________________________\n",
            "max_pooling2d_29 (MaxPooling (None, 36, 36, 64)        0         \n",
            "_________________________________________________________________\n",
            "conv2d_30 (Conv2D)           (None, 34, 34, 128)       73856     \n",
            "_________________________________________________________________\n",
            "max_pooling2d_30 (MaxPooling (None, 17, 17, 128)       0         \n",
            "_________________________________________________________________\n",
            "conv2d_31 (Conv2D)           (None, 15, 15, 128)       147584    \n",
            "_________________________________________________________________\n",
            "max_pooling2d_31 (MaxPooling (None, 7, 7, 128)         0         \n",
            "_________________________________________________________________\n",
            "flatten_7 (Flatten)          (None, 6272)              0         \n",
            "_________________________________________________________________\n",
            "dense_14 (Dense)             (None, 512)               3211776   \n",
            "_________________________________________________________________\n",
            "dense_15 (Dense)             (None, 1)                 513       \n",
            "=================================================================\n",
            "Total params: 3,452,545\n",
            "Trainable params: 3,452,545\n",
            "Non-trainable params: 0\n",
            "_________________________________________________________________\n"
          ],
          "name": "stdout"
        }
      ]
    },
    {
      "cell_type": "code",
      "metadata": {
        "id": "H-V8cw96y_3Q",
        "colab": {
          "base_uri": "https://localhost:8080/"
        },
        "outputId": "26d6b702-e111-42a8-f751-4758f439459e"
      },
      "source": [
        "history = model.fit(train_datagen.flow(train_images_split,\r\n",
        "                                       train_labels_split,\r\n",
        "                                       batch_size=BATCH_SIZE,\r\n",
        "                                       shuffle=False),\r\n",
        "                    steps_per_epoch=len(train_images_split) // BATCH_SIZE, \r\n",
        "                    epochs=EPOCHS,\r\n",
        "                    validation_data=valid_datagen.flow(valid_images_split,\r\n",
        "                                       valid_labels_split,\r\n",
        "                                       batch_size=BATCH_SIZE,\r\n",
        "                                       shuffle=False),\r\n",
        "                    validation_steps=len(valid_labels_split) // BATCH_SIZE,\r\n",
        "                    callbacks=[GarbageCollectorCallback()])"
      ],
      "execution_count": 63,
      "outputs": [
        {
          "output_type": "stream",
          "text": [
            "Epoch 1/100\n",
            "93/93 [==============================] - 6s 47ms/step - loss: 1.4287 - acc: 0.5295 - precision: 0.5333 - recall: 0.9372 - auc: 0.4576 - val_loss: 1.0298 - val_acc: 0.5500 - val_precision: 0.5500 - val_recall: 1.0000 - val_auc: 0.7518\n",
            "Epoch 2/100\n",
            "93/93 [==============================] - 4s 42ms/step - loss: 0.9548 - acc: 0.5447 - precision: 0.5439 - recall: 0.9524 - auc: 0.5462 - val_loss: 0.7822 - val_acc: 0.5500 - val_precision: 0.5500 - val_recall: 1.0000 - val_auc: 0.8162\n",
            "Epoch 3/100\n",
            "93/93 [==============================] - 4s 41ms/step - loss: 0.7639 - acc: 0.5658 - precision: 0.5598 - recall: 0.9096 - auc: 0.5864 - val_loss: 0.6969 - val_acc: 0.6375 - val_precision: 0.6084 - val_recall: 0.9568 - val_auc: 0.8227\n",
            "Epoch 4/100\n",
            "93/93 [==============================] - 4s 41ms/step - loss: 0.7073 - acc: 0.6194 - precision: 0.6096 - recall: 0.8265 - auc: 0.6389 - val_loss: 0.6659 - val_acc: 0.7075 - val_precision: 0.9478 - val_recall: 0.4955 - val_auc: 0.8227\n",
            "Epoch 5/100\n",
            "93/93 [==============================] - 4s 42ms/step - loss: 0.6543 - acc: 0.6819 - precision: 0.6893 - recall: 0.7562 - auc: 0.7372 - val_loss: 0.6511 - val_acc: 0.6662 - val_precision: 0.9832 - val_recall: 0.4000 - val_auc: 0.8326\n",
            "Epoch 6/100\n",
            "93/93 [==============================] - 4s 42ms/step - loss: 0.6313 - acc: 0.7073 - precision: 0.7364 - recall: 0.7054 - auc: 0.7563 - val_loss: 0.5410 - val_acc: 0.7912 - val_precision: 0.9099 - val_recall: 0.6886 - val_auc: 0.8556\n",
            "Epoch 7/100\n",
            "93/93 [==============================] - 4s 42ms/step - loss: 0.6103 - acc: 0.7246 - precision: 0.7275 - recall: 0.7634 - auc: 0.7778 - val_loss: 0.5023 - val_acc: 0.8087 - val_precision: 0.8868 - val_recall: 0.7477 - val_auc: 0.8742\n",
            "Epoch 8/100\n",
            "93/93 [==============================] - 4s 42ms/step - loss: 0.5889 - acc: 0.7275 - precision: 0.7374 - recall: 0.7929 - auc: 0.7933 - val_loss: 0.5078 - val_acc: 0.7987 - val_precision: 0.9067 - val_recall: 0.7068 - val_auc: 0.8744\n",
            "Epoch 9/100\n",
            "93/93 [==============================] - 4s 42ms/step - loss: 0.5843 - acc: 0.7395 - precision: 0.7546 - recall: 0.7474 - auc: 0.7939 - val_loss: 0.5667 - val_acc: 0.7613 - val_precision: 0.9560 - val_recall: 0.5932 - val_auc: 0.8544\n",
            "Epoch 10/100\n",
            "93/93 [==============================] - 4s 42ms/step - loss: 0.5768 - acc: 0.7426 - precision: 0.7686 - recall: 0.7605 - auc: 0.8056 - val_loss: 0.5782 - val_acc: 0.7325 - val_precision: 0.9007 - val_recall: 0.5773 - val_auc: 0.8384\n",
            "Epoch 11/100\n",
            "93/93 [==============================] - 4s 42ms/step - loss: 0.5573 - acc: 0.7537 - precision: 0.7785 - recall: 0.7748 - auc: 0.8163 - val_loss: 0.4606 - val_acc: 0.8188 - val_precision: 0.8271 - val_recall: 0.8477 - val_auc: 0.8886\n",
            "Epoch 12/100\n",
            "93/93 [==============================] - 4s 42ms/step - loss: 0.5585 - acc: 0.7521 - precision: 0.7710 - recall: 0.7565 - auc: 0.8102 - val_loss: 0.5273 - val_acc: 0.7750 - val_precision: 0.9194 - val_recall: 0.6477 - val_auc: 0.8644\n",
            "Epoch 13/100\n",
            "93/93 [==============================] - 4s 43ms/step - loss: 0.5679 - acc: 0.7359 - precision: 0.7557 - recall: 0.7353 - auc: 0.8064 - val_loss: 0.4795 - val_acc: 0.8062 - val_precision: 0.9060 - val_recall: 0.7227 - val_auc: 0.8862\n",
            "Epoch 14/100\n",
            "93/93 [==============================] - 4s 42ms/step - loss: 0.5451 - acc: 0.7766 - precision: 0.7967 - recall: 0.8053 - auc: 0.8314 - val_loss: 0.4550 - val_acc: 0.8250 - val_precision: 0.8906 - val_recall: 0.7773 - val_auc: 0.8911\n",
            "Epoch 15/100\n",
            "93/93 [==============================] - 4s 42ms/step - loss: 0.5637 - acc: 0.7583 - precision: 0.7828 - recall: 0.7595 - auc: 0.8097 - val_loss: 0.4883 - val_acc: 0.8075 - val_precision: 0.9157 - val_recall: 0.7159 - val_auc: 0.8845\n",
            "Epoch 16/100\n",
            "93/93 [==============================] - 4s 42ms/step - loss: 0.5524 - acc: 0.7498 - precision: 0.7752 - recall: 0.7526 - auc: 0.8163 - val_loss: 0.4423 - val_acc: 0.8225 - val_precision: 0.8402 - val_recall: 0.8364 - val_auc: 0.8965\n",
            "Epoch 17/100\n",
            "93/93 [==============================] - 4s 43ms/step - loss: 0.5297 - acc: 0.7619 - precision: 0.7889 - recall: 0.7643 - auc: 0.8345 - val_loss: 0.5002 - val_acc: 0.7950 - val_precision: 0.9570 - val_recall: 0.6568 - val_auc: 0.8858\n",
            "Epoch 18/100\n",
            "93/93 [==============================] - 4s 42ms/step - loss: 0.5602 - acc: 0.7385 - precision: 0.7664 - recall: 0.7462 - auc: 0.8054 - val_loss: 0.5062 - val_acc: 0.7513 - val_precision: 0.7081 - val_recall: 0.9318 - val_auc: 0.9045\n",
            "Epoch 19/100\n",
            "93/93 [==============================] - 4s 42ms/step - loss: 0.5618 - acc: 0.7481 - precision: 0.7720 - recall: 0.7673 - auc: 0.8066 - val_loss: 0.4467 - val_acc: 0.8225 - val_precision: 0.9116 - val_recall: 0.7500 - val_auc: 0.8961\n",
            "Epoch 20/100\n",
            "93/93 [==============================] - 4s 42ms/step - loss: 0.5332 - acc: 0.7672 - precision: 0.7849 - recall: 0.7656 - auc: 0.8267 - val_loss: 0.4300 - val_acc: 0.8313 - val_precision: 0.8506 - val_recall: 0.8409 - val_auc: 0.9017\n",
            "Epoch 21/100\n",
            "93/93 [==============================] - 4s 42ms/step - loss: 0.5303 - acc: 0.7582 - precision: 0.7774 - recall: 0.7689 - auc: 0.8324 - val_loss: 0.4488 - val_acc: 0.8350 - val_precision: 0.8949 - val_recall: 0.7932 - val_auc: 0.9061\n",
            "Epoch 22/100\n",
            "93/93 [==============================] - 4s 42ms/step - loss: 0.5295 - acc: 0.7576 - precision: 0.7830 - recall: 0.7676 - auc: 0.8278 - val_loss: 0.4373 - val_acc: 0.8325 - val_precision: 0.8883 - val_recall: 0.7955 - val_auc: 0.8994\n",
            "Epoch 23/100\n",
            "93/93 [==============================] - 4s 42ms/step - loss: 0.5362 - acc: 0.7475 - precision: 0.7645 - recall: 0.7683 - auc: 0.8303 - val_loss: 0.5039 - val_acc: 0.7713 - val_precision: 0.9327 - val_recall: 0.6295 - val_auc: 0.8860\n",
            "Epoch 24/100\n",
            "93/93 [==============================] - 4s 42ms/step - loss: 0.5433 - acc: 0.7461 - precision: 0.7709 - recall: 0.7474 - auc: 0.8277 - val_loss: 0.4678 - val_acc: 0.8325 - val_precision: 0.8984 - val_recall: 0.7841 - val_auc: 0.9046\n",
            "Epoch 25/100\n",
            "93/93 [==============================] - 4s 42ms/step - loss: 0.5325 - acc: 0.7608 - precision: 0.7815 - recall: 0.7897 - auc: 0.8295 - val_loss: 0.6094 - val_acc: 0.7050 - val_precision: 0.9679 - val_recall: 0.4795 - val_auc: 0.8639\n",
            "Epoch 26/100\n",
            "93/93 [==============================] - 4s 42ms/step - loss: 0.5052 - acc: 0.7815 - precision: 0.8150 - recall: 0.7689 - auc: 0.8530 - val_loss: 0.5397 - val_acc: 0.7588 - val_precision: 0.9591 - val_recall: 0.5864 - val_auc: 0.8698\n",
            "Epoch 27/100\n",
            "93/93 [==============================] - 4s 42ms/step - loss: 0.5227 - acc: 0.7772 - precision: 0.8130 - recall: 0.7772 - auc: 0.8427 - val_loss: 0.4680 - val_acc: 0.8062 - val_precision: 0.9412 - val_recall: 0.6909 - val_auc: 0.9060\n",
            "Epoch 28/100\n",
            "93/93 [==============================] - 4s 43ms/step - loss: 0.4910 - acc: 0.7853 - precision: 0.8109 - recall: 0.7966 - auc: 0.8598 - val_loss: 0.5100 - val_acc: 0.7563 - val_precision: 0.9658 - val_recall: 0.5773 - val_auc: 0.9032\n",
            "Epoch 29/100\n",
            "93/93 [==============================] - 4s 42ms/step - loss: 0.5144 - acc: 0.7651 - precision: 0.8000 - recall: 0.7626 - auc: 0.8424 - val_loss: 0.5563 - val_acc: 0.7387 - val_precision: 0.9714 - val_recall: 0.5409 - val_auc: 0.8983\n",
            "Epoch 30/100\n",
            "93/93 [==============================] - 4s 42ms/step - loss: 0.4948 - acc: 0.7800 - precision: 0.8084 - recall: 0.7739 - auc: 0.8591 - val_loss: 0.4017 - val_acc: 0.8550 - val_precision: 0.8803 - val_recall: 0.8523 - val_auc: 0.9257\n",
            "Epoch 31/100\n",
            "93/93 [==============================] - 4s 44ms/step - loss: 0.5155 - acc: 0.7669 - precision: 0.7947 - recall: 0.7750 - auc: 0.8400 - val_loss: 0.4845 - val_acc: 0.7788 - val_precision: 0.9582 - val_recall: 0.6250 - val_auc: 0.9127\n",
            "Epoch 32/100\n",
            "93/93 [==============================] - 4s 43ms/step - loss: 0.5210 - acc: 0.7722 - precision: 0.7999 - recall: 0.7502 - auc: 0.8429 - val_loss: 0.4244 - val_acc: 0.8313 - val_precision: 0.9067 - val_recall: 0.7727 - val_auc: 0.9182\n",
            "Epoch 33/100\n",
            "93/93 [==============================] - 4s 42ms/step - loss: 0.4839 - acc: 0.8004 - precision: 0.8215 - recall: 0.8108 - auc: 0.8654 - val_loss: 0.4837 - val_acc: 0.7887 - val_precision: 0.9144 - val_recall: 0.6795 - val_auc: 0.8843\n",
            "Epoch 34/100\n",
            "93/93 [==============================] - 4s 41ms/step - loss: 0.4978 - acc: 0.7788 - precision: 0.8097 - recall: 0.7486 - auc: 0.8532 - val_loss: 0.3799 - val_acc: 0.8550 - val_precision: 0.8913 - val_recall: 0.8386 - val_auc: 0.9266\n",
            "Epoch 35/100\n",
            "93/93 [==============================] - 4s 41ms/step - loss: 0.4990 - acc: 0.7790 - precision: 0.7993 - recall: 0.7930 - auc: 0.8520 - val_loss: 0.4319 - val_acc: 0.8238 - val_precision: 0.9308 - val_recall: 0.7341 - val_auc: 0.9202\n",
            "Epoch 36/100\n",
            "93/93 [==============================] - 4s 43ms/step - loss: 0.4644 - acc: 0.8064 - precision: 0.8316 - recall: 0.8080 - auc: 0.8786 - val_loss: 0.4332 - val_acc: 0.8288 - val_precision: 0.9469 - val_recall: 0.7295 - val_auc: 0.9181\n",
            "Epoch 37/100\n",
            "93/93 [==============================] - 4s 42ms/step - loss: 0.4582 - acc: 0.8131 - precision: 0.8361 - recall: 0.8289 - auc: 0.8803 - val_loss: 0.4468 - val_acc: 0.8500 - val_precision: 0.8347 - val_recall: 0.9068 - val_auc: 0.9345\n",
            "Epoch 38/100\n",
            "93/93 [==============================] - 4s 42ms/step - loss: 0.4697 - acc: 0.8027 - precision: 0.8201 - recall: 0.8135 - auc: 0.8727 - val_loss: 0.4578 - val_acc: 0.8462 - val_precision: 0.8838 - val_recall: 0.8295 - val_auc: 0.9237\n",
            "Epoch 39/100\n",
            "93/93 [==============================] - 4s 41ms/step - loss: 0.4913 - acc: 0.7934 - precision: 0.8158 - recall: 0.7994 - auc: 0.8627 - val_loss: 0.4487 - val_acc: 0.8075 - val_precision: 0.9360 - val_recall: 0.6977 - val_auc: 0.9253\n",
            "Epoch 40/100\n",
            "93/93 [==============================] - 4s 41ms/step - loss: 0.4814 - acc: 0.7951 - precision: 0.8236 - recall: 0.7769 - auc: 0.8670 - val_loss: 0.3638 - val_acc: 0.8725 - val_precision: 0.9043 - val_recall: 0.8591 - val_auc: 0.9329\n",
            "Epoch 41/100\n",
            "93/93 [==============================] - 4s 41ms/step - loss: 0.4906 - acc: 0.8008 - precision: 0.8135 - recall: 0.8196 - auc: 0.8628 - val_loss: 0.3622 - val_acc: 0.8750 - val_precision: 0.9067 - val_recall: 0.8614 - val_auc: 0.9357\n",
            "Epoch 42/100\n",
            "93/93 [==============================] - 4s 41ms/step - loss: 0.4598 - acc: 0.8214 - precision: 0.8385 - recall: 0.8221 - auc: 0.8867 - val_loss: 0.3742 - val_acc: 0.8537 - val_precision: 0.9307 - val_recall: 0.7932 - val_auc: 0.9357\n",
            "Epoch 43/100\n",
            "93/93 [==============================] - 4s 41ms/step - loss: 0.4513 - acc: 0.8207 - precision: 0.8395 - recall: 0.8312 - auc: 0.8824 - val_loss: 0.4251 - val_acc: 0.8537 - val_precision: 0.8581 - val_recall: 0.8795 - val_auc: 0.9336\n",
            "Epoch 44/100\n",
            "93/93 [==============================] - 4s 42ms/step - loss: 0.4634 - acc: 0.8051 - precision: 0.8193 - recall: 0.8291 - auc: 0.8815 - val_loss: 0.4643 - val_acc: 0.7887 - val_precision: 0.9532 - val_recall: 0.6477 - val_auc: 0.9283\n",
            "Epoch 45/100\n",
            "93/93 [==============================] - 4s 42ms/step - loss: 0.4738 - acc: 0.8045 - precision: 0.8368 - recall: 0.8033 - auc: 0.8735 - val_loss: 0.3778 - val_acc: 0.8487 - val_precision: 0.9346 - val_recall: 0.7795 - val_auc: 0.9383\n",
            "Epoch 46/100\n",
            "93/93 [==============================] - 4s 42ms/step - loss: 0.4513 - acc: 0.8139 - precision: 0.8337 - recall: 0.8185 - auc: 0.8893 - val_loss: 0.4743 - val_acc: 0.7713 - val_precision: 0.7103 - val_recall: 0.9864 - val_auc: 0.9391\n",
            "Epoch 47/100\n",
            "93/93 [==============================] - 4s 41ms/step - loss: 0.4815 - acc: 0.7979 - precision: 0.8012 - recall: 0.8229 - auc: 0.8724 - val_loss: 0.4119 - val_acc: 0.8238 - val_precision: 0.9436 - val_recall: 0.7227 - val_auc: 0.9352\n",
            "Epoch 48/100\n",
            "93/93 [==============================] - 4s 41ms/step - loss: 0.4497 - acc: 0.8256 - precision: 0.8506 - recall: 0.8287 - auc: 0.8865 - val_loss: 0.3981 - val_acc: 0.8475 - val_precision: 0.9595 - val_recall: 0.7545 - val_auc: 0.9446\n",
            "Epoch 49/100\n",
            "93/93 [==============================] - 4s 41ms/step - loss: 0.4542 - acc: 0.8088 - precision: 0.8427 - recall: 0.7942 - auc: 0.8854 - val_loss: 0.3872 - val_acc: 0.8550 - val_precision: 0.8279 - val_recall: 0.9295 - val_auc: 0.9450\n",
            "Epoch 50/100\n",
            "93/93 [==============================] - 4s 41ms/step - loss: 0.4536 - acc: 0.7979 - precision: 0.8157 - recall: 0.8200 - auc: 0.8846 - val_loss: 0.3746 - val_acc: 0.8425 - val_precision: 0.9361 - val_recall: 0.7659 - val_auc: 0.9403\n",
            "Epoch 51/100\n",
            "93/93 [==============================] - 4s 42ms/step - loss: 0.4339 - acc: 0.8228 - precision: 0.8368 - recall: 0.8371 - auc: 0.8953 - val_loss: 0.3728 - val_acc: 0.8500 - val_precision: 0.9420 - val_recall: 0.7750 - val_auc: 0.9487\n",
            "Epoch 52/100\n",
            "93/93 [==============================] - 4s 43ms/step - loss: 0.4406 - acc: 0.8178 - precision: 0.8382 - recall: 0.8309 - auc: 0.8907 - val_loss: 0.3735 - val_acc: 0.8562 - val_precision: 0.9265 - val_recall: 0.8023 - val_auc: 0.9438\n",
            "Epoch 53/100\n",
            "93/93 [==============================] - 4s 42ms/step - loss: 0.4779 - acc: 0.7913 - precision: 0.8180 - recall: 0.7912 - auc: 0.8693 - val_loss: 0.3775 - val_acc: 0.8612 - val_precision: 0.9295 - val_recall: 0.8091 - val_auc: 0.9394\n",
            "Epoch 54/100\n",
            "93/93 [==============================] - 4s 42ms/step - loss: 0.4375 - acc: 0.8163 - precision: 0.8239 - recall: 0.8253 - auc: 0.8929 - val_loss: 0.4210 - val_acc: 0.8037 - val_precision: 0.9492 - val_recall: 0.6795 - val_auc: 0.9417\n",
            "Epoch 55/100\n",
            "93/93 [==============================] - 4s 41ms/step - loss: 0.4433 - acc: 0.8113 - precision: 0.8345 - recall: 0.8019 - auc: 0.8905 - val_loss: 0.3315 - val_acc: 0.8788 - val_precision: 0.8641 - val_recall: 0.9250 - val_auc: 0.9493\n",
            "Epoch 56/100\n",
            "93/93 [==============================] - 4s 42ms/step - loss: 0.4734 - acc: 0.7992 - precision: 0.8175 - recall: 0.8187 - auc: 0.8733 - val_loss: 0.3797 - val_acc: 0.8425 - val_precision: 0.9511 - val_recall: 0.7523 - val_auc: 0.9477\n",
            "Epoch 57/100\n",
            "93/93 [==============================] - 4s 42ms/step - loss: 0.4644 - acc: 0.8017 - precision: 0.8256 - recall: 0.8221 - auc: 0.8770 - val_loss: 0.3873 - val_acc: 0.8300 - val_precision: 0.9497 - val_recall: 0.7295 - val_auc: 0.9450\n",
            "Epoch 58/100\n",
            "93/93 [==============================] - 4s 42ms/step - loss: 0.4386 - acc: 0.8228 - precision: 0.8384 - recall: 0.8224 - auc: 0.8981 - val_loss: 0.3356 - val_acc: 0.8687 - val_precision: 0.8923 - val_recall: 0.8659 - val_auc: 0.9490\n",
            "Epoch 59/100\n",
            "93/93 [==============================] - 4s 42ms/step - loss: 0.4289 - acc: 0.8113 - precision: 0.8192 - recall: 0.8436 - auc: 0.8980 - val_loss: 0.3587 - val_acc: 0.8500 - val_precision: 0.9396 - val_recall: 0.7773 - val_auc: 0.9488\n",
            "Epoch 60/100\n",
            "93/93 [==============================] - 4s 42ms/step - loss: 0.4507 - acc: 0.8150 - precision: 0.8338 - recall: 0.8335 - auc: 0.8895 - val_loss: 0.5346 - val_acc: 0.8388 - val_precision: 0.8642 - val_recall: 0.8386 - val_auc: 0.8993\n",
            "Epoch 61/100\n",
            "93/93 [==============================] - 4s 42ms/step - loss: 0.4639 - acc: 0.8151 - precision: 0.8478 - recall: 0.7984 - auc: 0.8794 - val_loss: 0.3362 - val_acc: 0.8700 - val_precision: 0.9352 - val_recall: 0.8205 - val_auc: 0.9514\n",
            "Epoch 62/100\n",
            "93/93 [==============================] - 4s 42ms/step - loss: 0.4995 - acc: 0.7915 - precision: 0.8105 - recall: 0.7937 - auc: 0.8652 - val_loss: 0.4364 - val_acc: 0.8150 - val_precision: 0.9771 - val_recall: 0.6795 - val_auc: 0.9401\n",
            "Epoch 63/100\n",
            "93/93 [==============================] - 4s 41ms/step - loss: 0.4376 - acc: 0.8172 - precision: 0.8525 - recall: 0.7991 - auc: 0.8960 - val_loss: 0.3659 - val_acc: 0.8487 - val_precision: 0.9443 - val_recall: 0.7705 - val_auc: 0.9514\n",
            "Epoch 64/100\n",
            "93/93 [==============================] - 4s 42ms/step - loss: 0.4335 - acc: 0.8257 - precision: 0.8382 - recall: 0.8157 - auc: 0.8969 - val_loss: 0.3783 - val_acc: 0.8838 - val_precision: 0.8881 - val_recall: 0.9023 - val_auc: 0.9501\n",
            "Epoch 65/100\n",
            "93/93 [==============================] - 4s 41ms/step - loss: 0.4366 - acc: 0.8224 - precision: 0.8394 - recall: 0.8362 - auc: 0.8990 - val_loss: 0.3521 - val_acc: 0.8700 - val_precision: 0.9242 - val_recall: 0.8318 - val_auc: 0.9497\n",
            "Epoch 66/100\n",
            "93/93 [==============================] - 4s 41ms/step - loss: 0.4301 - acc: 0.8203 - precision: 0.8425 - recall: 0.8233 - auc: 0.8987 - val_loss: 0.3679 - val_acc: 0.8725 - val_precision: 0.8949 - val_recall: 0.8705 - val_auc: 0.9490\n",
            "Epoch 67/100\n",
            "93/93 [==============================] - 4s 42ms/step - loss: 0.4006 - acc: 0.8388 - precision: 0.8578 - recall: 0.8421 - auc: 0.9134 - val_loss: 0.3563 - val_acc: 0.8675 - val_precision: 0.9418 - val_recall: 0.8091 - val_auc: 0.9487\n",
            "Epoch 68/100\n",
            "93/93 [==============================] - 4s 42ms/step - loss: 0.4318 - acc: 0.8220 - precision: 0.8362 - recall: 0.8399 - auc: 0.8948 - val_loss: 0.3565 - val_acc: 0.8687 - val_precision: 0.9589 - val_recall: 0.7955 - val_auc: 0.9542\n",
            "Epoch 69/100\n",
            "93/93 [==============================] - 4s 42ms/step - loss: 0.4500 - acc: 0.8109 - precision: 0.8405 - recall: 0.7977 - auc: 0.8873 - val_loss: 0.3489 - val_acc: 0.8625 - val_precision: 0.9388 - val_recall: 0.8023 - val_auc: 0.9504\n",
            "Epoch 70/100\n",
            "93/93 [==============================] - 4s 42ms/step - loss: 0.4184 - acc: 0.8310 - precision: 0.8424 - recall: 0.8513 - auc: 0.9041 - val_loss: 0.4086 - val_acc: 0.8200 - val_precision: 0.9485 - val_recall: 0.7114 - val_auc: 0.9444\n",
            "Epoch 71/100\n",
            "93/93 [==============================] - 4s 42ms/step - loss: 0.4092 - acc: 0.8374 - precision: 0.8490 - recall: 0.8393 - auc: 0.9066 - val_loss: 0.2976 - val_acc: 0.8913 - val_precision: 0.9076 - val_recall: 0.8932 - val_auc: 0.9578\n",
            "Epoch 72/100\n",
            "93/93 [==============================] - 4s 42ms/step - loss: 0.4235 - acc: 0.8208 - precision: 0.8338 - recall: 0.8470 - auc: 0.8997 - val_loss: 0.3519 - val_acc: 0.8600 - val_precision: 0.9409 - val_recall: 0.7955 - val_auc: 0.9524\n",
            "Epoch 73/100\n",
            "93/93 [==============================] - 4s 42ms/step - loss: 0.3871 - acc: 0.8451 - precision: 0.8652 - recall: 0.8433 - auc: 0.9177 - val_loss: 0.3510 - val_acc: 0.8675 - val_precision: 0.8353 - val_recall: 0.9455 - val_auc: 0.9485\n",
            "Epoch 74/100\n",
            "93/93 [==============================] - 4s 42ms/step - loss: 0.4149 - acc: 0.8245 - precision: 0.8365 - recall: 0.8420 - auc: 0.9061 - val_loss: 0.3250 - val_acc: 0.8825 - val_precision: 0.8697 - val_recall: 0.9250 - val_auc: 0.9529\n",
            "Epoch 75/100\n",
            "93/93 [==============================] - 4s 42ms/step - loss: 0.4201 - acc: 0.8284 - precision: 0.8507 - recall: 0.8288 - auc: 0.9024 - val_loss: 0.3231 - val_acc: 0.8825 - val_precision: 0.9240 - val_recall: 0.8568 - val_auc: 0.9524\n",
            "Epoch 76/100\n",
            "93/93 [==============================] - 4s 43ms/step - loss: 0.4206 - acc: 0.8303 - precision: 0.8390 - recall: 0.8505 - auc: 0.9072 - val_loss: 0.3842 - val_acc: 0.8450 - val_precision: 0.9620 - val_recall: 0.7477 - val_auc: 0.9529\n",
            "Epoch 77/100\n",
            "93/93 [==============================] - 4s 43ms/step - loss: 0.4059 - acc: 0.8340 - precision: 0.8624 - recall: 0.8310 - auc: 0.9083 - val_loss: 0.3528 - val_acc: 0.8537 - val_precision: 0.9330 - val_recall: 0.7909 - val_auc: 0.9484\n",
            "Epoch 78/100\n",
            "93/93 [==============================] - 4s 42ms/step - loss: 0.4329 - acc: 0.8258 - precision: 0.8346 - recall: 0.8291 - auc: 0.9018 - val_loss: 0.3151 - val_acc: 0.8712 - val_precision: 0.9160 - val_recall: 0.8432 - val_auc: 0.9514\n",
            "Epoch 79/100\n",
            "93/93 [==============================] - 4s 41ms/step - loss: 0.4198 - acc: 0.8323 - precision: 0.8449 - recall: 0.8420 - auc: 0.9043 - val_loss: 0.3254 - val_acc: 0.8712 - val_precision: 0.9223 - val_recall: 0.8364 - val_auc: 0.9538\n",
            "Epoch 80/100\n",
            "93/93 [==============================] - 4s 41ms/step - loss: 0.4203 - acc: 0.8309 - precision: 0.8513 - recall: 0.8455 - auc: 0.9015 - val_loss: 0.3286 - val_acc: 0.8750 - val_precision: 0.9404 - val_recall: 0.8250 - val_auc: 0.9518\n",
            "Epoch 81/100\n",
            "93/93 [==============================] - 4s 41ms/step - loss: 0.4186 - acc: 0.8268 - precision: 0.8421 - recall: 0.8324 - auc: 0.9044 - val_loss: 0.3486 - val_acc: 0.8612 - val_precision: 0.9387 - val_recall: 0.8000 - val_auc: 0.9520\n",
            "Epoch 82/100\n",
            "93/93 [==============================] - 4s 42ms/step - loss: 0.4033 - acc: 0.8414 - precision: 0.8510 - recall: 0.8504 - auc: 0.9110 - val_loss: 0.3013 - val_acc: 0.8838 - val_precision: 0.9082 - val_recall: 0.8773 - val_auc: 0.9556\n",
            "Epoch 83/100\n",
            "93/93 [==============================] - 4s 41ms/step - loss: 0.4240 - acc: 0.8268 - precision: 0.8378 - recall: 0.8425 - auc: 0.9023 - val_loss: 0.3456 - val_acc: 0.8675 - val_precision: 0.9260 - val_recall: 0.8250 - val_auc: 0.9538\n",
            "Epoch 84/100\n",
            "93/93 [==============================] - 4s 42ms/step - loss: 0.3858 - acc: 0.8535 - precision: 0.8673 - recall: 0.8652 - auc: 0.9181 - val_loss: 0.3891 - val_acc: 0.8313 - val_precision: 0.9472 - val_recall: 0.7341 - val_auc: 0.9464\n",
            "Epoch 85/100\n",
            "93/93 [==============================] - 4s 41ms/step - loss: 0.3864 - acc: 0.8567 - precision: 0.8691 - recall: 0.8537 - auc: 0.9197 - val_loss: 0.3461 - val_acc: 0.8788 - val_precision: 0.8907 - val_recall: 0.8886 - val_auc: 0.9532\n",
            "Epoch 86/100\n",
            "93/93 [==============================] - 4s 42ms/step - loss: 0.4151 - acc: 0.8291 - precision: 0.8396 - recall: 0.8438 - auc: 0.9061 - val_loss: 0.3167 - val_acc: 0.8863 - val_precision: 0.8921 - val_recall: 0.9023 - val_auc: 0.9527\n",
            "Epoch 87/100\n",
            "93/93 [==============================] - 4s 42ms/step - loss: 0.3759 - acc: 0.8528 - precision: 0.8644 - recall: 0.8565 - auc: 0.9229 - val_loss: 0.3105 - val_acc: 0.8825 - val_precision: 0.9261 - val_recall: 0.8545 - val_auc: 0.9563\n",
            "Epoch 88/100\n",
            "93/93 [==============================] - 4s 42ms/step - loss: 0.3859 - acc: 0.8455 - precision: 0.8546 - recall: 0.8612 - auc: 0.9194 - val_loss: 0.3020 - val_acc: 0.8950 - val_precision: 0.8921 - val_recall: 0.9205 - val_auc: 0.9552\n",
            "Epoch 89/100\n",
            "93/93 [==============================] - 4s 41ms/step - loss: 0.3935 - acc: 0.8350 - precision: 0.8470 - recall: 0.8521 - auc: 0.9147 - val_loss: 0.2977 - val_acc: 0.8888 - val_precision: 0.8926 - val_recall: 0.9068 - val_auc: 0.9585\n",
            "Epoch 90/100\n",
            "93/93 [==============================] - 4s 41ms/step - loss: 0.3986 - acc: 0.8412 - precision: 0.8456 - recall: 0.8555 - auc: 0.9150 - val_loss: 0.3322 - val_acc: 0.8788 - val_precision: 0.9432 - val_recall: 0.8295 - val_auc: 0.9590\n",
            "Epoch 91/100\n",
            "93/93 [==============================] - 4s 42ms/step - loss: 0.4093 - acc: 0.8285 - precision: 0.8494 - recall: 0.8218 - auc: 0.9088 - val_loss: 0.3280 - val_acc: 0.8712 - val_precision: 0.9223 - val_recall: 0.8364 - val_auc: 0.9478\n",
            "Epoch 92/100\n",
            "93/93 [==============================] - 4s 42ms/step - loss: 0.4109 - acc: 0.8280 - precision: 0.8374 - recall: 0.8384 - auc: 0.9074 - val_loss: 0.3176 - val_acc: 0.8825 - val_precision: 0.9413 - val_recall: 0.8386 - val_auc: 0.9571\n",
            "Epoch 93/100\n",
            "93/93 [==============================] - 4s 41ms/step - loss: 0.4276 - acc: 0.8100 - precision: 0.8234 - recall: 0.8251 - auc: 0.8957 - val_loss: 0.3218 - val_acc: 0.8763 - val_precision: 0.9383 - val_recall: 0.8295 - val_auc: 0.9560\n",
            "Epoch 94/100\n",
            "93/93 [==============================] - 4s 41ms/step - loss: 0.3847 - acc: 0.8431 - precision: 0.8559 - recall: 0.8500 - auc: 0.9204 - val_loss: 0.3650 - val_acc: 0.8625 - val_precision: 0.9508 - val_recall: 0.7909 - val_auc: 0.9546\n",
            "Epoch 95/100\n",
            "93/93 [==============================] - 4s 41ms/step - loss: 0.3670 - acc: 0.8618 - precision: 0.8819 - recall: 0.8595 - auc: 0.9292 - val_loss: 0.3576 - val_acc: 0.8725 - val_precision: 0.9163 - val_recall: 0.8455 - val_auc: 0.9458\n",
            "Epoch 96/100\n",
            "93/93 [==============================] - 4s 42ms/step - loss: 0.4066 - acc: 0.8275 - precision: 0.8412 - recall: 0.8367 - auc: 0.9090 - val_loss: 0.3608 - val_acc: 0.8788 - val_precision: 0.8437 - val_recall: 0.9568 - val_auc: 0.9551\n",
            "Epoch 97/100\n",
            "93/93 [==============================] - 4s 42ms/step - loss: 0.3889 - acc: 0.8321 - precision: 0.8468 - recall: 0.8493 - auc: 0.9206 - val_loss: 0.3198 - val_acc: 0.8900 - val_precision: 0.9211 - val_recall: 0.8750 - val_auc: 0.9569\n",
            "Epoch 98/100\n",
            "93/93 [==============================] - 4s 42ms/step - loss: 0.3812 - acc: 0.8472 - precision: 0.8578 - recall: 0.8567 - auc: 0.9196 - val_loss: 0.3224 - val_acc: 0.8813 - val_precision: 0.9412 - val_recall: 0.8364 - val_auc: 0.9582\n",
            "Epoch 99/100\n",
            "93/93 [==============================] - 4s 41ms/step - loss: 0.3656 - acc: 0.8571 - precision: 0.8768 - recall: 0.8637 - auc: 0.9272 - val_loss: 0.3552 - val_acc: 0.8637 - val_precision: 0.9485 - val_recall: 0.7955 - val_auc: 0.9552\n",
            "Epoch 100/100\n",
            "93/93 [==============================] - 4s 41ms/step - loss: 0.4053 - acc: 0.8481 - precision: 0.8639 - recall: 0.8520 - auc: 0.9071 - val_loss: 0.2988 - val_acc: 0.8838 - val_precision: 0.9242 - val_recall: 0.8591 - val_auc: 0.9592\n"
          ],
          "name": "stdout"
        }
      ]
    },
    {
      "cell_type": "code",
      "metadata": {
        "colab": {
          "base_uri": "https://localhost:8080/"
        },
        "id": "BXMfOZ2Jk6g_",
        "outputId": "0bee39d2-db36-4d3e-98d9-51bf6ef4e736"
      },
      "source": [
        "# Save Model to drive\r\n",
        "models.save_model(model, os.path.join(MODEL_PATH, 'cnn_compilation.h5'))\r\n",
        "\r\n",
        "print(\"Done\")"
      ],
      "execution_count": 64,
      "outputs": [
        {
          "output_type": "stream",
          "text": [
            "Done\n"
          ],
          "name": "stdout"
        }
      ]
    },
    {
      "cell_type": "markdown",
      "metadata": {
        "id": "5Rwzwr-fM3_Y"
      },
      "source": [
        "### Visualizing The Data\r\n",
        "\r\n",
        "One way to do this is by looking at the distribution of some of the dataset’s variables and make scatter plots to see possible correlations. "
      ]
    },
    {
      "cell_type": "code",
      "metadata": {
        "colab": {
          "base_uri": "https://localhost:8080/"
        },
        "id": "baOmN_V81gml",
        "outputId": "41ed4e33-84d2-45df-e93c-378691921fba"
      },
      "source": [
        "# For the visualization of the data\r\n",
        "# Load and use the previous model\r\n",
        "model = load_model(os.path.join(MODEL_PATH, 'cnn_compilation.h5'))\r\n",
        "\r\n",
        "print(\"Done\")"
      ],
      "execution_count": 21,
      "outputs": [
        {
          "output_type": "stream",
          "text": [
            "Done\n"
          ],
          "name": "stdout"
        }
      ]
    },
    {
      "cell_type": "code",
      "metadata": {
        "id": "nI8FjTjY4KIe",
        "colab": {
          "base_uri": "https://localhost:8080/",
          "height": 545
        },
        "outputId": "19972339-d111-4c18-9abb-a1ac9f266e25"
      },
      "source": [
        "plt = plot(history)\r\n",
        "plt.show()"
      ],
      "execution_count": 88,
      "outputs": [
        {
          "output_type": "display_data",
          "data": {
            "image/png": "[encoded data removed]",
            "text/plain": [
              "<Figure size 432x288 with 1 Axes>"
            ]
          },
          "metadata": {
            "tags": [],
            "needs_background": "light"
          }
        },
        {
          "output_type": "display_data",
          "data": {
            "image/png": "[encoded data removed]",
            "text/plain": [
              "<Figure size 432x288 with 1 Axes>"
            ]
          },
          "metadata": {
            "tags": [],
            "needs_background": "light"
          }
        }
      ]
    },
    {
      "cell_type": "code",
      "metadata": {
        "colab": {
          "base_uri": "https://localhost:8080/",
          "height": 1000
        },
        "id": "oQLRqVZv3-bc",
        "outputId": "6cc4d09c-f2f4-4d10-8e9f-b11e0b27d030"
      },
      "source": [
        "plt = plot_metrics(history)\r\n",
        "plt.show()"
      ],
      "execution_count": 98,
      "outputs": [
        {
          "output_type": "display_data",
          "data": {
            "image/png": "[encoded data removed]",
            "text/plain": [
              "<Figure size 432x288 with 1 Axes>"
            ]
          },
          "metadata": {
            "tags": [],
            "needs_background": "light"
          }
        },
        {
          "output_type": "display_data",
          "data": {
            "image/png": "[encoded data removed]",
            "text/plain": [
              "<Figure size 432x288 with 1 Axes>"
            ]
          },
          "metadata": {
            "tags": [],
            "needs_background": "light"
          }
        },
        {
          "output_type": "display_data",
          "data": {
            "image/png": "[encoded data removed]",
            "text/plain": [
              "<Figure size 432x288 with 1 Axes>"
            ]
          },
          "metadata": {
            "tags": [],
            "needs_background": "light"
          }
        },
        {
          "output_type": "display_data",
          "data": {
            "image/png": "[encoded data removed]",
            "text/plain": [
              "<Figure size 432x288 with 1 Axes>"
            ]
          },
          "metadata": {
            "tags": [],
            "needs_background": "light"
          }
        }
      ]
    },
    {
      "cell_type": "code",
      "metadata": {
        "colab": {
          "base_uri": "https://localhost:8080/"
        },
        "id": "pH89us9R_o_F",
        "outputId": "058480ec-4a33-4735-9156-30e5ffcf518c"
      },
      "source": [
        "test_loss, test_acc, test_precision, test_recall, test_auc = model.evaluate(test_datagen.flow(test_images,\r\n",
        "                                                       test_labels,\r\n",
        "                                                       batch_size=BATCH_SIZE,\r\n",
        "                                                       shuffle=False),\r\n",
        "                                     steps=len(test_images) // BATCH_SIZE,\r\n",
        "                                     callbacks=[GarbageCollectorCallback()])\r\n",
        "print(\"\\n---------------------------------\")\r\n",
        "print(\"Accuracy:\", \"%0.2f\" % (test_acc*100), \"%\")\r\n",
        "print(\"Precision:\", \"%0.2f\" % (test_precision*100), \"%\")\r\n",
        "print(\"Recall:\", \"%0.2f\" % (test_recall*100), \"%\")\r\n",
        "print(\"AUC:\", \"%0.2f\" % (test_auc*100), \"%\")\r\n",
        "print(\"---------------------------------\\n\")\r\n"
      ],
      "execution_count": 104,
      "outputs": [
        {
          "output_type": "stream",
          "text": [
            "16/16 [==============================] - 0s 7ms/step - loss: 0.3557 - acc: 0.8531 - precision: 0.8615 - recall: 0.7943 - auc: 0.9355    \n",
            "\n",
            "---------------------------------\n",
            "Accuracy: 85.31 %\n",
            "Precision: 86.15 %\n",
            "Recall: 79.43 %\n",
            "AUC: 93.55 %\n",
            "---------------------------------\n",
            "\n"
          ],
          "name": "stdout"
        }
      ]
    },
    {
      "cell_type": "code",
      "metadata": {
        "colab": {
          "base_uri": "https://localhost:8080/",
          "height": 505
        },
        "id": "zUfe6a_rtqV8",
        "outputId": "29738918-69de-47a5-9396-4fc13c09c979"
      },
      "source": [
        "# Print confusion matrix\r\n",
        "classes = [\"Masses\", \"Calcification\"]\r\n",
        "batch_size = 16\r\n",
        "print(test_images.shape, test_labels.shape)\r\n",
        "plot_confusion_matrix(classes, test_datagen, test_images, test_labels, batch_size)"
      ],
      "execution_count": 107,
      "outputs": [
        {
          "output_type": "stream",
          "text": [
            "(336, 150, 150, 1) (336,)\n",
            "Confusion Matrix\n",
            "              precision    recall  f1-score   support\n",
            "\n",
            "         0.0       0.83      0.90      0.87       179\n",
            "         1.0       0.87      0.80      0.83       157\n",
            "\n",
            "    accuracy                           0.85       336\n",
            "   macro avg       0.85      0.85      0.85       336\n",
            "weighted avg       0.85      0.85      0.85       336\n",
            "\n"
          ],
          "name": "stdout"
        },
        {
          "output_type": "display_data",
          "data": {
            "image/png": "[encoded data removed]",
            "text/plain": [
              "<Figure size 432x288 with 2 Axes>"
            ]
          },
          "metadata": {
            "tags": [],
            "needs_background": "light"
          }
        }
      ]
    },
    {
      "cell_type": "markdown",
      "metadata": {
        "id": "e2v_-h75Z3aZ"
      },
      "source": [
        "### Fighting overfitting: 1. Data Augmentation\r\n",
        "\r\n",
        "Neural networks prove not to be very robust to noise, and these plots are characteristic of **overfitting**. Training accuracy keeps increasing linearly while validation accuracy stalls around **82%**. \r\n",
        "\r\n"
      ]
    },
    {
      "cell_type": "code",
      "metadata": {
        "id": "ojvyPceIaunR",
        "colab": {
          "base_uri": "https://localhost:8080/"
        },
        "outputId": "4caaf68a-bde6-4dd6-ef80-2445c2879eda"
      },
      "source": [
        "# Train data augmentation \r\n",
        "train_datagen = ImageDataGenerator(\r\n",
        "    rescale=1./65535,\r\n",
        "    rotation_range=40,\r\n",
        "    width_shift_range=0.2,\r\n",
        "    height_shift_range=0.2,\r\n",
        "    shear_range=20,\r\n",
        "    zoom_range=0.2,\r\n",
        "    horizontal_flip=True,\r\n",
        "    fill_mode='nearest')\r\n",
        "\r\n",
        "valid_datagen = ImageDataGenerator(rescale=1./65535)\r\n",
        "test_datagen = ImageDataGenerator(rescale=1./65535) \r\n",
        "\r\n",
        "print(\"Done\")"
      ],
      "execution_count": 31,
      "outputs": [
        {
          "output_type": "stream",
          "text": [
            "Done\n"
          ],
          "name": "stdout"
        }
      ]
    },
    {
      "cell_type": "code",
      "metadata": {
        "id": "8ex5WyyOwir4",
        "colab": {
          "base_uri": "https://localhost:8080/"
        },
        "outputId": "7aa7de7c-cdff-4ee9-ee2d-c68f915af764"
      },
      "source": [
        "# Building the new model with the train data augmentation\r\n",
        "model = build_model(\"binary_crossentropy\", \"acc\")\r\n",
        "model.summary()"
      ],
      "execution_count": 32,
      "outputs": [
        {
          "output_type": "stream",
          "text": [
            "Model: \"sequential_2\"\n",
            "_________________________________________________________________\n",
            "Layer (type)                 Output Shape              Param #   \n",
            "=================================================================\n",
            "conv2d_8 (Conv2D)            (None, 148, 148, 32)      320       \n",
            "_________________________________________________________________\n",
            "max_pooling2d_8 (MaxPooling2 (None, 74, 74, 32)        0         \n",
            "_________________________________________________________________\n",
            "conv2d_9 (Conv2D)            (None, 72, 72, 64)        18496     \n",
            "_________________________________________________________________\n",
            "max_pooling2d_9 (MaxPooling2 (None, 36, 36, 64)        0         \n",
            "_________________________________________________________________\n",
            "conv2d_10 (Conv2D)           (None, 34, 34, 128)       73856     \n",
            "_________________________________________________________________\n",
            "max_pooling2d_10 (MaxPooling (None, 17, 17, 128)       0         \n",
            "_________________________________________________________________\n",
            "conv2d_11 (Conv2D)           (None, 15, 15, 128)       147584    \n",
            "_________________________________________________________________\n",
            "max_pooling2d_11 (MaxPooling (None, 7, 7, 128)         0         \n",
            "_________________________________________________________________\n",
            "flatten_2 (Flatten)          (None, 6272)              0         \n",
            "_________________________________________________________________\n",
            "dense_4 (Dense)              (None, 512)               3211776   \n",
            "_________________________________________________________________\n",
            "dense_5 (Dense)              (None, 1)                 513       \n",
            "=================================================================\n",
            "Total params: 3,452,545\n",
            "Trainable params: 3,452,545\n",
            "Non-trainable params: 0\n",
            "_________________________________________________________________\n"
          ],
          "name": "stdout"
        }
      ]
    },
    {
      "cell_type": "code",
      "metadata": {
        "id": "T_LVsSUEj0Vx"
      },
      "source": [
        "history = model.fit(train_datagen.flow(train_images_split,\r\n",
        "                                       train_labels_split,\r\n",
        "                                       batch_size=BATCH_SIZE,\r\n",
        "                                       shuffle=False),\r\n",
        "                    steps_per_epoch=len(train_images_split) // BATCH_SIZE, \r\n",
        "                    epochs=EPOCHS,\r\n",
        "                    validation_data=valid_datagen.flow(valid_images_split,\r\n",
        "                                       valid_labels_split,\r\n",
        "                                       batch_size=BATCH_SIZE,\r\n",
        "                                       shuffle=False),\r\n",
        "                    validation_steps=len(valid_labels_split) // BATCH_SIZE,\r\n",
        "                    callbacks=[GarbageCollectorCallback()])"
      ],
      "execution_count": null,
      "outputs": []
    },
    {
      "cell_type": "code",
      "metadata": {
        "colab": {
          "base_uri": "https://localhost:8080/"
        },
        "id": "qIz-On1-3u2F",
        "outputId": "074db2db-d54f-444e-d5a7-5dbad6a4f09a"
      },
      "source": [
        "# Save Model to drive\r\n",
        "models.save_model(model, os.path.join(MODEL_PATH, 'cnn_augmentation.h5'))\r\n",
        "\r\n",
        "print(\"Done\")"
      ],
      "execution_count": 33,
      "outputs": [
        {
          "output_type": "stream",
          "text": [
            "Done\n"
          ],
          "name": "stdout"
        }
      ]
    },
    {
      "cell_type": "code",
      "metadata": {
        "id": "DNJBV5khoFEA",
        "colab": {
          "base_uri": "https://localhost:8080/",
          "height": 545
        },
        "outputId": "cd5dc387-2cc7-488c-cdba-c653332c182e"
      },
      "source": [
        "plt = plot(history)\r\n",
        "plt.show()"
      ],
      "execution_count": 44,
      "outputs": [
        {
          "output_type": "display_data",
          "data": {
            "image/png": "[encoded data removed]",
            "text/plain": [
              "<Figure size 432x288 with 1 Axes>"
            ]
          },
          "metadata": {
            "tags": [],
            "needs_background": "light"
          }
        },
        {
          "output_type": "display_data",
          "data": {
            "image/png": "[encoded data removed]",
            "text/plain": [
              "<Figure size 432x288 with 1 Axes>"
            ]
          },
          "metadata": {
            "tags": [],
            "needs_background": "light"
          }
        }
      ]
    },
    {
      "cell_type": "code",
      "metadata": {
        "id": "YYDj_8GquRRh"
      },
      "source": [
        "test_loss, test_acc = model.evaluate(test_datagen.flow(test_images,\r\n",
        "                                                       test_labels,\r\n",
        "                                                       batch_size=BATCH_SIZE,\r\n",
        "                                                       shuffle=False),\r\n",
        "                                     steps=len(test_images) // BATCH_SIZE,\r\n",
        "                                     callbacks=[GarbageCollectorCallback()])\r\n",
        "\r\n",
        "print(\"Accuracy:\", \"%0.2f\" % (test_acc*100), \"%\")"
      ],
      "execution_count": null,
      "outputs": []
    },
    {
      "cell_type": "markdown",
      "metadata": {
        "id": "UrLD4fBGtc6k"
      },
      "source": [
        "##K-fold cross validation.\r\n"
      ]
    },
    {
      "cell_type": "code",
      "metadata": {
        "id": "YuiUODCT97Bq"
      },
      "source": [
        "# Train data augmentation for k-fold-cross-validation \r\n",
        "train_datagen = ImageDataGenerator(\r\n",
        "    rescale=1./65535,\r\n",
        "    rotation_range=40,\r\n",
        "    width_shift_range=0.2,\r\n",
        "    height_shift_range=0.2,\r\n",
        "    shear_range=20,\r\n",
        "    zoom_range=0.2,\r\n",
        "    horizontal_flip=True,\r\n",
        "    fill_mode='nearest')\r\n",
        "\r\n",
        "valid_datagen = ImageDataGenerator(rescale=1./65535)\r\n",
        "print(train_images.shape)"
      ],
      "execution_count": null,
      "outputs": []
    },
    {
      "cell_type": "code",
      "metadata": {
        "id": "DgdAZtZ1wMf3"
      },
      "source": [
        "def cross_validate(k, batch_size, num_epochs, dataset, targets, verbosity):\r\n",
        "  #10-Fold-Cross-Validation\r\n",
        "  num_val_samples = len(dataset) // k \r\n",
        "  validation_accuracies = []\r\n",
        "  validation_losses = []\r\n",
        "\r\n",
        "  for i in range(k):\r\n",
        "    # rigen augmented data \r\n",
        "    \r\n",
        "    print(\"processing fold #\", i)\r\n",
        "    validation_data = dataset[i * num_val_samples : (i + 1) * num_val_samples]\r\n",
        "    validation_labels = targets[i * num_val_samples : (i + 1) * num_val_samples]\r\n",
        "\r\n",
        "    partial_train_data = np.concatenate(\r\n",
        "        [dataset[:i * num_val_samples],\r\n",
        "        dataset[(i + 1) * num_val_samples:]], \r\n",
        "        axis=0)\r\n",
        "\r\n",
        "    partial_train_targets = np.concatenate(\r\n",
        "        [targets[:i * num_val_samples],\r\n",
        "        targets[(i + 1) * num_val_samples:]], \r\n",
        "        axis=0)\r\n",
        "\r\n",
        "    model = build_model(\"binary_crossentropy\", \"acc\")\r\n",
        "    \r\n",
        "    history = model.fit(train_datagen.flow(partial_train_data, \r\n",
        "                                          partial_train_targets,\r\n",
        "                                          batch_size=batch_size,\r\n",
        "                                          shuffle=False),\r\n",
        "                        epochs=num_epochs,\r\n",
        "                        steps_per_epoch=len(partial_train_data) // batch_size,\r\n",
        "                        verbose=verbosity,\r\n",
        "                        callbacks=[GarbageCollectorCallback()])\r\n",
        "    \r\n",
        "    val_loss, val_acc = model.evaluate(valid_datagen.flow(validation_data,\r\n",
        "                                                          validation_labels,\r\n",
        "                                                          batch_size=batch_size,\r\n",
        "                                                          shuffle=False),\r\n",
        "                                       steps=len(validation_data) // batch_size,\r\n",
        "                                       callbacks=[GarbageCollectorCallback()])\r\n",
        "    \r\n",
        "    validation_accuracies.append(val_acc)\r\n",
        "    validation_losses.append(val_loss)\r\n",
        "\r\n",
        "  return validation_accuracies, validation_losses \r\n",
        "  \r\n",
        "print(\"Done\")"
      ],
      "execution_count": null,
      "outputs": []
    },
    {
      "cell_type": "code",
      "metadata": {
        "id": "MdmZ-0dKuKlG"
      },
      "source": [
        "acc, loss = cross_validate(k=10, batch_size=20, num_epochs=100, dataset=train_images, targets=train_labels, verbosity=1)"
      ],
      "execution_count": null,
      "outputs": []
    },
    {
      "cell_type": "code",
      "metadata": {
        "id": "M3hbM3c6RxTq"
      },
      "source": [
        "print(len(acc))\r\n",
        "print(len(loss))\r\n",
        "print()\r\n",
        "print(np.mean(acc))\r\n",
        "print(np.mean(loss))"
      ],
      "execution_count": null,
      "outputs": []
    },
    {
      "cell_type": "markdown",
      "metadata": {
        "id": "DqQKeyLVTVi7"
      },
      "source": [
        "### Hyperparameters Tuning\r\n",
        "\r\n",
        "To compare the performance of one machine learning algorithm to another, it is necessary to perform controlled experiments\r\n",
        "\r\n",
        "*   Add Dropout or L2 Regularization\r\n",
        "*   Varying of convolutional layers: `[3, 5, 7]`\r\n",
        "*   Change Optimizer (try Adam)\r\n",
        "*   Varying batch size: `[20, 32, 64, 128]`\r\n",
        "*   Varying learning rate\r\n",
        "*   Varying number of units per layer:\r\n",
        "\r\n",
        "```\r\n",
        "Layer  | Unit per Layer \r\n",
        "1      | [32,32,64,128]  \r\n",
        "2      | [32,64,128,128] \r\n",
        "3      | [32,64,128,256] \r\n",
        "4      | [64,64,128,256] \r\n",
        "```"
      ]
    },
    {
      "cell_type": "code",
      "metadata": {
        "id": "VO1GEdyfkbRO"
      },
      "source": [
        "#Parameters Grid \r\n",
        "dropout_regularization = True                                               # grafico comparativo: sembra leggermente meglio con Dropout\r\n",
        "batch_sizes = [20, 32, 64, 128]                                             # 4 \r\n",
        "layers_number = 4                                                           # 1\r\n",
        "units_per_layer_dict = [[32,64,128,128], [32,64,128,256]]                   # 2\r\n",
        "learning_rates = [1e-2, 1e-3, 1e-4]                                         # 3\r\n",
        "num_epochs = 100\r\n",
        "num_folds = 5\r\n",
        "\r\n",
        "file_path_out = os.path.join(base_path, \"tuning results/top3_results.csv\")\r\n",
        "file_path = os.path.join(base_path, \"tuning results/results-CM.csv\")\r\n",
        "model_path = os.path.join(base_path, \"tuning results/best_model.h5\")\r\n",
        "\r\n",
        "# Top k models \r\n",
        "k = 3"
      ],
      "execution_count": null,
      "outputs": []
    },
    {
      "cell_type": "code",
      "metadata": {
        "id": "fQgC-nrCTcn7"
      },
      "source": [
        "def build_custom_model(layers_number, units_per_layer, batch_size, dropout, optimizer):\r\n",
        "  model = models.Sequential()\r\n",
        "\r\n",
        "  for i in range(layers_number):\r\n",
        "     # First layer. Setting input shape\r\n",
        "    if i == 0: \r\n",
        "      model.add(layers.Conv2D(units_per_layer[i], (3, 3), activation='relu', input_shape=(150, 150, 1)))\r\n",
        "      model.add(layers.MaxPooling2D((2, 2)))\r\n",
        "    else:\r\n",
        "      model.add(layers.Conv2D(units_per_layer[i], (3, 3), activation='relu'))\r\n",
        "      model.add(layers.MaxPooling2D((2, 2)))\r\n",
        "\r\n",
        "  model.add(layers.Flatten())\r\n",
        "  model.add(layers.Dense(512, activation='relu'))\r\n",
        "  \r\n",
        "  if dropout:\r\n",
        "    model.add(layers.Dropout(0.5))\r\n",
        "\r\n",
        "  model.add(layers.Dense(1, activation='sigmoid'))\r\n",
        "\r\n",
        "  model.compile(loss=\"binary_crossentropy\",\r\n",
        "              optimizer=optimizer,\r\n",
        "              metrics=[\"acc\"]) \r\n",
        "  \r\n",
        "  return model \r\n",
        "\r\n",
        "def CNN_tuning(num_folds, batch_sizes, num_epochs, layers_number, units_per_layer_dict, learning_rates, dropout_reg, dataset, targets):\r\n",
        "  lr = learning_rates[0]\r\n",
        "  opts = [optimizers.RMSprop(learning_rate=lr), optimizers.Adam(learning_rate=lr)]\r\n",
        "\r\n",
        "  with open(file_path, 'w') as f:\r\n",
        "    header = \"batch_size,num_epochs,units_per_layer,optimizer,learning_rate,mean_val_acc,mean_val_loss,num_folds\\n\"\r\n",
        "    f.write(header)\r\n",
        "\r\n",
        "  for batch_size in batch_sizes:                # 4\r\n",
        "    for opt in opts:                            # 2\r\n",
        "      for values_set in units_per_layer_dict:   # 2\r\n",
        "        # Build CNN model \r\n",
        "        model = build_custom_model(layers_number, values_set, batch_size, dropout_reg, opt)\r\n",
        "\r\n",
        "        if \"RMSprop\" in str(opt):\r\n",
        "          str_opt = \"RMSprop\"  \r\n",
        "        else:\r\n",
        "          str_opt = \"Adam\"\r\n",
        "\r\n",
        "        #print info \r\n",
        "        print(\"-----------------------------------------------------\")\r\n",
        "        print(\"batch_size: \\t\", batch_size)\r\n",
        "        print(\"num_epochs: \\t\", num_epochs)\r\n",
        "        print(\"units_per_layer:\", str(values_set).replace(\",\", \" \"))\r\n",
        "        print(\"optimizer: \\t\", str_opt)\r\n",
        "        print(\"learning_rate: \\t\", str(lr))\r\n",
        "        print(\"num_folds CV: \\t\", num_folds)\r\n",
        "        print(\"-----------------------------------------------------\")\r\n",
        "\r\n",
        "        #cross validate CNN model\r\n",
        "        val_acc, val_loss = cross_validate(num_folds, batch_size, num_epochs, dataset, targets, 1)\r\n",
        "\r\n",
        "        #save results on csv file \r\n",
        "        with open(file_path, 'a') as f:\r\n",
        "          row = str(batch_size) + \",\" \\\r\n",
        "              + str(num_epochs) + \",\" \\\r\n",
        "              + str(values_set).replace(\",\", \" \") + \",\" \\\r\n",
        "              + str_opt + \",\" \\\r\n",
        "              + str(lr) + \",\" \\\r\n",
        "              + \"%0.4f (+/- %0.4f)\" % (np.mean(val_acc), np.std(val_acc) * 2) + \",\" \\\r\n",
        "              + \"%0.4f (+/- %0.4f)\" % (np.mean(val_loss), np.std(val_loss) * 2) + \",\" \\\r\n",
        "              + str(num_folds) + \"\\n\"\r\n",
        "          f.write(row)\r\n",
        "\r\n",
        "        del model\r\n",
        "        K.clear_session()\r\n",
        "\r\n",
        "print(\"Done\")"
      ],
      "execution_count": null,
      "outputs": []
    },
    {
      "cell_type": "code",
      "metadata": {
        "id": "u0fLlSfbPOWB"
      },
      "source": [
        "CNN_tuning(num_folds, batch_sizes, num_epochs, layers_number, units_per_layer_dict, learning_rates, dropout_regularization, train_images, train_labels)"
      ],
      "execution_count": null,
      "outputs": []
    },
    {
      "cell_type": "markdown",
      "metadata": {
        "id": "SheVoIOTYxfa"
      },
      "source": [
        "##Testing best k models: \r\n",
        "feeding the models with all available data and evaluating these one last time on the test set."
      ]
    },
    {
      "cell_type": "code",
      "metadata": {
        "id": "0VKyXizMIfAT"
      },
      "source": [
        "# Full training set non-splitted \r\n",
        "print(train_images.shape)\r\n",
        "print(train_labels.shape)\r\n",
        "print(test_images.shape)\r\n",
        "print(test_labels.shape)"
      ],
      "execution_count": null,
      "outputs": []
    },
    {
      "cell_type": "code",
      "metadata": {
        "colab": {
          "base_uri": "https://localhost:8080/"
        },
        "id": "7PFZGbUeZPI4",
        "outputId": "cfe52649-4a3b-49a4-aeb3-f026c5a72eec"
      },
      "source": [
        "def evaluate_best_model(k, file_path, file_path_out):\r\n",
        "  # Load results  \r\n",
        "  data = pd.read_csv(file_path)\r\n",
        "\r\n",
        "  # Sort results by accuracies \r\n",
        "  data.sort_values(by=['mean_val_acc'], ascending=False, inplace=True)\r\n",
        "  data.head()\r\n",
        "\r\n",
        "  # Init variables\r\n",
        "  layers_number = 4\r\n",
        "  batch_size = 0\r\n",
        "  num_epochs = 0\r\n",
        "  units_per_layer = []\r\n",
        "  optimizer = 0\r\n",
        "  learning_rate = 0\r\n",
        "  dropout=True\r\n",
        "\r\n",
        "  with open(file_path_out, 'w') as f:\r\n",
        "    header = \"batch_size,num_epochs,units_per_layer,optimizer,learning_rate,mean_val_acc,mean_val_loss,prediction_acc\\n\"\r\n",
        "    f.write(header)\r\n",
        "\r\n",
        "  # Get parameters values\r\n",
        "  for index, row in data[:k].iterrows():\r\n",
        "\r\n",
        "    #print info \r\n",
        "    print(\"-----------------------------------------------------\")\r\n",
        "    print(\"batch_size: \\t\", str(row[\"batch_size\"]))\r\n",
        "    print(\"num_epochs: \\t\", str(row[\"num_epochs\"]))\r\n",
        "    print(\"units_per_layer:\", str(row[\"units_per_layer\"]))\r\n",
        "    print(\"optimizer: \\t\", str(row[\"optimizer\"]))\r\n",
        "    print(\"learning_rate: \\t\", str(row[\"learning_rate\"]))\r\n",
        "    print(\"mean_val_acc: \\t\", str(row[\"mean_val_acc\"]))\r\n",
        "    print(\"mean_val_loss: \\t\", str(row[\"mean_val_loss\"]))\r\n",
        "    print(\"-----------------------------------------------------\")\r\n",
        "\r\n",
        "\r\n",
        "    batch_size = int(row[\"batch_size\"])\r\n",
        "    num_epochs = int(row[\"num_epochs\"])\r\n",
        "    units_per_layer = ast.literal_eval(row[\"units_per_layer\"].replace(\"  \", \",\"))\r\n",
        "    optimizer = row[\"optimizer\"]\r\n",
        "    learning_rate = row[\"learning_rate\"]\r\n",
        "\r\n",
        "    if optimizer == \"Adam\":\r\n",
        "      opt = optimizers.Adam(learning_rate=float(learning_rate))\r\n",
        "    else: \r\n",
        "      opt = optimizers.RMSprop(learning_rate=float(learning_rate))\r\n",
        "\r\n",
        "    # Build model\r\n",
        "    model = build_custom_model(layers_number, units_per_layer, batch_size, dropout, opt)\r\n",
        "\r\n",
        "    # Fit model on all the available data\r\n",
        "    history = model.fit(train_datagen.flow(train_images, \r\n",
        "                                          train_labels,\r\n",
        "                                          batch_size=batch_size,\r\n",
        "                                          shuffle=False),\r\n",
        "                        epochs=num_epochs,\r\n",
        "                        steps_per_epoch=len(train_images) // batch_size,\r\n",
        "                        callbacks=[GarbageCollectorCallback()])\r\n",
        "    \r\n",
        "    # Evaluate model on test set \r\n",
        "    test_loss, test_acc = model.evaluate(test_datagen.flow(test_images,\r\n",
        "                                                        test_labels,\r\n",
        "                                                        batch_size=batch_size,\r\n",
        "                                                        shuffle=False),\r\n",
        "                                        steps=len(test_images) // batch_size,\r\n",
        "                                        callbacks=[GarbageCollectorCallback()])\r\n",
        "\r\n",
        "    print(\"Accuracy:\", \"%0.2f\" % (test_acc*100), \"%\")\r\n",
        "\r\n",
        "    # Get the prediction for each sample\r\n",
        "    predictions = model.predict(\r\n",
        "      test_images,\r\n",
        "      max_queue_size=10,\r\n",
        "      callbacks=[GarbageCollectorCallback()]) \r\n",
        "    \r\n",
        "    predicted = np.argmax(predictions,axis=1) \r\n",
        "\r\n",
        "    correct_predictions = np.sum(np.equal(predicted,test_labels))\r\n",
        "    accuracy = correct_predictions/len(test_labels)\r\n",
        "    print(\"\\n-----------------------------------------------------\")\r\n",
        "    print(\"Correct Predictions\")\r\n",
        "    print(\"Accuracy:\", \"%0.2f\" % (accuracy*100), \"%\")\r\n",
        "    print(\"-----------------------------------------------------\\n\")\r\n",
        "\r\n",
        "    if index == 0:\r\n",
        "      model.save(model_path)\r\n",
        "\r\n",
        "    # Save results on csv file \r\n",
        "    with open(file_path_out, 'a') as f:\r\n",
        "      row = str(row[\"batch_size\"]) + \",\" \\\r\n",
        "          + str(row[\"num_epochs\"]) + \",\" \\\r\n",
        "          + str(row[\"units_per_layer\"]) + \",\" \\\r\n",
        "          + str(row[\"optimizer\"]) + \",\" \\\r\n",
        "          + str(row[\"learning_rate\"]) + \",\" \\\r\n",
        "          + str(\"%0.4f\" % (test_acc)) + \",\" \\\r\n",
        "          + str(\"%0.4f\" % (test_loss)) + \",\" \\\r\n",
        "          + str(accuracy) + \"\\n\"\r\n",
        "      f.write(row)\r\n",
        "\r\n",
        "print(\"Done\")"
      ],
      "execution_count": null,
      "outputs": [
        {
          "output_type": "stream",
          "text": [
            "Done\n"
          ],
          "name": "stdout"
        }
      ]
    },
    {
      "cell_type": "code",
      "metadata": {
        "id": "ib4nzirrh6Jn"
      },
      "source": [
        "data[:k].head()"
      ],
      "execution_count": null,
      "outputs": []
    },
    {
      "cell_type": "code",
      "metadata": {
        "id": "4CT4ff1dw884"
      },
      "source": [
        "# Get from file the a list of models and evaluate the best\r\n",
        "evaluate_best_model(k, file_path, file_path_out)"
      ],
      "execution_count": null,
      "outputs": []
    },
    {
      "cell_type": "code",
      "metadata": {
        "id": "8lKwQPcOrTpO"
      },
      "source": [
        "# Get the prediction for each sample\r\n",
        "model = load_model(model_path)\r\n"
      ],
      "execution_count": null,
      "outputs": []
    },
    {
      "cell_type": "code",
      "metadata": {
        "id": "OpCFz_ewsJ5k"
      },
      "source": [
        "\r\n",
        "predictions = model.predict(\r\n",
        "  test_images,\r\n",
        "  max_queue_size=10,\r\n",
        "  callbacks=[GarbageCollectorCallback()]) \r\n",
        "\r\n",
        "predicted = np.argmax(predictions,axis=1) \r\n",
        "\r\n",
        "correct_predictions = np.sum(np.equal(predicted,test_labels))\r\n",
        "accuracy = correct_predictions/len(test_labels)\r\n",
        "\r\n",
        "\r\n",
        "# try to load the model again\r\n",
        "\r\n",
        "test_loss, test_acc = model.evaluate(test_images,test_labels)\r\n",
        "\r\n",
        "print('test_acc:', test_acc)"
      ],
      "execution_count": null,
      "outputs": []
    },
    {
      "cell_type": "code",
      "metadata": {
        "id": "XmYX-1Ol9cu0"
      },
      "source": [
        "a = [0.111,0.222,1.222]\r\n",
        "print(a)"
      ],
      "execution_count": null,
      "outputs": []
    },
    {
      "cell_type": "code",
      "metadata": {
        "id": "Rb1cu__U-Ggj"
      },
      "source": [
        "a = a.astype(int)\r\n",
        "\r\n",
        "np.clip(a, 0, 1)"
      ],
      "execution_count": null,
      "outputs": []
    },
    {
      "cell_type": "code",
      "metadata": {
        "colab": {
          "base_uri": "https://localhost:8080/",
          "height": 282
        },
        "id": "yIpdi8y9DZnx",
        "outputId": "855b644a-01c5-493c-fe74-feeb9564dc73"
      },
      "source": [
        "number_list = np.array([1, 1, 3, 3, 2, 3, 4, 4, 1])\r\n",
        "\r\n",
        "(unique, counts) = np.unique(test_labels, return_counts=True)\r\n",
        "\r\n",
        "plt.hist(counts, unique) \r\n",
        "plt.show()\r\n",
        "print(unique, counts)"
      ],
      "execution_count": null,
      "outputs": [
        {
          "output_type": "display_data",
          "data": {
            "image/png": "[encoded data removed]",
            "text/plain": [
              "<Figure size 432x288 with 1 Axes>"
            ]
          },
          "metadata": {
            "tags": []
          }
        },
        {
          "output_type": "stream",
          "text": [
            "[0. 1.] [179 157]\n"
          ],
          "name": "stdout"
        }
      ]
    },
    {
      "cell_type": "code",
      "metadata": {
        "id": "XfnUpk9bIwy0"
      },
      "source": [
        "#print confusion matrix\r\n",
        "classes = [\"Masses\", \"Calcification\"]\r\n",
        "plot_confusion_matrix(classes,\r\n",
        "                      test_images,\r\n",
        "                      test_labels,\r\n",
        "                      title='Confusion matrix',\r\n",
        "                      cmap=plt.cm.Blues) "
      ],
      "execution_count": null,
      "outputs": []
    },
    {
      "cell_type": "markdown",
      "metadata": {
        "id": "GUOdk75vBJyy"
      },
      "source": [
        "## Reference\r\n",
        "\r\n",
        "\r\n",
        ">**Student** | **Email contact**\r\n",
        ">--- | ---\r\n",
        ">A. Schiavo | a.schiavo2@studenti.unipi.it\r\n",
        ">M. Gómez\t|\tm.gomezgomez@studenti.unipi.it\r\n",
        ">M. Daole |\tm.daole@studenti.unipi.it\r\n"
      ]
    }
  ]
}