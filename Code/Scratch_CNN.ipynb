{
  "nbformat": 4,
  "nbformat_minor": 0,
  "metadata": {
    "colab": {
      "name": "Scratch_CNN.ipynb",
      "provenance": [],
      "collapsed_sections": [],
      "include_colab_link": true
    },
    "kernelspec": {
      "name": "python3",
      "display_name": "Python 3"
    },
    "accelerator": "GPU"
  },
  "cells": [
    {
      "cell_type": "markdown",
      "metadata": {
        "id": "view-in-github",
        "colab_type": "text"
      },
      "source": [
        "<a href=\"https://colab.research.google.com/github/MarshaGomez/CNN-Medical-Imaging-Analysis/blob/main/Code/Scratch_CNN.ipynb\" target=\"_parent\"><img src=\"https://colab.research.google.com/assets/colab-badge.svg\" alt=\"Open In Colab\"/></a>"
      ]
    },
    {
      "cell_type": "markdown",
      "metadata": {
        "id": "UPQ8gkXb0NY0"
      },
      "source": [
        "# **Scratch CNN**\r\n",
        "---\r\n",
        "Classification model for discriminating between 2 classes: **masses and calcification**. *Ad-hoc CNN architecture*.\r\n",
        "\r\n",
        "**Students:**   *A. Schiavo - M. Gómez - M. Daole*\r\n",
        "\r\n"
      ]
    },
    {
      "cell_type": "code",
      "metadata": {
        "colab": {
          "base_uri": "https://localhost:8080/"
        },
        "id": "95hM4MvWjwfO",
        "outputId": "df3c8384-8d8c-44fb-c8fd-efbfe721394f"
      },
      "source": [
        "from google.colab import drive\r\n",
        "drive.mount('/content/gdrive', force_remount=True) "
      ],
      "execution_count": null,
      "outputs": [
        {
          "output_type": "stream",
          "text": [
            "Mounted at /content/gdrive\n"
          ],
          "name": "stdout"
        }
      ]
    },
    {
      "cell_type": "code",
      "metadata": {
        "id": "iduaD281krFD",
        "colab": {
          "base_uri": "https://localhost:8080/"
        },
        "outputId": "830673c0-e863-42d4-95eb-e8fa0dd729e2"
      },
      "source": [
        "import tensorflow as tf\r\n",
        "print(tf.__version__)\r\n",
        "import numpy as np\r\n",
        "import os \r\n",
        "\r\n",
        "base_path = \"/content/gdrive/My Drive/Colab_Notebooks/CIDL/DL Project/numpy data\"\r\n",
        "train_img_path = os.path.join(base_path, 'train_tensor.npy')\r\n",
        "train_label_path = os.path.join(base_path, 'train_labels.npy')\r\n",
        "test_img_path = os.path.join(base_path, 'public_test_tensor.npy')\r\n",
        "test_label_path = os.path.join(base_path, 'public_test_labels.npy')"
      ],
      "execution_count": null,
      "outputs": [
        {
          "output_type": "stream",
          "text": [
            "2.4.0\n"
          ],
          "name": "stdout"
        }
      ]
    },
    {
      "cell_type": "code",
      "metadata": {
        "id": "ek9JMlmD6GsU"
      },
      "source": [
        "# Load Arrays from Numpy Files\r\n",
        "def load_training():\r\n",
        "  train_images = np.load(train_img_path)\r\n",
        "  train_labels = np.load(train_label_path)\r\n",
        "  test_images = np.load(test_img_path)\r\n",
        "  test_labels = np.load(test_label_path)\r\n",
        "\r\n",
        "  return train_images, train_labels, test_images, test_labels\r\n",
        "\r\n",
        "# Remove baseline samples\r\n",
        "def remove_baseline(tensor): \r\n",
        "  max_ind = int(len(tensor)/2)\r\n",
        "  indexes = [2*i + 1 for i in range(0, max_ind)]\r\n",
        "\r\n",
        "  return tensor[indexes]\r\n",
        "\r\n",
        "# Interchange the dataset index\r\n",
        "def shuffle_dataset(x, y):\r\n",
        "  indices = tf.range(start=0, limit=tf.shape(x)[0], dtype=tf.int32)\r\n",
        "  shuffled_indices = tf.random.shuffle(indices)\r\n",
        "\r\n",
        "  x = tf.gather(x, shuffled_indices)\r\n",
        "  y = tf.gather(y, shuffled_indices)\r\n",
        "\r\n",
        "  x = x.numpy()\r\n",
        "  y = y.numpy()\r\n",
        "\r\n",
        "  return x, y"
      ],
      "execution_count": null,
      "outputs": []
    },
    {
      "cell_type": "code",
      "metadata": {
        "colab": {
          "base_uri": "https://localhost:8080/"
        },
        "id": "Gowt9JUQ6sdj",
        "outputId": "156c2065-fb35-465f-dea2-1ee871cc27fd"
      },
      "source": [
        "# Get images and labels (test, train)\r\n",
        "train_images, train_labels, test_images, test_labels = load_training()\r\n",
        "\r\n",
        "# Get abnormalities only \r\n",
        "train_images = remove_baseline(train_images)\r\n",
        "train_labels = remove_baseline(train_labels)\r\n",
        "test_images = remove_baseline(test_images)\r\n",
        "test_labels = remove_baseline(test_labels)\r\n",
        "\r\n",
        "# Suffle index (Previous dataset is ordered)\r\n",
        "train_images, train_labels = shuffle_dataset(train_images, train_labels)\r\n",
        "\r\n",
        "print(\"Train shape: \", train_images.shape)\r\n",
        "print(\"Test shape: \", test_images.shape)\r\n"
      ],
      "execution_count": null,
      "outputs": [
        {
          "output_type": "stream",
          "text": [
            "Train shape:  (2676, 150, 150)\n",
            "Test shape:  (336, 150, 150)\n"
          ],
          "name": "stdout"
        }
      ]
    },
    {
      "cell_type": "markdown",
      "metadata": {
        "id": "5t4iLd0ExZho"
      },
      "source": [
        "## Data preprocessing\r\n",
        "\r\n",
        "Currently, our data sits on a drive as numpy files (**.npy**), so the steps for getting it into our network are roughly:\r\n",
        "\r\n"
      ]
    },
    {
      "cell_type": "code",
      "metadata": {
        "id": "I2peY8SWutuA"
      },
      "source": [
        "# Unify masses and calcifications \r\n",
        "def labels_mapping(labels):\r\n",
        "  labels_local = np.zeros(shape=labels.shape, dtype=\"float32\")\r\n",
        "  idx = 0\r\n",
        "  for label in labels:\r\n",
        "    # masses\r\n",
        "    if label == 1 or label == 2:\r\n",
        "      labels_local[idx] = 0\r\n",
        "    # calcifications\r\n",
        "    else:\r\n",
        "      labels_local[idx] = 1\r\n",
        "    idx += 1\r\n",
        "\r\n",
        "  return labels_local\r\n",
        "\r\n",
        "labels = labels_mapping(train_labels)\r\n",
        "test_labels = labels_mapping(test_labels)"
      ],
      "execution_count": null,
      "outputs": []
    },
    {
      "cell_type": "code",
      "metadata": {
        "colab": {
          "base_uri": "https://localhost:8080/"
        },
        "id": "CQJRM4Kc33Nf",
        "outputId": "5e206a05-703b-4abe-8deb-13809c4eb630"
      },
      "source": [
        "#print(train_labels[2000])\r\n",
        "#print(labels[:10])\r\n",
        "print(train_images.shape)\r\n",
        "\r\n",
        "# verify values range: getting max value \r\n",
        "print(max([np.max(image) for image in train_images])) # max is 65'535 \r\n"
      ],
      "execution_count": null,
      "outputs": [
        {
          "output_type": "stream",
          "text": [
            "(2676, 150, 150)\n",
            "65535\n"
          ],
          "name": "stdout"
        }
      ]
    },
    {
      "cell_type": "code",
      "metadata": {
        "colab": {
          "base_uri": "https://localhost:8080/"
        },
        "id": "GMdDBt9N3tBU",
        "outputId": "3e23a22c-ddb1-4682-94cb-0cf1175422dd"
      },
      "source": [
        "train_images = train_images.reshape(train_images.shape + (1,)) #(2676, 150, 150, 1)\r\n",
        "test_images = test_images.reshape(test_images.shape + (1,)) #(2676, 150, 150, 1)\r\n",
        "print(train_images.shape)\r\n",
        "print(test_images.shape)"
      ],
      "execution_count": null,
      "outputs": [
        {
          "output_type": "stream",
          "text": [
            "(2676, 150, 150, 1)\n",
            "(336, 150, 150, 1)\n"
          ],
          "name": "stdout"
        }
      ]
    },
    {
      "cell_type": "code",
      "metadata": {
        "id": "TfMviUsBn-gX",
        "colab": {
          "base_uri": "https://localhost:8080/"
        },
        "outputId": "e9b2768e-7196-4bf9-b7d6-5c545ab7d323"
      },
      "source": [
        "# split dataset into training and validation set 70-30\r\n",
        "train_images_split = train_images[:int(0.7*len(train_images))]\r\n",
        "valid_images_split = train_images[int(0.7*len(train_images)):]\r\n",
        "train_labels_split = labels[:int(0.7*len(labels))]\r\n",
        "valid_labels_split = labels[int(0.7*len(labels)):]\r\n",
        "\r\n",
        "print(train_images_split.shape)\r\n",
        "print(valid_images_split.shape)                                       "
      ],
      "execution_count": null,
      "outputs": [
        {
          "output_type": "stream",
          "text": [
            "(1873, 150, 150, 1)\n",
            "(803, 150, 150, 1)\n"
          ],
          "name": "stdout"
        }
      ]
    },
    {
      "cell_type": "code",
      "metadata": {
        "id": "hm9x-21nzEoE",
        "colab": {
          "base_uri": "https://localhost:8080/"
        },
        "outputId": "dbf5a2c8-a0e8-4a36-ed6c-2bb33e26b55a"
      },
      "source": [
        "from tensorflow.keras.preprocessing.image import ImageDataGenerator\r\n",
        "\r\n",
        "# All images will be rescaled by 1./65535\r\n",
        "train_datagen = ImageDataGenerator(rescale=1./65535)\r\n",
        "valid_datagen = ImageDataGenerator(rescale=1./65535)\r\n",
        "test_datagen = ImageDataGenerator(rescale=1./65535) \r\n",
        "\r\n",
        "for batch, labels_batch in train_datagen.flow(train_images, labels, batch_size=BATCH_SIZE):\r\n",
        "  print(batch.shape)\r\n",
        "  print(labels_batch.shape)\r\n",
        "  break\r\n",
        "\r\n"
      ],
      "execution_count": null,
      "outputs": [
        {
          "output_type": "stream",
          "text": [
            "(20, 150, 150, 1)\n",
            "(20,)\n"
          ],
          "name": "stdout"
        }
      ]
    },
    {
      "cell_type": "markdown",
      "metadata": {
        "id": "Mi0ZJVf1vA31"
      },
      "source": [
        "## Defining CNN \r\n"
      ]
    },
    {
      "cell_type": "code",
      "metadata": {
        "id": "kwQTeDPEvKql"
      },
      "source": [
        "from keras import layers\r\n",
        "from keras import optimizers \r\n",
        "from keras import models\r\n",
        "\r\n",
        "def build_model(loss_function, eval_metric):\r\n",
        "  model = models.Sequential()\r\n",
        "  model.add(layers.Conv2D(32, (3, 3), activation='relu', input_shape=(150, 150, 1)))\r\n",
        "  model.add(layers.MaxPooling2D((2, 2)))\r\n",
        "  model.add(layers.Conv2D(64, (3, 3), activation='relu'))\r\n",
        "  model.add(layers.MaxPooling2D((2, 2)))\r\n",
        "  model.add(layers.Conv2D(128, (3, 3), activation='relu'))\r\n",
        "  model.add(layers.MaxPooling2D((2, 2)))\r\n",
        "  model.add(layers.Conv2D(128, (3, 3), activation='relu'))\r\n",
        "  model.add(layers.MaxPooling2D((2, 2)))\r\n",
        "  model.add(layers.Flatten())\r\n",
        "  model.add(layers.Dense(512, activation='relu'))\r\n",
        "  model.add(layers.Dense(1, activation='sigmoid'))\r\n",
        "\r\n",
        "  #model.summary()\r\n",
        "\r\n",
        "  model.compile(loss=loss_function,\r\n",
        "              optimizer=optimizers.RMSprop(lr=1e-4), # lr = 0.0001\r\n",
        "              metrics=[\"acc\"]) \r\n",
        "  \r\n",
        "  return model "
      ],
      "execution_count": null,
      "outputs": []
    },
    {
      "cell_type": "code",
      "metadata": {
        "id": "QpVvPyxjxRn8"
      },
      "source": [
        "BATCH_SIZE = 20\r\n",
        "EPOCHS = 100\r\n",
        "IMAGE_HEIGHT = 150\r\n",
        "IMAGE_WIDTH = 150"
      ],
      "execution_count": null,
      "outputs": []
    },
    {
      "cell_type": "markdown",
      "metadata": {
        "id": "fZIemXxawWLm"
      },
      "source": [
        "## CNN Compilation:\r\n",
        "\r\n"
      ]
    },
    {
      "cell_type": "code",
      "metadata": {
        "id": "5iumGmf1whk1",
        "colab": {
          "base_uri": "https://localhost:8080/"
        },
        "outputId": "5ef3ae80-ac44-4bfa-fcdd-3d7dc3af61d5"
      },
      "source": [
        "from keras import optimizers \r\n",
        "\r\n",
        "model = build_model(\"binary_crossentropy\", \"acc\")\r\n",
        "\r\n",
        "model.summary()"
      ],
      "execution_count": null,
      "outputs": [
        {
          "output_type": "stream",
          "text": [
            "Model: \"sequential_15\"\n",
            "_________________________________________________________________\n",
            "Layer (type)                 Output Shape              Param #   \n",
            "=================================================================\n",
            "conv2d_60 (Conv2D)           (None, 148, 148, 32)      320       \n",
            "_________________________________________________________________\n",
            "max_pooling2d_60 (MaxPooling (None, 74, 74, 32)        0         \n",
            "_________________________________________________________________\n",
            "conv2d_61 (Conv2D)           (None, 72, 72, 64)        18496     \n",
            "_________________________________________________________________\n",
            "max_pooling2d_61 (MaxPooling (None, 36, 36, 64)        0         \n",
            "_________________________________________________________________\n",
            "conv2d_62 (Conv2D)           (None, 34, 34, 128)       73856     \n",
            "_________________________________________________________________\n",
            "max_pooling2d_62 (MaxPooling (None, 17, 17, 128)       0         \n",
            "_________________________________________________________________\n",
            "conv2d_63 (Conv2D)           (None, 15, 15, 128)       147584    \n",
            "_________________________________________________________________\n",
            "max_pooling2d_63 (MaxPooling (None, 7, 7, 128)         0         \n",
            "_________________________________________________________________\n",
            "flatten_15 (Flatten)         (None, 6272)              0         \n",
            "_________________________________________________________________\n",
            "dense_30 (Dense)             (None, 512)               3211776   \n",
            "_________________________________________________________________\n",
            "dense_31 (Dense)             (None, 1)                 513       \n",
            "=================================================================\n",
            "Total params: 3,452,545\n",
            "Trainable params: 3,452,545\n",
            "Non-trainable params: 0\n",
            "_________________________________________________________________\n"
          ],
          "name": "stdout"
        }
      ]
    },
    {
      "cell_type": "code",
      "metadata": {
        "id": "H-V8cw96y_3Q",
        "colab": {
          "base_uri": "https://localhost:8080/"
        },
        "outputId": "915086ff-a9d3-49e7-f9fa-4c3371934661"
      },
      "source": [
        "history = model.fit(train_datagen.flow(train_images_split,\r\n",
        "                                       train_labels_split,\r\n",
        "                                       batch_size=BATCH_SIZE,\r\n",
        "                                       shuffle=False),\r\n",
        "                    steps_per_epoch=len(train_images_split) // BATCH_SIZE, \r\n",
        "                    epochs=EPOCHS,\r\n",
        "                    validation_data=valid_datagen.flow(valid_images_split,\r\n",
        "                                       valid_labels_split,\r\n",
        "                                       batch_size=BATCH_SIZE,\r\n",
        "                                       shuffle=False),\r\n",
        "                    validation_steps=len(valid_labels_split) // BATCH_SIZE)\r\n"
      ],
      "execution_count": null,
      "outputs": [
        {
          "output_type": "stream",
          "text": [
            "Epoch 1/100\n",
            "93/93 [==============================] - 10s 23ms/step - loss: 0.7000 - acc: 0.5354 - val_loss: 0.6897 - val_acc: 0.5412\n",
            "Epoch 2/100\n",
            "93/93 [==============================] - 2s 19ms/step - loss: 0.6756 - acc: 0.5850 - val_loss: 0.6481 - val_acc: 0.5437\n",
            "Epoch 3/100\n",
            "93/93 [==============================] - 2s 19ms/step - loss: 0.6204 - acc: 0.6681 - val_loss: 0.5625 - val_acc: 0.6500\n",
            "Epoch 4/100\n",
            "93/93 [==============================] - 2s 20ms/step - loss: 0.5096 - acc: 0.7716 - val_loss: 0.5009 - val_acc: 0.7525\n",
            "Epoch 5/100\n",
            "93/93 [==============================] - 2s 19ms/step - loss: 0.4617 - acc: 0.7993 - val_loss: 0.4876 - val_acc: 0.7862\n",
            "Epoch 6/100\n",
            "93/93 [==============================] - 2s 20ms/step - loss: 0.4341 - acc: 0.8186 - val_loss: 0.4694 - val_acc: 0.7725\n",
            "Epoch 7/100\n",
            "93/93 [==============================] - 2s 20ms/step - loss: 0.4318 - acc: 0.8126 - val_loss: 0.5124 - val_acc: 0.7763\n",
            "Epoch 8/100\n",
            "93/93 [==============================] - 2s 20ms/step - loss: 0.4304 - acc: 0.8000 - val_loss: 0.4390 - val_acc: 0.8037\n",
            "Epoch 9/100\n",
            "93/93 [==============================] - 2s 20ms/step - loss: 0.4083 - acc: 0.8282 - val_loss: 0.4678 - val_acc: 0.7862\n",
            "Epoch 10/100\n",
            "93/93 [==============================] - 2s 20ms/step - loss: 0.4060 - acc: 0.8285 - val_loss: 0.4884 - val_acc: 0.7700\n",
            "Epoch 11/100\n",
            "93/93 [==============================] - 2s 20ms/step - loss: 0.4002 - acc: 0.8370 - val_loss: 0.4286 - val_acc: 0.8087\n",
            "Epoch 12/100\n",
            "93/93 [==============================] - 2s 20ms/step - loss: 0.3959 - acc: 0.8413 - val_loss: 0.4356 - val_acc: 0.8062\n",
            "Epoch 13/100\n",
            "93/93 [==============================] - 2s 20ms/step - loss: 0.3910 - acc: 0.8337 - val_loss: 0.4346 - val_acc: 0.8037\n",
            "Epoch 14/100\n",
            "93/93 [==============================] - 2s 20ms/step - loss: 0.3545 - acc: 0.8566 - val_loss: 0.4352 - val_acc: 0.8062\n",
            "Epoch 15/100\n",
            "93/93 [==============================] - 2s 20ms/step - loss: 0.3619 - acc: 0.8586 - val_loss: 0.4070 - val_acc: 0.8350\n",
            "Epoch 16/100\n",
            "93/93 [==============================] - 2s 20ms/step - loss: 0.3753 - acc: 0.8461 - val_loss: 0.4402 - val_acc: 0.8062\n",
            "Epoch 17/100\n",
            "93/93 [==============================] - 2s 20ms/step - loss: 0.3572 - acc: 0.8432 - val_loss: 0.4144 - val_acc: 0.8100\n",
            "Epoch 18/100\n",
            "93/93 [==============================] - 2s 20ms/step - loss: 0.3578 - acc: 0.8558 - val_loss: 0.4138 - val_acc: 0.8388\n",
            "Epoch 19/100\n",
            "93/93 [==============================] - 2s 20ms/step - loss: 0.3478 - acc: 0.8520 - val_loss: 0.4072 - val_acc: 0.8200\n",
            "Epoch 20/100\n",
            "93/93 [==============================] - 2s 20ms/step - loss: 0.3596 - acc: 0.8514 - val_loss: 0.3897 - val_acc: 0.8263\n",
            "Epoch 21/100\n",
            "93/93 [==============================] - 2s 20ms/step - loss: 0.3466 - acc: 0.8574 - val_loss: 0.4100 - val_acc: 0.8163\n",
            "Epoch 22/100\n",
            "93/93 [==============================] - 2s 20ms/step - loss: 0.3566 - acc: 0.8558 - val_loss: 0.4122 - val_acc: 0.8225\n",
            "Epoch 23/100\n",
            "93/93 [==============================] - 2s 20ms/step - loss: 0.3419 - acc: 0.8510 - val_loss: 0.3924 - val_acc: 0.8288\n",
            "Epoch 24/100\n",
            "93/93 [==============================] - 2s 21ms/step - loss: 0.3424 - acc: 0.8619 - val_loss: 0.4107 - val_acc: 0.8275\n",
            "Epoch 25/100\n",
            "93/93 [==============================] - 2s 20ms/step - loss: 0.3492 - acc: 0.8386 - val_loss: 0.3763 - val_acc: 0.8288\n",
            "Epoch 26/100\n",
            "93/93 [==============================] - 2s 20ms/step - loss: 0.3359 - acc: 0.8568 - val_loss: 0.4167 - val_acc: 0.8225\n",
            "Epoch 27/100\n",
            "93/93 [==============================] - 2s 20ms/step - loss: 0.3320 - acc: 0.8639 - val_loss: 0.3741 - val_acc: 0.8425\n",
            "Epoch 28/100\n",
            "93/93 [==============================] - 2s 20ms/step - loss: 0.3397 - acc: 0.8560 - val_loss: 0.4289 - val_acc: 0.8200\n",
            "Epoch 29/100\n",
            "93/93 [==============================] - 2s 20ms/step - loss: 0.3144 - acc: 0.8742 - val_loss: 0.3761 - val_acc: 0.8438\n",
            "Epoch 30/100\n",
            "93/93 [==============================] - 2s 20ms/step - loss: 0.2924 - acc: 0.8727 - val_loss: 0.3933 - val_acc: 0.8338\n",
            "Epoch 31/100\n",
            "93/93 [==============================] - 2s 20ms/step - loss: 0.2858 - acc: 0.8653 - val_loss: 0.3470 - val_acc: 0.8625\n",
            "Epoch 32/100\n",
            "93/93 [==============================] - 2s 20ms/step - loss: 0.2961 - acc: 0.8861 - val_loss: 0.4596 - val_acc: 0.8075\n",
            "Epoch 33/100\n",
            "93/93 [==============================] - 2s 20ms/step - loss: 0.2762 - acc: 0.8800 - val_loss: 0.4149 - val_acc: 0.8062\n",
            "Epoch 34/100\n",
            "93/93 [==============================] - 2s 20ms/step - loss: 0.2730 - acc: 0.8841 - val_loss: 0.3609 - val_acc: 0.8575\n",
            "Epoch 35/100\n",
            "93/93 [==============================] - 2s 20ms/step - loss: 0.2822 - acc: 0.8744 - val_loss: 0.3484 - val_acc: 0.8625\n",
            "Epoch 36/100\n",
            "93/93 [==============================] - 2s 20ms/step - loss: 0.2743 - acc: 0.8965 - val_loss: 0.3527 - val_acc: 0.8587\n",
            "Epoch 37/100\n",
            "93/93 [==============================] - 2s 20ms/step - loss: 0.2682 - acc: 0.8951 - val_loss: 0.3841 - val_acc: 0.8462\n",
            "Epoch 38/100\n",
            "93/93 [==============================] - 2s 20ms/step - loss: 0.2900 - acc: 0.8902 - val_loss: 0.3532 - val_acc: 0.8512\n",
            "Epoch 39/100\n",
            "93/93 [==============================] - 2s 20ms/step - loss: 0.2495 - acc: 0.8990 - val_loss: 0.3838 - val_acc: 0.8413\n",
            "Epoch 40/100\n",
            "93/93 [==============================] - 2s 20ms/step - loss: 0.2583 - acc: 0.8888 - val_loss: 0.3634 - val_acc: 0.8600\n",
            "Epoch 41/100\n",
            "93/93 [==============================] - 2s 20ms/step - loss: 0.2716 - acc: 0.8803 - val_loss: 0.3527 - val_acc: 0.8612\n",
            "Epoch 42/100\n",
            "93/93 [==============================] - 2s 20ms/step - loss: 0.2433 - acc: 0.8994 - val_loss: 0.3730 - val_acc: 0.8537\n",
            "Epoch 43/100\n",
            "93/93 [==============================] - 2s 20ms/step - loss: 0.2440 - acc: 0.8998 - val_loss: 0.3315 - val_acc: 0.8612\n",
            "Epoch 44/100\n",
            "93/93 [==============================] - 2s 20ms/step - loss: 0.2242 - acc: 0.9166 - val_loss: 0.3338 - val_acc: 0.8612\n",
            "Epoch 45/100\n",
            "93/93 [==============================] - 2s 20ms/step - loss: 0.2473 - acc: 0.9090 - val_loss: 0.3504 - val_acc: 0.8587\n",
            "Epoch 46/100\n",
            "93/93 [==============================] - 2s 20ms/step - loss: 0.2376 - acc: 0.9085 - val_loss: 0.4603 - val_acc: 0.8250\n",
            "Epoch 47/100\n",
            "93/93 [==============================] - 2s 20ms/step - loss: 0.2312 - acc: 0.9012 - val_loss: 0.3352 - val_acc: 0.8687\n",
            "Epoch 48/100\n",
            "93/93 [==============================] - 2s 20ms/step - loss: 0.2083 - acc: 0.9233 - val_loss: 0.3938 - val_acc: 0.8637\n",
            "Epoch 49/100\n",
            "93/93 [==============================] - 2s 20ms/step - loss: 0.2152 - acc: 0.9123 - val_loss: 0.3380 - val_acc: 0.8687\n",
            "Epoch 50/100\n",
            "93/93 [==============================] - 2s 20ms/step - loss: 0.2095 - acc: 0.9149 - val_loss: 0.3764 - val_acc: 0.8500\n",
            "Epoch 51/100\n",
            "93/93 [==============================] - 2s 20ms/step - loss: 0.2065 - acc: 0.9206 - val_loss: 0.3765 - val_acc: 0.8600\n",
            "Epoch 52/100\n",
            "93/93 [==============================] - 2s 20ms/step - loss: 0.2093 - acc: 0.9224 - val_loss: 0.3998 - val_acc: 0.8612\n",
            "Epoch 53/100\n",
            "93/93 [==============================] - 2s 20ms/step - loss: 0.2046 - acc: 0.9254 - val_loss: 0.3733 - val_acc: 0.8600\n",
            "Epoch 54/100\n",
            "93/93 [==============================] - 2s 20ms/step - loss: 0.1909 - acc: 0.9368 - val_loss: 0.3746 - val_acc: 0.8512\n",
            "Epoch 55/100\n",
            "93/93 [==============================] - 2s 20ms/step - loss: 0.1879 - acc: 0.9264 - val_loss: 0.3561 - val_acc: 0.8487\n",
            "Epoch 56/100\n",
            "93/93 [==============================] - 2s 20ms/step - loss: 0.2074 - acc: 0.9105 - val_loss: 0.4240 - val_acc: 0.8487\n",
            "Epoch 57/100\n",
            "93/93 [==============================] - 2s 20ms/step - loss: 0.1909 - acc: 0.9232 - val_loss: 0.4741 - val_acc: 0.8450\n",
            "Epoch 58/100\n",
            "93/93 [==============================] - 2s 20ms/step - loss: 0.1807 - acc: 0.9359 - val_loss: 0.3593 - val_acc: 0.8737\n",
            "Epoch 59/100\n",
            "93/93 [==============================] - 2s 20ms/step - loss: 0.1682 - acc: 0.9344 - val_loss: 0.3985 - val_acc: 0.8512\n",
            "Epoch 60/100\n",
            "93/93 [==============================] - 2s 20ms/step - loss: 0.1666 - acc: 0.9426 - val_loss: 0.3694 - val_acc: 0.8675\n",
            "Epoch 61/100\n",
            "93/93 [==============================] - 2s 20ms/step - loss: 0.1654 - acc: 0.9316 - val_loss: 0.4766 - val_acc: 0.8438\n",
            "Epoch 62/100\n",
            "93/93 [==============================] - 2s 20ms/step - loss: 0.1692 - acc: 0.9362 - val_loss: 0.7323 - val_acc: 0.6575\n",
            "Epoch 63/100\n",
            "93/93 [==============================] - 2s 20ms/step - loss: 0.1658 - acc: 0.9419 - val_loss: 0.3759 - val_acc: 0.8637\n",
            "Epoch 64/100\n",
            "93/93 [==============================] - 2s 20ms/step - loss: 0.1349 - acc: 0.9516 - val_loss: 0.4252 - val_acc: 0.8600\n",
            "Epoch 65/100\n",
            "93/93 [==============================] - 2s 20ms/step - loss: 0.1385 - acc: 0.9516 - val_loss: 0.4598 - val_acc: 0.8300\n",
            "Epoch 66/100\n",
            "93/93 [==============================] - 2s 20ms/step - loss: 0.1326 - acc: 0.9482 - val_loss: 0.3798 - val_acc: 0.8600\n",
            "Epoch 67/100\n",
            "93/93 [==============================] - 2s 20ms/step - loss: 0.1345 - acc: 0.9526 - val_loss: 0.4127 - val_acc: 0.8625\n",
            "Epoch 68/100\n",
            "93/93 [==============================] - 2s 20ms/step - loss: 0.1197 - acc: 0.9590 - val_loss: 0.4287 - val_acc: 0.8600\n",
            "Epoch 69/100\n",
            "93/93 [==============================] - 2s 20ms/step - loss: 0.1364 - acc: 0.9508 - val_loss: 0.4703 - val_acc: 0.8612\n",
            "Epoch 70/100\n",
            "93/93 [==============================] - 2s 20ms/step - loss: 0.1249 - acc: 0.9564 - val_loss: 0.4339 - val_acc: 0.8687\n",
            "Epoch 71/100\n",
            "93/93 [==============================] - 2s 21ms/step - loss: 0.1083 - acc: 0.9601 - val_loss: 0.4782 - val_acc: 0.8650\n",
            "Epoch 72/100\n",
            "93/93 [==============================] - 2s 20ms/step - loss: 0.1132 - acc: 0.9537 - val_loss: 0.5075 - val_acc: 0.8500\n",
            "Epoch 73/100\n",
            "93/93 [==============================] - 2s 20ms/step - loss: 0.1032 - acc: 0.9608 - val_loss: 0.4561 - val_acc: 0.8625\n",
            "Epoch 74/100\n",
            "93/93 [==============================] - 2s 20ms/step - loss: 0.0920 - acc: 0.9715 - val_loss: 0.4948 - val_acc: 0.8625\n",
            "Epoch 75/100\n",
            "93/93 [==============================] - 2s 20ms/step - loss: 0.0918 - acc: 0.9737 - val_loss: 0.4621 - val_acc: 0.8612\n",
            "Epoch 76/100\n",
            "93/93 [==============================] - 2s 20ms/step - loss: 0.0932 - acc: 0.9643 - val_loss: 0.4830 - val_acc: 0.8662\n",
            "Epoch 77/100\n",
            "93/93 [==============================] - 2s 20ms/step - loss: 0.0853 - acc: 0.9734 - val_loss: 0.6242 - val_acc: 0.8462\n",
            "Epoch 78/100\n",
            "93/93 [==============================] - 2s 20ms/step - loss: 0.0992 - acc: 0.9641 - val_loss: 0.4906 - val_acc: 0.8525\n",
            "Epoch 79/100\n",
            "93/93 [==============================] - 2s 20ms/step - loss: 0.0804 - acc: 0.9754 - val_loss: 0.5069 - val_acc: 0.8612\n",
            "Epoch 80/100\n",
            "93/93 [==============================] - 2s 20ms/step - loss: 0.0747 - acc: 0.9740 - val_loss: 0.5320 - val_acc: 0.8625\n",
            "Epoch 81/100\n",
            "93/93 [==============================] - 2s 20ms/step - loss: 0.0770 - acc: 0.9753 - val_loss: 0.5594 - val_acc: 0.8425\n",
            "Epoch 82/100\n",
            "93/93 [==============================] - 2s 20ms/step - loss: 0.0741 - acc: 0.9747 - val_loss: 0.5522 - val_acc: 0.8625\n",
            "Epoch 83/100\n",
            "93/93 [==============================] - 2s 20ms/step - loss: 0.0595 - acc: 0.9808 - val_loss: 0.5960 - val_acc: 0.8662\n",
            "Epoch 84/100\n",
            "93/93 [==============================] - 2s 20ms/step - loss: 0.0629 - acc: 0.9740 - val_loss: 0.5459 - val_acc: 0.8525\n",
            "Epoch 85/100\n",
            "93/93 [==============================] - 2s 20ms/step - loss: 0.0589 - acc: 0.9794 - val_loss: 0.5921 - val_acc: 0.8687\n",
            "Epoch 86/100\n",
            "93/93 [==============================] - 2s 20ms/step - loss: 0.0514 - acc: 0.9834 - val_loss: 0.5917 - val_acc: 0.8425\n",
            "Epoch 87/100\n",
            "93/93 [==============================] - 2s 20ms/step - loss: 0.0534 - acc: 0.9841 - val_loss: 0.6025 - val_acc: 0.8625\n",
            "Epoch 88/100\n",
            "93/93 [==============================] - 2s 20ms/step - loss: 0.0540 - acc: 0.9805 - val_loss: 0.6875 - val_acc: 0.8600\n",
            "Epoch 89/100\n",
            "93/93 [==============================] - 2s 20ms/step - loss: 0.0496 - acc: 0.9904 - val_loss: 0.6453 - val_acc: 0.8600\n",
            "Epoch 90/100\n",
            "93/93 [==============================] - 2s 20ms/step - loss: 0.0552 - acc: 0.9775 - val_loss: 0.5810 - val_acc: 0.8687\n",
            "Epoch 91/100\n",
            "93/93 [==============================] - 2s 20ms/step - loss: 0.0347 - acc: 0.9922 - val_loss: 0.6997 - val_acc: 0.8562\n",
            "Epoch 92/100\n",
            "93/93 [==============================] - 2s 20ms/step - loss: 0.0396 - acc: 0.9868 - val_loss: 0.7381 - val_acc: 0.8562\n",
            "Epoch 93/100\n",
            "93/93 [==============================] - 2s 20ms/step - loss: 0.0338 - acc: 0.9932 - val_loss: 0.7269 - val_acc: 0.8562\n",
            "Epoch 94/100\n",
            "93/93 [==============================] - 2s 20ms/step - loss: 0.0286 - acc: 0.9930 - val_loss: 0.7333 - val_acc: 0.8675\n",
            "Epoch 95/100\n",
            "93/93 [==============================] - 2s 20ms/step - loss: 0.0357 - acc: 0.9896 - val_loss: 0.7885 - val_acc: 0.8562\n",
            "Epoch 96/100\n",
            "93/93 [==============================] - 2s 20ms/step - loss: 0.0423 - acc: 0.9911 - val_loss: 0.7847 - val_acc: 0.8612\n",
            "Epoch 97/100\n",
            "93/93 [==============================] - 2s 20ms/step - loss: 0.0218 - acc: 0.9955 - val_loss: 0.8031 - val_acc: 0.8562\n",
            "Epoch 98/100\n",
            "93/93 [==============================] - 2s 20ms/step - loss: 0.0261 - acc: 0.9945 - val_loss: 0.7475 - val_acc: 0.8500\n",
            "Epoch 99/100\n",
            "93/93 [==============================] - 2s 20ms/step - loss: 0.0260 - acc: 0.9927 - val_loss: 0.8579 - val_acc: 0.8612\n",
            "Epoch 100/100\n",
            "93/93 [==============================] - 2s 20ms/step - loss: 0.0216 - acc: 0.9938 - val_loss: 0.8967 - val_acc: 0.8612\n"
          ],
          "name": "stdout"
        }
      ]
    },
    {
      "cell_type": "code",
      "metadata": {
        "colab": {
          "base_uri": "https://localhost:8080/",
          "height": 545
        },
        "id": "nI8FjTjY4KIe",
        "outputId": "06796bfb-3420-4787-818b-b3f636fa6791"
      },
      "source": [
        "import matplotlib.pyplot as plt\r\n",
        "\r\n",
        "acc = history.history['acc']\r\n",
        "val_acc = history.history['val_acc']\r\n",
        "loss = history.history['loss']\r\n",
        "val_loss = history.history['val_loss']\r\n",
        "\r\n",
        "epochs = range(len(acc))\r\n",
        "\r\n",
        "plt.plot(epochs, acc, 'bo', label='Training accuracy')\r\n",
        "plt.plot(epochs, val_acc, 'b', label='Validation accuracy')\r\n",
        "plt.title('Training and validation accuracy')\r\n",
        "plt.legend()\r\n",
        "\r\n",
        "plt.figure()\r\n",
        "\r\n",
        "plt.plot(epochs, loss, 'bo', label='Training loss')\r\n",
        "plt.plot(epochs, val_loss, 'b', label='Validation loss')\r\n",
        "plt.title('Training and validation loss')\r\n",
        "plt.legend()\r\n",
        "\r\n",
        "plt.show()"
      ],
      "execution_count": null,
      "outputs": [
        {
          "output_type": "display_data",
          "data": {
            "image/png": "[encoded data removed]",
            "text/plain": [
              "<Figure size 432x288 with 1 Axes>"
            ]
          },
          "metadata": {
            "tags": [],
            "needs_background": "light"
          }
        },
        {
          "output_type": "display_data",
          "data": {
            "image/png": "[encoded data removed]",
            "text/plain": [
              "<Figure size 432x288 with 1 Axes>"
            ]
          },
          "metadata": {
            "tags": [],
            "needs_background": "light"
          }
        }
      ]
    },
    {
      "cell_type": "code",
      "metadata": {
        "colab": {
          "base_uri": "https://localhost:8080/"
        },
        "id": "pH89us9R_o_F",
        "outputId": "2a1a917a-cec1-4316-b979-6a4f137487bf"
      },
      "source": [
        "test_loss, test_acc = model.evaluate(test_datagen.flow(test_images,\r\n",
        "                                                       test_labels,\r\n",
        "                                                       batch_size=BATCH_SIZE,\r\n",
        "                                                       shuffle=False),\r\n",
        "                                     steps=len(test_images) // BATCH_SIZE\r\n",
        ")\r\n",
        "\r\n",
        "print(test_acc)"
      ],
      "execution_count": null,
      "outputs": [
        {
          "output_type": "stream",
          "text": [
            "16/16 [==============================] - 0s 8ms/step - loss: 1.1820 - acc: 0.8250\n",
            "0.824999988079071\n"
          ],
          "name": "stdout"
        }
      ]
    },
    {
      "cell_type": "markdown",
      "metadata": {
        "id": "e2v_-h75Z3aZ"
      },
      "source": [
        "These plots are characteristic of **overfitting**. Training accuracy keeps increasing linearly while validation accuracy stalls around **82%**.\r\n",
        "\r\n",
        "##Fighting overfitting: 1. Data Augmentation:\r\n"
      ]
    },
    {
      "cell_type": "code",
      "metadata": {
        "colab": {
          "base_uri": "https://localhost:8080/",
          "height": 52
        },
        "id": "ojvyPceIaunR",
        "outputId": "3f9445a2-039a-4e7b-b04a-ec295a3d0302"
      },
      "source": [
        "from tensorflow.keras.preprocessing import image\r\n",
        "\r\n",
        "# train data augmentation \r\n",
        "train_datagen = ImageDataGenerator(\r\n",
        "    rescale=1./65535,\r\n",
        "    rotation_range=40,\r\n",
        "    width_shift_range=0.2,\r\n",
        "    height_shift_range=0.2,\r\n",
        "    shear_range=20,\r\n",
        "    zoom_range=0.2,\r\n",
        "    horizontal_flip=True,\r\n",
        "    fill_mode='nearest')\r\n",
        "\r\n",
        "valid_datagen = ImageDataGenerator(rescale=1./65535)\r\n",
        "test_datagen = ImageDataGenerator(rescale=1./65535) \r\n",
        "\r\n",
        "\"\"\"\r\n",
        "x = train_images[0].reshape((1,) + train_images[0].shape)\r\n",
        "\r\n",
        "i = 0\r\n",
        "for batch in train_datagen.flow(x, batch_size=1):\r\n",
        "  plt.figure(i)\r\n",
        "  imgplot = plt.imshow(image.array_to_img(batch[0]))\r\n",
        "  i += 1\r\n",
        "  if i % 4 == 0:\r\n",
        "    break\r\n",
        "\r\n",
        "plt.show()\r\n",
        "\"\"\""
      ],
      "execution_count": null,
      "outputs": [
        {
          "output_type": "execute_result",
          "data": {
            "application/vnd.google.colaboratory.intrinsic+json": {
              "type": "string"
            },
            "text/plain": [
              "'\\nx = train_images[0].reshape((1,) + train_images[0].shape)\\n\\ni = 0\\nfor batch in train_datagen.flow(x, batch_size=1):\\n  plt.figure(i)\\n  imgplot = plt.imshow(image.array_to_img(batch[0]))\\n  i += 1\\n  if i % 4 == 0:\\n    break\\n\\nplt.show()\\n'"
            ]
          },
          "metadata": {
            "tags": []
          },
          "execution_count": 17
        }
      ]
    },
    {
      "cell_type": "code",
      "metadata": {
        "colab": {
          "base_uri": "https://localhost:8080/"
        },
        "id": "8ex5WyyOwir4",
        "outputId": "c8b8e69c-c9ab-4b56-efa1-35e390b4de7a"
      },
      "source": [
        "model = build_model(\"binary_crossentropy\", \"acc\")\r\n",
        "\r\n",
        "model.summary()"
      ],
      "execution_count": null,
      "outputs": [
        {
          "output_type": "stream",
          "text": [
            "Model: \"sequential_11\"\n",
            "_________________________________________________________________\n",
            "Layer (type)                 Output Shape              Param #   \n",
            "=================================================================\n",
            "conv2d_44 (Conv2D)           (None, 148, 148, 32)      320       \n",
            "_________________________________________________________________\n",
            "max_pooling2d_44 (MaxPooling (None, 74, 74, 32)        0         \n",
            "_________________________________________________________________\n",
            "conv2d_45 (Conv2D)           (None, 72, 72, 64)        18496     \n",
            "_________________________________________________________________\n",
            "max_pooling2d_45 (MaxPooling (None, 36, 36, 64)        0         \n",
            "_________________________________________________________________\n",
            "conv2d_46 (Conv2D)           (None, 34, 34, 128)       73856     \n",
            "_________________________________________________________________\n",
            "max_pooling2d_46 (MaxPooling (None, 17, 17, 128)       0         \n",
            "_________________________________________________________________\n",
            "conv2d_47 (Conv2D)           (None, 15, 15, 128)       147584    \n",
            "_________________________________________________________________\n",
            "max_pooling2d_47 (MaxPooling (None, 7, 7, 128)         0         \n",
            "_________________________________________________________________\n",
            "flatten_11 (Flatten)         (None, 6272)              0         \n",
            "_________________________________________________________________\n",
            "dense_22 (Dense)             (None, 512)               3211776   \n",
            "_________________________________________________________________\n",
            "dense_23 (Dense)             (None, 1)                 513       \n",
            "=================================================================\n",
            "Total params: 3,452,545\n",
            "Trainable params: 3,452,545\n",
            "Non-trainable params: 0\n",
            "_________________________________________________________________\n"
          ],
          "name": "stdout"
        }
      ]
    },
    {
      "cell_type": "code",
      "metadata": {
        "colab": {
          "base_uri": "https://localhost:8080/",
          "height": 409
        },
        "id": "T_LVsSUEj0Vx",
        "outputId": "5dcfc777-fb44-4ca7-d9d1-f0866438cedc"
      },
      "source": [
        "history = model.fit(train_datagen.flow(train_images_split,\r\n",
        "                                       train_labels_split,\r\n",
        "                                       batch_size=BATCH_SIZE,\r\n",
        "                                       shuffle=False),\r\n",
        "                    steps_per_epoch=len(train_images_split) // BATCH_SIZE, \r\n",
        "                    epochs=EPOCHS,\r\n",
        "                    validation_data=valid_datagen.flow(valid_images_split,\r\n",
        "                                       valid_labels_split,\r\n",
        "                                       batch_size=BATCH_SIZE,\r\n",
        "                                       shuffle=False),\r\n",
        "                    validation_steps=len(valid_labels_split) // BATCH_SIZE)"
      ],
      "execution_count": null,
      "outputs": [
        {
          "output_type": "stream",
          "text": [
            "Epoch 1/100\n",
            "93/93 [==============================] - 5s 43ms/step - loss: 0.6966 - acc: 0.5270 - val_loss: 0.6888 - val_acc: 0.5462\n",
            "Epoch 2/100\n",
            "19/93 [=====>........................] - ETA: 2s - loss: 0.6904 - acc: 0.5345"
          ],
          "name": "stdout"
        },
        {
          "output_type": "error",
          "ename": "KeyboardInterrupt",
          "evalue": "ignored",
          "traceback": [
            "\u001b[0;31m---------------------------------------------------------------------------\u001b[0m",
            "\u001b[0;31mKeyboardInterrupt\u001b[0m                         Traceback (most recent call last)",
            "\u001b[0;32m<ipython-input-40-58915cb74fac>\u001b[0m in \u001b[0;36m<module>\u001b[0;34m()\u001b[0m\n\u001b[1;32m      9\u001b[0m                                        \u001b[0mbatch_size\u001b[0m\u001b[0;34m=\u001b[0m\u001b[0mBATCH_SIZE\u001b[0m\u001b[0;34m,\u001b[0m\u001b[0;34m\u001b[0m\u001b[0;34m\u001b[0m\u001b[0m\n\u001b[1;32m     10\u001b[0m                                        shuffle=False),\n\u001b[0;32m---> 11\u001b[0;31m                     validation_steps=len(valid_labels_split) // BATCH_SIZE)\n\u001b[0m",
            "\u001b[0;32m/usr/local/lib/python3.6/dist-packages/tensorflow/python/keras/engine/training.py\u001b[0m in \u001b[0;36mfit\u001b[0;34m(self, x, y, batch_size, epochs, verbose, callbacks, validation_split, validation_data, shuffle, class_weight, sample_weight, initial_epoch, steps_per_epoch, validation_steps, validation_batch_size, validation_freq, max_queue_size, workers, use_multiprocessing)\u001b[0m\n\u001b[1;32m   1098\u001b[0m                 _r=1):\n\u001b[1;32m   1099\u001b[0m               \u001b[0mcallbacks\u001b[0m\u001b[0;34m.\u001b[0m\u001b[0mon_train_batch_begin\u001b[0m\u001b[0;34m(\u001b[0m\u001b[0mstep\u001b[0m\u001b[0;34m)\u001b[0m\u001b[0;34m\u001b[0m\u001b[0;34m\u001b[0m\u001b[0m\n\u001b[0;32m-> 1100\u001b[0;31m               \u001b[0mtmp_logs\u001b[0m \u001b[0;34m=\u001b[0m \u001b[0mself\u001b[0m\u001b[0;34m.\u001b[0m\u001b[0mtrain_function\u001b[0m\u001b[0;34m(\u001b[0m\u001b[0miterator\u001b[0m\u001b[0;34m)\u001b[0m\u001b[0;34m\u001b[0m\u001b[0;34m\u001b[0m\u001b[0m\n\u001b[0m\u001b[1;32m   1101\u001b[0m               \u001b[0;32mif\u001b[0m \u001b[0mdata_handler\u001b[0m\u001b[0;34m.\u001b[0m\u001b[0mshould_sync\u001b[0m\u001b[0;34m:\u001b[0m\u001b[0;34m\u001b[0m\u001b[0;34m\u001b[0m\u001b[0m\n\u001b[1;32m   1102\u001b[0m                 \u001b[0mcontext\u001b[0m\u001b[0;34m.\u001b[0m\u001b[0masync_wait\u001b[0m\u001b[0;34m(\u001b[0m\u001b[0;34m)\u001b[0m\u001b[0;34m\u001b[0m\u001b[0;34m\u001b[0m\u001b[0m\n",
            "\u001b[0;32m/usr/local/lib/python3.6/dist-packages/tensorflow/python/eager/def_function.py\u001b[0m in \u001b[0;36m__call__\u001b[0;34m(self, *args, **kwds)\u001b[0m\n\u001b[1;32m    826\u001b[0m     \u001b[0mtracing_count\u001b[0m \u001b[0;34m=\u001b[0m \u001b[0mself\u001b[0m\u001b[0;34m.\u001b[0m\u001b[0mexperimental_get_tracing_count\u001b[0m\u001b[0;34m(\u001b[0m\u001b[0;34m)\u001b[0m\u001b[0;34m\u001b[0m\u001b[0;34m\u001b[0m\u001b[0m\n\u001b[1;32m    827\u001b[0m     \u001b[0;32mwith\u001b[0m \u001b[0mtrace\u001b[0m\u001b[0;34m.\u001b[0m\u001b[0mTrace\u001b[0m\u001b[0;34m(\u001b[0m\u001b[0mself\u001b[0m\u001b[0;34m.\u001b[0m\u001b[0m_name\u001b[0m\u001b[0;34m)\u001b[0m \u001b[0;32mas\u001b[0m \u001b[0mtm\u001b[0m\u001b[0;34m:\u001b[0m\u001b[0;34m\u001b[0m\u001b[0;34m\u001b[0m\u001b[0m\n\u001b[0;32m--> 828\u001b[0;31m       \u001b[0mresult\u001b[0m \u001b[0;34m=\u001b[0m \u001b[0mself\u001b[0m\u001b[0;34m.\u001b[0m\u001b[0m_call\u001b[0m\u001b[0;34m(\u001b[0m\u001b[0;34m*\u001b[0m\u001b[0margs\u001b[0m\u001b[0;34m,\u001b[0m \u001b[0;34m**\u001b[0m\u001b[0mkwds\u001b[0m\u001b[0;34m)\u001b[0m\u001b[0;34m\u001b[0m\u001b[0;34m\u001b[0m\u001b[0m\n\u001b[0m\u001b[1;32m    829\u001b[0m       \u001b[0mcompiler\u001b[0m \u001b[0;34m=\u001b[0m \u001b[0;34m\"xla\"\u001b[0m \u001b[0;32mif\u001b[0m \u001b[0mself\u001b[0m\u001b[0;34m.\u001b[0m\u001b[0m_experimental_compile\u001b[0m \u001b[0;32melse\u001b[0m \u001b[0;34m\"nonXla\"\u001b[0m\u001b[0;34m\u001b[0m\u001b[0;34m\u001b[0m\u001b[0m\n\u001b[1;32m    830\u001b[0m       \u001b[0mnew_tracing_count\u001b[0m \u001b[0;34m=\u001b[0m \u001b[0mself\u001b[0m\u001b[0;34m.\u001b[0m\u001b[0mexperimental_get_tracing_count\u001b[0m\u001b[0;34m(\u001b[0m\u001b[0;34m)\u001b[0m\u001b[0;34m\u001b[0m\u001b[0;34m\u001b[0m\u001b[0m\n",
            "\u001b[0;32m/usr/local/lib/python3.6/dist-packages/tensorflow/python/eager/def_function.py\u001b[0m in \u001b[0;36m_call\u001b[0;34m(self, *args, **kwds)\u001b[0m\n\u001b[1;32m    853\u001b[0m       \u001b[0;31m# In this case we have created variables on the first call, so we run the\u001b[0m\u001b[0;34m\u001b[0m\u001b[0;34m\u001b[0m\u001b[0;34m\u001b[0m\u001b[0m\n\u001b[1;32m    854\u001b[0m       \u001b[0;31m# defunned version which is guaranteed to never create variables.\u001b[0m\u001b[0;34m\u001b[0m\u001b[0;34m\u001b[0m\u001b[0;34m\u001b[0m\u001b[0m\n\u001b[0;32m--> 855\u001b[0;31m       \u001b[0;32mreturn\u001b[0m \u001b[0mself\u001b[0m\u001b[0;34m.\u001b[0m\u001b[0m_stateless_fn\u001b[0m\u001b[0;34m(\u001b[0m\u001b[0;34m*\u001b[0m\u001b[0margs\u001b[0m\u001b[0;34m,\u001b[0m \u001b[0;34m**\u001b[0m\u001b[0mkwds\u001b[0m\u001b[0;34m)\u001b[0m  \u001b[0;31m# pylint: disable=not-callable\u001b[0m\u001b[0;34m\u001b[0m\u001b[0;34m\u001b[0m\u001b[0m\n\u001b[0m\u001b[1;32m    856\u001b[0m     \u001b[0;32melif\u001b[0m \u001b[0mself\u001b[0m\u001b[0;34m.\u001b[0m\u001b[0m_stateful_fn\u001b[0m \u001b[0;32mis\u001b[0m \u001b[0;32mnot\u001b[0m \u001b[0;32mNone\u001b[0m\u001b[0;34m:\u001b[0m\u001b[0;34m\u001b[0m\u001b[0;34m\u001b[0m\u001b[0m\n\u001b[1;32m    857\u001b[0m       \u001b[0;31m# Release the lock early so that multiple threads can perform the call\u001b[0m\u001b[0;34m\u001b[0m\u001b[0;34m\u001b[0m\u001b[0;34m\u001b[0m\u001b[0m\n",
            "\u001b[0;32m/usr/local/lib/python3.6/dist-packages/tensorflow/python/eager/function.py\u001b[0m in \u001b[0;36m__call__\u001b[0;34m(self, *args, **kwargs)\u001b[0m\n\u001b[1;32m   2941\u001b[0m        filtered_flat_args) = self._maybe_define_function(args, kwargs)\n\u001b[1;32m   2942\u001b[0m     return graph_function._call_flat(\n\u001b[0;32m-> 2943\u001b[0;31m         filtered_flat_args, captured_inputs=graph_function.captured_inputs)  # pylint: disable=protected-access\n\u001b[0m\u001b[1;32m   2944\u001b[0m \u001b[0;34m\u001b[0m\u001b[0m\n\u001b[1;32m   2945\u001b[0m   \u001b[0;34m@\u001b[0m\u001b[0mproperty\u001b[0m\u001b[0;34m\u001b[0m\u001b[0;34m\u001b[0m\u001b[0m\n",
            "\u001b[0;32m/usr/local/lib/python3.6/dist-packages/tensorflow/python/eager/function.py\u001b[0m in \u001b[0;36m_call_flat\u001b[0;34m(self, args, captured_inputs, cancellation_manager)\u001b[0m\n\u001b[1;32m   1917\u001b[0m       \u001b[0;31m# No tape is watching; skip to running the function.\u001b[0m\u001b[0;34m\u001b[0m\u001b[0;34m\u001b[0m\u001b[0;34m\u001b[0m\u001b[0m\n\u001b[1;32m   1918\u001b[0m       return self._build_call_outputs(self._inference_function.call(\n\u001b[0;32m-> 1919\u001b[0;31m           ctx, args, cancellation_manager=cancellation_manager))\n\u001b[0m\u001b[1;32m   1920\u001b[0m     forward_backward = self._select_forward_and_backward_functions(\n\u001b[1;32m   1921\u001b[0m         \u001b[0margs\u001b[0m\u001b[0;34m,\u001b[0m\u001b[0;34m\u001b[0m\u001b[0;34m\u001b[0m\u001b[0m\n",
            "\u001b[0;32m/usr/local/lib/python3.6/dist-packages/tensorflow/python/eager/function.py\u001b[0m in \u001b[0;36mcall\u001b[0;34m(self, ctx, args, cancellation_manager)\u001b[0m\n\u001b[1;32m    558\u001b[0m               \u001b[0minputs\u001b[0m\u001b[0;34m=\u001b[0m\u001b[0margs\u001b[0m\u001b[0;34m,\u001b[0m\u001b[0;34m\u001b[0m\u001b[0;34m\u001b[0m\u001b[0m\n\u001b[1;32m    559\u001b[0m               \u001b[0mattrs\u001b[0m\u001b[0;34m=\u001b[0m\u001b[0mattrs\u001b[0m\u001b[0;34m,\u001b[0m\u001b[0;34m\u001b[0m\u001b[0;34m\u001b[0m\u001b[0m\n\u001b[0;32m--> 560\u001b[0;31m               ctx=ctx)\n\u001b[0m\u001b[1;32m    561\u001b[0m         \u001b[0;32melse\u001b[0m\u001b[0;34m:\u001b[0m\u001b[0;34m\u001b[0m\u001b[0;34m\u001b[0m\u001b[0m\n\u001b[1;32m    562\u001b[0m           outputs = execute.execute_with_cancellation(\n",
            "\u001b[0;32m/usr/local/lib/python3.6/dist-packages/tensorflow/python/eager/execute.py\u001b[0m in \u001b[0;36mquick_execute\u001b[0;34m(op_name, num_outputs, inputs, attrs, ctx, name)\u001b[0m\n\u001b[1;32m     58\u001b[0m     \u001b[0mctx\u001b[0m\u001b[0;34m.\u001b[0m\u001b[0mensure_initialized\u001b[0m\u001b[0;34m(\u001b[0m\u001b[0;34m)\u001b[0m\u001b[0;34m\u001b[0m\u001b[0;34m\u001b[0m\u001b[0m\n\u001b[1;32m     59\u001b[0m     tensors = pywrap_tfe.TFE_Py_Execute(ctx._handle, device_name, op_name,\n\u001b[0;32m---> 60\u001b[0;31m                                         inputs, attrs, num_outputs)\n\u001b[0m\u001b[1;32m     61\u001b[0m   \u001b[0;32mexcept\u001b[0m \u001b[0mcore\u001b[0m\u001b[0;34m.\u001b[0m\u001b[0m_NotOkStatusException\u001b[0m \u001b[0;32mas\u001b[0m \u001b[0me\u001b[0m\u001b[0;34m:\u001b[0m\u001b[0;34m\u001b[0m\u001b[0;34m\u001b[0m\u001b[0m\n\u001b[1;32m     62\u001b[0m     \u001b[0;32mif\u001b[0m \u001b[0mname\u001b[0m \u001b[0;32mis\u001b[0m \u001b[0;32mnot\u001b[0m \u001b[0;32mNone\u001b[0m\u001b[0;34m:\u001b[0m\u001b[0;34m\u001b[0m\u001b[0;34m\u001b[0m\u001b[0m\n",
            "\u001b[0;31mKeyboardInterrupt\u001b[0m: "
          ]
        }
      ]
    },
    {
      "cell_type": "code",
      "metadata": {
        "id": "DNJBV5khoFEA",
        "colab": {
          "base_uri": "https://localhost:8080/",
          "height": 545
        },
        "outputId": "5388b5c2-a498-4f6c-914d-ef3f2286d2f4"
      },
      "source": [
        "acc = history.history['acc']\r\n",
        "val_acc = history.history['val_acc']\r\n",
        "loss = history.history['loss']\r\n",
        "val_loss = history.history['val_loss']\r\n",
        "\r\n",
        "epochs = range(len(acc))\r\n",
        "\r\n",
        "plt.plot(epochs, acc, 'bo', label='Training accuracy')\r\n",
        "plt.plot(epochs, val_acc, 'b', label='Validation accuracy')\r\n",
        "plt.title('Training and validation accuracy')\r\n",
        "plt.legend()\r\n",
        "\r\n",
        "plt.figure()\r\n",
        "\r\n",
        "plt.plot(epochs, loss, 'bo', label='Training loss')\r\n",
        "plt.plot(epochs, val_loss, 'b', label='Validation loss')\r\n",
        "plt.title('Training and validation loss')\r\n",
        "plt.legend()\r\n",
        "\r\n",
        "plt.show()"
      ],
      "execution_count": null,
      "outputs": [
        {
          "output_type": "display_data",
          "data": {
            "image/png": "[encoded data removed]",
            "text/plain": [
              "<Figure size 432x288 with 1 Axes>"
            ]
          },
          "metadata": {
            "tags": [],
            "needs_background": "light"
          }
        },
        {
          "output_type": "display_data",
          "data": {
            "image/png": "[encoded data removed]",
            "text/plain": [
              "<Figure size 432x288 with 1 Axes>"
            ]
          },
          "metadata": {
            "tags": [],
            "needs_background": "light"
          }
        }
      ]
    },
    {
      "cell_type": "code",
      "metadata": {
        "colab": {
          "base_uri": "https://localhost:8080/"
        },
        "id": "YYDj_8GquRRh",
        "outputId": "1a792ee7-f294-40e1-ae9c-92f9aaa2e0d4"
      },
      "source": [
        "test_loss, test_acc = model.evaluate(test_datagen.flow(test_images,\r\n",
        "                                                       test_labels,\r\n",
        "                                                       batch_size=BATCH_SIZE,\r\n",
        "                                                       shuffle=False),\r\n",
        "                                     steps=len(test_images) // BATCH_SIZE\r\n",
        ")\r\n",
        "\r\n",
        "print(test_acc)"
      ],
      "execution_count": null,
      "outputs": [
        {
          "output_type": "stream",
          "text": [
            "16/16 [==============================] - 0s 8ms/step - loss: 0.7106 - acc: 0.1475\n",
            "0.44062501192092896\n"
          ],
          "name": "stdout"
        }
      ]
    },
    {
      "cell_type": "markdown",
      "metadata": {
        "id": "UrLD4fBGtc6k"
      },
      "source": [
        "##K-fold cross validation.\r\n"
      ]
    },
    {
      "cell_type": "code",
      "metadata": {
        "colab": {
          "base_uri": "https://localhost:8080/"
        },
        "id": "YuiUODCT97Bq",
        "outputId": "fdce9f2b-d7ff-48fd-f17c-9b9649cb0202"
      },
      "source": [
        "print(train_images.shape)\r\n",
        "#rescale training dataset\r\n",
        "train_images = train_images*(1/65535)\r\n",
        "print(train_images[1000].shape)"
      ],
      "execution_count": null,
      "outputs": [
        {
          "output_type": "stream",
          "text": [
            "(2676, 150, 150, 1)\n",
            "(150, 150, 1)\n"
          ],
          "name": "stdout"
        }
      ]
    },
    {
      "cell_type": "code",
      "metadata": {
        "id": "DgdAZtZ1wMf3"
      },
      "source": [
        "#10-Fold-Cross-Validation\r\n",
        "k = 10 \r\n",
        "num_val_samples = len(train_images) // k \r\n",
        "num_epochs = 100\r\n",
        "validation_accuracies = []\r\n",
        "validation_losses = []\r\n",
        "\r\n",
        "for i in range(k):\r\n",
        "  print(\"processing fold #\", i)\r\n",
        "  validation_data = train_images[i * num_val_samples : (i + 1) * num_val_samples]\r\n",
        "  validation_labels = labels[i * num_val_samples : (i + 1) * num_val_samples]\r\n",
        "\r\n",
        "  partial_train_data = np.concatenate(\r\n",
        "      [train_images[:i * num_val_samples],\r\n",
        "       train_images[(i + 1) * num_val_samples:]], \r\n",
        "       axis=0)\r\n",
        "\r\n",
        "  partial_train_targets = np.concatenate(\r\n",
        "      [labels[:i * num_val_samples],\r\n",
        "       labels[(i + 1) * num_val_samples:]], \r\n",
        "       axis=0)\r\n",
        "\r\n",
        "  model = build_model(\"binary_crossentropy\", \"acc\")\r\n",
        "  \r\n",
        "  history = model.fit(partial_train_data, \r\n",
        "                      partial_train_targets,\r\n",
        "                      epochs=num_epochs,\r\n",
        "                      batch_size=BATCH_SIZE)\r\n",
        "  \r\n",
        "  val_loss, val_acc = model.evaluate(validation_data, validation_labels)\r\n",
        "  \r\n",
        "  validation_accuracies.append(val_score)\r\n",
        "  validation_losses.append(val_loss)\r\n",
        "  "
      ],
      "execution_count": null,
      "outputs": []
    }
  ]
}