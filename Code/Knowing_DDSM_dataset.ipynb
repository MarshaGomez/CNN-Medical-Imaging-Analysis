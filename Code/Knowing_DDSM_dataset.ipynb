{
  "nbformat": 4,
  "nbformat_minor": 0,
  "metadata": {
    "colab": {
      "name": "Knowing_DDSM_dataset.ipynb",
      "provenance": [],
      "collapsed_sections": [],
      "toc_visible": true,
      "include_colab_link": true
    },
    "kernelspec": {
      "name": "python3",
      "display_name": "Python 3"
    }
  },
  "cells": [
    {
      "cell_type": "markdown",
      "metadata": {
        "id": "view-in-github",
        "colab_type": "text"
      },
      "source": [
        "<a href=\"https://colab.research.google.com/github/MarshaGomez/CNN-Medical-Imaging-Analysis/blob/main/Code/Knowing_DDSM_dataset.ipynb\" target=\"_parent\"><img src=\"https://colab.research.google.com/assets/colab-badge.svg\" alt=\"Open In Colab\"/></a>"
      ]
    },
    {
      "cell_type": "code",
      "metadata": {
        "colab": {
          "base_uri": "https://localhost:8080/"
        },
        "id": "kQDGmBVRCthH",
        "outputId": "6566b13c-8d52-4c01-be0f-493964586623"
      },
      "source": [
        "from google.colab import drive\r\n",
        "drive.mount('/content/gdrive', force_remount=True) "
      ],
      "execution_count": 2,
      "outputs": [
        {
          "output_type": "stream",
          "text": [
            "Mounted at /content/gdrive\n"
          ],
          "name": "stdout"
        }
      ]
    },
    {
      "cell_type": "code",
      "metadata": {
        "id": "kr2SN9RFDFoZ",
        "colab": {
          "base_uri": "https://localhost:8080/"
        },
        "outputId": "f9bd2239-d61d-4a36-acd9-d7cdcd3b4b86"
      },
      "source": [
        "import matplotlib.pyplot as plt\r\n",
        "import matplotlib.image as img\r\n",
        "import numpy as np\r\n",
        "import pandas as pd \r\n",
        "import os \r\n",
        "\r\n",
        "\r\n",
        "BATCH_SIZE = 20\r\n",
        "EPOCHS = 100\r\n",
        "\r\n",
        "base_path = \"/content/gdrive/My Drive/Colab_Notebooks/CIDL/DL Project\"\r\n",
        "\r\n",
        "MODEL_PATH = os.path.join(base_path, \"models\")\r\n",
        "PLOTS_PATH = os.path.join(base_path, \"plots/Masses-Calcifications\")\r\n",
        "RESULT_PATH = os.path.join(base_path, \"results/Masses-Calcifications\")\r\n",
        "\r\n",
        "train_img_path = os.path.join(base_path, \"numpy data/train_tensor.npy\")\r\n",
        "train_label_path = os.path.join(base_path, \"numpy data/train_labels.npy\")\r\n",
        "test_img_path = os.path.join(base_path, \"numpy data/public_test_tensor.npy\")\r\n",
        "test_label_path = os.path.join(base_path, \"numpy data/public_test_labels.npy\")\r\n",
        "\r\n",
        "\r\n",
        "file_path = os.path.join(RESULT_PATH, \"results-CM.csv\")\r\n",
        "\r\n",
        "print(\"Done\")"
      ],
      "execution_count": 8,
      "outputs": [
        {
          "output_type": "stream",
          "text": [
            "Done\n"
          ],
          "name": "stdout"
        }
      ]
    },
    {
      "cell_type": "code",
      "metadata": {
        "colab": {
          "base_uri": "https://localhost:8080/"
        },
        "id": "5oA7vKcODbUg",
        "outputId": "f041df86-c05d-4abd-ea4a-c64c83f01afc"
      },
      "source": [
        "# Load Arrays from Numpy Files\r\n",
        "def load_training():\r\n",
        "  train_images = np.load(train_img_path)\r\n",
        "  train_labels = np.load(train_label_path)\r\n",
        "  test_images = np.load(test_img_path)\r\n",
        "  test_labels = np.load(test_label_path)\r\n",
        "\r\n",
        "  return train_images, train_labels, test_images, test_labels\r\n",
        "\r\n",
        "# Remove baseline samples\r\n",
        "def remove_baseline(tensor): \r\n",
        "  max_ind = int(len(tensor)/2)\r\n",
        "  indexes = [2*i + 1 for i in range(0, max_ind)]\r\n",
        "\r\n",
        "  return tensor[indexes]\r\n",
        "\r\n",
        "# Interchange the dataset index\r\n",
        "def shuffle_dataset(x, y):\r\n",
        "  indices = tf.range(start=0, limit=tf.shape(x)[0], dtype=tf.int32)\r\n",
        "  shuffled_indices = tf.random.shuffle(indices)\r\n",
        "\r\n",
        "  x = tf.gather(x, shuffled_indices)\r\n",
        "  y = tf.gather(y, shuffled_indices)\r\n",
        "\r\n",
        "  x = x.numpy()\r\n",
        "  y = y.numpy()\r\n",
        "\r\n",
        "  return x, y\r\n",
        "\r\n",
        "# Unify masses and calcifications \r\n",
        "def labels_mapping(labels):\r\n",
        "  labels_local = np.zeros(shape=labels.shape, dtype=\"float32\")\r\n",
        "  idx = 0\r\n",
        "  for label in labels:\r\n",
        "    # Masses\r\n",
        "    if label == 1 or label == 2:\r\n",
        "      labels_local[idx] = 0\r\n",
        "    # Calcifications\r\n",
        "    else:\r\n",
        "      labels_local[idx] = 1\r\n",
        "    idx += 1\r\n",
        "\r\n",
        "  return labels_local\r\n",
        "\r\n",
        "# Unify masses bening and malign\r\n",
        "def labels_masses(labels):\r\n",
        "  labels_local = np.zeros(shape=labels.shape, dtype=\"int\")\r\n",
        "  idx = 0\r\n",
        "  for label in labels:\r\n",
        "    # Masses\r\n",
        "    if label ==1:\r\n",
        "      labels_local[idx] = 0\r\n",
        "    elif label == 2:\r\n",
        "      labels_local[idx] = 1\r\n",
        "    idx += 1\r\n",
        "\r\n",
        "  return labels_local\r\n",
        "\r\n",
        "\r\n",
        "# Unify masses bening and malign\r\n",
        "def labels_calc(labels):\r\n",
        "  labels_local = np.zeros(shape=labels.shape, dtype=\"int\")\r\n",
        "  idx = 0\r\n",
        "  for label in labels:\r\n",
        "    # Masses\r\n",
        "    if label ==3:\r\n",
        "      labels_local[idx] = 0\r\n",
        "    elif label == 4:\r\n",
        "      labels_local[idx] = 1\r\n",
        "    idx += 1\r\n",
        "\r\n",
        "  return labels_local\r\n",
        "\r\n",
        "print(\"Done\")"
      ],
      "execution_count": 5,
      "outputs": [
        {
          "output_type": "stream",
          "text": [
            "Done\n"
          ],
          "name": "stdout"
        }
      ]
    },
    {
      "cell_type": "code",
      "metadata": {
        "colab": {
          "base_uri": "https://localhost:8080/"
        },
        "id": "A7c2HF7rDLVA",
        "outputId": "6d16834b-0436-4747-837e-0c368b25b7ef"
      },
      "source": [
        "# Visualization Confusion Matrix\r\n",
        "def plot_confusion_matrix(classes, # Array with the classes name\r\n",
        "                          datagen,\r\n",
        "                          dataset, \r\n",
        "                          labels,\r\n",
        "                          batch_size=BATCH_SIZE,\r\n",
        "                          title='Confusion matrix'):\r\n",
        "    \"\"\"\r\n",
        "    This function prints and plots the confusion matrix.\r\n",
        "    \"\"\"\r\n",
        "    predicted = model.predict(datagen.flow(dataset,\r\n",
        "                                            labels,\r\n",
        "                                            batch_size=batch_size,\r\n",
        "                                            shuffle=False),\r\n",
        "                          steps=len(dataset) // batch_size)\r\n",
        "\r\n",
        "    prediction = np.where(predicted < 0.5, 0, 1)\r\n",
        "\r\n",
        "    print('Confusion Matrix')\r\n",
        "    cm = confusion_matrix(labels, prediction)\r\n",
        "\r\n",
        "    print(classification_report(labels, prediction))\r\n",
        "\r\n",
        "    plt.imshow(cm, interpolation='nearest', cmap='Blues')\r\n",
        "    plt.title(title)\r\n",
        "    plt.colorbar()\r\n",
        "    tick_marks = np.arange(len(classes))\r\n",
        "    plt.xticks(tick_marks, classes, rotation=45)\r\n",
        "    plt.yticks(tick_marks, classes)\r\n",
        "\r\n",
        "    print(cm)\r\n",
        "\r\n",
        "    thresh = cm.max() / 2.\r\n",
        "    for i, j in itertools.product(range(cm.shape[0]), range(cm.shape[1])):\r\n",
        "        plt.text(j, i, cm[i, j],\r\n",
        "            horizontalalignment=\"center\",\r\n",
        "            color=\"white\" if cm[i, j] > thresh else \"black\")\r\n",
        "\r\n",
        "    plt.tight_layout()\r\n",
        "    plt.ylabel('True label')\r\n",
        "    plt.xlabel('Predicted label')\r\n",
        "\r\n",
        "\r\n",
        "# Visualization Data Histogram\r\n",
        "def plot(history):\r\n",
        "  acc = history.history['acc']\r\n",
        "  val_acc = history.history['val_acc']\r\n",
        "  loss = history.history['loss']\r\n",
        "  val_loss = history.history['val_loss']\r\n",
        "\r\n",
        "  epochs = range(len(acc))\r\n",
        "\r\n",
        "  plt.plot(epochs, acc, 'bo', label='Training accuracy')\r\n",
        "  plt.plot(epochs, val_acc, 'b', label='Validation accuracy')\r\n",
        "  plt.title('Training and validation accuracy')\r\n",
        "  plt.legend()\r\n",
        "\r\n",
        "  plt.figure()\r\n",
        "\r\n",
        "  plt.plot(epochs, loss, 'bo', label='Training loss')\r\n",
        "  plt.plot(epochs, val_loss, 'b', label='Validation loss')\r\n",
        "  plt.title('Training and validation loss')\r\n",
        "  plt.legend()\r\n",
        "\r\n",
        "  return plt\r\n",
        "\r\n",
        "# Visualization Detail Metric\r\n",
        "def plot_metrics(history):\r\n",
        "  metrics = ['loss', 'auc', 'precision', 'recall']\r\n",
        "  plt.figure(figsize=(12,10))\r\n",
        "\r\n",
        "  for n, metric in enumerate(metrics):\r\n",
        "    name = metric.replace(\"_\",\" \").capitalize()\r\n",
        "    plt.subplot(2,2,n+1)\r\n",
        "    plt.plot(history.epoch, history.history[metric], label='Train')\r\n",
        "    plt.plot(history.epoch, history.history['val_'+metric],\r\n",
        "             linestyle=\"--\", label='Val')\r\n",
        "    plt.xlabel('Epoch')\r\n",
        "    plt.ylabel(name)\r\n",
        "\r\n",
        "    if metric == 'loss':\r\n",
        "      plt.ylim([0, plt.ylim()[1]])\r\n",
        "    elif metric == 'auc':\r\n",
        "      plt.ylim([0.8,1])\r\n",
        "    else:\r\n",
        "      plt.ylim([0,1])\r\n",
        "\r\n",
        "    plt.legend()\r\n",
        "\r\n",
        "  return plt\r\n",
        "\r\n",
        "def plot_bar(train_labels, test_labels, title):\r\n",
        "  # Train Values\r\n",
        "  (unique, counts) = np.unique(train_labels, return_counts=True)\r\n",
        "  counts = percentages(counts)\r\n",
        "  bars1 = counts\r\n",
        "\r\n",
        "  # Test Values\r\n",
        "  (unique, counts) = np.unique(test_labels, return_counts=True)\r\n",
        "  counts = percentages(counts)\r\n",
        "  bars2 = counts\r\n",
        "\r\n",
        "  # set width of bar\r\n",
        "  barWidth = 0.40\r\n",
        "  \r\n",
        "  # set height of bar\r\n",
        "  \r\n",
        "  # Set position of bar on X axis\r\n",
        "  r1 = np.arange(len(bars1))\r\n",
        "  r2 = [x + barWidth for x in r1]\r\n",
        "\r\n",
        "  # Make the plot\r\n",
        "  plt.bar(r1, bars1, width=barWidth, edgecolor='white', label='Train set')\r\n",
        "  plt.bar(r2, bars2, width=barWidth, edgecolor='white', label='Test set')\r\n",
        "  \r\n",
        "  # Add xticks on the middle of the group bars\r\n",
        "  plt.xlabel('Class', fontweight='bold')\r\n",
        "  plt.xticks([r + barWidth for r in range(len(bars1))], unique)\r\n",
        "  plt.ylabel('Percentages quantity', fontweight='bold')\r\n",
        "\r\n",
        "  \r\n",
        "  # Create legend & Show graphic\r\n",
        "  plt.legend()\r\n",
        "  plt.title(title)\r\n",
        "\r\n",
        "  return plt\r\n",
        "\r\n",
        "\r\n",
        "def plot_AUC(model, dataset, labels):\r\n",
        "  y_pred_keras = model.predict(dataset).ravel()\r\n",
        "  fpr_keras, tpr_keras, thresholds_keras = roc_curve(labels, y_pred_keras)\r\n",
        "  auc_keras = auc(fpr_keras, tpr_keras)\r\n",
        "\r\n",
        "  plt.figure(1)\r\n",
        "  plt.plot([0, 1], [0, 1], 'k--')\r\n",
        "  plt.plot(fpr_keras, tpr_keras, label='CNN (area = {:.3f})'.format(auc_keras))\r\n",
        "  plt.xlabel('False positive rate')\r\n",
        "  plt.ylabel('True positive rate')\r\n",
        "  plt.title('ROC curve')\r\n",
        "  plt.legend(loc='best')\r\n",
        "\r\n",
        "  return plt\r\n",
        "\r\n",
        "print(\"Done\")"
      ],
      "execution_count": 6,
      "outputs": [
        {
          "output_type": "stream",
          "text": [
            "Done\n"
          ],
          "name": "stdout"
        }
      ]
    },
    {
      "cell_type": "markdown",
      "metadata": {
        "id": "blEOGlKODilF"
      },
      "source": [
        "## Load Data"
      ]
    },
    {
      "cell_type": "code",
      "metadata": {
        "colab": {
          "base_uri": "https://localhost:8080/"
        },
        "id": "XC49Eoc_DeWy",
        "outputId": "0033f2df-9451-4618-f22a-f3736f3fb41c"
      },
      "source": [
        "# Get images and labels (test, train)\r\n",
        "train_images, train_labels, test_images, test_labels = load_training()\r\n",
        "\r\n",
        "print(\"Done\")"
      ],
      "execution_count": null,
      "outputs": [
        {
          "output_type": "stream",
          "text": [
            "Done\n"
          ],
          "name": "stdout"
        }
      ]
    },
    {
      "cell_type": "markdown",
      "metadata": {
        "id": "48suF6gNDk4I"
      },
      "source": [
        "## Exploring the Dataset\r\n",
        "\r\n",
        "### Data Distribution by Class"
      ]
    },
    {
      "cell_type": "code",
      "metadata": {
        "colab": {
          "base_uri": "https://localhost:8080/",
          "height": 295
        },
        "id": "3Q5Er_f4DzYg",
        "outputId": "b1f5996a-0363-4da4-ce12-3b66eab25e18"
      },
      "source": [
        "def percentages(a):\r\n",
        "    return a / np.sum(a)\r\n",
        "\r\n",
        "# Train Values\r\n",
        "(unique, counts) = np.unique(train_labels, return_counts=True)\r\n",
        "counts = percentages(counts)\r\n",
        "bars1 = counts\r\n",
        "\r\n",
        "# Test Values\r\n",
        "(unique, counts) = np.unique(test_labels, return_counts=True)\r\n",
        "counts = percentages(counts)\r\n",
        "bars2 = counts\r\n",
        "\r\n",
        "# set width of bar\r\n",
        "barWidth = 0.40\r\n",
        " \r\n",
        "# set height of bar\r\n",
        " \r\n",
        "# Set position of bar on X axis\r\n",
        "r1 = np.arange(len(bars1))\r\n",
        "r2 = [x + barWidth for x in r1]\r\n",
        "\r\n",
        "# Make the plot\r\n",
        "plt.bar(r1, bars1, width=barWidth, edgecolor='white', label='Train set')\r\n",
        "plt.bar(r2, bars2, width=barWidth, edgecolor='white', label='Test set')\r\n",
        " \r\n",
        "# Add xticks on the middle of the group bars\r\n",
        "plt.xlabel('Class', fontweight='bold')\r\n",
        "plt.xticks([r + barWidth for r in range(len(bars1))], unique)\r\n",
        "plt.ylabel('Percentages quantity', fontweight='bold')\r\n",
        "\r\n",
        " \r\n",
        "# Create legend & Show graphic\r\n",
        "plt.legend()\r\n",
        "plt.title('Data Distribution by Class')\r\n",
        "\r\n",
        "\r\n",
        "plt.savefig(os.path.join(PLOTS_PATH, \"intro-dataset-class.png\"))\r\n",
        "plt.show()"
      ],
      "execution_count": null,
      "outputs": [
        {
          "output_type": "display_data",
          "data": {
            "image/png": "[encoded data removed]",
            "text/plain": [
              "<Figure size 432x288 with 1 Axes>"
            ]
          },
          "metadata": {
            "tags": [],
            "needs_background": "light"
          }
        }
      ]
    },
    {
      "cell_type": "code",
      "metadata": {
        "colab": {
          "base_uri": "https://localhost:8080/",
          "height": 329
        },
        "id": "LarmoURPHp9N",
        "outputId": "f359a93b-a2b5-42b3-a166-fd7d3e347603"
      },
      "source": [
        "AUC_values = np.random.rand(8)\r\n",
        "TPR_values = np.random.rand(8)\r\n",
        "FPR_values = np.random.rand(8)\r\n",
        "PRECISION_values = np.random.rand(8)\r\n",
        "SPECIFICITY_values = np.random.rand(8)\r\n",
        "\r\n",
        "x_labels = [\"1\", \"2\", \"3\", \"4\", \"5\", \"6\", \"7\", \"8\"]\r\n",
        "\r\n",
        "# AUC values\r\n",
        "counts = AUC_values\r\n",
        "bars1 = counts\r\n",
        "\r\n",
        "# TPR values\r\n",
        "counts = TPR_values\r\n",
        "bars2 = counts\r\n",
        "\r\n",
        "#FPR values\r\n",
        "counts = FPR_values\r\n",
        "bars3 = counts\r\n",
        "\r\n",
        "# set width of bar\r\n",
        "barWidth = 1.3\r\n",
        " \r\n",
        "# set height of bar\r\n",
        " \r\n",
        "# Set position of bar on X axis\r\n",
        "r1 = np.arange(len(bars1))*5\r\n",
        "print(r1)\r\n",
        "r2 = [x + barWidth for x in r1]\r\n",
        "print(r2)\r\n",
        "r3 = [x + barWidth for x in r2]\r\n",
        "#print(r3)\r\n",
        "\r\n",
        "\r\n",
        "fig= plt.figure(figsize=(10,4))\r\n",
        "\r\n",
        "# Make the plot\r\n",
        "plt.bar(r1, bars1, width=barWidth, edgecolor='white', label='AUC')\r\n",
        "plt.bar(r2, bars2, width=barWidth, edgecolor='white', label='TPR')\r\n",
        "plt.bar(r3, bars3, width=barWidth, edgecolor='white', label='FPR')\r\n",
        " \r\n",
        "# Add xticks on the middle of the group bars\r\n",
        "plt.xlabel('Class', fontweight='bold')\r\n",
        "plt.xticks([r + barWidth for r in r1], x_labels)\r\n",
        "plt.ylabel('Percentages quantity', fontweight='bold')\r\n",
        "\r\n",
        " \r\n",
        "# Create legend & Show graphic\r\n",
        "plt.legend()\r\n",
        "plt.title('Data Distribution by Class')\r\n",
        "\r\n",
        "#plt.savefig(os.path.join(PLOTS_PATH, \"intro-dataset-class.png\"))\r\n",
        "plt.show()"
      ],
      "execution_count": null,
      "outputs": [
        {
          "output_type": "stream",
          "text": [
            "[ 0  5 10 15 20 25 30 35]\n",
            "[1.3, 6.3, 11.3, 16.3, 21.3, 26.3, 31.3, 36.3]\n"
          ],
          "name": "stdout"
        },
        {
          "output_type": "display_data",
          "data": {
            "image/png": "[encoded data removed]",
            "text/plain": [
              "<Figure size 720x288 with 1 Axes>"
            ]
          },
          "metadata": {
            "tags": [],
            "needs_background": "light"
          }
        }
      ]
    },
    {
      "cell_type": "code",
      "metadata": {
        "id": "Rfh7Fyj2pbfe"
      },
      "source": [
        "# Get abnormalities only \r\n",
        "train_images = remove_baseline(train_images)\r\n",
        "train_labels = remove_baseline(train_labels)\r\n",
        "test_images = remove_baseline(test_images)\r\n",
        "test_labels = remove_baseline(test_labels)\r\n",
        "\r\n",
        "print(\"Done\")"
      ],
      "execution_count": null,
      "outputs": []
    },
    {
      "cell_type": "markdown",
      "metadata": {
        "id": "I60azJEFpQrs"
      },
      "source": [
        "### Masses and Calcification"
      ]
    },
    {
      "cell_type": "code",
      "metadata": {
        "id": "EYCnPST-pW0Q"
      },
      "source": [
        "# Mapping labels with standard index\r\n",
        "train_labels_mapping = labels_mapping(train_labels)\r\n",
        "test_labels_mapping = labels_mapping(test_labels)"
      ],
      "execution_count": null,
      "outputs": []
    },
    {
      "cell_type": "code",
      "metadata": {
        "colab": {
          "base_uri": "https://localhost:8080/",
          "height": 295
        },
        "id": "4dRLbMxjpkLy",
        "outputId": "103f0f4b-ad87-41b6-f944-ae2ff4ce0f6f"
      },
      "source": [
        "title = 'Masses and Calcifications'\r\n",
        "plt = plot_bar(train_labels_mapping, test_labels_mapping, title)\r\n",
        "plt.savefig(os.path.join(PLOTS_PATH, \"intro-dataset-calc-mass.png\"))\r\n",
        "plt.show()"
      ],
      "execution_count": null,
      "outputs": [
        {
          "output_type": "display_data",
          "data": {
            "image/png": "[encoded data removed]",
            "text/plain": [
              "<Figure size 432x288 with 1 Axes>"
            ]
          },
          "metadata": {
            "tags": [],
            "needs_background": "light"
          }
        }
      ]
    },
    {
      "cell_type": "markdown",
      "metadata": {
        "id": "AeqCPlsPHXJy"
      },
      "source": [
        "### Calcification Casses"
      ]
    },
    {
      "cell_type": "code",
      "metadata": {
        "id": "rIRJ-WoqJYzw"
      },
      "source": [
        "# Mapping labels with standard index\r\n",
        "train_labels_calc = labels_calc(train_labels)\r\n",
        "test_labels_calc = labels_calc(test_labels)"
      ],
      "execution_count": null,
      "outputs": []
    },
    {
      "cell_type": "code",
      "metadata": {
        "colab": {
          "base_uri": "https://localhost:8080/",
          "height": 295
        },
        "id": "0fOdHglPP53r",
        "outputId": "cc9cc416-89f6-4f77-cdfe-3c385b0f8c4d"
      },
      "source": [
        "title = 'Calcification Classes'\r\n",
        "plt = plot_bar(train_labels_calc, test_labels_calc, title)\r\n",
        "plt.savefig(os.path.join(PLOTS_PATH, \"intro-dataset-calc.png\"))\r\n",
        "plt.show()"
      ],
      "execution_count": null,
      "outputs": [
        {
          "output_type": "display_data",
          "data": {
            "image/png": "[encoded data removed]",
            "text/plain": [
              "<Figure size 432x288 with 1 Axes>"
            ]
          },
          "metadata": {
            "tags": [],
            "needs_background": "light"
          }
        }
      ]
    },
    {
      "cell_type": "code",
      "metadata": {
        "colab": {
          "base_uri": "https://localhost:8080/"
        },
        "id": "o6fDo_KiTczj",
        "outputId": "8c89acd4-bfb1-4017-edf3-6a9fd7c0c99a"
      },
      "source": [
        "# Save Images Example Calcifications and Masses\r\n",
        "plt.imsave(os.path.join(PLOTS_PATH, \"intro-masses-malign.png\"), train_images[1], cmap='Greys_r')\r\n",
        "plt.imsave(os.path.join(PLOTS_PATH, \"intro-calc-malign.png\"), train_images[2674], cmap='Greys_r')\r\n",
        "plt.imsave(os.path.join(PLOTS_PATH, \"intro-masses-benign.png\"), train_images[2], cmap='Greys_r')\r\n",
        "plt.imsave(os.path.join(PLOTS_PATH, \"intro-calc-benign.png\"), train_images[2675], cmap='Greys_r')\r\n",
        "\r\n",
        "print(\"Done\")"
      ],
      "execution_count": null,
      "outputs": [
        {
          "output_type": "stream",
          "text": [
            "Done\n"
          ],
          "name": "stdout"
        }
      ]
    },
    {
      "cell_type": "markdown",
      "metadata": {
        "id": "dzanGOwJHi84"
      },
      "source": [
        "### Masses Casses"
      ]
    },
    {
      "cell_type": "code",
      "metadata": {
        "colab": {
          "base_uri": "https://localhost:8080/"
        },
        "id": "KfLbc9UeJ0R4",
        "outputId": "e7650584-9bb4-4fac-b878-09c9fff0c867"
      },
      "source": [
        "# Mapping labels with standard index\r\n",
        "train_labels_masses = labels_masses(train_labels)\r\n",
        "test_labels_masses = labels_masses(test_labels)\r\n",
        "\r\n",
        "print(\"Done\")"
      ],
      "execution_count": null,
      "outputs": [
        {
          "output_type": "stream",
          "text": [
            "Done\n"
          ],
          "name": "stdout"
        }
      ]
    },
    {
      "cell_type": "code",
      "metadata": {
        "colab": {
          "base_uri": "https://localhost:8080/",
          "height": 295
        },
        "id": "q-UIvrheRjtE",
        "outputId": "e5c6192c-87ab-42c3-9158-dd4be6c46559"
      },
      "source": [
        "title = 'Mass Casses'\r\n",
        "plt = plot_bar(train_labels_masses, test_labels_masses, title)\r\n",
        "plt.savefig(os.path.join(PLOTS_PATH, \"intro-dataset-masses.png\"))\r\n",
        "plt.show()"
      ],
      "execution_count": null,
      "outputs": [
        {
          "output_type": "display_data",
          "data": {
            "image/png": "[encoded data removed]",
            "text/plain": [
              "<Figure size 432x288 with 1 Axes>"
            ]
          },
          "metadata": {
            "tags": [],
            "needs_background": "light"
          }
        }
      ]
    },
    {
      "cell_type": "markdown",
      "metadata": {
        "id": "4MQxL6uNRrGq"
      },
      "source": [
        "###Plot the results of all models Masses-Calcifications\r\n"
      ]
    },
    {
      "cell_type": "code",
      "metadata": {
        "id": "_6poDYiNTZLy",
        "colab": {
          "base_uri": "https://localhost:8080/",
          "height": 195
        },
        "outputId": "7c85de38-1bff-49c4-a735-9eb7e9fd7fa9"
      },
      "source": [
        "data = pd.read_csv(file_path)\r\n",
        "data.sort_values(by=['mean_val_acc'], ascending=False, inplace=True)\r\n",
        "data.head()"
      ],
      "execution_count": 25,
      "outputs": [
        {
          "output_type": "execute_result",
          "data": {
            "text/html": [
              "<div>\n",
              "<style scoped>\n",
              "    .dataframe tbody tr th:only-of-type {\n",
              "        vertical-align: middle;\n",
              "    }\n",
              "\n",
              "    .dataframe tbody tr th {\n",
              "        vertical-align: top;\n",
              "    }\n",
              "\n",
              "    .dataframe thead th {\n",
              "        text-align: right;\n",
              "    }\n",
              "</style>\n",
              "<table border=\"1\" class=\"dataframe\">\n",
              "  <thead>\n",
              "    <tr style=\"text-align: right;\">\n",
              "      <th></th>\n",
              "      <th>name</th>\n",
              "      <th>batch_size</th>\n",
              "      <th>num_epochs</th>\n",
              "      <th>units_per_layer</th>\n",
              "      <th>optimizer</th>\n",
              "      <th>learning_rate</th>\n",
              "      <th>mean_val_acc</th>\n",
              "      <th>std</th>\n",
              "      <th>mean_val_loss</th>\n",
              "      <th>std_loss</th>\n",
              "      <th>num_folds</th>\n",
              "    </tr>\n",
              "  </thead>\n",
              "  <tbody>\n",
              "    <tr>\n",
              "      <th>17</th>\n",
              "      <td>Model_18</td>\n",
              "      <td>20</td>\n",
              "      <td>100</td>\n",
              "      <td>[32  64  128  256]</td>\n",
              "      <td>RMSprop</td>\n",
              "      <td>0.01</td>\n",
              "      <td>0.8865</td>\n",
              "      <td>(+/- 0.0199)</td>\n",
              "      <td>0.3096</td>\n",
              "      <td>(+/- 0.0342)</td>\n",
              "      <td>5</td>\n",
              "    </tr>\n",
              "    <tr>\n",
              "      <th>16</th>\n",
              "      <td>Model_17</td>\n",
              "      <td>20</td>\n",
              "      <td>100</td>\n",
              "      <td>[32  64  128  128]</td>\n",
              "      <td>RMSprop</td>\n",
              "      <td>0.01</td>\n",
              "      <td>0.8865</td>\n",
              "      <td>(+/- 0.0318)</td>\n",
              "      <td>0.3032</td>\n",
              "      <td>(+/- 0.0726)</td>\n",
              "      <td>5</td>\n",
              "    </tr>\n",
              "    <tr>\n",
              "      <th>7</th>\n",
              "      <td>Model_8</td>\n",
              "      <td>32</td>\n",
              "      <td>100</td>\n",
              "      <td>[32  64  128  256]</td>\n",
              "      <td>Adam</td>\n",
              "      <td>0.01</td>\n",
              "      <td>0.8859</td>\n",
              "      <td>(+/- 0.0338)</td>\n",
              "      <td>0.3226</td>\n",
              "      <td>(+/- 0.0636)</td>\n",
              "      <td>5</td>\n",
              "    </tr>\n",
              "    <tr>\n",
              "      <th>34</th>\n",
              "      <td>Model_35</td>\n",
              "      <td>20</td>\n",
              "      <td>100</td>\n",
              "      <td>[32  64  128  128]</td>\n",
              "      <td>Adam</td>\n",
              "      <td>0.01</td>\n",
              "      <td>0.8815</td>\n",
              "      <td>(+/- 0.0416)</td>\n",
              "      <td>0.3031</td>\n",
              "      <td>(+/- 0.0700)</td>\n",
              "      <td>5</td>\n",
              "    </tr>\n",
              "    <tr>\n",
              "      <th>18</th>\n",
              "      <td>Model_19</td>\n",
              "      <td>20</td>\n",
              "      <td>100</td>\n",
              "      <td>[32  64  128  128]</td>\n",
              "      <td>Adam</td>\n",
              "      <td>0.01</td>\n",
              "      <td>0.8808</td>\n",
              "      <td>(+/- 0.0297)</td>\n",
              "      <td>0.3143</td>\n",
              "      <td>(+/- 0.0516)</td>\n",
              "      <td>5</td>\n",
              "    </tr>\n",
              "  </tbody>\n",
              "</table>\n",
              "</div>"
            ],
            "text/plain": [
              "        name  batch_size  num_epochs  ... mean_val_loss      std_loss  num_folds\n",
              "17  Model_18          20         100  ...        0.3096  (+/- 0.0342)          5\n",
              "16  Model_17          20         100  ...        0.3032  (+/- 0.0726)          5\n",
              "7    Model_8          32         100  ...        0.3226  (+/- 0.0636)          5\n",
              "34  Model_35          20         100  ...        0.3031  (+/- 0.0700)          5\n",
              "18  Model_19          20         100  ...        0.3143  (+/- 0.0516)          5\n",
              "\n",
              "[5 rows x 11 columns]"
            ]
          },
          "metadata": {
            "tags": []
          },
          "execution_count": 25
        }
      ]
    },
    {
      "cell_type": "code",
      "metadata": {
        "id": "TzWUy15rUhJJ"
      },
      "source": [
        ""
      ],
      "execution_count": null,
      "outputs": []
    },
    {
      "cell_type": "code",
      "metadata": {
        "colab": {
          "base_uri": "https://localhost:8080/",
          "height": 458
        },
        "id": "5BM75pGITmt5",
        "outputId": "0a5437cd-fabc-41d6-8389-f1a004552997"
      },
      "source": [
        "markers=[\".\",\",\",\"o\",\"v\",\"^\",\"<\",\">\",\"1\",\"2\",\"3\",\"4\",\"8\",\"s\",\"p\",\"P\",\"*\",\"h\",\"H\",\"+\",\"x\",\"X\",\"D\",\"d\",\"|\",\"_\"]\r\n",
        "\r\n",
        "plt.figure(figsize=(7,7))\r\n",
        "for row in data.itertuples():\r\n",
        "  if row.Index <= 24:\r\n",
        "    plt.scatter(row.mean_val_loss, row.mean_val_acc, label=row.name, marker=markers[row.Index], s=150, linewidths=3)\r\n",
        "    \r\n",
        "\r\n",
        "plt.xlabel('Validation Loss after 100 Epochs')\r\n",
        "plt.ylabel('Validation Accuracy after 100 Epochs')\r\n",
        "plt.title('Accuracy vs Loss ')\r\n",
        "\r\n",
        "# Move legend out of the plot\r\n",
        "plt.legend(bbox_to_anchor=(1, 1), loc='best')\r\n",
        "\r\n",
        "plt.savefig(os.path.join(PLOTS_PATH, \"smc-accuracy-loss.png\"))\r\n",
        "plt.show()\r\n",
        "\r\n"
      ],
      "execution_count": 45,
      "outputs": [
        {
          "output_type": "display_data",
          "data": {
            "image/png": "[encoded data removed]",
            "text/plain": [
              "<Figure size 504x504 with 1 Axes>"
            ]
          },
          "metadata": {
            "tags": [],
            "needs_background": "light"
          }
        }
      ]
    }
  ]
}