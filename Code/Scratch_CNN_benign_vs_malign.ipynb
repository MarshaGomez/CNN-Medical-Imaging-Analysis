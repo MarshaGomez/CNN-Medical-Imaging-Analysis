{
  "nbformat": 4,
  "nbformat_minor": 0,
  "metadata": {
    "accelerator": "GPU",
    "colab": {
      "name": "Scratch_CNN_benign_vs_malign.ipynb",
      "provenance": [],
      "collapsed_sections": [],
      "toc_visible": true,
      "include_colab_link": true
    },
    "kernelspec": {
      "name": "python3",
      "display_name": "Python 3.8.5 64-bit",
      "metadata": {
        "interpreter": {
          "hash": "14e7478b47274acca8712c9b0b8544ff5329b698c01bb681f36d15b2a0cb8390"
        }
      }
    }
  },
  "cells": [
    {
      "cell_type": "markdown",
      "metadata": {
        "id": "view-in-github",
        "colab_type": "text"
      },
      "source": [
        "<a href=\"https://colab.research.google.com/github/MarshaGomez/CNN-Medical-Imaging-Analysis/blob/main/Code/Scratch_CNN_benign_vs_malign.ipynb\" target=\"_parent\"><img src=\"https://colab.research.google.com/assets/colab-badge.svg\" alt=\"Open In Colab\"/></a>"
      ]
    },
    {
      "cell_type": "markdown",
      "metadata": {
        "id": "UPQ8gkXb0NY0"
      },
      "source": [
        "# **Scratch CNN**\r\n",
        "---\r\n",
        "Classification model for discriminating between 2 classes: **benign vs malign samples**. *Ad-hoc CNN architecture*.\r\n",
        "\r\n",
        "**Students:**   *A. Schiavo - M. Gómez - M. Daole*\r\n",
        "\r\n"
      ]
    },
    {
      "cell_type": "code",
      "metadata": {
        "colab": {
          "base_uri": "https://localhost:8080/"
        },
        "id": "95hM4MvWjwfO",
        "outputId": "4debc014-acba-40ab-c9a9-a9ce3f44a069"
      },
      "source": [
        "from google.colab import drive\r\n",
        "drive.mount('/content/gdrive', force_remount=True) "
      ],
      "execution_count": null,
      "outputs": [
        {
          "output_type": "stream",
          "text": [
            "Mounted at /content/gdrive\n"
          ],
          "name": "stdout"
        }
      ]
    },
    {
      "cell_type": "code",
      "metadata": {
        "colab": {
          "base_uri": "https://localhost:8080/"
        },
        "id": "iduaD281krFD",
        "outputId": "d030b213-f838-4d0c-eeaa-1c6ed55e5615"
      },
      "source": [
        "import matplotlib.pyplot as plt\n",
        "import tensorflow as tf\n",
        "import itertools\n",
        "import numpy as np\n",
        "import pandas as pd \n",
        "import ast #Abstract Syntax Trees\n",
        "import os \n",
        "import gc # Garbage Collector\n",
        "\n",
        "from tensorflow.keras import backend as K # Useful to free GPU and memory\n",
        "from sklearn.metrics import confusion_matrix, classification_report\n",
        "from tensorflow.keras.preprocessing.image import ImageDataGenerator\n",
        "from tensorflow.keras.preprocessing import image\n",
        "from tensorflow.keras.models import load_model\n",
        "from keras import layers, optimizers, models, regularizers, metrics\n",
        "from keras.models import load_model\n",
        "#ROC-AUC \n",
        "from sklearn.metrics import roc_curve\n",
        "from sklearn.metrics import auc\n",
        "from keras.wrappers.scikit_learn import KerasClassifier\n",
        "\n",
        "BATCH_SIZE = 20\n",
        "EPOCHS = 100\n",
        "IMAGE_HEIGHT = 150\n",
        "IMAGE_WIDTH = 150\n",
        "\n",
        "base_path = \"/content/gdrive/My Drive/Colab_Notebooks/CIDL/DL Project\"\n",
        "PLOTS_PATH =  os.path.join(base_path, 'plots/Benign-Malign')\n",
        "train_img_path = os.path.join(base_path, 'numpy data/train_tensor.npy')\n",
        "train_label_path = os.path.join(base_path, 'numpy data/train_labels.npy')\n",
        "test_img_path = os.path.join(base_path, 'numpy data/public_test_tensor.npy')\n",
        "test_label_path = os.path.join(base_path, 'numpy data/public_test_labels.npy')\n",
        "\n",
        "print(\"Done\")"
      ],
      "execution_count": null,
      "outputs": [
        {
          "output_type": "stream",
          "text": [
            "Done\n"
          ],
          "name": "stdout"
        }
      ]
    },
    {
      "cell_type": "code",
      "metadata": {
        "id": "LR1Uf7r23ReT",
        "colab": {
          "base_uri": "https://localhost:8080/"
        },
        "outputId": "1e35eeea-5669-43f3-c717-ea4a1e37d5c2"
      },
      "source": [
        "# Load Arrays from Numpy Files\r\n",
        "def load_training():\r\n",
        "  train_images = np.load(train_img_path)\r\n",
        "  train_labels = np.load(train_label_path)\r\n",
        "  test_images = np.load(test_img_path)\r\n",
        "  test_labels = np.load(test_label_path)\r\n",
        "\r\n",
        "  return train_images, train_labels, test_images, test_labels\r\n",
        "\r\n",
        "# Remove baseline samples\r\n",
        "def remove_baseline(tensor): \r\n",
        "  max_ind = int(len(tensor)/2)\r\n",
        "  indexes = [2*i + 1 for i in range(0, max_ind)]\r\n",
        "\r\n",
        "  return tensor[indexes]\r\n",
        "\r\n",
        "# Interchange the dataset index\r\n",
        "def shuffle_dataset(x, y):\r\n",
        "  indices = tf.range(start=0, limit=tf.shape(x)[0], dtype=tf.int32)\r\n",
        "  shuffled_indices = tf.random.shuffle(indices)\r\n",
        "\r\n",
        "  x = tf.gather(x, shuffled_indices)\r\n",
        "  y = tf.gather(y, shuffled_indices)\r\n",
        "\r\n",
        "  x = x.numpy()\r\n",
        "  y = y.numpy()\r\n",
        "\r\n",
        "  return x, y\r\n",
        "\r\n",
        "# split dataset into training and validation set 70-30\r\n",
        "def split_train_val(dataset, labels):\r\n",
        "  train_data_split = dataset[:int(0.7*len(dataset))]\r\n",
        "  valid_data_split = dataset[int(0.7*len(dataset)):]\r\n",
        "  train_labels_split = labels[:int(0.7*len(labels))]\r\n",
        "  valid_labels_split = labels[int(0.7*len(labels)):]\r\n",
        "\r\n",
        "  print(train_data_split.shape)\r\n",
        "  print(valid_data_split.shape)\r\n",
        "  print(train_labels_split.shape)\r\n",
        "  print(valid_labels_split.shape)      \r\n",
        "\r\n",
        "  return train_data_split, valid_data_split, train_labels_split, valid_labels_split\r\n",
        "\r\n",
        "# Unify benign and malign cases \r\n",
        "def labels_mapping(labels):\r\n",
        "  labels_local = np.zeros(shape=labels.shape, dtype=\"float32\")\r\n",
        "  idx = 0\r\n",
        "  for label in labels:\r\n",
        "    # benign\r\n",
        "    if label == 1 or label == 3:\r\n",
        "      labels_local[idx] = 0\r\n",
        "    # malign\r\n",
        "    else:\r\n",
        "      labels_local[idx] = 1\r\n",
        "    idx += 1\r\n",
        "\r\n",
        "  return labels_local\r\n",
        "\r\n",
        "print(\"Done\")\r\n",
        "\r\n",
        "def get_model_predictions(model, dataset, labels, sample_count): \r\n",
        "  predictions = np.zeros((sample_count,))   \r\n",
        "\r\n",
        "  BATCH_SIZE = 1\r\n",
        "  i = 0\r\n",
        "  for batch, labels_batch in test_datagen.flow(dataset, labels, batch_size=BATCH_SIZE, shuffle=False):\r\n",
        "    predictions[i * BATCH_SIZE : (i + 1) * BATCH_SIZE] = model.predict(batch)\r\n",
        "    i += 1\r\n",
        "\r\n",
        "    if i * BATCH_SIZE  >= sample_count:\r\n",
        "      break\r\n",
        "\r\n",
        "    #np.where(predictions < 0.5, 0, 1)\r\n",
        "    #predictions = np.where(predictions < 0.5, 0, 1)\r\n",
        "\r\n",
        "  return predictions\r\n",
        "\r\n",
        "\r\n",
        "def get_model_pred_prob(model, dataset, labels, sample_count): \r\n",
        "  predictions = np.zeros((sample_count,))   \r\n",
        "\r\n",
        "  BATCH_SIZE = 1\r\n",
        "  i = 0\r\n",
        "  for batch, labels_batch in test_datagen.flow(dataset, labels, batch_size=BATCH_SIZE, shuffle=False):\r\n",
        "    predictions[i * BATCH_SIZE : (i + 1) * BATCH_SIZE] = model.predict_classes(batch)\r\n",
        "    i += 1\r\n",
        "\r\n",
        "    if i * BATCH_SIZE  >= sample_count:\r\n",
        "      break\r\n",
        "\r\n",
        "  return predictions\r\n",
        "\r\n",
        "# Function to calculate True Positive Rate and False Positive Rate\r\n",
        "def calc_TP_FP_rate(y_true, y_pred):    \r\n",
        "    # Instantiate counters\r\n",
        "    TP = 0\r\n",
        "    FP = 0\r\n",
        "    TN = 0\r\n",
        "    FN = 0\r\n",
        "\r\n",
        "    # Determine whether each prediction is TP, FP, TN, or FN\r\n",
        "    for i in range(len(y_true)): \r\n",
        "        if y_true[i]==y_pred[i]==1.:\r\n",
        "           TP += 1\r\n",
        "        if y_pred[i]==1. and y_true[i]!=y_pred[i]:\r\n",
        "           FP += 1\r\n",
        "        if y_true[i]==y_pred[i]==0.:\r\n",
        "           TN += 1\r\n",
        "        if y_pred[i]==0. and y_true[i]!=y_pred[i]:\r\n",
        "           FN += 1\r\n",
        "    \r\n",
        "    print(\"TP: \", TP)\r\n",
        "    print(\"FP: \", FP)\r\n",
        "    print(\"TN: \", TN)\r\n",
        "    print(\"FN: \", FN)\r\n",
        "    \r\n",
        "    # Calculate true positive rate and false positive rate\r\n",
        "    tpr = TP / (TP + FN)\r\n",
        "    fpr = FP / (FP + TN)\r\n",
        "\r\n",
        "    return tpr, fpr"
      ],
      "execution_count": null,
      "outputs": [
        {
          "output_type": "stream",
          "text": [
            "Done\n"
          ],
          "name": "stdout"
        }
      ]
    },
    {
      "cell_type": "code",
      "metadata": {
        "colab": {
          "base_uri": "https://localhost:8080/"
        },
        "id": "Gowt9JUQ6sdj",
        "outputId": "a2385dbe-a8f7-4f37-fbf1-a58a2c128c62"
      },
      "source": [
        "# Get images and labels (test, train)\r\n",
        "train_images, train_labels, test_images, test_labels = load_training()\r\n",
        "\r\n",
        "# Get abnormalities only \r\n",
        "train_images = remove_baseline(train_images)\r\n",
        "train_labels = remove_baseline(train_labels)\r\n",
        "test_images = remove_baseline(test_images)\r\n",
        "test_labels = remove_baseline(test_labels)\r\n",
        "\r\n",
        "# Suffle index (Previous dataset is ordered)\r\n",
        "train_images, train_labels = shuffle_dataset(train_images, train_labels)\r\n",
        "\r\n",
        "print(\"Train shape: \", train_images.shape)\r\n",
        "print(\"Test shape: \", test_images.shape)\r\n"
      ],
      "execution_count": null,
      "outputs": [
        {
          "output_type": "stream",
          "text": [
            "Train shape:  (2676, 150, 150)\n",
            "Test shape:  (336, 150, 150)\n"
          ],
          "name": "stdout"
        }
      ]
    },
    {
      "cell_type": "code",
      "metadata": {
        "id": "I2peY8SWutuA",
        "colab": {
          "base_uri": "https://localhost:8080/"
        },
        "outputId": "3e721a6c-da5f-467b-b960-f1e534a3eec2"
      },
      "source": [
        "# Visualization Data Histogram\n",
        "def plot(history):\n",
        "  acc = history.history['acc']\n",
        "  val_acc = history.history['val_acc']\n",
        "  loss = history.history['loss']\n",
        "  val_loss = history.history['val_loss']\n",
        "\n",
        "  epochs = range(len(acc))\n",
        "\n",
        "  plt.plot(epochs, acc, 'bo', label='Training accuracy')\n",
        "  plt.plot(epochs, val_acc, 'b', label='Validation accuracy')\n",
        "  plt.title('Training and validation accuracy')\n",
        "  plt.legend()\n",
        "\n",
        "  plt.figure()\n",
        "\n",
        "  plt.plot(epochs, loss, 'bo', label='Training loss')\n",
        "  plt.plot(epochs, val_loss, 'b', label='Validation loss')\n",
        "  plt.title('Training and validation loss')\n",
        "  plt.legend()\n",
        "\n",
        "  return plt\n",
        "\n",
        "#print confusion matrix\n",
        "from sklearn.metrics import confusion_matrix, classification_report\n",
        "import itertools\n",
        "import matplotlib.pyplot as plt\n",
        "\n",
        "\n",
        "def plot_confusion_matrix(model,\n",
        "                          classes,\n",
        "                          dataset, \n",
        "                          labels,\n",
        "                          title='Confusion matrix',\n",
        "                          cmap=plt.cm.Blues):\n",
        "    \"\"\"\n",
        "    This function prints and plots the confusion matrix.\n",
        "    Normalization can be applied by setting `normalize=True`.\n",
        "    \"\"\"\n",
        "    Y_pred = model.predict(test_datagen.flow(dataset,\n",
        "                                            labels,\n",
        "                                            batch_size=21,\n",
        "                                            shuffle=False),\n",
        "                          steps=len(dataset) // BATCH_SIZE)\n",
        "\n",
        "    np.where(Y_pred < 0.5, 0, 1)\n",
        "    y_pred = np.where(Y_pred < 0.5, 0, 1)\n",
        "\n",
        "    print('Confusion Matrix')\n",
        "    cm = confusion_matrix(labels, y_pred)\n",
        "\n",
        "    #print(cm)\n",
        "    #print('Classification Report')\n",
        "    print(classification_report(labels, y_pred))\n",
        "\n",
        "\n",
        "    plt.imshow(cm, interpolation='nearest', cmap=cmap)\n",
        "    plt.title(title)\n",
        "    plt.colorbar()\n",
        "    tick_marks = np.arange(len(classes))\n",
        "    plt.xticks(tick_marks, classes, rotation=45)\n",
        "    plt.yticks(tick_marks, classes)\n",
        "\n",
        "    #print(cm)\n",
        "\n",
        "    thresh = cm.max() / 2.\n",
        "    for i, j in itertools.product(range(cm.shape[0]), range(cm.shape[1])):\n",
        "        plt.text(j, i, cm[i, j],\n",
        "            horizontalalignment=\"center\",\n",
        "            color=\"white\" if cm[i, j] > thresh else \"black\")\n",
        "\n",
        "    plt.tight_layout()\n",
        "    plt.ylabel('True label')\n",
        "    plt.xlabel('Predicted label')\n",
        "\n",
        "    return plt\n",
        "\n",
        "# Visualization Detail Metric\n",
        "def plot_metrics(history):\n",
        "  metrics = ['loss', 'auc', 'precision', 'recall']\n",
        "  for n, metric in enumerate(metrics):\n",
        "    name = metric.replace(\"_\",\" \").capitalize()\n",
        "    plt.plot(history.epoch, history.history[metric], label='Train')\n",
        "    plt.plot(history.epoch, history.history['val_'+metric],\n",
        "             linestyle=\"--\", label='Val')\n",
        "    plt.xlabel('Epoch')\n",
        "    plt.ylabel(name)\n",
        "\n",
        "    if metric == 'loss':\n",
        "      plt.ylim([0, plt.ylim()[1]])\n",
        "    elif metric == 'auc':\n",
        "      plt.ylim([0.8,1])\n",
        "    else:\n",
        "      plt.ylim([0,1])\n",
        "\n",
        "    plt.legend()\n",
        "    if metrics[-1] != metric:\n",
        "      plt.figure()\n",
        "\n",
        "  return plt\n",
        "\n",
        "def plot_AUC(model, dataset, labels):\n",
        "  y_pred_keras = get_model_predictions(model, dataset, labels, len(dataset))\n",
        "  fpr_keras, tpr_keras, thresholds_keras = roc_curve(labels, y_pred_keras)\n",
        "  #thresholds_keras = np.linspace(0,1,num=100)\n",
        "  auc_keras = auc(fpr_keras, tpr_keras)\n",
        "\n",
        "  plt.figure(1)\n",
        "  plt.plot([0, 1], [0, 1], 'k--')\n",
        "  plt.plot(fpr_keras, tpr_keras, label='CNN (area = {:.3f})'.format(auc_keras))\n",
        "  plt.xlabel('False positive rate')\n",
        "  plt.ylabel('True positive rate')\n",
        "  plt.title('ROC curve')\n",
        "  plt.legend(loc='best')\n",
        "  plt.show()\n",
        "\n",
        "print(\"Done\")"
      ],
      "execution_count": null,
      "outputs": [
        {
          "output_type": "stream",
          "text": [
            "Done\n"
          ],
          "name": "stdout"
        }
      ]
    },
    {
      "cell_type": "markdown",
      "metadata": {
        "id": "5t4iLd0ExZho"
      },
      "source": [
        "## Data preprocessing\r\n",
        "\r\n",
        "Currently, our data sits on a drive as numpy files (**.npy**), so the steps for getting it into our network are roughly:\r\n",
        "\r\n"
      ]
    },
    {
      "cell_type": "code",
      "metadata": {
        "colab": {
          "base_uri": "https://localhost:8080/"
        },
        "id": "4QXFrENlLr_F",
        "outputId": "6f3b1766-1d21-4259-c887-f199aed61ab5"
      },
      "source": [
        "#1: Mass, benign\r\n",
        "#2: Mass, malignant\r\n",
        "#3: Calcification, benign\r\n",
        "#4: Calcification, malignant\r\n",
        "\r\n",
        "#count #of masses and #of calcifications\r\n",
        "unique, counts = np.unique(train_labels, return_counts=True)\r\n",
        "#print(unique, counts)\r\n",
        "\r\n",
        "print(\"Benign Masses samples: \\t\", counts[0])\r\n",
        "print(\"Malign Masses samples: \\t\", counts[1])\r\n",
        "print(\"Benign Calc samples: \\t\", counts[2])\r\n",
        "print(\"Malign Calc samples: \\t\", counts[3])"
      ],
      "execution_count": null,
      "outputs": [
        {
          "output_type": "stream",
          "text": [
            "Benign Masses samples: \t 620\n",
            "Malign Masses samples: \t 598\n",
            "Benign Calc samples: \t 948\n",
            "Malign Calc samples: \t 510\n"
          ],
          "name": "stdout"
        }
      ]
    },
    {
      "cell_type": "code",
      "metadata": {
        "colab": {
          "base_uri": "https://localhost:8080/"
        },
        "id": "GMdDBt9N3tBU",
        "outputId": "4c51ff58-e351-4a3f-efb1-68ac63e042fb"
      },
      "source": [
        "train_labels = labels_mapping(train_labels)\r\n",
        "test_labels = labels_mapping(test_labels)\r\n",
        "\r\n",
        "#check if training dataset is balanced  \r\n",
        "unique, counts = np.unique(train_labels, return_counts=True)\r\n",
        "print(\"Benign samples: \", counts[0])\r\n",
        "print(\"Malign samples: \", counts[1])\r\n",
        "print()\r\n",
        "\r\n",
        "train_images = train_images.reshape(train_images.shape + (1,)) #(2676, 150, 150, 1)\r\n",
        "test_images = test_images.reshape(test_images.shape + (1,)) #(2676, 150, 150, 1)\r\n",
        "print(train_images.shape)\r\n",
        "print(test_images.shape)"
      ],
      "execution_count": null,
      "outputs": [
        {
          "output_type": "stream",
          "text": [
            "Benign samples:  1568\n",
            "Malign samples:  1108\n",
            "\n",
            "(2676, 150, 150, 1)\n",
            "(336, 150, 150, 1)\n"
          ],
          "name": "stdout"
        }
      ]
    },
    {
      "cell_type": "code",
      "metadata": {
        "colab": {
          "base_uri": "https://localhost:8080/"
        },
        "id": "TfMviUsBn-gX",
        "outputId": "844a95dc-bf28-4836-cebb-812e0a182028"
      },
      "source": [
        "# split dataset into training and validation set 70-30\r\n",
        "train_images_split, valid_images_split, train_labels_split, valid_labels_split = split_train_val(train_images, train_labels)                                  "
      ],
      "execution_count": null,
      "outputs": [
        {
          "output_type": "stream",
          "text": [
            "(1873, 150, 150, 1)\n",
            "(803, 150, 150, 1)\n",
            "(1873,)\n",
            "(803,)\n"
          ],
          "name": "stdout"
        }
      ]
    },
    {
      "cell_type": "code",
      "metadata": {
        "colab": {
          "base_uri": "https://localhost:8080/"
        },
        "id": "hm9x-21nzEoE",
        "outputId": "89b071c4-4460-4bf9-94d6-82b9ef717cd4"
      },
      "source": [
        "from tensorflow.keras.preprocessing.image import ImageDataGenerator\r\n",
        "\r\n",
        "# All images will be rescaled by 1./65535\r\n",
        "train_datagen = ImageDataGenerator(rescale=1./65535)\r\n",
        "valid_datagen = ImageDataGenerator(rescale=1./65535)\r\n",
        "test_datagen = ImageDataGenerator(rescale=1./65535) \r\n",
        "\r\n",
        "for batch, labels_batch in train_datagen.flow(train_images, train_labels, batch_size=BATCH_SIZE):\r\n",
        "  print(batch.shape)\r\n",
        "  print(labels_batch.shape)\r\n",
        "  break\r\n",
        "\r\n"
      ],
      "execution_count": null,
      "outputs": [
        {
          "output_type": "stream",
          "text": [
            "(20, 150, 150, 1)\n",
            "(20,)\n"
          ],
          "name": "stdout"
        }
      ]
    },
    {
      "cell_type": "markdown",
      "metadata": {
        "id": "Mi0ZJVf1vA31"
      },
      "source": [
        "## Defining CNN \r\n"
      ]
    },
    {
      "cell_type": "code",
      "metadata": {
        "id": "kwQTeDPEvKql",
        "colab": {
          "base_uri": "https://localhost:8080/"
        },
        "outputId": "8569e94a-dfcc-4a53-c0bf-1290f076ed47"
      },
      "source": [
        "checkpoint_filepath =  os.path.join(base_path, 'models/Benign-Malign/best weights')\n",
        "model_checkpoint_callback = tf.keras.callbacks.ModelCheckpoint(\n",
        "    filepath=checkpoint_filepath,\n",
        "    save_weights_only=True,\n",
        "    monitor='val_acc',\n",
        "    mode='max',\n",
        "    save_best_only=True)\n",
        "\n",
        "def build_model(loss_function, eval_metric=[\"acc\"]):\n",
        "  model = models.Sequential()\n",
        "  model.add(layers.Conv2D(32, (3, 3), activation='relu', input_shape=(150, 150, 1)))\n",
        "  model.add(layers.MaxPooling2D((2, 2)))\n",
        "  model.add(layers.Conv2D(64, (3, 3), activation='relu'))\n",
        "  model.add(layers.MaxPooling2D((2, 2)))\n",
        "  model.add(layers.Conv2D(128, (3, 3), activation='relu'))\n",
        "  model.add(layers.MaxPooling2D((2, 2)))\n",
        "  model.add(layers.Conv2D(128, (3, 3), activation='relu'))\n",
        "  model.add(layers.MaxPooling2D((2, 2)))\n",
        "  model.add(layers.Flatten())\n",
        "  model.add(layers.Dense(512, activation='relu'))\n",
        "  #model.add(layers.Dropout(0.5))\n",
        "  #model.add(layers.Dense(512, kernel_regularizer=regularizers.l2(0.001), activation=\"relu\"))\n",
        "  model.add(layers.Dense(1, activation='sigmoid'))\n",
        "\n",
        "  model.compile(loss=loss_function,\n",
        "              optimizer=optimizers.RMSprop(lr=1e-4), # lr = 0.0001\n",
        "              metrics=[\"acc\"]) \n",
        "  \n",
        "  return model \n",
        "\n",
        "print(\"Done\")"
      ],
      "execution_count": null,
      "outputs": [
        {
          "output_type": "stream",
          "text": [
            "Done\n"
          ],
          "name": "stdout"
        }
      ]
    },
    {
      "cell_type": "markdown",
      "metadata": {
        "id": "fZIemXxawWLm"
      },
      "source": [
        "## CNN Compilation:\r\n",
        "\r\n"
      ]
    },
    {
      "cell_type": "code",
      "metadata": {
        "colab": {
          "base_uri": "https://localhost:8080/"
        },
        "id": "5iumGmf1whk1",
        "outputId": "3525e120-2547-4066-def8-7de7cb909713"
      },
      "source": [
        "from keras import optimizers \r\n",
        "\r\n",
        "model_0 = build_model(\"binary_crossentropy\", \"acc\")\r\n",
        "\r\n",
        "model_0.summary()"
      ],
      "execution_count": null,
      "outputs": [
        {
          "output_type": "stream",
          "text": [
            "Model: \"sequential_7\"\n",
            "_________________________________________________________________\n",
            "Layer (type)                 Output Shape              Param #   \n",
            "=================================================================\n",
            "conv2d_28 (Conv2D)           (None, 148, 148, 32)      320       \n",
            "_________________________________________________________________\n",
            "max_pooling2d_28 (MaxPooling (None, 74, 74, 32)        0         \n",
            "_________________________________________________________________\n",
            "conv2d_29 (Conv2D)           (None, 72, 72, 64)        18496     \n",
            "_________________________________________________________________\n",
            "max_pooling2d_29 (MaxPooling (None, 36, 36, 64)        0         \n",
            "_________________________________________________________________\n",
            "conv2d_30 (Conv2D)           (None, 34, 34, 128)       73856     \n",
            "_________________________________________________________________\n",
            "max_pooling2d_30 (MaxPooling (None, 17, 17, 128)       0         \n",
            "_________________________________________________________________\n",
            "conv2d_31 (Conv2D)           (None, 15, 15, 128)       147584    \n",
            "_________________________________________________________________\n",
            "max_pooling2d_31 (MaxPooling (None, 7, 7, 128)         0         \n",
            "_________________________________________________________________\n",
            "flatten_7 (Flatten)          (None, 6272)              0         \n",
            "_________________________________________________________________\n",
            "dense_14 (Dense)             (None, 512)               3211776   \n",
            "_________________________________________________________________\n",
            "dense_15 (Dense)             (None, 1)                 513       \n",
            "=================================================================\n",
            "Total params: 3,452,545\n",
            "Trainable params: 3,452,545\n",
            "Non-trainable params: 0\n",
            "_________________________________________________________________\n"
          ],
          "name": "stdout"
        }
      ]
    },
    {
      "cell_type": "code",
      "metadata": {
        "id": "H-V8cw96y_3Q",
        "colab": {
          "base_uri": "https://localhost:8080/"
        },
        "outputId": "646a9437-44ef-4d71-cedd-472be14d0697"
      },
      "source": [
        "history = model_0.fit(train_datagen.flow(train_images_split,\r\n",
        "                                       train_labels_split,\r\n",
        "                                       batch_size=BATCH_SIZE,\r\n",
        "                                       shuffle=False),\r\n",
        "                    steps_per_epoch=len(train_images_split) // BATCH_SIZE, \r\n",
        "                    epochs=EPOCHS,\r\n",
        "                    validation_data=valid_datagen.flow(valid_images_split,\r\n",
        "                                       valid_labels_split,\r\n",
        "                                       batch_size=BATCH_SIZE,\r\n",
        "                                       shuffle=False),\r\n",
        "                    validation_steps=len(valid_labels_split) // BATCH_SIZE,\r\n",
        "                    callbacks=[model_checkpoint_callback])\r\n"
      ],
      "execution_count": null,
      "outputs": [
        {
          "output_type": "stream",
          "text": [
            "Epoch 1/100\n",
            "93/93 [==============================] - 9s 19ms/step - loss: 0.6918 - acc: 0.5941 - val_loss: 0.6868 - val_acc: 0.5688\n",
            "Epoch 2/100\n",
            "93/93 [==============================] - 1s 14ms/step - loss: 0.6864 - acc: 0.6166 - val_loss: 0.6810 - val_acc: 0.6087\n",
            "Epoch 3/100\n",
            "93/93 [==============================] - 1s 14ms/step - loss: 0.6765 - acc: 0.5970 - val_loss: 0.6694 - val_acc: 0.5738\n",
            "Epoch 4/100\n",
            "93/93 [==============================] - 1s 14ms/step - loss: 0.6594 - acc: 0.6079 - val_loss: 0.6523 - val_acc: 0.5800\n",
            "Epoch 5/100\n",
            "93/93 [==============================] - 1s 14ms/step - loss: 0.6444 - acc: 0.6236 - val_loss: 0.6349 - val_acc: 0.6288\n",
            "Epoch 6/100\n",
            "93/93 [==============================] - 1s 14ms/step - loss: 0.6478 - acc: 0.6501 - val_loss: 0.6368 - val_acc: 0.6150\n",
            "Epoch 7/100\n",
            "93/93 [==============================] - 1s 13ms/step - loss: 0.6437 - acc: 0.6302 - val_loss: 0.6325 - val_acc: 0.6325\n",
            "Epoch 8/100\n",
            "93/93 [==============================] - 1s 14ms/step - loss: 0.6137 - acc: 0.6375 - val_loss: 0.6708 - val_acc: 0.6162\n",
            "Epoch 9/100\n",
            "93/93 [==============================] - 1s 14ms/step - loss: 0.6078 - acc: 0.6530 - val_loss: 0.6362 - val_acc: 0.6175\n",
            "Epoch 10/100\n",
            "93/93 [==============================] - 1s 14ms/step - loss: 0.6209 - acc: 0.6291 - val_loss: 0.6379 - val_acc: 0.6237\n",
            "Epoch 11/100\n",
            "93/93 [==============================] - 1s 14ms/step - loss: 0.6104 - acc: 0.6287 - val_loss: 0.6684 - val_acc: 0.5938\n",
            "Epoch 12/100\n",
            "93/93 [==============================] - 1s 14ms/step - loss: 0.6114 - acc: 0.6546 - val_loss: 0.6299 - val_acc: 0.6150\n",
            "Epoch 13/100\n",
            "93/93 [==============================] - 1s 15ms/step - loss: 0.5973 - acc: 0.6438 - val_loss: 0.6309 - val_acc: 0.6100\n",
            "Epoch 14/100\n",
            "93/93 [==============================] - 1s 14ms/step - loss: 0.5999 - acc: 0.6554 - val_loss: 0.6279 - val_acc: 0.6363\n",
            "Epoch 15/100\n",
            "93/93 [==============================] - 1s 14ms/step - loss: 0.6012 - acc: 0.6583 - val_loss: 0.6388 - val_acc: 0.6000\n",
            "Epoch 16/100\n",
            "93/93 [==============================] - 1s 14ms/step - loss: 0.6054 - acc: 0.6508 - val_loss: 0.6291 - val_acc: 0.6200\n",
            "Epoch 17/100\n",
            "93/93 [==============================] - 1s 14ms/step - loss: 0.5682 - acc: 0.6758 - val_loss: 0.6561 - val_acc: 0.6000\n",
            "Epoch 18/100\n",
            "93/93 [==============================] - 1s 14ms/step - loss: 0.5630 - acc: 0.6797 - val_loss: 0.6274 - val_acc: 0.6350\n",
            "Epoch 19/100\n",
            "93/93 [==============================] - 1s 14ms/step - loss: 0.5829 - acc: 0.6633 - val_loss: 0.6367 - val_acc: 0.6363\n",
            "Epoch 20/100\n",
            "93/93 [==============================] - 1s 14ms/step - loss: 0.5799 - acc: 0.6681 - val_loss: 0.6242 - val_acc: 0.6413\n",
            "Epoch 21/100\n",
            "93/93 [==============================] - 1s 14ms/step - loss: 0.5685 - acc: 0.6923 - val_loss: 0.6449 - val_acc: 0.6000\n",
            "Epoch 22/100\n",
            "93/93 [==============================] - 1s 13ms/step - loss: 0.5643 - acc: 0.6860 - val_loss: 0.6429 - val_acc: 0.6463\n",
            "Epoch 23/100\n",
            "93/93 [==============================] - 1s 14ms/step - loss: 0.5719 - acc: 0.6676 - val_loss: 0.6494 - val_acc: 0.5987\n",
            "Epoch 24/100\n",
            "93/93 [==============================] - 1s 14ms/step - loss: 0.5433 - acc: 0.6878 - val_loss: 0.6298 - val_acc: 0.6650\n",
            "Epoch 25/100\n",
            "93/93 [==============================] - 1s 14ms/step - loss: 0.5443 - acc: 0.6942 - val_loss: 0.6482 - val_acc: 0.6375\n",
            "Epoch 26/100\n",
            "93/93 [==============================] - 1s 14ms/step - loss: 0.5448 - acc: 0.7168 - val_loss: 0.6985 - val_acc: 0.6062\n",
            "Epoch 27/100\n",
            "93/93 [==============================] - 1s 14ms/step - loss: 0.5388 - acc: 0.7148 - val_loss: 0.6487 - val_acc: 0.6612\n",
            "Epoch 28/100\n",
            "93/93 [==============================] - 1s 14ms/step - loss: 0.5235 - acc: 0.7185 - val_loss: 0.6755 - val_acc: 0.6250\n",
            "Epoch 29/100\n",
            "93/93 [==============================] - 1s 14ms/step - loss: 0.5364 - acc: 0.7076 - val_loss: 0.6589 - val_acc: 0.6488\n",
            "Epoch 30/100\n",
            "93/93 [==============================] - 1s 14ms/step - loss: 0.5201 - acc: 0.7188 - val_loss: 0.6718 - val_acc: 0.6463\n",
            "Epoch 31/100\n",
            "93/93 [==============================] - 1s 14ms/step - loss: 0.5005 - acc: 0.7441 - val_loss: 0.6845 - val_acc: 0.6200\n",
            "Epoch 32/100\n",
            "93/93 [==============================] - 1s 14ms/step - loss: 0.5034 - acc: 0.7365 - val_loss: 0.7030 - val_acc: 0.6400\n",
            "Epoch 33/100\n",
            "93/93 [==============================] - 1s 14ms/step - loss: 0.5123 - acc: 0.7217 - val_loss: 0.7366 - val_acc: 0.6150\n",
            "Epoch 34/100\n",
            "93/93 [==============================] - 1s 13ms/step - loss: 0.5045 - acc: 0.7388 - val_loss: 0.6973 - val_acc: 0.6388\n",
            "Epoch 35/100\n",
            "93/93 [==============================] - 1s 14ms/step - loss: 0.4890 - acc: 0.7311 - val_loss: 0.7198 - val_acc: 0.6350\n",
            "Epoch 36/100\n",
            "93/93 [==============================] - 1s 14ms/step - loss: 0.4764 - acc: 0.7654 - val_loss: 0.7402 - val_acc: 0.5925\n",
            "Epoch 37/100\n",
            "93/93 [==============================] - 1s 14ms/step - loss: 0.4639 - acc: 0.7625 - val_loss: 0.7337 - val_acc: 0.6450\n",
            "Epoch 38/100\n",
            "93/93 [==============================] - 1s 14ms/step - loss: 0.4405 - acc: 0.7886 - val_loss: 0.7060 - val_acc: 0.6313\n",
            "Epoch 39/100\n",
            "93/93 [==============================] - 1s 14ms/step - loss: 0.4359 - acc: 0.7814 - val_loss: 0.7423 - val_acc: 0.6000\n",
            "Epoch 40/100\n",
            "93/93 [==============================] - 1s 14ms/step - loss: 0.4367 - acc: 0.7787 - val_loss: 0.7875 - val_acc: 0.6450\n",
            "Epoch 41/100\n",
            "93/93 [==============================] - 1s 14ms/step - loss: 0.4431 - acc: 0.7791 - val_loss: 0.7834 - val_acc: 0.6087\n",
            "Epoch 42/100\n",
            "93/93 [==============================] - 1s 14ms/step - loss: 0.4296 - acc: 0.7700 - val_loss: 0.7920 - val_acc: 0.6300\n",
            "Epoch 43/100\n",
            "93/93 [==============================] - 1s 14ms/step - loss: 0.4136 - acc: 0.7841 - val_loss: 0.7599 - val_acc: 0.6162\n",
            "Epoch 44/100\n",
            "93/93 [==============================] - 1s 14ms/step - loss: 0.4119 - acc: 0.7920 - val_loss: 0.8361 - val_acc: 0.6513\n",
            "Epoch 45/100\n",
            "93/93 [==============================] - 1s 14ms/step - loss: 0.3834 - acc: 0.8088 - val_loss: 0.7905 - val_acc: 0.6275\n",
            "Epoch 46/100\n",
            "93/93 [==============================] - 1s 14ms/step - loss: 0.3578 - acc: 0.8478 - val_loss: 0.9865 - val_acc: 0.5925\n",
            "Epoch 47/100\n",
            "93/93 [==============================] - 1s 14ms/step - loss: 0.3623 - acc: 0.8283 - val_loss: 0.8555 - val_acc: 0.6187\n",
            "Epoch 48/100\n",
            "93/93 [==============================] - 1s 14ms/step - loss: 0.3684 - acc: 0.8135 - val_loss: 0.9020 - val_acc: 0.6175\n",
            "Epoch 49/100\n",
            "93/93 [==============================] - 1s 14ms/step - loss: 0.3345 - acc: 0.8553 - val_loss: 0.9306 - val_acc: 0.6513\n",
            "Epoch 50/100\n",
            "93/93 [==============================] - 1s 14ms/step - loss: 0.3435 - acc: 0.8456 - val_loss: 1.0714 - val_acc: 0.6025\n",
            "Epoch 51/100\n",
            "93/93 [==============================] - 1s 14ms/step - loss: 0.3518 - acc: 0.8362 - val_loss: 0.9518 - val_acc: 0.6212\n",
            "Epoch 52/100\n",
            "93/93 [==============================] - 1s 14ms/step - loss: 0.3290 - acc: 0.8484 - val_loss: 0.9520 - val_acc: 0.6288\n",
            "Epoch 53/100\n",
            "93/93 [==============================] - 1s 14ms/step - loss: 0.2852 - acc: 0.8725 - val_loss: 0.9689 - val_acc: 0.6525\n",
            "Epoch 54/100\n",
            "93/93 [==============================] - 1s 14ms/step - loss: 0.2763 - acc: 0.8868 - val_loss: 0.9948 - val_acc: 0.6175\n",
            "Epoch 55/100\n",
            "93/93 [==============================] - 1s 14ms/step - loss: 0.2555 - acc: 0.8935 - val_loss: 0.9908 - val_acc: 0.6375\n",
            "Epoch 56/100\n",
            "93/93 [==============================] - 1s 14ms/step - loss: 0.2511 - acc: 0.9003 - val_loss: 1.1259 - val_acc: 0.6212\n",
            "Epoch 57/100\n",
            "93/93 [==============================] - 1s 13ms/step - loss: 0.2462 - acc: 0.9017 - val_loss: 1.0722 - val_acc: 0.6237\n",
            "Epoch 58/100\n",
            "93/93 [==============================] - 1s 14ms/step - loss: 0.2475 - acc: 0.9020 - val_loss: 1.2276 - val_acc: 0.6375\n",
            "Epoch 59/100\n",
            "93/93 [==============================] - 1s 14ms/step - loss: 0.2220 - acc: 0.9180 - val_loss: 1.1763 - val_acc: 0.6112\n",
            "Epoch 60/100\n",
            "93/93 [==============================] - 1s 14ms/step - loss: 0.2269 - acc: 0.9086 - val_loss: 1.2630 - val_acc: 0.6300\n",
            "Epoch 61/100\n",
            "93/93 [==============================] - 1s 14ms/step - loss: 0.2033 - acc: 0.9195 - val_loss: 1.2896 - val_acc: 0.5975\n",
            "Epoch 62/100\n",
            "93/93 [==============================] - 1s 14ms/step - loss: 0.1768 - acc: 0.9320 - val_loss: 1.2389 - val_acc: 0.6300\n",
            "Epoch 63/100\n",
            "93/93 [==============================] - 1s 14ms/step - loss: 0.1761 - acc: 0.9361 - val_loss: 1.1972 - val_acc: 0.5987\n",
            "Epoch 64/100\n",
            "93/93 [==============================] - 1s 15ms/step - loss: 0.1621 - acc: 0.9428 - val_loss: 1.2952 - val_acc: 0.6288\n",
            "Epoch 65/100\n",
            "93/93 [==============================] - 1s 14ms/step - loss: 0.1616 - acc: 0.9454 - val_loss: 1.3268 - val_acc: 0.6250\n",
            "Epoch 66/100\n",
            "93/93 [==============================] - 1s 14ms/step - loss: 0.1660 - acc: 0.9450 - val_loss: 1.3301 - val_acc: 0.6288\n",
            "Epoch 67/100\n",
            "93/93 [==============================] - 1s 14ms/step - loss: 0.1375 - acc: 0.9540 - val_loss: 1.5013 - val_acc: 0.5950\n",
            "Epoch 68/100\n",
            "93/93 [==============================] - 1s 14ms/step - loss: 0.1424 - acc: 0.9565 - val_loss: 1.5171 - val_acc: 0.6313\n",
            "Epoch 69/100\n",
            "93/93 [==============================] - 1s 14ms/step - loss: 0.1272 - acc: 0.9615 - val_loss: 1.3993 - val_acc: 0.6263\n",
            "Epoch 70/100\n",
            "93/93 [==============================] - 1s 14ms/step - loss: 0.1056 - acc: 0.9699 - val_loss: 1.4912 - val_acc: 0.6275\n",
            "Epoch 71/100\n",
            "93/93 [==============================] - 1s 14ms/step - loss: 0.1089 - acc: 0.9628 - val_loss: 1.4879 - val_acc: 0.6275\n",
            "Epoch 72/100\n",
            "93/93 [==============================] - 1s 14ms/step - loss: 0.1048 - acc: 0.9646 - val_loss: 1.5651 - val_acc: 0.6288\n",
            "Epoch 73/100\n",
            "93/93 [==============================] - 1s 14ms/step - loss: 0.0865 - acc: 0.9726 - val_loss: 1.9152 - val_acc: 0.6075\n",
            "Epoch 74/100\n",
            "93/93 [==============================] - 1s 14ms/step - loss: 0.0942 - acc: 0.9696 - val_loss: 1.6790 - val_acc: 0.6162\n",
            "Epoch 75/100\n",
            "93/93 [==============================] - 1s 14ms/step - loss: 0.0951 - acc: 0.9691 - val_loss: 1.8274 - val_acc: 0.5975\n",
            "Epoch 76/100\n",
            "93/93 [==============================] - 1s 14ms/step - loss: 0.0752 - acc: 0.9800 - val_loss: 1.8334 - val_acc: 0.6162\n",
            "Epoch 77/100\n",
            "93/93 [==============================] - 1s 14ms/step - loss: 0.0868 - acc: 0.9736 - val_loss: 1.7791 - val_acc: 0.6288\n",
            "Epoch 78/100\n",
            "93/93 [==============================] - 1s 14ms/step - loss: 0.0660 - acc: 0.9849 - val_loss: 1.8922 - val_acc: 0.6300\n",
            "Epoch 79/100\n",
            "93/93 [==============================] - 1s 14ms/step - loss: 0.0620 - acc: 0.9803 - val_loss: 2.0136 - val_acc: 0.6212\n",
            "Epoch 80/100\n",
            "93/93 [==============================] - 1s 14ms/step - loss: 0.0528 - acc: 0.9860 - val_loss: 1.9553 - val_acc: 0.6137\n",
            "Epoch 81/100\n",
            "93/93 [==============================] - 1s 14ms/step - loss: 0.0534 - acc: 0.9885 - val_loss: 2.1471 - val_acc: 0.6162\n",
            "Epoch 82/100\n",
            "93/93 [==============================] - 1s 14ms/step - loss: 0.0533 - acc: 0.9804 - val_loss: 2.1204 - val_acc: 0.6187\n",
            "Epoch 83/100\n",
            "93/93 [==============================] - 1s 14ms/step - loss: 0.0355 - acc: 0.9928 - val_loss: 2.2462 - val_acc: 0.6212\n",
            "Epoch 84/100\n",
            "93/93 [==============================] - 1s 14ms/step - loss: 0.0381 - acc: 0.9922 - val_loss: 2.3563 - val_acc: 0.6300\n",
            "Epoch 85/100\n",
            "93/93 [==============================] - 1s 14ms/step - loss: 0.0360 - acc: 0.9906 - val_loss: 2.1455 - val_acc: 0.6162\n",
            "Epoch 86/100\n",
            "93/93 [==============================] - 1s 13ms/step - loss: 0.0296 - acc: 0.9946 - val_loss: 2.1899 - val_acc: 0.6150\n",
            "Epoch 87/100\n",
            "93/93 [==============================] - 1s 14ms/step - loss: 0.0257 - acc: 0.9949 - val_loss: 2.5436 - val_acc: 0.6087\n",
            "Epoch 88/100\n",
            "93/93 [==============================] - 1s 14ms/step - loss: 0.0643 - acc: 0.9784 - val_loss: 2.3691 - val_acc: 0.6350\n",
            "Epoch 89/100\n",
            "93/93 [==============================] - 1s 14ms/step - loss: 0.0307 - acc: 0.9927 - val_loss: 2.4098 - val_acc: 0.6400\n",
            "Epoch 90/100\n",
            "93/93 [==============================] - 1s 14ms/step - loss: 0.0176 - acc: 0.9983 - val_loss: 2.4296 - val_acc: 0.6050\n",
            "Epoch 91/100\n",
            "93/93 [==============================] - 1s 14ms/step - loss: 0.0254 - acc: 0.9942 - val_loss: 2.3985 - val_acc: 0.6175\n",
            "Epoch 92/100\n",
            "93/93 [==============================] - 1s 14ms/step - loss: 0.0175 - acc: 0.9969 - val_loss: 2.4310 - val_acc: 0.6237\n",
            "Epoch 93/100\n",
            "93/93 [==============================] - 1s 14ms/step - loss: 0.0178 - acc: 0.9965 - val_loss: 2.5104 - val_acc: 0.6200\n",
            "Epoch 94/100\n",
            "93/93 [==============================] - 1s 14ms/step - loss: 0.0182 - acc: 0.9940 - val_loss: 2.5002 - val_acc: 0.6263\n",
            "Epoch 95/100\n",
            "93/93 [==============================] - 1s 14ms/step - loss: 0.0271 - acc: 0.9882 - val_loss: 2.4720 - val_acc: 0.6250\n",
            "Epoch 96/100\n",
            "93/93 [==============================] - 1s 14ms/step - loss: 0.0156 - acc: 0.9961 - val_loss: 2.6417 - val_acc: 0.6350\n",
            "Epoch 97/100\n",
            "93/93 [==============================] - 1s 14ms/step - loss: 0.0140 - acc: 0.9965 - val_loss: 2.6320 - val_acc: 0.6200\n",
            "Epoch 98/100\n",
            "93/93 [==============================] - 1s 14ms/step - loss: 0.0194 - acc: 0.9941 - val_loss: 2.8258 - val_acc: 0.6212\n",
            "Epoch 99/100\n",
            "93/93 [==============================] - 1s 14ms/step - loss: 0.0378 - acc: 0.9884 - val_loss: 2.6474 - val_acc: 0.6313\n",
            "Epoch 100/100\n",
            "93/93 [==============================] - 1s 14ms/step - loss: 0.0118 - acc: 0.9965 - val_loss: 2.7456 - val_acc: 0.6263\n"
          ],
          "name": "stdout"
        }
      ]
    },
    {
      "cell_type": "code",
      "metadata": {
        "colab": {
          "base_uri": "https://localhost:8080/",
          "height": 545
        },
        "id": "nI8FjTjY4KIe",
        "outputId": "e0ca5322-71ec-4ed5-be24-9d6db21f0300"
      },
      "source": [
        "plt = plot(history)\r\n",
        "plt.show()"
      ],
      "execution_count": null,
      "outputs": [
        {
          "output_type": "display_data",
          "data": {
            "image/png": "[encoded data removed]",
            "text/plain": [
              "<Figure size 432x288 with 1 Axes>"
            ]
          },
          "metadata": {
            "tags": [],
            "needs_background": "light"
          }
        },
        {
          "output_type": "display_data",
          "data": {
            "image/png": "[encoded data removed]",
            "text/plain": [
              "<Figure size 432x288 with 1 Axes>"
            ]
          },
          "metadata": {
            "tags": [],
            "needs_background": "light"
          }
        }
      ]
    },
    {
      "cell_type": "code",
      "metadata": {
        "colab": {
          "base_uri": "https://localhost:8080/"
        },
        "id": "pH89us9R_o_F",
        "outputId": "62ce2a0c-7bcd-4b76-de0a-78c573cb0e9d"
      },
      "source": [
        "test_loss, test_acc = model_0.evaluate(test_datagen.flow(test_images,\r\n",
        "                                                       test_labels,\r\n",
        "                                                       batch_size=BATCH_SIZE,\r\n",
        "                                                       shuffle=False),\r\n",
        "                                     steps=len(test_images) // BATCH_SIZE\r\n",
        ")\r\n",
        "\r\n",
        "print(test_acc)"
      ],
      "execution_count": null,
      "outputs": [
        {
          "output_type": "stream",
          "text": [
            "16/16 [==============================] - 0s 5ms/step - loss: 2.9523 - acc: 0.6281\n",
            "0.628125011920929\n"
          ],
          "name": "stdout"
        }
      ]
    },
    {
      "cell_type": "code",
      "metadata": {
        "colab": {
          "base_uri": "https://localhost:8080/",
          "height": 481
        },
        "id": "dVAYIwa30-07",
        "outputId": "4ca6634a-c831-4f6f-c655-c2af01de6ea7"
      },
      "source": [
        "#print confusion matrix\r\n",
        "classes = [\"Benign\", \"Malign\"]\r\n",
        "plot_confusion_matrix(model_0,\r\n",
        "                      classes,\r\n",
        "                      test_images,\r\n",
        "                      test_labels,\r\n",
        "                      title='Confusion matrix',\r\n",
        "                      cmap=plt.cm.Blues)  "
      ],
      "execution_count": null,
      "outputs": [
        {
          "output_type": "stream",
          "text": [
            "Confusion Matrix\n",
            "              precision    recall  f1-score   support\n",
            "\n",
            "         0.0       0.73      0.67      0.70       219\n",
            "         1.0       0.47      0.54      0.50       117\n",
            "\n",
            "    accuracy                           0.62       336\n",
            "   macro avg       0.60      0.60      0.60       336\n",
            "weighted avg       0.64      0.62      0.63       336\n",
            "\n"
          ],
          "name": "stdout"
        },
        {
          "output_type": "display_data",
          "data": {
            "image/png": "[encoded data removed]",
            "text/plain": [
              "<Figure size 432x288 with 2 Axes>"
            ]
          },
          "metadata": {
            "tags": [],
            "needs_background": "light"
          }
        }
      ]
    },
    {
      "cell_type": "code",
      "metadata": {
        "id": "d-UNxbiA1DRh",
        "colab": {
          "base_uri": "https://localhost:8080/",
          "height": 295
        },
        "outputId": "9d287c97-b36d-4b26-8310-e2919cb692a3"
      },
      "source": [
        "#ROC-AUC \r\n",
        "plot_AUC(model_0, test_images, test_labels)"
      ],
      "execution_count": null,
      "outputs": [
        {
          "output_type": "display_data",
          "data": {
            "image/png": "[encoded data removed]",
            "text/plain": [
              "<Figure size 432x288 with 1 Axes>"
            ]
          },
          "metadata": {
            "tags": [],
            "needs_background": "light"
          }
        }
      ]
    },
    {
      "cell_type": "markdown",
      "metadata": {
        "id": "rDiilxUVIXkZ"
      },
      "source": [
        "# Dealing with imbalanced dataset: "
      ]
    },
    {
      "cell_type": "markdown",
      "metadata": {
        "id": "lv0Gui-NhsnD"
      },
      "source": [
        "##1.Weighted Class Approah"
      ]
    },
    {
      "cell_type": "code",
      "metadata": {
        "colab": {
          "base_uri": "https://localhost:8080/"
        },
        "id": "aMLh90d2ITDz",
        "outputId": "d9657b30-d78b-4bf5-bd49-f37945742c86"
      },
      "source": [
        "from sklearn.utils import class_weight\r\n",
        "\r\n",
        "#compute class_weights\r\n",
        "class_weights = class_weight.compute_class_weight('balanced',\r\n",
        "                                                 np.unique(train_labels_split),\r\n",
        "                                                 train_labels_split)\r\n",
        "\r\n",
        "class_weights = {0: class_weights[0],\r\n",
        "                 1: class_weights[1]}\r\n",
        "\r\n",
        "print(class_weights)"
      ],
      "execution_count": null,
      "outputs": [
        {
          "output_type": "stream",
          "text": [
            "{0: 0.8429342934293429, 1: 1.229002624671916}\n"
          ],
          "name": "stdout"
        }
      ]
    },
    {
      "cell_type": "code",
      "metadata": {
        "colab": {
          "base_uri": "https://localhost:8080/"
        },
        "id": "FCOJuULvX_pt",
        "outputId": "d5be5990-af97-4e4c-9b64-1e97fbc0b382"
      },
      "source": [
        "model_1 = build_model(\"binary_crossentropy\", \"acc\")\r\n",
        "\r\n",
        "#model.summary()\r\n",
        "\r\n",
        "history = model_1.fit(train_datagen.flow(train_images_split,\r\n",
        "                                       train_labels_split,\r\n",
        "                                       batch_size=BATCH_SIZE,\r\n",
        "                                       shuffle=False),\r\n",
        "                    steps_per_epoch=len(train_images_split) // BATCH_SIZE, \r\n",
        "                    epochs=EPOCHS,\r\n",
        "                    validation_data=valid_datagen.flow(valid_images_split,\r\n",
        "                                       valid_labels_split,\r\n",
        "                                       batch_size=BATCH_SIZE,\r\n",
        "                                       shuffle=False),\r\n",
        "                    validation_steps=len(valid_labels_split) // BATCH_SIZE,\r\n",
        "                    class_weight=class_weights)\r\n"
      ],
      "execution_count": null,
      "outputs": [
        {
          "output_type": "stream",
          "text": [
            "Epoch 1/100\n",
            "93/93 [==============================] - 2s 17ms/step - loss: 0.6932 - acc: 0.4946 - val_loss: 0.7011 - val_acc: 0.4325\n",
            "Epoch 2/100\n",
            "93/93 [==============================] - 1s 14ms/step - loss: 0.6872 - acc: 0.5093 - val_loss: 0.6909 - val_acc: 0.4913\n",
            "Epoch 3/100\n",
            "93/93 [==============================] - 1s 14ms/step - loss: 0.6738 - acc: 0.5565 - val_loss: 0.6592 - val_acc: 0.5987\n",
            "Epoch 4/100\n",
            "93/93 [==============================] - 1s 14ms/step - loss: 0.6556 - acc: 0.5938 - val_loss: 0.6331 - val_acc: 0.6538\n",
            "Epoch 5/100\n",
            "93/93 [==============================] - 1s 14ms/step - loss: 0.6392 - acc: 0.6009 - val_loss: 0.6370 - val_acc: 0.6037\n",
            "Epoch 6/100\n",
            "93/93 [==============================] - 1s 14ms/step - loss: 0.6452 - acc: 0.5860 - val_loss: 0.6387 - val_acc: 0.6087\n",
            "Epoch 7/100\n",
            "93/93 [==============================] - 1s 14ms/step - loss: 0.6262 - acc: 0.6479 - val_loss: 0.6317 - val_acc: 0.6000\n",
            "Epoch 8/100\n",
            "93/93 [==============================] - 1s 14ms/step - loss: 0.6242 - acc: 0.6347 - val_loss: 0.6334 - val_acc: 0.5962\n",
            "Epoch 9/100\n",
            "93/93 [==============================] - 1s 14ms/step - loss: 0.6016 - acc: 0.6484 - val_loss: 0.6395 - val_acc: 0.6025\n",
            "Epoch 10/100\n",
            "93/93 [==============================] - 1s 14ms/step - loss: 0.6347 - acc: 0.6468 - val_loss: 0.6294 - val_acc: 0.6538\n",
            "Epoch 11/100\n",
            "93/93 [==============================] - 1s 14ms/step - loss: 0.6089 - acc: 0.6518 - val_loss: 0.6252 - val_acc: 0.6112\n",
            "Epoch 12/100\n",
            "93/93 [==============================] - 1s 14ms/step - loss: 0.6017 - acc: 0.6563 - val_loss: 0.6303 - val_acc: 0.6125\n",
            "Epoch 13/100\n",
            "93/93 [==============================] - 1s 14ms/step - loss: 0.6055 - acc: 0.6363 - val_loss: 0.6879 - val_acc: 0.5663\n",
            "Epoch 14/100\n",
            "93/93 [==============================] - 1s 14ms/step - loss: 0.5929 - acc: 0.6476 - val_loss: 0.6188 - val_acc: 0.6162\n",
            "Epoch 15/100\n",
            "93/93 [==============================] - 1s 14ms/step - loss: 0.5959 - acc: 0.6491 - val_loss: 0.6287 - val_acc: 0.6087\n",
            "Epoch 16/100\n",
            "93/93 [==============================] - 1s 14ms/step - loss: 0.5999 - acc: 0.6508 - val_loss: 0.6327 - val_acc: 0.6000\n",
            "Epoch 17/100\n",
            "93/93 [==============================] - 1s 14ms/step - loss: 0.5946 - acc: 0.6346 - val_loss: 0.6183 - val_acc: 0.6350\n",
            "Epoch 18/100\n",
            "93/93 [==============================] - 1s 14ms/step - loss: 0.5749 - acc: 0.6807 - val_loss: 0.6648 - val_acc: 0.5875\n",
            "Epoch 19/100\n",
            "93/93 [==============================] - 1s 14ms/step - loss: 0.5756 - acc: 0.6729 - val_loss: 0.6366 - val_acc: 0.6550\n",
            "Epoch 20/100\n",
            "93/93 [==============================] - 1s 14ms/step - loss: 0.5758 - acc: 0.6839 - val_loss: 0.6631 - val_acc: 0.5863\n",
            "Epoch 21/100\n",
            "93/93 [==============================] - 1s 14ms/step - loss: 0.5641 - acc: 0.6706 - val_loss: 0.6233 - val_acc: 0.6450\n",
            "Epoch 22/100\n",
            "93/93 [==============================] - 1s 14ms/step - loss: 0.5646 - acc: 0.6790 - val_loss: 0.6389 - val_acc: 0.6525\n",
            "Epoch 23/100\n",
            "93/93 [==============================] - 1s 14ms/step - loss: 0.5418 - acc: 0.6772 - val_loss: 0.6230 - val_acc: 0.6500\n",
            "Epoch 24/100\n",
            "93/93 [==============================] - 1s 14ms/step - loss: 0.5562 - acc: 0.6825 - val_loss: 0.6475 - val_acc: 0.6162\n",
            "Epoch 25/100\n",
            "93/93 [==============================] - 1s 14ms/step - loss: 0.5566 - acc: 0.6948 - val_loss: 0.6738 - val_acc: 0.6100\n",
            "Epoch 26/100\n",
            "93/93 [==============================] - 1s 14ms/step - loss: 0.5477 - acc: 0.6826 - val_loss: 0.6410 - val_acc: 0.6413\n",
            "Epoch 27/100\n",
            "93/93 [==============================] - 1s 14ms/step - loss: 0.5228 - acc: 0.7243 - val_loss: 0.6831 - val_acc: 0.6100\n",
            "Epoch 28/100\n",
            "93/93 [==============================] - 1s 14ms/step - loss: 0.5391 - acc: 0.7003 - val_loss: 0.6542 - val_acc: 0.6400\n",
            "Epoch 29/100\n",
            "93/93 [==============================] - 1s 14ms/step - loss: 0.5139 - acc: 0.7331 - val_loss: 0.6496 - val_acc: 0.6375\n",
            "Epoch 30/100\n",
            "93/93 [==============================] - 1s 14ms/step - loss: 0.5283 - acc: 0.7137 - val_loss: 0.6968 - val_acc: 0.6525\n",
            "Epoch 31/100\n",
            "93/93 [==============================] - 1s 14ms/step - loss: 0.5212 - acc: 0.7242 - val_loss: 0.6683 - val_acc: 0.6438\n",
            "Epoch 32/100\n",
            "93/93 [==============================] - 1s 14ms/step - loss: 0.5107 - acc: 0.7224 - val_loss: 0.6638 - val_acc: 0.6513\n",
            "Epoch 33/100\n",
            "93/93 [==============================] - 1s 14ms/step - loss: 0.4987 - acc: 0.7453 - val_loss: 0.6984 - val_acc: 0.6325\n",
            "Epoch 34/100\n",
            "93/93 [==============================] - 1s 14ms/step - loss: 0.4928 - acc: 0.7382 - val_loss: 0.6813 - val_acc: 0.6438\n",
            "Epoch 35/100\n",
            "93/93 [==============================] - 1s 14ms/step - loss: 0.4881 - acc: 0.7432 - val_loss: 0.6921 - val_acc: 0.6550\n",
            "Epoch 36/100\n",
            "93/93 [==============================] - 1s 14ms/step - loss: 0.4870 - acc: 0.7448 - val_loss: 0.6929 - val_acc: 0.6450\n",
            "Epoch 37/100\n",
            "93/93 [==============================] - 1s 14ms/step - loss: 0.4619 - acc: 0.7603 - val_loss: 0.6996 - val_acc: 0.6438\n",
            "Epoch 38/100\n",
            "93/93 [==============================] - 1s 14ms/step - loss: 0.4490 - acc: 0.7807 - val_loss: 0.7406 - val_acc: 0.6525\n",
            "Epoch 39/100\n",
            "93/93 [==============================] - 1s 14ms/step - loss: 0.4365 - acc: 0.7633 - val_loss: 0.7056 - val_acc: 0.6400\n",
            "Epoch 40/100\n",
            "93/93 [==============================] - 1s 14ms/step - loss: 0.4257 - acc: 0.7908 - val_loss: 0.7689 - val_acc: 0.6300\n",
            "Epoch 41/100\n",
            "93/93 [==============================] - 1s 14ms/step - loss: 0.4446 - acc: 0.7705 - val_loss: 0.7385 - val_acc: 0.6513\n",
            "Epoch 42/100\n",
            "93/93 [==============================] - 1s 14ms/step - loss: 0.4259 - acc: 0.7860 - val_loss: 0.7444 - val_acc: 0.6237\n",
            "Epoch 43/100\n",
            "93/93 [==============================] - 1s 14ms/step - loss: 0.3924 - acc: 0.8086 - val_loss: 0.7994 - val_acc: 0.6463\n",
            "Epoch 44/100\n",
            "93/93 [==============================] - 1s 14ms/step - loss: 0.3917 - acc: 0.8298 - val_loss: 0.7835 - val_acc: 0.6463\n",
            "Epoch 45/100\n",
            "93/93 [==============================] - 1s 14ms/step - loss: 0.3715 - acc: 0.8214 - val_loss: 0.8008 - val_acc: 0.6350\n",
            "Epoch 46/100\n",
            "93/93 [==============================] - 1s 14ms/step - loss: 0.3734 - acc: 0.8256 - val_loss: 0.8014 - val_acc: 0.6438\n",
            "Epoch 47/100\n",
            "93/93 [==============================] - 1s 14ms/step - loss: 0.3636 - acc: 0.8340 - val_loss: 0.8349 - val_acc: 0.6300\n",
            "Epoch 48/100\n",
            "93/93 [==============================] - 1s 14ms/step - loss: 0.3556 - acc: 0.8335 - val_loss: 0.8221 - val_acc: 0.6388\n",
            "Epoch 49/100\n",
            "93/93 [==============================] - 1s 14ms/step - loss: 0.3433 - acc: 0.8399 - val_loss: 0.8734 - val_acc: 0.6325\n",
            "Epoch 50/100\n",
            "93/93 [==============================] - 1s 14ms/step - loss: 0.3226 - acc: 0.8504 - val_loss: 0.8594 - val_acc: 0.6187\n",
            "Epoch 51/100\n",
            "93/93 [==============================] - 1s 14ms/step - loss: 0.3101 - acc: 0.8656 - val_loss: 0.9216 - val_acc: 0.6200\n",
            "Epoch 52/100\n",
            "93/93 [==============================] - 1s 15ms/step - loss: 0.3094 - acc: 0.8666 - val_loss: 0.9645 - val_acc: 0.6288\n",
            "Epoch 53/100\n",
            "93/93 [==============================] - 1s 14ms/step - loss: 0.2961 - acc: 0.8688 - val_loss: 0.9131 - val_acc: 0.6513\n",
            "Epoch 54/100\n",
            "93/93 [==============================] - 1s 14ms/step - loss: 0.2727 - acc: 0.8841 - val_loss: 1.0671 - val_acc: 0.6575\n",
            "Epoch 55/100\n",
            "93/93 [==============================] - 1s 14ms/step - loss: 0.2625 - acc: 0.8828 - val_loss: 0.9701 - val_acc: 0.6250\n",
            "Epoch 56/100\n",
            "93/93 [==============================] - 1s 14ms/step - loss: 0.2361 - acc: 0.9024 - val_loss: 1.0339 - val_acc: 0.6475\n",
            "Epoch 57/100\n",
            "93/93 [==============================] - 1s 14ms/step - loss: 0.2480 - acc: 0.8903 - val_loss: 1.2031 - val_acc: 0.6275\n",
            "Epoch 58/100\n",
            "93/93 [==============================] - 1s 14ms/step - loss: 0.2307 - acc: 0.9027 - val_loss: 1.0224 - val_acc: 0.6363\n",
            "Epoch 59/100\n",
            "93/93 [==============================] - 1s 14ms/step - loss: 0.2045 - acc: 0.9223 - val_loss: 1.0920 - val_acc: 0.6175\n",
            "Epoch 60/100\n",
            "93/93 [==============================] - 1s 14ms/step - loss: 0.2153 - acc: 0.9132 - val_loss: 1.1235 - val_acc: 0.6400\n",
            "Epoch 61/100\n",
            "93/93 [==============================] - 1s 14ms/step - loss: 0.1773 - acc: 0.9342 - val_loss: 1.1526 - val_acc: 0.6425\n",
            "Epoch 62/100\n",
            "93/93 [==============================] - 1s 14ms/step - loss: 0.1749 - acc: 0.9296 - val_loss: 1.1847 - val_acc: 0.6438\n",
            "Epoch 63/100\n",
            "93/93 [==============================] - 1s 14ms/step - loss: 0.1690 - acc: 0.9437 - val_loss: 1.2368 - val_acc: 0.6187\n",
            "Epoch 64/100\n",
            "93/93 [==============================] - 1s 14ms/step - loss: 0.1389 - acc: 0.9545 - val_loss: 1.3290 - val_acc: 0.6475\n",
            "Epoch 65/100\n",
            "93/93 [==============================] - 1s 14ms/step - loss: 0.1482 - acc: 0.9543 - val_loss: 1.3205 - val_acc: 0.6225\n",
            "Epoch 66/100\n",
            "93/93 [==============================] - 1s 14ms/step - loss: 0.1313 - acc: 0.9524 - val_loss: 1.3245 - val_acc: 0.6413\n",
            "Epoch 67/100\n",
            "93/93 [==============================] - 1s 14ms/step - loss: 0.1330 - acc: 0.9504 - val_loss: 1.3129 - val_acc: 0.6263\n",
            "Epoch 68/100\n",
            "93/93 [==============================] - 1s 14ms/step - loss: 0.1200 - acc: 0.9691 - val_loss: 1.4252 - val_acc: 0.6425\n",
            "Epoch 69/100\n",
            "93/93 [==============================] - 1s 14ms/step - loss: 0.1041 - acc: 0.9651 - val_loss: 1.4372 - val_acc: 0.6288\n",
            "Epoch 70/100\n",
            "93/93 [==============================] - 1s 14ms/step - loss: 0.1010 - acc: 0.9719 - val_loss: 1.5186 - val_acc: 0.6338\n",
            "Epoch 71/100\n",
            "93/93 [==============================] - 1s 14ms/step - loss: 0.1122 - acc: 0.9624 - val_loss: 1.6319 - val_acc: 0.6363\n",
            "Epoch 72/100\n",
            "93/93 [==============================] - 1s 14ms/step - loss: 0.0890 - acc: 0.9742 - val_loss: 1.5494 - val_acc: 0.6225\n",
            "Epoch 73/100\n",
            "93/93 [==============================] - 1s 14ms/step - loss: 0.0739 - acc: 0.9766 - val_loss: 1.5723 - val_acc: 0.6288\n",
            "Epoch 74/100\n",
            "93/93 [==============================] - 1s 14ms/step - loss: 0.0831 - acc: 0.9687 - val_loss: 1.6369 - val_acc: 0.6237\n",
            "Epoch 75/100\n",
            "93/93 [==============================] - 1s 14ms/step - loss: 0.0688 - acc: 0.9776 - val_loss: 1.8131 - val_acc: 0.6388\n",
            "Epoch 76/100\n",
            "93/93 [==============================] - 1s 14ms/step - loss: 0.0685 - acc: 0.9758 - val_loss: 1.7919 - val_acc: 0.6275\n",
            "Epoch 77/100\n",
            "93/93 [==============================] - 1s 14ms/step - loss: 0.0539 - acc: 0.9882 - val_loss: 1.8303 - val_acc: 0.6300\n",
            "Epoch 78/100\n",
            "93/93 [==============================] - 1s 14ms/step - loss: 0.0537 - acc: 0.9866 - val_loss: 1.9042 - val_acc: 0.6275\n",
            "Epoch 79/100\n",
            "93/93 [==============================] - 1s 14ms/step - loss: 0.0549 - acc: 0.9869 - val_loss: 1.8086 - val_acc: 0.6212\n",
            "Epoch 80/100\n",
            "93/93 [==============================] - 1s 14ms/step - loss: 0.0387 - acc: 0.9936 - val_loss: 2.0104 - val_acc: 0.6313\n",
            "Epoch 81/100\n",
            "93/93 [==============================] - 1s 14ms/step - loss: 0.0330 - acc: 0.9942 - val_loss: 2.0962 - val_acc: 0.6325\n",
            "Epoch 82/100\n",
            "93/93 [==============================] - 1s 14ms/step - loss: 0.0370 - acc: 0.9906 - val_loss: 2.0551 - val_acc: 0.6288\n",
            "Epoch 83/100\n",
            "93/93 [==============================] - 1s 14ms/step - loss: 0.0369 - acc: 0.9898 - val_loss: 2.6079 - val_acc: 0.6538\n",
            "Epoch 84/100\n",
            "93/93 [==============================] - 1s 14ms/step - loss: 0.0376 - acc: 0.9870 - val_loss: 2.3008 - val_acc: 0.6288\n",
            "Epoch 85/100\n",
            "93/93 [==============================] - 1s 15ms/step - loss: 0.0459 - acc: 0.9815 - val_loss: 2.3596 - val_acc: 0.6413\n",
            "Epoch 86/100\n",
            "93/93 [==============================] - 1s 14ms/step - loss: 0.0222 - acc: 0.9952 - val_loss: 2.2283 - val_acc: 0.6112\n",
            "Epoch 87/100\n",
            "93/93 [==============================] - 1s 14ms/step - loss: 0.0245 - acc: 0.9962 - val_loss: 2.6342 - val_acc: 0.6400\n",
            "Epoch 88/100\n",
            "93/93 [==============================] - 1s 14ms/step - loss: 0.0229 - acc: 0.9966 - val_loss: 2.3154 - val_acc: 0.6212\n",
            "Epoch 89/100\n",
            "93/93 [==============================] - 1s 14ms/step - loss: 0.0159 - acc: 0.9982 - val_loss: 2.4739 - val_acc: 0.6288\n",
            "Epoch 90/100\n",
            "93/93 [==============================] - 1s 14ms/step - loss: 0.0145 - acc: 0.9988 - val_loss: 2.6258 - val_acc: 0.6400\n",
            "Epoch 91/100\n",
            "93/93 [==============================] - 1s 14ms/step - loss: 0.0197 - acc: 0.9962 - val_loss: 2.5441 - val_acc: 0.6187\n",
            "Epoch 92/100\n",
            "93/93 [==============================] - 1s 14ms/step - loss: 0.0126 - acc: 0.9981 - val_loss: 2.6279 - val_acc: 0.6212\n",
            "Epoch 93/100\n",
            "93/93 [==============================] - 1s 14ms/step - loss: 0.0192 - acc: 0.9968 - val_loss: 2.6450 - val_acc: 0.6050\n",
            "Epoch 94/100\n",
            "93/93 [==============================] - 1s 15ms/step - loss: 0.0115 - acc: 0.9983 - val_loss: 2.7403 - val_acc: 0.6400\n",
            "Epoch 95/100\n",
            "93/93 [==============================] - 1s 15ms/step - loss: 0.0119 - acc: 0.9964 - val_loss: 2.7513 - val_acc: 0.6413\n",
            "Epoch 96/100\n",
            "93/93 [==============================] - 1s 15ms/step - loss: 0.0133 - acc: 0.9964 - val_loss: 2.7929 - val_acc: 0.6200\n",
            "Epoch 97/100\n",
            "93/93 [==============================] - 1s 15ms/step - loss: 0.0162 - acc: 0.9953 - val_loss: 2.9660 - val_acc: 0.6425\n",
            "Epoch 98/100\n",
            "93/93 [==============================] - 1s 16ms/step - loss: 0.0172 - acc: 0.9955 - val_loss: 2.9108 - val_acc: 0.6325\n",
            "Epoch 99/100\n",
            "93/93 [==============================] - 1s 15ms/step - loss: 0.0085 - acc: 0.9982 - val_loss: 2.8673 - val_acc: 0.6162\n",
            "Epoch 100/100\n",
            "93/93 [==============================] - 1s 15ms/step - loss: 0.0094 - acc: 0.9976 - val_loss: 2.9396 - val_acc: 0.6375\n"
          ],
          "name": "stdout"
        }
      ]
    },
    {
      "cell_type": "code",
      "metadata": {
        "colab": {
          "base_uri": "https://localhost:8080/",
          "height": 545
        },
        "id": "Ka_L9arWagZi",
        "outputId": "7d23a049-3ecb-4129-e934-d63d89c5fd39"
      },
      "source": [
        "plt = plot(history)\r\n",
        "plt.show()"
      ],
      "execution_count": null,
      "outputs": [
        {
          "output_type": "display_data",
          "data": {
            "image/png": "[encoded data removed]",
            "text/plain": [
              "<Figure size 432x288 with 1 Axes>"
            ]
          },
          "metadata": {
            "tags": [],
            "needs_background": "light"
          }
        },
        {
          "output_type": "display_data",
          "data": {
            "image/png": "[encoded data removed]",
            "text/plain": [
              "<Figure size 432x288 with 1 Axes>"
            ]
          },
          "metadata": {
            "tags": [],
            "needs_background": "light"
          }
        }
      ]
    },
    {
      "cell_type": "code",
      "metadata": {
        "colab": {
          "base_uri": "https://localhost:8080/"
        },
        "id": "hBtj_IOxaxa5",
        "outputId": "15a9c041-4de8-4fbb-f5e3-c8b7f4f358d5"
      },
      "source": [
        "test_loss, test_acc = model_1.evaluate(test_datagen.flow(test_images,\r\n",
        "                                                       test_labels,\r\n",
        "                                                       batch_size=BATCH_SIZE,\r\n",
        "                                                       shuffle=False),\r\n",
        "                                     steps=len(test_images) // BATCH_SIZE\r\n",
        ")\r\n",
        "\r\n",
        "print(test_acc)"
      ],
      "execution_count": null,
      "outputs": [
        {
          "output_type": "stream",
          "text": [
            "16/16 [==============================] - 0s 5ms/step - loss: 2.8648 - acc: 0.6344\n",
            "0.6343749761581421\n"
          ],
          "name": "stdout"
        }
      ]
    },
    {
      "cell_type": "code",
      "metadata": {
        "colab": {
          "base_uri": "https://localhost:8080/",
          "height": 481
        },
        "id": "9BLps6lVbHRJ",
        "outputId": "428b296e-e9ae-4ca3-a2a3-c1a46e989548"
      },
      "source": [
        "plot_confusion_matrix(model_1,\r\n",
        "                      classes,\r\n",
        "                      test_images,\r\n",
        "                      test_labels,\r\n",
        "                      title='Confusion matrix',\r\n",
        "                      cmap=plt.cm.Blues)  "
      ],
      "execution_count": null,
      "outputs": [
        {
          "output_type": "stream",
          "text": [
            "Confusion Matrix\n",
            "              precision    recall  f1-score   support\n",
            "\n",
            "         0.0       0.75      0.67      0.71       219\n",
            "         1.0       0.48      0.58      0.53       117\n",
            "\n",
            "    accuracy                           0.64       336\n",
            "   macro avg       0.62      0.62      0.62       336\n",
            "weighted avg       0.66      0.64      0.64       336\n",
            "\n"
          ],
          "name": "stdout"
        },
        {
          "output_type": "display_data",
          "data": {
            "image/png": "[encoded data removed]",
            "text/plain": [
              "<Figure size 432x288 with 2 Axes>"
            ]
          },
          "metadata": {
            "tags": [],
            "needs_background": "light"
          }
        }
      ]
    },
    {
      "cell_type": "code",
      "metadata": {
        "colab": {
          "base_uri": "https://localhost:8080/",
          "height": 295
        },
        "id": "_J9XRKujNu7k",
        "outputId": "958ede2c-5408-4561-9fe6-dee579f2554e"
      },
      "source": [
        "plot_AUC(model_1, test_images, test_labels)"
      ],
      "execution_count": null,
      "outputs": [
        {
          "output_type": "display_data",
          "data": {
            "image/png": "[encoded data removed]",
            "text/plain": [
              "<Figure size 432x288 with 1 Axes>"
            ]
          },
          "metadata": {
            "tags": [],
            "needs_background": "light"
          }
        }
      ]
    },
    {
      "cell_type": "markdown",
      "metadata": {
        "id": "8hWmyKGWeQyA"
      },
      "source": [
        "##2.Undersampling Majority Class: \r\n",
        "picking up same number of samples of data for both majority and minority classes."
      ]
    },
    {
      "cell_type": "markdown",
      "metadata": {
        "id": "-s4ErFA5JAG_"
      },
      "source": [
        "![img](https://i1.wp.com/dataaspirant.com/wp-content/uploads/2020/08/17-undersampling.png?resize=768%2C399&ssl=1)"
      ]
    },
    {
      "cell_type": "code",
      "metadata": {
        "id": "xLq4bwc8esm_"
      },
      "source": [
        "#undersampling\r\n",
        "def undersample(dataset, labels):\r\n",
        "  unique, counts = np.unique(labels, return_counts=True)\r\n",
        "  #print(\"Benign samples: \", counts[0])\r\n",
        "  #print(\"Malign samples: \", counts[1])\r\n",
        "\r\n",
        "  num_elems = np.min(counts)\r\n",
        "  zipped = list(zip(dataset, labels))\r\n",
        "\r\n",
        "  undersampled_images = np.zeros((num_elems*2,) +  dataset[0].shape) #(num_elems, 150, 150, 1)\r\n",
        "  undersampled_labels = np.zeros((num_elems*2,))                     #(num_elems*2, )\r\n",
        "  #print(undersampled_beign_class.shape)\r\n",
        "\r\n",
        "  i = 0\r\n",
        "  benign_counts = 0\r\n",
        "  for image, label in zipped:\r\n",
        "    if label == 0 and benign_counts < num_elems:\r\n",
        "      undersampled_images[i] = image \r\n",
        "      undersampled_labels[i] = label \r\n",
        "      benign_counts += 1\r\n",
        "      i += 1 \r\n",
        "\r\n",
        "    elif label == 1:\r\n",
        "      undersampled_images[i] = image \r\n",
        "      undersampled_labels[i] = label \r\n",
        "      i += 1 \r\n",
        "\r\n",
        "    if i == num_elems*2:\r\n",
        "      break\r\n",
        "\r\n",
        "  return undersampled_images, undersampled_labels"
      ],
      "execution_count": null,
      "outputs": []
    },
    {
      "cell_type": "code",
      "metadata": {
        "colab": {
          "base_uri": "https://localhost:8080/"
        },
        "id": "r2II7YYO-eha",
        "outputId": "cc8f94e5-09a5-4eaf-dc84-9cd628a06eaf"
      },
      "source": [
        "undersampled_images, undersampled_labels = undersample(train_images, train_labels)\r\n",
        "\r\n",
        "unique, counts = np.unique(undersampled_labels, return_counts=True)\r\n",
        "print(\"Benign samples: \", counts[0])\r\n",
        "print(\"Malign samples: \", counts[1])"
      ],
      "execution_count": null,
      "outputs": [
        {
          "output_type": "stream",
          "text": [
            "Benign samples:  1108\n",
            "Malign samples:  1108\n"
          ],
          "name": "stdout"
        }
      ]
    },
    {
      "cell_type": "code",
      "metadata": {
        "colab": {
          "base_uri": "https://localhost:8080/"
        },
        "id": "zcQTvH1c42kE",
        "outputId": "7d4bd647-c0b7-451b-d14f-361336c88228"
      },
      "source": [
        "# split dataset into training and validation set 70-30\r\n",
        "us_train_images_split, us_valid_images_split, us_train_labels_split, us_valid_labels_split = split_train_val(undersampled_images, undersampled_labels)  "
      ],
      "execution_count": null,
      "outputs": [
        {
          "output_type": "stream",
          "text": [
            "(1551, 150, 150, 1)\n",
            "(665, 150, 150, 1)\n",
            "(1551,)\n",
            "(665,)\n"
          ],
          "name": "stdout"
        }
      ]
    },
    {
      "cell_type": "code",
      "metadata": {
        "id": "uRRRIWE_4Wlq",
        "colab": {
          "base_uri": "https://localhost:8080/"
        },
        "outputId": "da632b17-b741-4ec5-c410-3e8c11ab1fd5"
      },
      "source": [
        "model_2 = build_model(\"binary_crossentropy\", \"acc\")\r\n",
        "\r\n",
        "#model_2.summary()\r\n",
        "\r\n",
        "history = model_2.fit(train_datagen.flow(us_train_images_split,\r\n",
        "                                       us_train_labels_split,\r\n",
        "                                       batch_size=BATCH_SIZE,\r\n",
        "                                       shuffle=False),\r\n",
        "                    steps_per_epoch=len(us_train_images_split) // BATCH_SIZE, \r\n",
        "                    epochs=EPOCHS,\r\n",
        "                    validation_data=valid_datagen.flow(us_valid_images_split,\r\n",
        "                                       us_valid_labels_split,\r\n",
        "                                       batch_size=BATCH_SIZE,\r\n",
        "                                       shuffle=False),\r\n",
        "                    validation_steps=len(us_valid_labels_split) // BATCH_SIZE)"
      ],
      "execution_count": null,
      "outputs": [
        {
          "output_type": "stream",
          "text": [
            "Epoch 1/100\n",
            "77/77 [==============================] - 2s 19ms/step - loss: 0.6929 - acc: 0.5755 - val_loss: 0.7865 - val_acc: 0.2773\n",
            "Epoch 2/100\n",
            "77/77 [==============================] - 1s 14ms/step - loss: 0.6823 - acc: 0.5968 - val_loss: 0.7611 - val_acc: 0.2773\n",
            "Epoch 3/100\n",
            "77/77 [==============================] - 1s 14ms/step - loss: 0.6708 - acc: 0.6103 - val_loss: 0.8038 - val_acc: 0.2773\n",
            "Epoch 4/100\n",
            "77/77 [==============================] - 1s 14ms/step - loss: 0.6630 - acc: 0.5860 - val_loss: 0.8443 - val_acc: 0.2773\n",
            "Epoch 5/100\n",
            "77/77 [==============================] - 1s 14ms/step - loss: 0.6598 - acc: 0.5991 - val_loss: 0.8001 - val_acc: 0.3258\n",
            "Epoch 6/100\n",
            "77/77 [==============================] - 1s 14ms/step - loss: 0.6323 - acc: 0.6255 - val_loss: 0.6717 - val_acc: 0.5758\n",
            "Epoch 7/100\n",
            "77/77 [==============================] - 1s 13ms/step - loss: 0.6326 - acc: 0.6233 - val_loss: 0.6523 - val_acc: 0.6333\n",
            "Epoch 8/100\n",
            "77/77 [==============================] - 1s 14ms/step - loss: 0.6486 - acc: 0.6104 - val_loss: 0.7864 - val_acc: 0.4061\n",
            "Epoch 9/100\n",
            "77/77 [==============================] - 1s 14ms/step - loss: 0.6205 - acc: 0.6419 - val_loss: 0.7702 - val_acc: 0.4212\n",
            "Epoch 10/100\n",
            "77/77 [==============================] - 1s 14ms/step - loss: 0.6179 - acc: 0.6339 - val_loss: 0.7330 - val_acc: 0.4515\n",
            "Epoch 11/100\n",
            "77/77 [==============================] - 1s 14ms/step - loss: 0.6118 - acc: 0.6475 - val_loss: 0.6008 - val_acc: 0.7091\n",
            "Epoch 12/100\n",
            "77/77 [==============================] - 1s 14ms/step - loss: 0.6164 - acc: 0.6323 - val_loss: 0.7610 - val_acc: 0.4015\n",
            "Epoch 13/100\n",
            "77/77 [==============================] - 1s 14ms/step - loss: 0.6127 - acc: 0.6352 - val_loss: 0.6923 - val_acc: 0.5712\n",
            "Epoch 14/100\n",
            "77/77 [==============================] - 1s 14ms/step - loss: 0.6055 - acc: 0.6326 - val_loss: 0.8060 - val_acc: 0.4879\n",
            "Epoch 15/100\n",
            "77/77 [==============================] - 1s 14ms/step - loss: 0.6029 - acc: 0.6651 - val_loss: 0.9303 - val_acc: 0.4197\n",
            "Epoch 16/100\n",
            "77/77 [==============================] - 1s 14ms/step - loss: 0.6105 - acc: 0.6479 - val_loss: 0.7947 - val_acc: 0.4000\n",
            "Epoch 17/100\n",
            "77/77 [==============================] - 1s 14ms/step - loss: 0.5800 - acc: 0.6626 - val_loss: 0.7203 - val_acc: 0.4939\n",
            "Epoch 18/100\n",
            "77/77 [==============================] - 1s 14ms/step - loss: 0.5997 - acc: 0.6477 - val_loss: 0.6626 - val_acc: 0.6424\n",
            "Epoch 19/100\n",
            "77/77 [==============================] - 1s 14ms/step - loss: 0.5834 - acc: 0.6533 - val_loss: 0.6371 - val_acc: 0.6697\n",
            "Epoch 20/100\n",
            "77/77 [==============================] - 1s 14ms/step - loss: 0.5903 - acc: 0.6544 - val_loss: 0.7827 - val_acc: 0.4833\n",
            "Epoch 21/100\n",
            "77/77 [==============================] - 1s 14ms/step - loss: 0.5815 - acc: 0.6454 - val_loss: 0.6554 - val_acc: 0.6409\n",
            "Epoch 22/100\n",
            "77/77 [==============================] - 1s 14ms/step - loss: 0.5879 - acc: 0.6522 - val_loss: 0.5859 - val_acc: 0.7121\n",
            "Epoch 23/100\n",
            "77/77 [==============================] - 1s 14ms/step - loss: 0.5645 - acc: 0.6701 - val_loss: 0.6458 - val_acc: 0.6485\n",
            "Epoch 24/100\n",
            "77/77 [==============================] - 1s 14ms/step - loss: 0.5807 - acc: 0.6490 - val_loss: 0.5925 - val_acc: 0.7167\n",
            "Epoch 25/100\n",
            "77/77 [==============================] - 1s 14ms/step - loss: 0.5840 - acc: 0.6449 - val_loss: 0.6397 - val_acc: 0.6636\n",
            "Epoch 26/100\n",
            "77/77 [==============================] - 1s 14ms/step - loss: 0.5510 - acc: 0.6967 - val_loss: 0.7567 - val_acc: 0.5106\n",
            "Epoch 27/100\n",
            "77/77 [==============================] - 1s 14ms/step - loss: 0.5814 - acc: 0.6764 - val_loss: 0.9409 - val_acc: 0.4121\n",
            "Epoch 28/100\n",
            "77/77 [==============================] - 1s 14ms/step - loss: 0.5800 - acc: 0.6547 - val_loss: 0.7584 - val_acc: 0.5197\n",
            "Epoch 29/100\n",
            "77/77 [==============================] - 1s 14ms/step - loss: 0.5680 - acc: 0.6665 - val_loss: 0.7205 - val_acc: 0.5985\n",
            "Epoch 30/100\n",
            "77/77 [==============================] - 1s 14ms/step - loss: 0.5427 - acc: 0.7096 - val_loss: 0.6824 - val_acc: 0.6121\n",
            "Epoch 31/100\n",
            "77/77 [==============================] - 1s 14ms/step - loss: 0.5541 - acc: 0.6877 - val_loss: 0.7094 - val_acc: 0.6348\n",
            "Epoch 32/100\n",
            "77/77 [==============================] - 1s 14ms/step - loss: 0.5509 - acc: 0.6972 - val_loss: 0.6524 - val_acc: 0.6636\n",
            "Epoch 33/100\n",
            "77/77 [==============================] - 1s 14ms/step - loss: 0.5308 - acc: 0.7207 - val_loss: 0.7318 - val_acc: 0.6197\n",
            "Epoch 34/100\n",
            "77/77 [==============================] - 1s 14ms/step - loss: 0.5310 - acc: 0.7054 - val_loss: 0.7470 - val_acc: 0.6121\n",
            "Epoch 35/100\n",
            "77/77 [==============================] - 1s 14ms/step - loss: 0.5402 - acc: 0.7101 - val_loss: 0.6976 - val_acc: 0.6288\n",
            "Epoch 36/100\n",
            "77/77 [==============================] - 1s 14ms/step - loss: 0.5426 - acc: 0.6974 - val_loss: 0.8891 - val_acc: 0.4545\n",
            "Epoch 37/100\n",
            "77/77 [==============================] - 1s 14ms/step - loss: 0.5181 - acc: 0.7134 - val_loss: 0.6481 - val_acc: 0.6621\n",
            "Epoch 38/100\n",
            "77/77 [==============================] - 1s 14ms/step - loss: 0.5333 - acc: 0.7029 - val_loss: 0.7989 - val_acc: 0.4818\n",
            "Epoch 39/100\n",
            "77/77 [==============================] - 1s 14ms/step - loss: 0.5096 - acc: 0.7283 - val_loss: 0.7318 - val_acc: 0.5697\n",
            "Epoch 40/100\n",
            "77/77 [==============================] - 1s 14ms/step - loss: 0.4799 - acc: 0.7627 - val_loss: 0.6888 - val_acc: 0.6076\n",
            "Epoch 41/100\n",
            "77/77 [==============================] - 1s 14ms/step - loss: 0.5073 - acc: 0.7179 - val_loss: 0.9032 - val_acc: 0.5061\n",
            "Epoch 42/100\n",
            "77/77 [==============================] - 1s 14ms/step - loss: 0.5159 - acc: 0.7240 - val_loss: 0.6135 - val_acc: 0.7182\n",
            "Epoch 43/100\n",
            "77/77 [==============================] - 1s 14ms/step - loss: 0.4862 - acc: 0.7250 - val_loss: 0.7452 - val_acc: 0.6227\n",
            "Epoch 44/100\n",
            "77/77 [==============================] - 1s 14ms/step - loss: 0.4837 - acc: 0.7450 - val_loss: 0.7279 - val_acc: 0.6303\n",
            "Epoch 45/100\n",
            "77/77 [==============================] - 1s 14ms/step - loss: 0.4706 - acc: 0.7786 - val_loss: 0.6571 - val_acc: 0.6667\n",
            "Epoch 46/100\n",
            "77/77 [==============================] - 1s 14ms/step - loss: 0.4747 - acc: 0.7675 - val_loss: 0.7502 - val_acc: 0.6197\n",
            "Epoch 47/100\n",
            "77/77 [==============================] - 1s 14ms/step - loss: 0.4615 - acc: 0.7529 - val_loss: 0.7926 - val_acc: 0.6015\n",
            "Epoch 48/100\n",
            "77/77 [==============================] - 1s 14ms/step - loss: 0.4536 - acc: 0.7758 - val_loss: 0.6810 - val_acc: 0.6394\n",
            "Epoch 49/100\n",
            "77/77 [==============================] - 1s 14ms/step - loss: 0.4446 - acc: 0.7889 - val_loss: 0.6719 - val_acc: 0.6924\n",
            "Epoch 50/100\n",
            "77/77 [==============================] - 1s 14ms/step - loss: 0.4264 - acc: 0.7869 - val_loss: 0.8118 - val_acc: 0.5727\n",
            "Epoch 51/100\n",
            "77/77 [==============================] - 1s 14ms/step - loss: 0.4210 - acc: 0.7924 - val_loss: 0.9194 - val_acc: 0.4924\n",
            "Epoch 52/100\n",
            "77/77 [==============================] - 1s 14ms/step - loss: 0.4052 - acc: 0.8058 - val_loss: 0.7194 - val_acc: 0.6318\n",
            "Epoch 53/100\n",
            "77/77 [==============================] - 1s 14ms/step - loss: 0.3932 - acc: 0.8093 - val_loss: 0.9049 - val_acc: 0.6182\n",
            "Epoch 54/100\n",
            "77/77 [==============================] - 1s 14ms/step - loss: 0.3842 - acc: 0.8247 - val_loss: 0.8267 - val_acc: 0.5697\n",
            "Epoch 55/100\n",
            "77/77 [==============================] - 1s 14ms/step - loss: 0.3887 - acc: 0.8150 - val_loss: 0.7527 - val_acc: 0.6273\n",
            "Epoch 56/100\n",
            "77/77 [==============================] - 1s 14ms/step - loss: 0.3789 - acc: 0.8203 - val_loss: 0.8847 - val_acc: 0.5788\n",
            "Epoch 57/100\n",
            "77/77 [==============================] - 1s 14ms/step - loss: 0.3889 - acc: 0.8111 - val_loss: 0.8176 - val_acc: 0.6818\n",
            "Epoch 58/100\n",
            "77/77 [==============================] - 1s 15ms/step - loss: 0.3646 - acc: 0.8341 - val_loss: 0.8011 - val_acc: 0.6258\n",
            "Epoch 59/100\n",
            "77/77 [==============================] - 1s 14ms/step - loss: 0.3527 - acc: 0.8413 - val_loss: 0.8229 - val_acc: 0.5894\n",
            "Epoch 60/100\n",
            "77/77 [==============================] - 1s 14ms/step - loss: 0.3234 - acc: 0.8419 - val_loss: 0.8971 - val_acc: 0.5909\n",
            "Epoch 61/100\n",
            "77/77 [==============================] - 1s 14ms/step - loss: 0.3197 - acc: 0.8650 - val_loss: 1.0884 - val_acc: 0.5409\n",
            "Epoch 62/100\n",
            "77/77 [==============================] - 1s 14ms/step - loss: 0.3331 - acc: 0.8480 - val_loss: 0.9214 - val_acc: 0.6545\n",
            "Epoch 63/100\n",
            "77/77 [==============================] - 1s 14ms/step - loss: 0.3101 - acc: 0.8602 - val_loss: 0.7493 - val_acc: 0.7197\n",
            "Epoch 64/100\n",
            "77/77 [==============================] - 1s 14ms/step - loss: 0.2937 - acc: 0.8602 - val_loss: 0.9479 - val_acc: 0.6258\n",
            "Epoch 65/100\n",
            "77/77 [==============================] - 1s 14ms/step - loss: 0.2883 - acc: 0.8687 - val_loss: 1.1244 - val_acc: 0.5273\n",
            "Epoch 66/100\n",
            "77/77 [==============================] - 1s 14ms/step - loss: 0.2700 - acc: 0.8927 - val_loss: 1.1500 - val_acc: 0.5242\n",
            "Epoch 67/100\n",
            "77/77 [==============================] - 1s 14ms/step - loss: 0.2512 - acc: 0.9057 - val_loss: 1.0944 - val_acc: 0.6015\n",
            "Epoch 68/100\n",
            "77/77 [==============================] - 1s 14ms/step - loss: 0.2484 - acc: 0.8958 - val_loss: 0.9768 - val_acc: 0.6167\n",
            "Epoch 69/100\n",
            "77/77 [==============================] - 1s 14ms/step - loss: 0.2388 - acc: 0.9003 - val_loss: 1.2010 - val_acc: 0.5682\n",
            "Epoch 70/100\n",
            "77/77 [==============================] - 1s 14ms/step - loss: 0.2394 - acc: 0.8901 - val_loss: 1.3684 - val_acc: 0.5530\n",
            "Epoch 71/100\n",
            "77/77 [==============================] - 1s 14ms/step - loss: 0.2289 - acc: 0.9060 - val_loss: 0.9844 - val_acc: 0.6470\n",
            "Epoch 72/100\n",
            "77/77 [==============================] - 1s 14ms/step - loss: 0.2253 - acc: 0.9102 - val_loss: 1.0442 - val_acc: 0.6394\n",
            "Epoch 73/100\n",
            "77/77 [==============================] - 1s 14ms/step - loss: 0.2155 - acc: 0.9207 - val_loss: 1.0787 - val_acc: 0.6348\n",
            "Epoch 74/100\n",
            "77/77 [==============================] - 1s 14ms/step - loss: 0.1828 - acc: 0.9453 - val_loss: 1.1413 - val_acc: 0.6379\n",
            "Epoch 75/100\n",
            "77/77 [==============================] - 1s 14ms/step - loss: 0.1800 - acc: 0.9321 - val_loss: 1.0462 - val_acc: 0.6727\n",
            "Epoch 76/100\n",
            "77/77 [==============================] - 1s 14ms/step - loss: 0.1612 - acc: 0.9519 - val_loss: 1.2539 - val_acc: 0.6045\n",
            "Epoch 77/100\n",
            "77/77 [==============================] - 1s 14ms/step - loss: 0.1686 - acc: 0.9372 - val_loss: 1.3926 - val_acc: 0.5591\n",
            "Epoch 78/100\n",
            "77/77 [==============================] - 1s 14ms/step - loss: 0.1657 - acc: 0.9376 - val_loss: 1.7428 - val_acc: 0.5439\n",
            "Epoch 79/100\n",
            "77/77 [==============================] - 1s 14ms/step - loss: 0.1479 - acc: 0.9447 - val_loss: 1.7863 - val_acc: 0.5394\n",
            "Epoch 80/100\n",
            "77/77 [==============================] - 1s 14ms/step - loss: 0.1305 - acc: 0.9643 - val_loss: 1.3003 - val_acc: 0.6318\n",
            "Epoch 81/100\n",
            "77/77 [==============================] - 1s 14ms/step - loss: 0.1213 - acc: 0.9704 - val_loss: 1.4162 - val_acc: 0.6000\n",
            "Epoch 82/100\n",
            "77/77 [==============================] - 1s 14ms/step - loss: 0.1291 - acc: 0.9542 - val_loss: 1.3994 - val_acc: 0.6015\n",
            "Epoch 83/100\n",
            "77/77 [==============================] - 1s 14ms/step - loss: 0.1113 - acc: 0.9672 - val_loss: 1.6122 - val_acc: 0.5576\n",
            "Epoch 84/100\n",
            "77/77 [==============================] - 1s 14ms/step - loss: 0.1007 - acc: 0.9629 - val_loss: 1.5557 - val_acc: 0.5758\n",
            "Epoch 85/100\n",
            "77/77 [==============================] - 1s 14ms/step - loss: 0.0910 - acc: 0.9800 - val_loss: 1.7390 - val_acc: 0.5712\n",
            "Epoch 86/100\n",
            "77/77 [==============================] - 1s 14ms/step - loss: 0.0933 - acc: 0.9739 - val_loss: 2.0067 - val_acc: 0.5652\n",
            "Epoch 87/100\n",
            "77/77 [==============================] - 1s 14ms/step - loss: 0.0797 - acc: 0.9784 - val_loss: 1.9121 - val_acc: 0.5788\n",
            "Epoch 88/100\n",
            "77/77 [==============================] - 1s 14ms/step - loss: 0.0796 - acc: 0.9732 - val_loss: 1.7142 - val_acc: 0.6030\n",
            "Epoch 89/100\n",
            "77/77 [==============================] - 1s 14ms/step - loss: 0.0735 - acc: 0.9795 - val_loss: 1.4482 - val_acc: 0.6833\n",
            "Epoch 90/100\n",
            "77/77 [==============================] - 1s 14ms/step - loss: 0.0733 - acc: 0.9809 - val_loss: 1.7716 - val_acc: 0.5879\n",
            "Epoch 91/100\n",
            "77/77 [==============================] - 1s 14ms/step - loss: 0.0656 - acc: 0.9846 - val_loss: 1.7889 - val_acc: 0.6136\n",
            "Epoch 92/100\n",
            "77/77 [==============================] - 1s 14ms/step - loss: 0.0566 - acc: 0.9876 - val_loss: 1.7191 - val_acc: 0.6667\n",
            "Epoch 93/100\n",
            "77/77 [==============================] - 1s 14ms/step - loss: 0.0467 - acc: 0.9933 - val_loss: 2.1302 - val_acc: 0.5712\n",
            "Epoch 94/100\n",
            "77/77 [==============================] - 1s 14ms/step - loss: 0.0440 - acc: 0.9901 - val_loss: 2.0905 - val_acc: 0.6045\n",
            "Epoch 95/100\n",
            "77/77 [==============================] - 1s 14ms/step - loss: 0.0426 - acc: 0.9897 - val_loss: 2.0792 - val_acc: 0.5939\n",
            "Epoch 96/100\n",
            "77/77 [==============================] - 1s 14ms/step - loss: 0.0387 - acc: 0.9896 - val_loss: 1.7357 - val_acc: 0.6667\n",
            "Epoch 97/100\n",
            "77/77 [==============================] - 1s 14ms/step - loss: 0.0386 - acc: 0.9908 - val_loss: 2.0050 - val_acc: 0.6455\n",
            "Epoch 98/100\n",
            "77/77 [==============================] - 1s 14ms/step - loss: 0.0336 - acc: 0.9928 - val_loss: 2.2366 - val_acc: 0.6167\n",
            "Epoch 99/100\n",
            "77/77 [==============================] - 1s 14ms/step - loss: 0.0372 - acc: 0.9897 - val_loss: 2.7865 - val_acc: 0.5470\n",
            "Epoch 100/100\n",
            "77/77 [==============================] - 1s 14ms/step - loss: 0.0374 - acc: 0.9873 - val_loss: 2.3626 - val_acc: 0.6015\n"
          ],
          "name": "stdout"
        }
      ]
    },
    {
      "cell_type": "code",
      "metadata": {
        "id": "H9lFl9iCIOod",
        "colab": {
          "base_uri": "https://localhost:8080/",
          "height": 545
        },
        "outputId": "031173af-afbe-4626-d997-7ceeee2c4284"
      },
      "source": [
        "plt = plot(history)\r\n",
        "plt.show()"
      ],
      "execution_count": null,
      "outputs": [
        {
          "output_type": "display_data",
          "data": {
            "image/png": "[encoded data removed]",
            "text/plain": [
              "<Figure size 432x288 with 1 Axes>"
            ]
          },
          "metadata": {
            "tags": [],
            "needs_background": "light"
          }
        },
        {
          "output_type": "display_data",
          "data": {
            "image/png": "[encoded data removed]",
            "text/plain": [
              "<Figure size 432x288 with 1 Axes>"
            ]
          },
          "metadata": {
            "tags": [],
            "needs_background": "light"
          }
        }
      ]
    },
    {
      "cell_type": "code",
      "metadata": {
        "id": "fmWZQMCSIZK9",
        "colab": {
          "base_uri": "https://localhost:8080/"
        },
        "outputId": "eba61637-5556-4cc7-bbf0-e22e57cc3b66"
      },
      "source": [
        "test_loss, test_acc = model_2.evaluate(test_datagen.flow(test_images,\r\n",
        "                                                       test_labels,\r\n",
        "                                                       batch_size=BATCH_SIZE,\r\n",
        "                                                       shuffle=False),\r\n",
        "                                     steps=len(test_images) // BATCH_SIZE\r\n",
        ")\r\n",
        "\r\n",
        "print(test_acc)"
      ],
      "execution_count": null,
      "outputs": [
        {
          "output_type": "stream",
          "text": [
            "16/16 [==============================] - 0s 5ms/step - loss: 1.9920 - acc: 0.5906\n",
            "0.590624988079071\n"
          ],
          "name": "stdout"
        }
      ]
    },
    {
      "cell_type": "code",
      "metadata": {
        "id": "wN63jIa8IQ8l",
        "colab": {
          "base_uri": "https://localhost:8080/",
          "height": 481
        },
        "outputId": "f9ae497c-3e79-45e1-cb6a-2e99558e909e"
      },
      "source": [
        "plot_confusion_matrix(model_2,\r\n",
        "                      classes,\r\n",
        "                      test_images,\r\n",
        "                      test_labels,\r\n",
        "                      title='Confusion matrix',\r\n",
        "                      cmap=plt.cm.Blues)  "
      ],
      "execution_count": null,
      "outputs": [
        {
          "output_type": "stream",
          "text": [
            "Confusion Matrix\n",
            "              precision    recall  f1-score   support\n",
            "\n",
            "         0.0       0.70      0.65      0.68       219\n",
            "         1.0       0.43      0.49      0.46       117\n",
            "\n",
            "    accuracy                           0.60       336\n",
            "   macro avg       0.57      0.57      0.57       336\n",
            "weighted avg       0.61      0.60      0.60       336\n",
            "\n"
          ],
          "name": "stdout"
        },
        {
          "output_type": "display_data",
          "data": {
            "image/png": "[encoded data removed]",
            "text/plain": [
              "<Figure size 432x288 with 2 Axes>"
            ]
          },
          "metadata": {
            "tags": [],
            "needs_background": "light"
          }
        }
      ]
    },
    {
      "cell_type": "code",
      "metadata": {
        "colab": {
          "base_uri": "https://localhost:8080/",
          "height": 295
        },
        "id": "4ULHeVmJObbC",
        "outputId": "54d1dd74-d8a9-4af2-bac2-e4720c5acdcf"
      },
      "source": [
        "plot_AUC(model_2, test_images, test_labels)"
      ],
      "execution_count": null,
      "outputs": [
        {
          "output_type": "display_data",
          "data": {
            "image/png": "[encoded data removed]",
            "text/plain": [
              "<Figure size 432x288 with 1 Axes>"
            ]
          },
          "metadata": {
            "tags": [],
            "needs_background": "light"
          }
        }
      ]
    },
    {
      "cell_type": "markdown",
      "metadata": {
        "id": "2MLMT6Z9GwcD"
      },
      "source": [
        "##3.Data augmentation."
      ]
    },
    {
      "cell_type": "code",
      "metadata": {
        "colab": {
          "base_uri": "https://localhost:8080/"
        },
        "id": "LNfi7nTQH6rm",
        "outputId": "56b044f8-4e6b-4248-8f2d-cb31f3978c9e"
      },
      "source": [
        "# Train data augmentation \r\n",
        "train_datagen = ImageDataGenerator(\r\n",
        "    rescale=1./65535,\r\n",
        "    rotation_range=40,\r\n",
        "    width_shift_range=0.2,\r\n",
        "    height_shift_range=0.2,\r\n",
        "    shear_range=20,\r\n",
        "    zoom_range=0.2,\r\n",
        "    horizontal_flip=True,\r\n",
        "    fill_mode='nearest')\r\n",
        "\r\n",
        "valid_datagen = ImageDataGenerator(rescale=1./65535)\r\n",
        "test_datagen = ImageDataGenerator(rescale=1./65535) \r\n",
        "\r\n",
        "print(\"Done\")"
      ],
      "execution_count": null,
      "outputs": [
        {
          "output_type": "stream",
          "text": [
            "Done\n"
          ],
          "name": "stdout"
        }
      ]
    },
    {
      "cell_type": "code",
      "metadata": {
        "id": "dcg84F8TfD0J",
        "colab": {
          "base_uri": "https://localhost:8080/"
        },
        "outputId": "8a47d590-b212-4b4d-e470-f5c5476868fe"
      },
      "source": [
        "model_3 = build_model(\"binary_crossentropy\", \"acc\")\r\n",
        "\r\n",
        "#model_3.summary()\r\n",
        "\r\n",
        "history = model_3.fit(train_datagen.flow(train_images_split,\r\n",
        "                                       train_labels_split,\r\n",
        "                                       batch_size=BATCH_SIZE,\r\n",
        "                                       shuffle=False),\r\n",
        "                    steps_per_epoch=len(train_images_split) // BATCH_SIZE, \r\n",
        "                    epochs=EPOCHS,\r\n",
        "                    validation_data=valid_datagen.flow(valid_images_split,\r\n",
        "                                       valid_labels_split,\r\n",
        "                                       batch_size=BATCH_SIZE,\r\n",
        "                                       shuffle=False),\r\n",
        "                    validation_steps=len(valid_labels_split) // BATCH_SIZE)"
      ],
      "execution_count": null,
      "outputs": [
        {
          "output_type": "stream",
          "text": [
            "Epoch 1/100\n",
            "93/93 [==============================] - 5s 44ms/step - loss: 0.6770 - acc: 0.6132 - val_loss: 0.6875 - val_acc: 0.5688\n",
            "Epoch 2/100\n",
            "93/93 [==============================] - 4s 41ms/step - loss: 0.6874 - acc: 0.5822 - val_loss: 0.6897 - val_acc: 0.5688\n",
            "Epoch 3/100\n",
            "93/93 [==============================] - 4s 43ms/step - loss: 0.6875 - acc: 0.5754 - val_loss: 0.7238 - val_acc: 0.5688\n",
            "Epoch 4/100\n",
            "93/93 [==============================] - 4s 43ms/step - loss: 0.6826 - acc: 0.5814 - val_loss: 0.6705 - val_acc: 0.5688\n",
            "Epoch 5/100\n",
            "93/93 [==============================] - 4s 43ms/step - loss: 0.6782 - acc: 0.5716 - val_loss: 0.6699 - val_acc: 0.6363\n",
            "Epoch 6/100\n",
            "93/93 [==============================] - 4s 42ms/step - loss: 0.6664 - acc: 0.5922 - val_loss: 0.7203 - val_acc: 0.5688\n",
            "Epoch 7/100\n",
            "93/93 [==============================] - 4s 42ms/step - loss: 0.6677 - acc: 0.5980 - val_loss: 0.6744 - val_acc: 0.5700\n",
            "Epoch 8/100\n",
            "93/93 [==============================] - 4s 41ms/step - loss: 0.6618 - acc: 0.6146 - val_loss: 0.6535 - val_acc: 0.6025\n",
            "Epoch 9/100\n",
            "93/93 [==============================] - 4s 41ms/step - loss: 0.6444 - acc: 0.6271 - val_loss: 0.6524 - val_acc: 0.6012\n",
            "Epoch 10/100\n",
            "93/93 [==============================] - 4s 41ms/step - loss: 0.6337 - acc: 0.6501 - val_loss: 0.6567 - val_acc: 0.6187\n",
            "Epoch 11/100\n",
            "93/93 [==============================] - 4s 41ms/step - loss: 0.6496 - acc: 0.5980 - val_loss: 0.6429 - val_acc: 0.6150\n",
            "Epoch 12/100\n",
            "93/93 [==============================] - 4s 41ms/step - loss: 0.6260 - acc: 0.6435 - val_loss: 0.7029 - val_acc: 0.5575\n",
            "Epoch 13/100\n",
            "93/93 [==============================] - 4s 42ms/step - loss: 0.6463 - acc: 0.6061 - val_loss: 0.6319 - val_acc: 0.6475\n",
            "Epoch 14/100\n",
            "93/93 [==============================] - 4s 42ms/step - loss: 0.6355 - acc: 0.6422 - val_loss: 0.6323 - val_acc: 0.6525\n",
            "Epoch 15/100\n",
            "93/93 [==============================] - 4s 41ms/step - loss: 0.6451 - acc: 0.6194 - val_loss: 0.6251 - val_acc: 0.6263\n",
            "Epoch 16/100\n",
            "93/93 [==============================] - 4s 41ms/step - loss: 0.6180 - acc: 0.6508 - val_loss: 0.6438 - val_acc: 0.6288\n",
            "Epoch 17/100\n",
            "93/93 [==============================] - 4s 41ms/step - loss: 0.6407 - acc: 0.6292 - val_loss: 0.6290 - val_acc: 0.6525\n",
            "Epoch 18/100\n",
            "93/93 [==============================] - 4s 42ms/step - loss: 0.6201 - acc: 0.6503 - val_loss: 0.6204 - val_acc: 0.6500\n",
            "Epoch 19/100\n",
            "93/93 [==============================] - 4s 43ms/step - loss: 0.6317 - acc: 0.6351 - val_loss: 0.6166 - val_acc: 0.6475\n",
            "Epoch 20/100\n",
            "93/93 [==============================] - 4s 42ms/step - loss: 0.6311 - acc: 0.6401 - val_loss: 0.6168 - val_acc: 0.6338\n",
            "Epoch 21/100\n",
            "93/93 [==============================] - 4s 43ms/step - loss: 0.6189 - acc: 0.6449 - val_loss: 0.6177 - val_acc: 0.6375\n",
            "Epoch 22/100\n",
            "93/93 [==============================] - 4s 41ms/step - loss: 0.6233 - acc: 0.6330 - val_loss: 0.6182 - val_acc: 0.6413\n",
            "Epoch 23/100\n",
            "93/93 [==============================] - 4s 42ms/step - loss: 0.6198 - acc: 0.6447 - val_loss: 0.6218 - val_acc: 0.6513\n",
            "Epoch 24/100\n",
            "93/93 [==============================] - 4s 41ms/step - loss: 0.6072 - acc: 0.6531 - val_loss: 0.6381 - val_acc: 0.5975\n",
            "Epoch 25/100\n",
            "93/93 [==============================] - 4s 41ms/step - loss: 0.6190 - acc: 0.6492 - val_loss: 0.6165 - val_acc: 0.6550\n",
            "Epoch 26/100\n",
            "93/93 [==============================] - 4s 41ms/step - loss: 0.6152 - acc: 0.6548 - val_loss: 0.6289 - val_acc: 0.6212\n",
            "Epoch 27/100\n",
            "93/93 [==============================] - 4s 41ms/step - loss: 0.6295 - acc: 0.6026 - val_loss: 0.6107 - val_acc: 0.6325\n",
            "Epoch 28/100\n",
            "93/93 [==============================] - 4s 42ms/step - loss: 0.6052 - acc: 0.6615 - val_loss: 0.6377 - val_acc: 0.5962\n",
            "Epoch 29/100\n",
            "93/93 [==============================] - 4s 43ms/step - loss: 0.6208 - acc: 0.6335 - val_loss: 0.6165 - val_acc: 0.6562\n",
            "Epoch 30/100\n",
            "93/93 [==============================] - 4s 42ms/step - loss: 0.6342 - acc: 0.6147 - val_loss: 0.6158 - val_acc: 0.6250\n",
            "Epoch 31/100\n",
            "93/93 [==============================] - 4s 42ms/step - loss: 0.6058 - acc: 0.6530 - val_loss: 0.6122 - val_acc: 0.6550\n",
            "Epoch 32/100\n",
            "93/93 [==============================] - 4s 41ms/step - loss: 0.6211 - acc: 0.6404 - val_loss: 0.6219 - val_acc: 0.6363\n",
            "Epoch 33/100\n",
            "93/93 [==============================] - 4s 41ms/step - loss: 0.6328 - acc: 0.6344 - val_loss: 0.6179 - val_acc: 0.6450\n",
            "Epoch 34/100\n",
            "93/93 [==============================] - 4s 41ms/step - loss: 0.6098 - acc: 0.6690 - val_loss: 0.6109 - val_acc: 0.6363\n",
            "Epoch 35/100\n",
            "93/93 [==============================] - 4s 41ms/step - loss: 0.5983 - acc: 0.6684 - val_loss: 0.6326 - val_acc: 0.6075\n",
            "Epoch 36/100\n",
            "93/93 [==============================] - 4s 41ms/step - loss: 0.6121 - acc: 0.6354 - val_loss: 0.6135 - val_acc: 0.6550\n",
            "Epoch 37/100\n",
            "93/93 [==============================] - 4s 42ms/step - loss: 0.6097 - acc: 0.6674 - val_loss: 0.6165 - val_acc: 0.6425\n",
            "Epoch 38/100\n",
            "93/93 [==============================] - 4s 43ms/step - loss: 0.5948 - acc: 0.6590 - val_loss: 0.6109 - val_acc: 0.6488\n",
            "Epoch 39/100\n",
            "93/93 [==============================] - 4s 41ms/step - loss: 0.6084 - acc: 0.6605 - val_loss: 0.6078 - val_acc: 0.6562\n",
            "Epoch 40/100\n",
            "93/93 [==============================] - 4s 41ms/step - loss: 0.6021 - acc: 0.6614 - val_loss: 0.6120 - val_acc: 0.6538\n",
            "Epoch 41/100\n",
            "93/93 [==============================] - 4s 41ms/step - loss: 0.6083 - acc: 0.6577 - val_loss: 0.6043 - val_acc: 0.6538\n",
            "Epoch 42/100\n",
            "93/93 [==============================] - 4s 42ms/step - loss: 0.6054 - acc: 0.6632 - val_loss: 0.6233 - val_acc: 0.6150\n",
            "Epoch 43/100\n",
            "93/93 [==============================] - 4s 42ms/step - loss: 0.6063 - acc: 0.6517 - val_loss: 0.6047 - val_acc: 0.6500\n",
            "Epoch 44/100\n",
            "93/93 [==============================] - 4s 41ms/step - loss: 0.6138 - acc: 0.6429 - val_loss: 0.6129 - val_acc: 0.6575\n",
            "Epoch 45/100\n",
            "93/93 [==============================] - 4s 41ms/step - loss: 0.6158 - acc: 0.6397 - val_loss: 0.6094 - val_acc: 0.6263\n",
            "Epoch 46/100\n",
            "93/93 [==============================] - 4s 41ms/step - loss: 0.6225 - acc: 0.6522 - val_loss: 0.6100 - val_acc: 0.6313\n",
            "Epoch 47/100\n",
            "93/93 [==============================] - 4s 41ms/step - loss: 0.6197 - acc: 0.6389 - val_loss: 0.6482 - val_acc: 0.6313\n",
            "Epoch 48/100\n",
            "93/93 [==============================] - 4s 41ms/step - loss: 0.6148 - acc: 0.6364 - val_loss: 0.6080 - val_acc: 0.6463\n",
            "Epoch 49/100\n",
            "93/93 [==============================] - 4s 41ms/step - loss: 0.6257 - acc: 0.6394 - val_loss: 0.6157 - val_acc: 0.6313\n",
            "Epoch 50/100\n",
            "93/93 [==============================] - 4s 42ms/step - loss: 0.6038 - acc: 0.6623 - val_loss: 0.6472 - val_acc: 0.6350\n",
            "Epoch 51/100\n",
            "93/93 [==============================] - 4s 41ms/step - loss: 0.5893 - acc: 0.6683 - val_loss: 0.6169 - val_acc: 0.6350\n",
            "Epoch 52/100\n",
            "93/93 [==============================] - 4s 42ms/step - loss: 0.5816 - acc: 0.6864 - val_loss: 0.6127 - val_acc: 0.6288\n",
            "Epoch 53/100\n",
            "93/93 [==============================] - 4s 42ms/step - loss: 0.5819 - acc: 0.6948 - val_loss: 0.5989 - val_acc: 0.6575\n",
            "Epoch 54/100\n",
            "93/93 [==============================] - 4s 41ms/step - loss: 0.6105 - acc: 0.6260 - val_loss: 0.5964 - val_acc: 0.6675\n",
            "Epoch 55/100\n",
            "93/93 [==============================] - 4s 41ms/step - loss: 0.6001 - acc: 0.6583 - val_loss: 0.6042 - val_acc: 0.6500\n",
            "Epoch 56/100\n",
            "93/93 [==============================] - 4s 41ms/step - loss: 0.5945 - acc: 0.6668 - val_loss: 0.6219 - val_acc: 0.6488\n",
            "Epoch 57/100\n",
            "93/93 [==============================] - 4s 41ms/step - loss: 0.5845 - acc: 0.6697 - val_loss: 0.6684 - val_acc: 0.5738\n",
            "Epoch 58/100\n",
            "93/93 [==============================] - 4s 41ms/step - loss: 0.5960 - acc: 0.6599 - val_loss: 0.6008 - val_acc: 0.6538\n",
            "Epoch 59/100\n",
            "93/93 [==============================] - 4s 42ms/step - loss: 0.5841 - acc: 0.6626 - val_loss: 0.6069 - val_acc: 0.6612\n",
            "Epoch 60/100\n",
            "93/93 [==============================] - 4s 42ms/step - loss: 0.5983 - acc: 0.6739 - val_loss: 0.6078 - val_acc: 0.6513\n",
            "Epoch 61/100\n",
            "93/93 [==============================] - 4s 41ms/step - loss: 0.5844 - acc: 0.6825 - val_loss: 0.5997 - val_acc: 0.6575\n",
            "Epoch 62/100\n",
            "93/93 [==============================] - 4s 41ms/step - loss: 0.5889 - acc: 0.6573 - val_loss: 0.6192 - val_acc: 0.6200\n",
            "Epoch 63/100\n",
            "93/93 [==============================] - 4s 41ms/step - loss: 0.5887 - acc: 0.6516 - val_loss: 0.6203 - val_acc: 0.6275\n",
            "Epoch 64/100\n",
            "93/93 [==============================] - 4s 42ms/step - loss: 0.5901 - acc: 0.6673 - val_loss: 0.5981 - val_acc: 0.6625\n",
            "Epoch 65/100\n",
            "93/93 [==============================] - 4s 41ms/step - loss: 0.6002 - acc: 0.6539 - val_loss: 0.6054 - val_acc: 0.6325\n",
            "Epoch 66/100\n",
            "93/93 [==============================] - 4s 41ms/step - loss: 0.5990 - acc: 0.6730 - val_loss: 0.6001 - val_acc: 0.6463\n",
            "Epoch 67/100\n",
            "93/93 [==============================] - 4s 41ms/step - loss: 0.5952 - acc: 0.6573 - val_loss: 0.6039 - val_acc: 0.6475\n",
            "Epoch 68/100\n",
            "93/93 [==============================] - 4s 40ms/step - loss: 0.6093 - acc: 0.6644 - val_loss: 0.6044 - val_acc: 0.6650\n",
            "Epoch 69/100\n",
            "93/93 [==============================] - 4s 42ms/step - loss: 0.6035 - acc: 0.6549 - val_loss: 0.5994 - val_acc: 0.6587\n",
            "Epoch 70/100\n",
            "93/93 [==============================] - 4s 42ms/step - loss: 0.5684 - acc: 0.6882 - val_loss: 0.6121 - val_acc: 0.6413\n",
            "Epoch 71/100\n",
            "93/93 [==============================] - 4s 42ms/step - loss: 0.5914 - acc: 0.6819 - val_loss: 0.6100 - val_acc: 0.6450\n",
            "Epoch 72/100\n",
            "93/93 [==============================] - 4s 40ms/step - loss: 0.5801 - acc: 0.6711 - val_loss: 0.5978 - val_acc: 0.6700\n",
            "Epoch 73/100\n",
            "93/93 [==============================] - 4s 40ms/step - loss: 0.5998 - acc: 0.6623 - val_loss: 0.6026 - val_acc: 0.6500\n",
            "Epoch 74/100\n",
            "93/93 [==============================] - 4s 41ms/step - loss: 0.6002 - acc: 0.6795 - val_loss: 0.6026 - val_acc: 0.6550\n",
            "Epoch 75/100\n",
            "93/93 [==============================] - 4s 41ms/step - loss: 0.5878 - acc: 0.6557 - val_loss: 0.5949 - val_acc: 0.6550\n",
            "Epoch 76/100\n",
            "93/93 [==============================] - 4s 42ms/step - loss: 0.5955 - acc: 0.6606 - val_loss: 0.6097 - val_acc: 0.6637\n",
            "Epoch 77/100\n",
            "93/93 [==============================] - 4s 42ms/step - loss: 0.6129 - acc: 0.6495 - val_loss: 0.5967 - val_acc: 0.6687\n",
            "Epoch 78/100\n",
            "93/93 [==============================] - 4s 40ms/step - loss: 0.5986 - acc: 0.6682 - val_loss: 0.5995 - val_acc: 0.6750\n",
            "Epoch 79/100\n",
            "93/93 [==============================] - 4s 40ms/step - loss: 0.5853 - acc: 0.6747 - val_loss: 0.5886 - val_acc: 0.6687\n",
            "Epoch 80/100\n",
            "93/93 [==============================] - 4s 41ms/step - loss: 0.5845 - acc: 0.6767 - val_loss: 0.6456 - val_acc: 0.5913\n",
            "Epoch 81/100\n",
            "93/93 [==============================] - 4s 41ms/step - loss: 0.5919 - acc: 0.6528 - val_loss: 0.5995 - val_acc: 0.6325\n",
            "Epoch 82/100\n",
            "93/93 [==============================] - 4s 41ms/step - loss: 0.5892 - acc: 0.6729 - val_loss: 0.5900 - val_acc: 0.6712\n",
            "Epoch 83/100\n",
            "93/93 [==============================] - 4s 41ms/step - loss: 0.5769 - acc: 0.6967 - val_loss: 0.6088 - val_acc: 0.6625\n",
            "Epoch 84/100\n",
            "93/93 [==============================] - 4s 41ms/step - loss: 0.5746 - acc: 0.6809 - val_loss: 0.6232 - val_acc: 0.6187\n",
            "Epoch 85/100\n",
            "93/93 [==============================] - 4s 42ms/step - loss: 0.5903 - acc: 0.6832 - val_loss: 0.6126 - val_acc: 0.6488\n",
            "Epoch 86/100\n",
            "93/93 [==============================] - 4s 43ms/step - loss: 0.5939 - acc: 0.6659 - val_loss: 0.6071 - val_acc: 0.6513\n",
            "Epoch 87/100\n",
            "93/93 [==============================] - 4s 43ms/step - loss: 0.5859 - acc: 0.6780 - val_loss: 0.6424 - val_acc: 0.5987\n",
            "Epoch 88/100\n",
            "93/93 [==============================] - 4s 40ms/step - loss: 0.6026 - acc: 0.6577 - val_loss: 0.6009 - val_acc: 0.6650\n",
            "Epoch 89/100\n",
            "93/93 [==============================] - 4s 41ms/step - loss: 0.5751 - acc: 0.6918 - val_loss: 0.5945 - val_acc: 0.6562\n",
            "Epoch 90/100\n",
            "93/93 [==============================] - 4s 41ms/step - loss: 0.6011 - acc: 0.6529 - val_loss: 0.6172 - val_acc: 0.6650\n",
            "Epoch 91/100\n",
            "93/93 [==============================] - 4s 41ms/step - loss: 0.5791 - acc: 0.6722 - val_loss: 0.5968 - val_acc: 0.6538\n",
            "Epoch 92/100\n",
            "93/93 [==============================] - 4s 41ms/step - loss: 0.5667 - acc: 0.6668 - val_loss: 0.5903 - val_acc: 0.6687\n",
            "Epoch 93/100\n",
            "93/93 [==============================] - 4s 40ms/step - loss: 0.6010 - acc: 0.6570 - val_loss: 0.5914 - val_acc: 0.6675\n",
            "Epoch 94/100\n",
            "93/93 [==============================] - 4s 40ms/step - loss: 0.5734 - acc: 0.6853 - val_loss: 0.5977 - val_acc: 0.6513\n",
            "Epoch 95/100\n",
            "93/93 [==============================] - 4s 41ms/step - loss: 0.5754 - acc: 0.6814 - val_loss: 0.6005 - val_acc: 0.6463\n",
            "Epoch 96/100\n",
            "93/93 [==============================] - 4s 41ms/step - loss: 0.5681 - acc: 0.7040 - val_loss: 0.5886 - val_acc: 0.6637\n",
            "Epoch 97/100\n",
            "93/93 [==============================] - 4s 42ms/step - loss: 0.5747 - acc: 0.6931 - val_loss: 0.6094 - val_acc: 0.6413\n",
            "Epoch 98/100\n",
            "93/93 [==============================] - 4s 40ms/step - loss: 0.5870 - acc: 0.6664 - val_loss: 0.5957 - val_acc: 0.6625\n",
            "Epoch 99/100\n",
            "93/93 [==============================] - 4s 41ms/step - loss: 0.5868 - acc: 0.6950 - val_loss: 0.5936 - val_acc: 0.6737\n",
            "Epoch 100/100\n",
            "93/93 [==============================] - 4s 42ms/step - loss: 0.5760 - acc: 0.7025 - val_loss: 0.5912 - val_acc: 0.6712\n"
          ],
          "name": "stdout"
        }
      ]
    },
    {
      "cell_type": "code",
      "metadata": {
        "id": "QuXa_XvFfIqD",
        "colab": {
          "base_uri": "https://localhost:8080/",
          "height": 545
        },
        "outputId": "96cb60b9-721a-449b-cde1-7ac2396dc479"
      },
      "source": [
        "plt = plot(history)\r\n",
        "plt.show()"
      ],
      "execution_count": null,
      "outputs": [
        {
          "output_type": "display_data",
          "data": {
            "image/png": "[encoded data removed]",
            "text/plain": [
              "<Figure size 432x288 with 1 Axes>"
            ]
          },
          "metadata": {
            "tags": [],
            "needs_background": "light"
          }
        },
        {
          "output_type": "display_data",
          "data": {
            "image/png": "[encoded data removed]",
            "text/plain": [
              "<Figure size 432x288 with 1 Axes>"
            ]
          },
          "metadata": {
            "tags": [],
            "needs_background": "light"
          }
        }
      ]
    },
    {
      "cell_type": "code",
      "metadata": {
        "id": "PWLwR_0dfKnU",
        "colab": {
          "base_uri": "https://localhost:8080/"
        },
        "outputId": "09f16e0f-adb4-438c-d49b-7e85ebee0648"
      },
      "source": [
        "test_loss, test_acc = model_3.evaluate(test_datagen.flow(test_images,\r\n",
        "                                                       test_labels,\r\n",
        "                                                       batch_size=BATCH_SIZE,\r\n",
        "                                                       shuffle=False),\r\n",
        "                                     steps=len(test_images) // BATCH_SIZE\r\n",
        ")\r\n",
        "\r\n",
        "print(test_acc)"
      ],
      "execution_count": null,
      "outputs": [
        {
          "output_type": "stream",
          "text": [
            "16/16 [==============================] - 0s 5ms/step - loss: 0.6052 - acc: 0.6469\n",
            "0.6468750238418579\n"
          ],
          "name": "stdout"
        }
      ]
    },
    {
      "cell_type": "code",
      "metadata": {
        "id": "YbQkemZOfLa7",
        "colab": {
          "base_uri": "https://localhost:8080/",
          "height": 481
        },
        "outputId": "4571493a-e82f-4ee4-8170-2829b7223ec2"
      },
      "source": [
        "plot_confusion_matrix(model_3,\r\n",
        "                      classes,\r\n",
        "                      test_images,\r\n",
        "                      test_labels,\r\n",
        "                      title='Confusion matrix',\r\n",
        "                      cmap=plt.cm.Blues)  "
      ],
      "execution_count": null,
      "outputs": [
        {
          "output_type": "stream",
          "text": [
            "Confusion Matrix\n",
            "              precision    recall  f1-score   support\n",
            "\n",
            "         0.0       0.75      0.68      0.71       219\n",
            "         1.0       0.49      0.58      0.53       117\n",
            "\n",
            "    accuracy                           0.64       336\n",
            "   macro avg       0.62      0.63      0.62       336\n",
            "weighted avg       0.66      0.64      0.65       336\n",
            "\n"
          ],
          "name": "stdout"
        },
        {
          "output_type": "display_data",
          "data": {
            "image/png": "[encoded data removed]",
            "text/plain": [
              "<Figure size 432x288 with 2 Axes>"
            ]
          },
          "metadata": {
            "tags": [],
            "needs_background": "light"
          }
        }
      ]
    },
    {
      "cell_type": "code",
      "metadata": {
        "colab": {
          "base_uri": "https://localhost:8080/",
          "height": 295
        },
        "id": "Z4fgUDTeQl8j",
        "outputId": "4365c8f8-3af6-4a2f-fab6-283590d19c76"
      },
      "source": [
        "plot_AUC(model_3, test_images, test_labels)"
      ],
      "execution_count": null,
      "outputs": [
        {
          "output_type": "display_data",
          "data": {
            "image/png": "[encoded data removed]",
            "text/plain": [
              "<Figure size 432x288 with 1 Axes>"
            ]
          },
          "metadata": {
            "tags": [],
            "needs_background": "light"
          }
        }
      ]
    },
    {
      "cell_type": "markdown",
      "metadata": {
        "id": "tkPHL4sfeevs"
      },
      "source": [
        "## 4.Undersampling + data augmentation."
      ]
    },
    {
      "cell_type": "code",
      "metadata": {
        "id": "hS83T_YqDSoA"
      },
      "source": [
        "undersampled_images, undersampled_labels = undersample(train_images, train_labels)\r\n",
        "\r\n",
        "unique, counts = np.unique(undersampled_labels, return_counts=True)\r\n",
        "print(\"Benign samples: \", counts[0])\r\n",
        "print(\"Malign samples: \", counts[1])"
      ],
      "execution_count": null,
      "outputs": []
    },
    {
      "cell_type": "code",
      "metadata": {
        "id": "ssV_sLxeDTbn"
      },
      "source": [
        "# split dataset into training and validation set 70-30\r\n",
        "us_train_images_split, us_valid_images_split, us_train_labels_split, us_valid_labels_split = split_train_val(undersampled_images, undersampled_labels)  "
      ],
      "execution_count": null,
      "outputs": []
    },
    {
      "cell_type": "code",
      "metadata": {
        "id": "jBVVeXe2ZwdO",
        "colab": {
          "base_uri": "https://localhost:8080/"
        },
        "outputId": "37727429-ac8a-4459-c916-1d6ee0aeebc1"
      },
      "source": [
        "model_4 = build_model(\"binary_crossentropy\", \"acc\")\r\n",
        "\r\n",
        "#model_4.summary()\r\n",
        "\r\n",
        "history = model_4.fit(train_datagen.flow(us_train_images_split,\r\n",
        "                                       us_train_labels_split,\r\n",
        "                                       batch_size=BATCH_SIZE,\r\n",
        "                                       shuffle=False),\r\n",
        "                    steps_per_epoch=len(us_train_images_split) // BATCH_SIZE, \r\n",
        "                    epochs=EPOCHS,\r\n",
        "                    validation_data=valid_datagen.flow(us_valid_images_split,\r\n",
        "                                       us_valid_labels_split,\r\n",
        "                                       batch_size=BATCH_SIZE,\r\n",
        "                                       shuffle=False),\r\n",
        "                    validation_steps=len(us_valid_labels_split) // BATCH_SIZE)"
      ],
      "execution_count": null,
      "outputs": [
        {
          "output_type": "stream",
          "text": [
            "Epoch 1/100\n",
            "77/77 [==============================] - 4s 45ms/step - loss: 0.6968 - acc: 0.5490 - val_loss: 0.9380 - val_acc: 0.2773\n",
            "Epoch 2/100\n",
            "77/77 [==============================] - 3s 41ms/step - loss: 0.6788 - acc: 0.6116 - val_loss: 0.7726 - val_acc: 0.2773\n",
            "Epoch 3/100\n",
            "77/77 [==============================] - 3s 41ms/step - loss: 0.6734 - acc: 0.6172 - val_loss: 0.7856 - val_acc: 0.2773\n",
            "Epoch 4/100\n",
            "77/77 [==============================] - 3s 41ms/step - loss: 0.6753 - acc: 0.5918 - val_loss: 0.7211 - val_acc: 0.2833\n",
            "Epoch 5/100\n",
            "77/77 [==============================] - 3s 41ms/step - loss: 0.6700 - acc: 0.6050 - val_loss: 0.7919 - val_acc: 0.2788\n",
            "Epoch 6/100\n",
            "77/77 [==============================] - 3s 41ms/step - loss: 0.6656 - acc: 0.5972 - val_loss: 1.0215 - val_acc: 0.2773\n",
            "Epoch 7/100\n",
            "77/77 [==============================] - 3s 41ms/step - loss: 0.6634 - acc: 0.5906 - val_loss: 0.7570 - val_acc: 0.4348\n",
            "Epoch 8/100\n",
            "77/77 [==============================] - 3s 41ms/step - loss: 0.6542 - acc: 0.6170 - val_loss: 0.7323 - val_acc: 0.4864\n",
            "Epoch 9/100\n",
            "77/77 [==============================] - 3s 40ms/step - loss: 0.6579 - acc: 0.6130 - val_loss: 0.6285 - val_acc: 0.6576\n",
            "Epoch 10/100\n",
            "77/77 [==============================] - 3s 42ms/step - loss: 0.6434 - acc: 0.6388 - val_loss: 0.6658 - val_acc: 0.5985\n",
            "Epoch 11/100\n",
            "77/77 [==============================] - 3s 40ms/step - loss: 0.6372 - acc: 0.6434 - val_loss: 0.6440 - val_acc: 0.6364\n",
            "Epoch 12/100\n",
            "77/77 [==============================] - 3s 41ms/step - loss: 0.6423 - acc: 0.6033 - val_loss: 0.6697 - val_acc: 0.5864\n",
            "Epoch 13/100\n",
            "77/77 [==============================] - 3s 41ms/step - loss: 0.6369 - acc: 0.6260 - val_loss: 0.7882 - val_acc: 0.3697\n",
            "Epoch 14/100\n",
            "77/77 [==============================] - 3s 41ms/step - loss: 0.6399 - acc: 0.6180 - val_loss: 0.6979 - val_acc: 0.4939\n",
            "Epoch 15/100\n",
            "77/77 [==============================] - 3s 40ms/step - loss: 0.6527 - acc: 0.6159 - val_loss: 0.6457 - val_acc: 0.6697\n",
            "Epoch 16/100\n",
            "77/77 [==============================] - 3s 41ms/step - loss: 0.6496 - acc: 0.6292 - val_loss: 0.6764 - val_acc: 0.6015\n",
            "Epoch 17/100\n",
            "77/77 [==============================] - 3s 40ms/step - loss: 0.6374 - acc: 0.6260 - val_loss: 0.6177 - val_acc: 0.7000\n",
            "Epoch 18/100\n",
            "77/77 [==============================] - 3s 40ms/step - loss: 0.6319 - acc: 0.6294 - val_loss: 0.6354 - val_acc: 0.6606\n",
            "Epoch 19/100\n",
            "77/77 [==============================] - 3s 41ms/step - loss: 0.6418 - acc: 0.6170 - val_loss: 0.6889 - val_acc: 0.5682\n",
            "Epoch 20/100\n",
            "77/77 [==============================] - 3s 42ms/step - loss: 0.6203 - acc: 0.6403 - val_loss: 0.7351 - val_acc: 0.4803\n",
            "Epoch 21/100\n",
            "77/77 [==============================] - 3s 41ms/step - loss: 0.6346 - acc: 0.6286 - val_loss: 0.7700 - val_acc: 0.4970\n",
            "Epoch 22/100\n",
            "77/77 [==============================] - 3s 40ms/step - loss: 0.6173 - acc: 0.6618 - val_loss: 0.7451 - val_acc: 0.5076\n",
            "Epoch 23/100\n",
            "77/77 [==============================] - 3s 40ms/step - loss: 0.6282 - acc: 0.6280 - val_loss: 0.6682 - val_acc: 0.5939\n",
            "Epoch 24/100\n",
            "77/77 [==============================] - 3s 41ms/step - loss: 0.6188 - acc: 0.6405 - val_loss: 0.7226 - val_acc: 0.5394\n",
            "Epoch 25/100\n",
            "77/77 [==============================] - 3s 40ms/step - loss: 0.6258 - acc: 0.6416 - val_loss: 0.6420 - val_acc: 0.6485\n",
            "Epoch 26/100\n",
            "77/77 [==============================] - 3s 41ms/step - loss: 0.6340 - acc: 0.6295 - val_loss: 0.7296 - val_acc: 0.4682\n",
            "Epoch 27/100\n",
            "77/77 [==============================] - 3s 42ms/step - loss: 0.6019 - acc: 0.6641 - val_loss: 0.7111 - val_acc: 0.5364\n",
            "Epoch 28/100\n",
            "77/77 [==============================] - 3s 43ms/step - loss: 0.6210 - acc: 0.6530 - val_loss: 0.6800 - val_acc: 0.5727\n",
            "Epoch 29/100\n",
            "77/77 [==============================] - 3s 41ms/step - loss: 0.6150 - acc: 0.6597 - val_loss: 0.6914 - val_acc: 0.5833\n",
            "Epoch 30/100\n",
            "77/77 [==============================] - 3s 42ms/step - loss: 0.6376 - acc: 0.6163 - val_loss: 0.6654 - val_acc: 0.6227\n",
            "Epoch 31/100\n",
            "77/77 [==============================] - 3s 40ms/step - loss: 0.6365 - acc: 0.5976 - val_loss: 0.7094 - val_acc: 0.5818\n",
            "Epoch 32/100\n",
            "77/77 [==============================] - 3s 40ms/step - loss: 0.6309 - acc: 0.6212 - val_loss: 0.7350 - val_acc: 0.5379\n",
            "Epoch 33/100\n",
            "77/77 [==============================] - 3s 40ms/step - loss: 0.6114 - acc: 0.6562 - val_loss: 0.6545 - val_acc: 0.6152\n",
            "Epoch 34/100\n",
            "77/77 [==============================] - 3s 40ms/step - loss: 0.6180 - acc: 0.6442 - val_loss: 0.8330 - val_acc: 0.4652\n",
            "Epoch 35/100\n",
            "77/77 [==============================] - 3s 40ms/step - loss: 0.6169 - acc: 0.6445 - val_loss: 0.7691 - val_acc: 0.4167\n",
            "Epoch 36/100\n",
            "77/77 [==============================] - 3s 40ms/step - loss: 0.6334 - acc: 0.6241 - val_loss: 0.6911 - val_acc: 0.6045\n",
            "Epoch 37/100\n",
            "77/77 [==============================] - 3s 43ms/step - loss: 0.5803 - acc: 0.6690 - val_loss: 0.6183 - val_acc: 0.6727\n",
            "Epoch 38/100\n",
            "77/77 [==============================] - 3s 41ms/step - loss: 0.6258 - acc: 0.6198 - val_loss: 0.6966 - val_acc: 0.5848\n",
            "Epoch 39/100\n",
            "77/77 [==============================] - 3s 40ms/step - loss: 0.6024 - acc: 0.6509 - val_loss: 0.6423 - val_acc: 0.6242\n",
            "Epoch 40/100\n",
            "77/77 [==============================] - 3s 40ms/step - loss: 0.6071 - acc: 0.6555 - val_loss: 0.6727 - val_acc: 0.5970\n",
            "Epoch 41/100\n",
            "77/77 [==============================] - 3s 40ms/step - loss: 0.6314 - acc: 0.6238 - val_loss: 0.6592 - val_acc: 0.6121\n",
            "Epoch 42/100\n",
            "77/77 [==============================] - 3s 41ms/step - loss: 0.6059 - acc: 0.6572 - val_loss: 0.7386 - val_acc: 0.5212\n",
            "Epoch 43/100\n",
            "77/77 [==============================] - 3s 42ms/step - loss: 0.5899 - acc: 0.6749 - val_loss: 0.6748 - val_acc: 0.5833\n",
            "Epoch 44/100\n",
            "77/77 [==============================] - 3s 40ms/step - loss: 0.5917 - acc: 0.6599 - val_loss: 0.6610 - val_acc: 0.6182\n",
            "Epoch 45/100\n",
            "77/77 [==============================] - 3s 40ms/step - loss: 0.6241 - acc: 0.6538 - val_loss: 0.6427 - val_acc: 0.6485\n",
            "Epoch 46/100\n",
            "77/77 [==============================] - 3s 40ms/step - loss: 0.5985 - acc: 0.6627 - val_loss: 0.6585 - val_acc: 0.6167\n",
            "Epoch 47/100\n",
            "77/77 [==============================] - 3s 40ms/step - loss: 0.6288 - acc: 0.6397 - val_loss: 0.5820 - val_acc: 0.7212\n",
            "Epoch 48/100\n",
            "77/77 [==============================] - 3s 40ms/step - loss: 0.6155 - acc: 0.6315 - val_loss: 0.6761 - val_acc: 0.6197\n",
            "Epoch 49/100\n",
            "77/77 [==============================] - 3s 40ms/step - loss: 0.5943 - acc: 0.6710 - val_loss: 0.6157 - val_acc: 0.6803\n",
            "Epoch 50/100\n",
            "77/77 [==============================] - 3s 41ms/step - loss: 0.6021 - acc: 0.6451 - val_loss: 0.6531 - val_acc: 0.6197\n",
            "Epoch 51/100\n",
            "77/77 [==============================] - 3s 41ms/step - loss: 0.5971 - acc: 0.6427 - val_loss: 0.7459 - val_acc: 0.4818\n",
            "Epoch 52/100\n",
            "77/77 [==============================] - 3s 40ms/step - loss: 0.6145 - acc: 0.6440 - val_loss: 0.6796 - val_acc: 0.6152\n",
            "Epoch 53/100\n",
            "77/77 [==============================] - 3s 40ms/step - loss: 0.6266 - acc: 0.6302 - val_loss: 0.6786 - val_acc: 0.6045\n",
            "Epoch 54/100\n",
            "77/77 [==============================] - 3s 40ms/step - loss: 0.5902 - acc: 0.6418 - val_loss: 0.6067 - val_acc: 0.6955\n",
            "Epoch 55/100\n",
            "77/77 [==============================] - 3s 40ms/step - loss: 0.6055 - acc: 0.6398 - val_loss: 0.6038 - val_acc: 0.6970\n",
            "Epoch 56/100\n",
            "77/77 [==============================] - 3s 40ms/step - loss: 0.5948 - acc: 0.6814 - val_loss: 0.6401 - val_acc: 0.6364\n",
            "Epoch 57/100\n",
            "77/77 [==============================] - 3s 41ms/step - loss: 0.5856 - acc: 0.6719 - val_loss: 0.6311 - val_acc: 0.6515\n",
            "Epoch 58/100\n",
            "77/77 [==============================] - 3s 42ms/step - loss: 0.6006 - acc: 0.6429 - val_loss: 0.5820 - val_acc: 0.7061\n",
            "Epoch 59/100\n",
            "77/77 [==============================] - 3s 42ms/step - loss: 0.5916 - acc: 0.6667 - val_loss: 0.6404 - val_acc: 0.6197\n",
            "Epoch 60/100\n",
            "77/77 [==============================] - 3s 41ms/step - loss: 0.5997 - acc: 0.6497 - val_loss: 0.7133 - val_acc: 0.5530\n",
            "Epoch 61/100\n",
            "77/77 [==============================] - 3s 41ms/step - loss: 0.6063 - acc: 0.6375 - val_loss: 0.7435 - val_acc: 0.5303\n",
            "Epoch 62/100\n",
            "77/77 [==============================] - 3s 41ms/step - loss: 0.5835 - acc: 0.6738 - val_loss: 0.6665 - val_acc: 0.6152\n",
            "Epoch 63/100\n",
            "77/77 [==============================] - 3s 40ms/step - loss: 0.6199 - acc: 0.6444 - val_loss: 0.7452 - val_acc: 0.5045\n",
            "Epoch 64/100\n",
            "77/77 [==============================] - 3s 40ms/step - loss: 0.6213 - acc: 0.6345 - val_loss: 0.6216 - val_acc: 0.6636\n",
            "Epoch 65/100\n",
            "77/77 [==============================] - 3s 40ms/step - loss: 0.5982 - acc: 0.6492 - val_loss: 0.7448 - val_acc: 0.4864\n",
            "Epoch 66/100\n",
            "77/77 [==============================] - 3s 40ms/step - loss: 0.5770 - acc: 0.6779 - val_loss: 0.7348 - val_acc: 0.6258\n",
            "Epoch 67/100\n",
            "77/77 [==============================] - 3s 40ms/step - loss: 0.5963 - acc: 0.6534 - val_loss: 0.6702 - val_acc: 0.6227\n",
            "Epoch 68/100\n",
            "77/77 [==============================] - 3s 40ms/step - loss: 0.6057 - acc: 0.6257 - val_loss: 0.6879 - val_acc: 0.6561\n",
            "Epoch 69/100\n",
            "77/77 [==============================] - 3s 40ms/step - loss: 0.5749 - acc: 0.7004 - val_loss: 0.6610 - val_acc: 0.5985\n",
            "Epoch 70/100\n",
            "77/77 [==============================] - 3s 41ms/step - loss: 0.5990 - acc: 0.6497 - val_loss: 0.5925 - val_acc: 0.6712\n",
            "Epoch 71/100\n",
            "77/77 [==============================] - 3s 40ms/step - loss: 0.5975 - acc: 0.6646 - val_loss: 0.6769 - val_acc: 0.6212\n",
            "Epoch 72/100\n",
            "77/77 [==============================] - 3s 39ms/step - loss: 0.5734 - acc: 0.6773 - val_loss: 0.7523 - val_acc: 0.5045\n",
            "Epoch 73/100\n",
            "77/77 [==============================] - 3s 39ms/step - loss: 0.5861 - acc: 0.6795 - val_loss: 0.6281 - val_acc: 0.6470\n",
            "Epoch 74/100\n",
            "77/77 [==============================] - 3s 39ms/step - loss: 0.5923 - acc: 0.6721 - val_loss: 0.6081 - val_acc: 0.6742\n",
            "Epoch 75/100\n",
            "77/77 [==============================] - 3s 39ms/step - loss: 0.5999 - acc: 0.6461 - val_loss: 0.5840 - val_acc: 0.7091\n",
            "Epoch 76/100\n",
            "77/77 [==============================] - 3s 39ms/step - loss: 0.5876 - acc: 0.6727 - val_loss: 0.7586 - val_acc: 0.4833\n",
            "Epoch 77/100\n",
            "77/77 [==============================] - 3s 40ms/step - loss: 0.5808 - acc: 0.6534 - val_loss: 0.6988 - val_acc: 0.5848\n",
            "Epoch 78/100\n",
            "77/77 [==============================] - 3s 40ms/step - loss: 0.5856 - acc: 0.6895 - val_loss: 0.6890 - val_acc: 0.6182\n",
            "Epoch 79/100\n",
            "77/77 [==============================] - 3s 39ms/step - loss: 0.6049 - acc: 0.6551 - val_loss: 0.6385 - val_acc: 0.6652\n",
            "Epoch 80/100\n",
            "77/77 [==============================] - 3s 39ms/step - loss: 0.5727 - acc: 0.6776 - val_loss: 0.6450 - val_acc: 0.6273\n",
            "Epoch 81/100\n",
            "77/77 [==============================] - 3s 39ms/step - loss: 0.5827 - acc: 0.6694 - val_loss: 0.6770 - val_acc: 0.5742\n",
            "Epoch 82/100\n",
            "77/77 [==============================] - 3s 40ms/step - loss: 0.5872 - acc: 0.6793 - val_loss: 0.6560 - val_acc: 0.6394\n",
            "Epoch 83/100\n",
            "77/77 [==============================] - 3s 40ms/step - loss: 0.5675 - acc: 0.6837 - val_loss: 0.6024 - val_acc: 0.6758\n",
            "Epoch 84/100\n",
            "77/77 [==============================] - 3s 40ms/step - loss: 0.5954 - acc: 0.6674 - val_loss: 0.7262 - val_acc: 0.5773\n",
            "Epoch 85/100\n",
            "77/77 [==============================] - 3s 40ms/step - loss: 0.5720 - acc: 0.6717 - val_loss: 0.6231 - val_acc: 0.6682\n",
            "Epoch 86/100\n",
            "77/77 [==============================] - 3s 40ms/step - loss: 0.5858 - acc: 0.6540 - val_loss: 0.7217 - val_acc: 0.5424\n",
            "Epoch 87/100\n",
            "77/77 [==============================] - 3s 40ms/step - loss: 0.5752 - acc: 0.6753 - val_loss: 0.7467 - val_acc: 0.5288\n",
            "Epoch 88/100\n",
            "77/77 [==============================] - 3s 40ms/step - loss: 0.5876 - acc: 0.6925 - val_loss: 0.8193 - val_acc: 0.3773\n",
            "Epoch 89/100\n",
            "77/77 [==============================] - 3s 41ms/step - loss: 0.5717 - acc: 0.6841 - val_loss: 0.6604 - val_acc: 0.6303\n",
            "Epoch 90/100\n",
            "77/77 [==============================] - 3s 41ms/step - loss: 0.5698 - acc: 0.6885 - val_loss: 0.6288 - val_acc: 0.6530\n",
            "Epoch 91/100\n",
            "77/77 [==============================] - 3s 40ms/step - loss: 0.5791 - acc: 0.6808 - val_loss: 0.6009 - val_acc: 0.6879\n",
            "Epoch 92/100\n",
            "77/77 [==============================] - 3s 40ms/step - loss: 0.5839 - acc: 0.6904 - val_loss: 0.6320 - val_acc: 0.6606\n",
            "Epoch 93/100\n",
            "77/77 [==============================] - 3s 39ms/step - loss: 0.5944 - acc: 0.6693 - val_loss: 0.7756 - val_acc: 0.5606\n",
            "Epoch 94/100\n",
            "77/77 [==============================] - 3s 39ms/step - loss: 0.5807 - acc: 0.6994 - val_loss: 0.6683 - val_acc: 0.6621\n",
            "Epoch 95/100\n",
            "77/77 [==============================] - 3s 39ms/step - loss: 0.6025 - acc: 0.6789 - val_loss: 0.6298 - val_acc: 0.6530\n",
            "Epoch 96/100\n",
            "77/77 [==============================] - 3s 39ms/step - loss: 0.5976 - acc: 0.6728 - val_loss: 0.7307 - val_acc: 0.6106\n",
            "Epoch 97/100\n",
            "77/77 [==============================] - 3s 39ms/step - loss: 0.5651 - acc: 0.6934 - val_loss: 0.6567 - val_acc: 0.6485\n",
            "Epoch 98/100\n",
            "77/77 [==============================] - 3s 41ms/step - loss: 0.5867 - acc: 0.6820 - val_loss: 0.6820 - val_acc: 0.6470\n",
            "Epoch 99/100\n",
            "77/77 [==============================] - 3s 40ms/step - loss: 0.5672 - acc: 0.6858 - val_loss: 0.6876 - val_acc: 0.6121\n",
            "Epoch 100/100\n",
            "77/77 [==============================] - 3s 41ms/step - loss: 0.5793 - acc: 0.6523 - val_loss: 0.6187 - val_acc: 0.6485\n"
          ],
          "name": "stdout"
        }
      ]
    },
    {
      "cell_type": "code",
      "metadata": {
        "id": "ES1apqfZZxR2",
        "colab": {
          "base_uri": "https://localhost:8080/",
          "height": 545
        },
        "outputId": "1e5e0bb7-950b-4fda-cf43-6cd7b47ff95d"
      },
      "source": [
        "plt = plot(history)\r\n",
        "plt.show()"
      ],
      "execution_count": null,
      "outputs": [
        {
          "output_type": "display_data",
          "data": {
            "image/png": "[encoded data removed]",
            "text/plain": [
              "<Figure size 432x288 with 1 Axes>"
            ]
          },
          "metadata": {
            "tags": [],
            "needs_background": "light"
          }
        },
        {
          "output_type": "display_data",
          "data": {
            "image/png": "[encoded data removed]",
            "text/plain": [
              "<Figure size 432x288 with 1 Axes>"
            ]
          },
          "metadata": {
            "tags": [],
            "needs_background": "light"
          }
        }
      ]
    },
    {
      "cell_type": "code",
      "metadata": {
        "id": "sq4zMZfpZ2tt",
        "colab": {
          "base_uri": "https://localhost:8080/"
        },
        "outputId": "bf91a896-de13-4b29-8659-b0209c9eff9a"
      },
      "source": [
        "test_loss, test_acc = model_4.evaluate(test_datagen.flow(test_images,\r\n",
        "                                                       test_labels,\r\n",
        "                                                       batch_size=BATCH_SIZE,\r\n",
        "                                                       shuffle=False),\r\n",
        "                                     steps=len(test_images) // BATCH_SIZE\r\n",
        ")\r\n",
        "\r\n",
        "print(test_acc)"
      ],
      "execution_count": null,
      "outputs": [
        {
          "output_type": "stream",
          "text": [
            "16/16 [==============================] - 0s 5ms/step - loss: 0.6280 - acc: 0.6250\n",
            "0.625\n"
          ],
          "name": "stdout"
        }
      ]
    },
    {
      "cell_type": "code",
      "metadata": {
        "id": "EKsh2CiyZ5mN",
        "colab": {
          "base_uri": "https://localhost:8080/",
          "height": 481
        },
        "outputId": "34ba21e9-a787-4423-f172-297805a3a45b"
      },
      "source": [
        "plot_confusion_matrix(model_4,\r\n",
        "                      classes,\r\n",
        "                      test_images,\r\n",
        "                      test_labels,\r\n",
        "                      title='Confusion matrix',\r\n",
        "                      cmap=plt.cm.Blues)  "
      ],
      "execution_count": null,
      "outputs": [
        {
          "output_type": "stream",
          "text": [
            "Confusion Matrix\n",
            "              precision    recall  f1-score   support\n",
            "\n",
            "         0.0       0.76      0.59      0.66       219\n",
            "         1.0       0.46      0.66      0.54       117\n",
            "\n",
            "    accuracy                           0.61       336\n",
            "   macro avg       0.61      0.62      0.60       336\n",
            "weighted avg       0.66      0.61      0.62       336\n",
            "\n"
          ],
          "name": "stdout"
        },
        {
          "output_type": "display_data",
          "data": {
            "image/png": "[encoded data removed]",
            "text/plain": [
              "<Figure size 432x288 with 2 Axes>"
            ]
          },
          "metadata": {
            "tags": [],
            "needs_background": "light"
          }
        }
      ]
    },
    {
      "cell_type": "code",
      "metadata": {
        "colab": {
          "base_uri": "https://localhost:8080/",
          "height": 295
        },
        "id": "gO-N_h2JSmsi",
        "outputId": "035093a9-1033-43db-8fbd-b5e8f63c2be6"
      },
      "source": [
        "plot_AUC(model_4, test_images, test_labels)"
      ],
      "execution_count": null,
      "outputs": [
        {
          "output_type": "display_data",
          "data": {
            "image/png": "[encoded data removed]",
            "text/plain": [
              "<Figure size 432x288 with 1 Axes>"
            ]
          },
          "metadata": {
            "tags": [],
            "needs_background": "light"
          }
        }
      ]
    },
    {
      "cell_type": "markdown",
      "metadata": {
        "id": "oWnZZKs3aDuf"
      },
      "source": [
        "##5.Oversampling + data augmentation."
      ]
    },
    {
      "cell_type": "markdown",
      "metadata": {
        "id": "uhpdKL4DJ18u"
      },
      "source": [
        "![img](https://i0.wp.com/dataaspirant.com/wp-content/uploads/2020/08/10-oversampling.png?resize=768%2C407&ssl=1)"
      ]
    },
    {
      "cell_type": "code",
      "metadata": {
        "id": "PwzkT8BJN70_"
      },
      "source": [
        "#oversampling\r\n",
        "def oversample(dataset, labels):\r\n",
        "  unique, counts = np.unique(labels, return_counts=True)\r\n",
        "\r\n",
        "  num_elems = np.max(counts) - np.min(counts)  \r\n",
        "  zipped = list(zip(dataset, labels))\r\n",
        "\r\n",
        "  oversampled_images = np.zeros((np.max(counts)*2,) +  dataset[0].shape) #(np.max(counts)*2, 150, 150, 1)\r\n",
        "  oversampled_labels = np.zeros((np.max(counts)*2,))                     #(np.max(counts)*2, )\r\n",
        "\r\n",
        "  #Benign samples:  1568\r\n",
        "  #Malign samples:  1108\r\n",
        "\r\n",
        "  i = 0\r\n",
        "  benign_count = 0\r\n",
        "  malign_count = 0\r\n",
        "  malign_indexes = []\r\n",
        "  for image, label in zipped:\r\n",
        "    if label == 0 and benign_count < 1568:\r\n",
        "      oversampled_images[i] = image \r\n",
        "      oversampled_labels[i] = label \r\n",
        "      benign_count += 1\r\n",
        "      i += 1\r\n",
        "\r\n",
        "    elif label == 1 and malign_count < 1108:\r\n",
        "      oversampled_images[i] = image \r\n",
        "      oversampled_labels[i] = label \r\n",
        "      malign_count += 1\r\n",
        "      malign_indexes.append(i)\r\n",
        "      i += 1\r\n",
        "\r\n",
        "    if malign_count == 1108:\r\n",
        "      #generate array with [num_elems] random values in range [0, len(malign_indexes)]\r\n",
        "      rands = np.random.randint(0, len(malign_indexes), num_elems)\r\n",
        "\r\n",
        "      for value in rands:\r\n",
        "        oversampled_images[i] = oversampled_images[value]\r\n",
        "        oversampled_labels[i] = 1 \r\n",
        "        i += 1\r\n",
        "      break\r\n",
        "\r\n",
        "  #print(oversampled_images.shape)\r\n",
        "  #print(oversampled_labels.shape)\r\n",
        "\r\n",
        "  return oversampled_images, oversampled_labels\r\n",
        "  \r\n",
        "\r\n",
        "oversampled_images, oversampled_labels = oversample(train_images, train_labels)"
      ],
      "execution_count": null,
      "outputs": []
    },
    {
      "cell_type": "code",
      "metadata": {
        "colab": {
          "base_uri": "https://localhost:8080/"
        },
        "id": "EcD5xqNeXudc",
        "outputId": "67a119e6-78b4-4f69-a56c-b9cb5a64c8ce"
      },
      "source": [
        "unique, counts = np.unique(oversampled_labels, return_counts=True)\r\n",
        "print(unique, counts)"
      ],
      "execution_count": null,
      "outputs": [
        {
          "output_type": "stream",
          "text": [
            "[0. 1.] [1568 1568]\n"
          ],
          "name": "stdout"
        }
      ]
    },
    {
      "cell_type": "code",
      "metadata": {
        "colab": {
          "base_uri": "https://localhost:8080/"
        },
        "id": "IkWC0sbWY6g1",
        "outputId": "bc6f5015-bfa5-4de5-8521-fc02c8b47081"
      },
      "source": [
        "# split dataset into training and validation set 70-30\r\n",
        "train_images_split, valid_images_split, train_labels_split, valid_labels_split = split_train_val(oversampled_images, oversampled_labels)  "
      ],
      "execution_count": null,
      "outputs": [
        {
          "output_type": "stream",
          "text": [
            "(2195, 150, 150, 1)\n",
            "(941, 150, 150, 1)\n",
            "(2195,)\n",
            "(941,)\n"
          ],
          "name": "stdout"
        }
      ]
    },
    {
      "cell_type": "code",
      "metadata": {
        "id": "IBrWT-AWIfT1",
        "colab": {
          "base_uri": "https://localhost:8080/"
        },
        "outputId": "9129458f-931c-4edc-dff0-59aa70f97300"
      },
      "source": [
        "model_5 = build_model(\"binary_crossentropy\", \"acc\")\r\n",
        "\r\n",
        "#model_5.summary()\r\n",
        "\r\n",
        "history = model_5.fit(train_datagen.flow(train_images_split,\r\n",
        "                                       train_labels_split,\r\n",
        "                                       batch_size=BATCH_SIZE,\r\n",
        "                                       shuffle=False),\r\n",
        "                    steps_per_epoch=len(train_images_split) // BATCH_SIZE, \r\n",
        "                    epochs=EPOCHS,\r\n",
        "                    validation_data=valid_datagen.flow(valid_images_split,\r\n",
        "                                       valid_labels_split,\r\n",
        "                                       batch_size=BATCH_SIZE,\r\n",
        "                                       shuffle=False),\r\n",
        "                    validation_steps=len(valid_labels_split) // BATCH_SIZE)"
      ],
      "execution_count": null,
      "outputs": [
        {
          "output_type": "stream",
          "text": [
            "Epoch 1/100\n",
            "109/109 [==============================] - 5s 43ms/step - loss: 0.6852 - acc: 0.5853 - val_loss: 0.8898 - val_acc: 0.2862\n",
            "Epoch 2/100\n",
            "109/109 [==============================] - 4s 41ms/step - loss: 0.6891 - acc: 0.5859 - val_loss: 0.8044 - val_acc: 0.2862\n",
            "Epoch 3/100\n",
            "109/109 [==============================] - 4s 41ms/step - loss: 0.6835 - acc: 0.5806 - val_loss: 0.8863 - val_acc: 0.2862\n",
            "Epoch 4/100\n",
            "109/109 [==============================] - 4s 41ms/step - loss: 0.6685 - acc: 0.5899 - val_loss: 0.7590 - val_acc: 0.4234\n",
            "Epoch 5/100\n",
            "109/109 [==============================] - 5s 42ms/step - loss: 0.6649 - acc: 0.6026 - val_loss: 0.9489 - val_acc: 0.2936\n",
            "Epoch 6/100\n",
            "109/109 [==============================] - 4s 41ms/step - loss: 0.6507 - acc: 0.6257 - val_loss: 0.7189 - val_acc: 0.5053\n",
            "Epoch 7/100\n",
            "109/109 [==============================] - 4s 41ms/step - loss: 0.6397 - acc: 0.6374 - val_loss: 0.8504 - val_acc: 0.3447\n",
            "Epoch 8/100\n",
            "109/109 [==============================] - 4s 41ms/step - loss: 0.6400 - acc: 0.6314 - val_loss: 0.6745 - val_acc: 0.6255\n",
            "Epoch 9/100\n",
            "109/109 [==============================] - 4s 40ms/step - loss: 0.6347 - acc: 0.6210 - val_loss: 0.9458 - val_acc: 0.3234\n",
            "Epoch 10/100\n",
            "109/109 [==============================] - 4s 40ms/step - loss: 0.6380 - acc: 0.6307 - val_loss: 0.7382 - val_acc: 0.5436\n",
            "Epoch 11/100\n",
            "109/109 [==============================] - 5s 41ms/step - loss: 0.6284 - acc: 0.6405 - val_loss: 0.8140 - val_acc: 0.4713\n",
            "Epoch 12/100\n",
            "109/109 [==============================] - 5s 42ms/step - loss: 0.6399 - acc: 0.6231 - val_loss: 0.8520 - val_acc: 0.4755\n",
            "Epoch 13/100\n",
            "109/109 [==============================] - 5s 43ms/step - loss: 0.6317 - acc: 0.6384 - val_loss: 0.7634 - val_acc: 0.4830\n",
            "Epoch 14/100\n",
            "109/109 [==============================] - 5s 43ms/step - loss: 0.6366 - acc: 0.6225 - val_loss: 0.6809 - val_acc: 0.6181\n",
            "Epoch 15/100\n",
            "109/109 [==============================] - 5s 43ms/step - loss: 0.6125 - acc: 0.6609 - val_loss: 0.7447 - val_acc: 0.4840\n",
            "Epoch 16/100\n",
            "109/109 [==============================] - 4s 41ms/step - loss: 0.6213 - acc: 0.6422 - val_loss: 0.7264 - val_acc: 0.5543\n",
            "Epoch 17/100\n",
            "109/109 [==============================] - 5s 41ms/step - loss: 0.6132 - acc: 0.6459 - val_loss: 0.7330 - val_acc: 0.5681\n",
            "Epoch 18/100\n",
            "109/109 [==============================] - 4s 41ms/step - loss: 0.6262 - acc: 0.6422 - val_loss: 0.6747 - val_acc: 0.6298\n",
            "Epoch 19/100\n",
            "109/109 [==============================] - 4s 41ms/step - loss: 0.6182 - acc: 0.6393 - val_loss: 0.6794 - val_acc: 0.6277\n",
            "Epoch 20/100\n",
            "109/109 [==============================] - 4s 40ms/step - loss: 0.6291 - acc: 0.6466 - val_loss: 0.7296 - val_acc: 0.5840\n",
            "Epoch 21/100\n",
            "109/109 [==============================] - 4s 41ms/step - loss: 0.6383 - acc: 0.6271 - val_loss: 0.7258 - val_acc: 0.5702\n",
            "Epoch 22/100\n",
            "109/109 [==============================] - 5s 42ms/step - loss: 0.6095 - acc: 0.6531 - val_loss: 0.7369 - val_acc: 0.5777\n",
            "Epoch 23/100\n",
            "109/109 [==============================] - 4s 41ms/step - loss: 0.6135 - acc: 0.6426 - val_loss: 0.8012 - val_acc: 0.4702\n",
            "Epoch 24/100\n",
            "109/109 [==============================] - 4s 41ms/step - loss: 0.6152 - acc: 0.6551 - val_loss: 0.8747 - val_acc: 0.4351\n",
            "Epoch 25/100\n",
            "109/109 [==============================] - 4s 41ms/step - loss: 0.6090 - acc: 0.6635 - val_loss: 0.8121 - val_acc: 0.5117\n",
            "Epoch 26/100\n",
            "109/109 [==============================] - 4s 40ms/step - loss: 0.6168 - acc: 0.6487 - val_loss: 0.7967 - val_acc: 0.5574\n",
            "Epoch 27/100\n",
            "109/109 [==============================] - 4s 40ms/step - loss: 0.6119 - acc: 0.6585 - val_loss: 0.7234 - val_acc: 0.5819\n",
            "Epoch 28/100\n",
            "109/109 [==============================] - 4s 40ms/step - loss: 0.6089 - acc: 0.6448 - val_loss: 0.7455 - val_acc: 0.6277\n",
            "Epoch 29/100\n",
            "109/109 [==============================] - 4s 40ms/step - loss: 0.6250 - acc: 0.6396 - val_loss: 0.8393 - val_acc: 0.4947\n",
            "Epoch 30/100\n",
            "109/109 [==============================] - 4s 40ms/step - loss: 0.5969 - acc: 0.6441 - val_loss: 0.8411 - val_acc: 0.5064\n",
            "Epoch 31/100\n",
            "109/109 [==============================] - 4s 40ms/step - loss: 0.6022 - acc: 0.6525 - val_loss: 0.7800 - val_acc: 0.5617\n",
            "Epoch 32/100\n",
            "109/109 [==============================] - 4s 40ms/step - loss: 0.6025 - acc: 0.6737 - val_loss: 0.8389 - val_acc: 0.4809\n",
            "Epoch 33/100\n",
            "109/109 [==============================] - 4s 40ms/step - loss: 0.6062 - acc: 0.6626 - val_loss: 0.7426 - val_acc: 0.5862\n",
            "Epoch 34/100\n",
            "109/109 [==============================] - 4s 40ms/step - loss: 0.6083 - acc: 0.6505 - val_loss: 0.8157 - val_acc: 0.4851\n",
            "Epoch 35/100\n",
            "109/109 [==============================] - 4s 40ms/step - loss: 0.6087 - acc: 0.6622 - val_loss: 0.7689 - val_acc: 0.5660\n",
            "Epoch 36/100\n",
            "109/109 [==============================] - 4s 40ms/step - loss: 0.5997 - acc: 0.6667 - val_loss: 0.7893 - val_acc: 0.5968\n",
            "Epoch 37/100\n",
            "109/109 [==============================] - 4s 41ms/step - loss: 0.6085 - acc: 0.6665 - val_loss: 0.8650 - val_acc: 0.5500\n",
            "Epoch 38/100\n",
            "109/109 [==============================] - 4s 40ms/step - loss: 0.5916 - acc: 0.6661 - val_loss: 0.9529 - val_acc: 0.4096\n",
            "Epoch 39/100\n",
            "109/109 [==============================] - 4s 41ms/step - loss: 0.5943 - acc: 0.6643 - val_loss: 0.7695 - val_acc: 0.5606\n",
            "Epoch 40/100\n",
            "109/109 [==============================] - 4s 41ms/step - loss: 0.5971 - acc: 0.6706 - val_loss: 0.8746 - val_acc: 0.4777\n",
            "Epoch 41/100\n",
            "109/109 [==============================] - 4s 40ms/step - loss: 0.5935 - acc: 0.6639 - val_loss: 0.7647 - val_acc: 0.5819\n",
            "Epoch 42/100\n",
            "109/109 [==============================] - 4s 41ms/step - loss: 0.5921 - acc: 0.6666 - val_loss: 0.8458 - val_acc: 0.5362\n",
            "Epoch 43/100\n",
            "109/109 [==============================] - 4s 41ms/step - loss: 0.5911 - acc: 0.6612 - val_loss: 0.9393 - val_acc: 0.4872\n",
            "Epoch 44/100\n",
            "109/109 [==============================] - 4s 40ms/step - loss: 0.6002 - acc: 0.6562 - val_loss: 0.9562 - val_acc: 0.4564\n",
            "Epoch 45/100\n",
            "109/109 [==============================] - 4s 40ms/step - loss: 0.5916 - acc: 0.6801 - val_loss: 0.7691 - val_acc: 0.5564\n",
            "Epoch 46/100\n",
            "109/109 [==============================] - 4s 40ms/step - loss: 0.6190 - acc: 0.6526 - val_loss: 0.8270 - val_acc: 0.5617\n",
            "Epoch 47/100\n",
            "109/109 [==============================] - 4s 40ms/step - loss: 0.5806 - acc: 0.6779 - val_loss: 0.8658 - val_acc: 0.4617\n",
            "Epoch 48/100\n",
            "109/109 [==============================] - 4s 41ms/step - loss: 0.5854 - acc: 0.6641 - val_loss: 0.9896 - val_acc: 0.3989\n",
            "Epoch 49/100\n",
            "109/109 [==============================] - 4s 41ms/step - loss: 0.5954 - acc: 0.6657 - val_loss: 0.8445 - val_acc: 0.5553\n",
            "Epoch 50/100\n",
            "109/109 [==============================] - 4s 40ms/step - loss: 0.5949 - acc: 0.6655 - val_loss: 1.1655 - val_acc: 0.4117\n",
            "Epoch 51/100\n",
            "109/109 [==============================] - 4s 40ms/step - loss: 0.6095 - acc: 0.6518 - val_loss: 0.8360 - val_acc: 0.4819\n",
            "Epoch 52/100\n",
            "109/109 [==============================] - 4s 40ms/step - loss: 0.5942 - acc: 0.6730 - val_loss: 0.9026 - val_acc: 0.4904\n",
            "Epoch 53/100\n",
            "109/109 [==============================] - 4s 40ms/step - loss: 0.5838 - acc: 0.6963 - val_loss: 0.7211 - val_acc: 0.6457\n",
            "Epoch 54/100\n",
            "109/109 [==============================] - 4s 40ms/step - loss: 0.5805 - acc: 0.6932 - val_loss: 0.8633 - val_acc: 0.5426\n",
            "Epoch 55/100\n",
            "109/109 [==============================] - 4s 41ms/step - loss: 0.6084 - acc: 0.6484 - val_loss: 0.7995 - val_acc: 0.5926\n",
            "Epoch 56/100\n",
            "109/109 [==============================] - 4s 41ms/step - loss: 0.5785 - acc: 0.6871 - val_loss: 0.8495 - val_acc: 0.5383\n",
            "Epoch 57/100\n",
            "109/109 [==============================] - 5s 42ms/step - loss: 0.5838 - acc: 0.6641 - val_loss: 0.9710 - val_acc: 0.4798\n",
            "Epoch 58/100\n",
            "109/109 [==============================] - 4s 41ms/step - loss: 0.6159 - acc: 0.6650 - val_loss: 0.9732 - val_acc: 0.4968\n",
            "Epoch 59/100\n",
            "109/109 [==============================] - 4s 41ms/step - loss: 0.6086 - acc: 0.6594 - val_loss: 0.7902 - val_acc: 0.6085\n",
            "Epoch 60/100\n",
            "109/109 [==============================] - 4s 40ms/step - loss: 0.5916 - acc: 0.6832 - val_loss: 0.8688 - val_acc: 0.5234\n",
            "Epoch 61/100\n",
            "109/109 [==============================] - 4s 41ms/step - loss: 0.5842 - acc: 0.6685 - val_loss: 0.7764 - val_acc: 0.5702\n",
            "Epoch 62/100\n",
            "109/109 [==============================] - 4s 40ms/step - loss: 0.5853 - acc: 0.6871 - val_loss: 0.9203 - val_acc: 0.4628\n",
            "Epoch 63/100\n",
            "109/109 [==============================] - 4s 41ms/step - loss: 0.5974 - acc: 0.6728 - val_loss: 0.8300 - val_acc: 0.5245\n",
            "Epoch 64/100\n",
            "109/109 [==============================] - 4s 40ms/step - loss: 0.5879 - acc: 0.6962 - val_loss: 0.9174 - val_acc: 0.5415\n",
            "Epoch 65/100\n",
            "109/109 [==============================] - 5s 41ms/step - loss: 0.5810 - acc: 0.6836 - val_loss: 0.9059 - val_acc: 0.5011\n",
            "Epoch 66/100\n",
            "109/109 [==============================] - 5s 42ms/step - loss: 0.5851 - acc: 0.6806 - val_loss: 0.9108 - val_acc: 0.5202\n",
            "Epoch 67/100\n",
            "109/109 [==============================] - 4s 41ms/step - loss: 0.5774 - acc: 0.6646 - val_loss: 0.8513 - val_acc: 0.5585\n",
            "Epoch 68/100\n",
            "109/109 [==============================] - 5s 41ms/step - loss: 0.5993 - acc: 0.6546 - val_loss: 0.9417 - val_acc: 0.4628\n",
            "Epoch 69/100\n",
            "109/109 [==============================] - 4s 40ms/step - loss: 0.5937 - acc: 0.6747 - val_loss: 0.9393 - val_acc: 0.5255\n",
            "Epoch 70/100\n",
            "109/109 [==============================] - 4s 40ms/step - loss: 0.5950 - acc: 0.6762 - val_loss: 0.8300 - val_acc: 0.4936\n",
            "Epoch 71/100\n",
            "109/109 [==============================] - 4s 40ms/step - loss: 0.5764 - acc: 0.6825 - val_loss: 0.7721 - val_acc: 0.5564\n",
            "Epoch 72/100\n",
            "109/109 [==============================] - 5s 42ms/step - loss: 0.5903 - acc: 0.6864 - val_loss: 0.8908 - val_acc: 0.5191\n",
            "Epoch 73/100\n",
            "109/109 [==============================] - 4s 40ms/step - loss: 0.5841 - acc: 0.6773 - val_loss: 0.8301 - val_acc: 0.5543\n",
            "Epoch 74/100\n",
            "109/109 [==============================] - 4s 40ms/step - loss: 0.5974 - acc: 0.6703 - val_loss: 0.9083 - val_acc: 0.5202\n",
            "Epoch 75/100\n",
            "109/109 [==============================] - 4s 40ms/step - loss: 0.5811 - acc: 0.6787 - val_loss: 0.7358 - val_acc: 0.6181\n",
            "Epoch 76/100\n",
            "109/109 [==============================] - 4s 40ms/step - loss: 0.5962 - acc: 0.6672 - val_loss: 0.8751 - val_acc: 0.5117\n",
            "Epoch 77/100\n",
            "109/109 [==============================] - 4s 40ms/step - loss: 0.5880 - acc: 0.6791 - val_loss: 0.8488 - val_acc: 0.5787\n",
            "Epoch 78/100\n",
            "109/109 [==============================] - 4s 40ms/step - loss: 0.5845 - acc: 0.6654 - val_loss: 1.0449 - val_acc: 0.4521\n",
            "Epoch 79/100\n",
            "109/109 [==============================] - 4s 41ms/step - loss: 0.6012 - acc: 0.6673 - val_loss: 0.7900 - val_acc: 0.5181\n",
            "Epoch 80/100\n",
            "109/109 [==============================] - 5s 42ms/step - loss: 0.5896 - acc: 0.6589 - val_loss: 0.9275 - val_acc: 0.5096\n",
            "Epoch 81/100\n",
            "109/109 [==============================] - 5s 42ms/step - loss: 0.5750 - acc: 0.6808 - val_loss: 0.7752 - val_acc: 0.6489\n",
            "Epoch 82/100\n",
            "109/109 [==============================] - 4s 41ms/step - loss: 0.5940 - acc: 0.6711 - val_loss: 0.8455 - val_acc: 0.5830\n",
            "Epoch 83/100\n",
            "109/109 [==============================] - 4s 41ms/step - loss: 0.5691 - acc: 0.6866 - val_loss: 0.8242 - val_acc: 0.4862\n",
            "Epoch 84/100\n",
            "109/109 [==============================] - 4s 40ms/step - loss: 0.5626 - acc: 0.6901 - val_loss: 0.8539 - val_acc: 0.5340\n",
            "Epoch 85/100\n",
            "109/109 [==============================] - 4s 41ms/step - loss: 0.5808 - acc: 0.6823 - val_loss: 1.0419 - val_acc: 0.4819\n",
            "Epoch 86/100\n",
            "109/109 [==============================] - 4s 40ms/step - loss: 0.5663 - acc: 0.6804 - val_loss: 0.8470 - val_acc: 0.5128\n",
            "Epoch 87/100\n",
            "109/109 [==============================] - 4s 40ms/step - loss: 0.5798 - acc: 0.6678 - val_loss: 0.9790 - val_acc: 0.4564\n",
            "Epoch 88/100\n",
            "109/109 [==============================] - 4s 41ms/step - loss: 0.5700 - acc: 0.6985 - val_loss: 0.8948 - val_acc: 0.5160\n",
            "Epoch 89/100\n",
            "109/109 [==============================] - 4s 41ms/step - loss: 0.5792 - acc: 0.6729 - val_loss: 0.9330 - val_acc: 0.4947\n",
            "Epoch 90/100\n",
            "109/109 [==============================] - 4s 41ms/step - loss: 0.5768 - acc: 0.6691 - val_loss: 0.9752 - val_acc: 0.5245\n",
            "Epoch 91/100\n",
            "109/109 [==============================] - 4s 41ms/step - loss: 0.5844 - acc: 0.6589 - val_loss: 0.8343 - val_acc: 0.5851\n",
            "Epoch 92/100\n",
            "109/109 [==============================] - 4s 40ms/step - loss: 0.5818 - acc: 0.6738 - val_loss: 0.9502 - val_acc: 0.5543\n",
            "Epoch 93/100\n",
            "109/109 [==============================] - 4s 41ms/step - loss: 0.5636 - acc: 0.6933 - val_loss: 0.8754 - val_acc: 0.5149\n",
            "Epoch 94/100\n",
            "109/109 [==============================] - 4s 40ms/step - loss: 0.5963 - acc: 0.6712 - val_loss: 1.0353 - val_acc: 0.5032\n",
            "Epoch 95/100\n",
            "109/109 [==============================] - 4s 40ms/step - loss: 0.5688 - acc: 0.6834 - val_loss: 0.9784 - val_acc: 0.5777\n",
            "Epoch 96/100\n",
            "109/109 [==============================] - 4s 41ms/step - loss: 0.5594 - acc: 0.7234 - val_loss: 1.0500 - val_acc: 0.5011\n",
            "Epoch 97/100\n",
            "109/109 [==============================] - 4s 41ms/step - loss: 0.5872 - acc: 0.6775 - val_loss: 0.9847 - val_acc: 0.4511\n",
            "Epoch 98/100\n",
            "109/109 [==============================] - 5s 43ms/step - loss: 0.5621 - acc: 0.6908 - val_loss: 0.8613 - val_acc: 0.5309\n",
            "Epoch 99/100\n",
            "109/109 [==============================] - 5s 42ms/step - loss: 0.5723 - acc: 0.6827 - val_loss: 0.7509 - val_acc: 0.5766\n",
            "Epoch 100/100\n",
            "109/109 [==============================] - 4s 41ms/step - loss: 0.5797 - acc: 0.6644 - val_loss: 0.9929 - val_acc: 0.4436\n"
          ],
          "name": "stdout"
        }
      ]
    },
    {
      "cell_type": "code",
      "metadata": {
        "colab": {
          "base_uri": "https://localhost:8080/",
          "height": 545
        },
        "id": "4Cv01NtHX5un",
        "outputId": "ba8c9a99-67ce-456d-f7e5-86e3b35c9910"
      },
      "source": [
        "plt = plot(history)\r\n",
        "plt.show()"
      ],
      "execution_count": null,
      "outputs": [
        {
          "output_type": "display_data",
          "data": {
            "image/png": "[encoded data removed]",
            "text/plain": [
              "<Figure size 432x288 with 1 Axes>"
            ]
          },
          "metadata": {
            "tags": [],
            "needs_background": "light"
          }
        },
        {
          "output_type": "display_data",
          "data": {
            "image/png": "[encoded data removed]",
            "text/plain": [
              "<Figure size 432x288 with 1 Axes>"
            ]
          },
          "metadata": {
            "tags": [],
            "needs_background": "light"
          }
        }
      ]
    },
    {
      "cell_type": "code",
      "metadata": {
        "colab": {
          "base_uri": "https://localhost:8080/",
          "height": 481
        },
        "id": "mIuEKUA-YDDm",
        "outputId": "d8239412-91ed-4a39-d2ef-110850c73315"
      },
      "source": [
        "plot_confusion_matrix(model_5,\r\n",
        "                      classes,\r\n",
        "                      test_images,\r\n",
        "                      test_labels,\r\n",
        "                      title='Confusion matrix',\r\n",
        "                      cmap=plt.cm.Blues)  "
      ],
      "execution_count": null,
      "outputs": [
        {
          "output_type": "stream",
          "text": [
            "Confusion Matrix\n",
            "              precision    recall  f1-score   support\n",
            "\n",
            "         0.0       0.71      0.83      0.77       219\n",
            "         1.0       0.54      0.38      0.44       117\n",
            "\n",
            "    accuracy                           0.67       336\n",
            "   macro avg       0.62      0.60      0.60       336\n",
            "weighted avg       0.65      0.67      0.65       336\n",
            "\n"
          ],
          "name": "stdout"
        },
        {
          "output_type": "display_data",
          "data": {
            "image/png": "[encoded data removed]",
            "text/plain": [
              "<Figure size 432x288 with 2 Axes>"
            ]
          },
          "metadata": {
            "tags": [],
            "needs_background": "light"
          }
        }
      ]
    },
    {
      "cell_type": "code",
      "metadata": {
        "colab": {
          "base_uri": "https://localhost:8080/",
          "height": 295
        },
        "id": "v288ja3pZYKF",
        "outputId": "f4a09888-4daf-46ea-c3df-5bdc1e7f75d3"
      },
      "source": [
        "plot_AUC(model_5, test_images, test_labels)"
      ],
      "execution_count": null,
      "outputs": [
        {
          "output_type": "display_data",
          "data": {
            "image/png": "[encoded data removed]",
            "text/plain": [
              "<Figure size 432x288 with 1 Axes>"
            ]
          },
          "metadata": {
            "tags": [],
            "needs_background": "light"
          }
        }
      ]
    },
    {
      "cell_type": "markdown",
      "metadata": {
        "id": "AwiwBUIUgJWF"
      },
      "source": [
        "##6.Minority Class Oversampling through data augmentation."
      ]
    },
    {
      "cell_type": "code",
      "metadata": {
        "colab": {
          "base_uri": "https://localhost:8080/"
        },
        "id": "75QncViQ0Vhy",
        "outputId": "71331dd7-d9b7-470a-9bc9-a30c47b70e19"
      },
      "source": [
        "# split dataset into training and validation set 70-30\r\n",
        "train_images_split, valid_images_split, train_labels_split, valid_labels_split = split_train_val(train_images, train_labels)  "
      ],
      "execution_count": null,
      "outputs": [
        {
          "output_type": "stream",
          "text": [
            "(1873, 150, 150, 1)\n",
            "(803, 150, 150, 1)\n",
            "(1873,)\n",
            "(803,)\n"
          ],
          "name": "stdout"
        }
      ]
    },
    {
      "cell_type": "code",
      "metadata": {
        "colab": {
          "base_uri": "https://localhost:8080/"
        },
        "id": "vQy6GXPICCLC",
        "outputId": "cb4b7100-1d27-44e5-daf4-ac3d2f32271b"
      },
      "source": [
        "unique, counts = np.unique(train_labels_split, return_counts=True)\r\n",
        "print(unique, counts)"
      ],
      "execution_count": null,
      "outputs": [
        {
          "output_type": "stream",
          "text": [
            "[0. 1.] [1116  757]\n"
          ],
          "name": "stdout"
        }
      ]
    },
    {
      "cell_type": "code",
      "metadata": {
        "id": "VYkMHYLv8N-v"
      },
      "source": [
        "# Need Train data augmentation without rescaling (rescale all data before training) \r\n",
        "train_datagen = ImageDataGenerator(\r\n",
        "    #rescale=1./65535,\r\n",
        "    rotation_range=20,\r\n",
        "    width_shift_range=0.1,\r\n",
        "    height_shift_range=0.1,\r\n",
        "    shear_range=20,\r\n",
        "    zoom_range=0.2,\r\n",
        "    horizontal_flip=True,\r\n",
        "    fill_mode='nearest')"
      ],
      "execution_count": null,
      "outputs": []
    },
    {
      "cell_type": "code",
      "metadata": {
        "id": "J5clQU_gkpvM"
      },
      "source": [
        "#minority class oversampling through data augmentation\r\n",
        "def oversample_augmentation(dataset, labels, scale_factor):\r\n",
        "  unique, counts = np.unique(labels, return_counts=True)\r\n",
        "  num_benign = counts[0]\r\n",
        "  num_malign = counts[1]\r\n",
        "\r\n",
        "  zipped = list(zip(dataset, labels))\r\n",
        "\r\n",
        "  benign_images = np.zeros((num_benign,) +  dataset[0].shape)   #(num_benign, 150, 150, 1)\r\n",
        "  benign_labels = np.zeros((num_benign,))                       #(num_benign, )\r\n",
        "  malign_images = np.zeros((num_malign,) +  dataset[0].shape)   #(num_malign, 150, 150, 1)\r\n",
        "  malign_labels = np.zeros((num_malign,))                       #(num_malign, )\r\n",
        "\r\n",
        "  #Benign samples:  1568\r\n",
        "  #Malign samples:  1108\r\n",
        "\r\n",
        "  benign_idx = 0\r\n",
        "  malign_idx = 0\r\n",
        "  for image, label in zipped:\r\n",
        "    #get benign samples only\r\n",
        "    if label == 0:\r\n",
        "      benign_images[benign_idx] = image \r\n",
        "      benign_labels[benign_idx] = label \r\n",
        "      benign_idx += 1\r\n",
        "    #get malign samples only\r\n",
        "    elif label == 1:\r\n",
        "      malign_images[malign_idx] = image \r\n",
        "      malign_labels[malign_idx] = label \r\n",
        "      malign_idx += 1\r\n",
        "\r\n",
        "  #malign class oversampling through data augmentation\r\n",
        "  malign_images_aug = np.zeros((int(num_benign*scale_factor),) +  dataset[0].shape)   #(num_benign, 150, 150, 1)\r\n",
        "  malign_labels_aug = np.zeros((int(num_benign*scale_factor),))                       #(num_malign, )\r\n",
        " \r\n",
        "  BATCH_size = 1\r\n",
        "  i = 0\r\n",
        "  for batch, labels_batch in train_datagen.flow(malign_images, malign_labels, batch_size=BATCH_size):\r\n",
        "    malign_images_aug[i * BATCH_size : (i + 1) * BATCH_size] = batch\r\n",
        "    malign_labels_aug[i * BATCH_size : (i + 1) * BATCH_size] = labels_batch\r\n",
        "    i += 1\r\n",
        "\r\n",
        "    if i * BATCH_size  >= int(num_benign*scale_factor):\r\n",
        "      break\r\n",
        "\r\n",
        "  #merge classes back\r\n",
        "  train = np.concatenate((malign_images_aug, benign_images), axis=0)\r\n",
        "  labels = np.concatenate((malign_labels_aug, benign_labels), axis=0)\r\n",
        "  \r\n",
        "  #print(malign_images_aug.shape)\r\n",
        "  #print(malign_labels_aug.shape)\r\n",
        "  #print(benign_images.shape)\r\n",
        "  #print(benign_labels.shape)\r\n",
        "\r\n",
        "  #shuffle data\r\n",
        "  train, labels = shuffle_dataset(train, labels)\r\n",
        "\r\n",
        "  return train, labels"
      ],
      "execution_count": null,
      "outputs": []
    },
    {
      "cell_type": "code",
      "metadata": {
        "id": "0ikk4ol3yJkb",
        "colab": {
          "base_uri": "https://localhost:8080/"
        },
        "outputId": "38808353-9842-4308-8461-edd301fd5add"
      },
      "source": [
        "scale_factor = 2        # malign_samples/benign_samples ratio\r\n",
        "os_train_images, os_train_labels = oversample_augmentation(train_images_split, train_labels_split, scale_factor)\r\n",
        "\r\n",
        "print(os_train_images.shape)\r\n",
        "print(os_train_labels.shape)"
      ],
      "execution_count": null,
      "outputs": [
        {
          "output_type": "stream",
          "text": [
            "(3348, 150, 150, 1)\n",
            "(3348,)\n"
          ],
          "name": "stdout"
        }
      ]
    },
    {
      "cell_type": "code",
      "metadata": {
        "colab": {
          "base_uri": "https://localhost:8080/"
        },
        "id": "59GacnwF-FRp",
        "outputId": "1d955b13-c79c-4b3d-f3fe-cc06e7826e4b"
      },
      "source": [
        "unique, counts = np.unique(os_train_labels, return_counts=True)\r\n",
        "print(unique, counts)"
      ],
      "execution_count": null,
      "outputs": [
        {
          "output_type": "stream",
          "text": [
            "[0. 1.] [1116 2232]\n"
          ],
          "name": "stdout"
        }
      ]
    },
    {
      "cell_type": "code",
      "metadata": {
        "colab": {
          "base_uri": "https://localhost:8080/"
        },
        "id": "er2DrwqezM3z",
        "outputId": "15ba83c2-67b2-4881-eaf8-84c2028430f4"
      },
      "source": [
        "model_6 = build_model(\"binary_crossentropy\", \"acc\")\r\n",
        "\r\n",
        "model_6.summary()"
      ],
      "execution_count": null,
      "outputs": [
        {
          "output_type": "stream",
          "text": [
            "Model: \"sequential_8\"\n",
            "_________________________________________________________________\n",
            "Layer (type)                 Output Shape              Param #   \n",
            "=================================================================\n",
            "conv2d_32 (Conv2D)           (None, 148, 148, 32)      320       \n",
            "_________________________________________________________________\n",
            "max_pooling2d_32 (MaxPooling (None, 74, 74, 32)        0         \n",
            "_________________________________________________________________\n",
            "conv2d_33 (Conv2D)           (None, 72, 72, 64)        18496     \n",
            "_________________________________________________________________\n",
            "max_pooling2d_33 (MaxPooling (None, 36, 36, 64)        0         \n",
            "_________________________________________________________________\n",
            "conv2d_34 (Conv2D)           (None, 34, 34, 128)       73856     \n",
            "_________________________________________________________________\n",
            "max_pooling2d_34 (MaxPooling (None, 17, 17, 128)       0         \n",
            "_________________________________________________________________\n",
            "conv2d_35 (Conv2D)           (None, 15, 15, 128)       147584    \n",
            "_________________________________________________________________\n",
            "max_pooling2d_35 (MaxPooling (None, 7, 7, 128)         0         \n",
            "_________________________________________________________________\n",
            "flatten_8 (Flatten)          (None, 6272)              0         \n",
            "_________________________________________________________________\n",
            "dense_16 (Dense)             (None, 512)               3211776   \n",
            "_________________________________________________________________\n",
            "dense_17 (Dense)             (None, 1)                 513       \n",
            "=================================================================\n",
            "Total params: 3,452,545\n",
            "Trainable params: 3,452,545\n",
            "Non-trainable params: 0\n",
            "_________________________________________________________________\n"
          ],
          "name": "stdout"
        }
      ]
    },
    {
      "cell_type": "code",
      "metadata": {
        "id": "T8k7YawD95S-"
      },
      "source": [
        "train_datagen = ImageDataGenerator(\r\n",
        "    rescale=1./65535,\r\n",
        "    rotation_range=40,\r\n",
        "    width_shift_range=0.2,\r\n",
        "    height_shift_range=0.2,\r\n",
        "    shear_range=20,\r\n",
        "    zoom_range=0.2,\r\n",
        "    horizontal_flip=True,\r\n",
        "    fill_mode='nearest')\r\n",
        "\r\n",
        "valid_datagen = ImageDataGenerator(rescale=1./65535)\r\n",
        "test_datagen = ImageDataGenerator(rescale=1./65535) "
      ],
      "execution_count": null,
      "outputs": []
    },
    {
      "cell_type": "code",
      "metadata": {
        "colab": {
          "base_uri": "https://localhost:8080/"
        },
        "id": "OjcxSGzSz-Ob",
        "outputId": "c3be8eac-a1b5-4eaa-876a-6949ccb597ec"
      },
      "source": [
        "history = model_6.fit(train_datagen.flow(os_train_images,\r\n",
        "                                       os_train_labels,\r\n",
        "                                       batch_size=BATCH_SIZE,\r\n",
        "                                       shuffle=False),\r\n",
        "                    steps_per_epoch=len(train_images_split) // BATCH_SIZE, \r\n",
        "                    epochs=100,\r\n",
        "                    validation_data=valid_datagen.flow(valid_images_split,\r\n",
        "                                       valid_labels_split,\r\n",
        "                                       batch_size=BATCH_SIZE,\r\n",
        "                                       shuffle=False),\r\n",
        "                    validation_steps=len(valid_labels_split) // BATCH_SIZE,\r\n",
        "                    callbacks=[model_checkpoint_callback])"
      ],
      "execution_count": null,
      "outputs": [
        {
          "output_type": "stream",
          "text": [
            "Epoch 1/100\n",
            "93/93 [==============================] - 6s 50ms/step - loss: 0.6202 - acc: 0.6675 - val_loss: 0.7443 - val_acc: 0.4375\n",
            "Epoch 2/100\n",
            "93/93 [==============================] - 5s 48ms/step - loss: 0.6312 - acc: 0.6653 - val_loss: 0.8085 - val_acc: 0.4375\n",
            "Epoch 3/100\n",
            "93/93 [==============================] - 4s 47ms/step - loss: 0.6188 - acc: 0.6747 - val_loss: 0.7574 - val_acc: 0.4375\n",
            "Epoch 4/100\n",
            "93/93 [==============================] - 5s 49ms/step - loss: 0.6104 - acc: 0.6832 - val_loss: 0.7459 - val_acc: 0.4375\n",
            "Epoch 5/100\n",
            "93/93 [==============================] - 4s 48ms/step - loss: 0.6194 - acc: 0.6764 - val_loss: 0.8199 - val_acc: 0.4387\n",
            "Epoch 6/100\n",
            "93/93 [==============================] - 4s 47ms/step - loss: 0.6333 - acc: 0.6485 - val_loss: 0.7623 - val_acc: 0.4487\n",
            "Epoch 7/100\n",
            "49/93 [==============>...............] - ETA: 1s - loss: 0.6241 - acc: 0.6657"
          ],
          "name": "stdout"
        }
      ]
    },
    {
      "cell_type": "code",
      "metadata": {
        "colab": {
          "base_uri": "https://localhost:8080/",
          "height": 545
        },
        "id": "U317UD1aByKV",
        "outputId": "31933d2c-9632-4ef7-a8c3-e46a2342a728"
      },
      "source": [
        "plt = plot(history)\r\n",
        "plt.show()"
      ],
      "execution_count": null,
      "outputs": [
        {
          "output_type": "display_data",
          "data": {
            "image/png": "[encoded data removed]",
            "text/plain": [
              "<Figure size 432x288 with 1 Axes>"
            ]
          },
          "metadata": {
            "tags": [],
            "needs_background": "light"
          }
        },
        {
          "output_type": "display_data",
          "data": {
            "image/png": "[encoded data removed]",
            "text/plain": [
              "<Figure size 432x288 with 1 Axes>"
            ]
          },
          "metadata": {
            "tags": [],
            "needs_background": "light"
          }
        }
      ]
    },
    {
      "cell_type": "code",
      "metadata": {
        "colab": {
          "base_uri": "https://localhost:8080/",
          "height": 481
        },
        "id": "4FOxhlB7B27d",
        "outputId": "b97da752-7e61-4c83-d737-d87a5b1259fb"
      },
      "source": [
        "model_6.load_weights(checkpoint_filepath)\r\n",
        "classes = [\"Benign\", \"Malign\"]\r\n",
        "plt_6 = plot_confusion_matrix(model_6,\r\n",
        "                      classes,\r\n",
        "                      test_images,\r\n",
        "                      test_labels,\r\n",
        "                      title='Confusion matrix',\r\n",
        "                      cmap=plt.cm.Blues)  \r\n",
        "\r\n",
        "#save plot\r\n",
        "plt_6.savefig(os.path.join(PLOTS_PATH, 'model_6_CM_SF_2.png'))"
      ],
      "execution_count": null,
      "outputs": [
        {
          "output_type": "stream",
          "text": [
            "Confusion Matrix\n",
            "              precision    recall  f1-score   support\n",
            "\n",
            "         0.0       0.66      0.97      0.79       219\n",
            "         1.0       0.57      0.07      0.12       117\n",
            "\n",
            "    accuracy                           0.66       336\n",
            "   macro avg       0.62      0.52      0.45       336\n",
            "weighted avg       0.63      0.66      0.56       336\n",
            "\n"
          ],
          "name": "stdout"
        },
        {
          "output_type": "display_data",
          "data": {
            "image/png": "[encoded data removed]",
            "text/plain": [
              "<Figure size 432x288 with 2 Axes>"
            ]
          },
          "metadata": {
            "tags": [],
            "needs_background": "light"
          }
        }
      ]
    },
    {
      "cell_type": "code",
      "metadata": {
        "id": "_LGaIgSXCtEU",
        "colab": {
          "base_uri": "https://localhost:8080/"
        },
        "outputId": "07ddbc01-7af5-4fe4-f44c-f7d42d68fdce"
      },
      "source": [
        "test_loss, test_acc = model_6.evaluate(test_datagen.flow(test_images,\r\n",
        "                                                       test_labels,\r\n",
        "                                                       batch_size=BATCH_SIZE,\r\n",
        "                                                       shuffle=False),\r\n",
        "                                     steps=len(test_images) // BATCH_SIZE\r\n",
        ")\r\n",
        "\r\n",
        "print(test_acc)"
      ],
      "execution_count": null,
      "outputs": [
        {
          "output_type": "stream",
          "text": [
            "16/16 [==============================] - 0s 5ms/step - loss: 0.6785 - acc: 0.5625\n",
            "0.5625\n"
          ],
          "name": "stdout"
        }
      ]
    },
    {
      "cell_type": "code",
      "metadata": {
        "colab": {
          "base_uri": "https://localhost:8080/"
        },
        "id": "KPSzt7OfSMMF",
        "outputId": "3dfaa673-32ba-4813-bbb2-dc46670f42c7"
      },
      "source": [
        "predictions = get_model_pred_prob(model_6, test_images, test_labels, len(test_images))\r\n",
        "calc_TP_FP_rate(test_labels, predictions)"
      ],
      "execution_count": null,
      "outputs": [
        {
          "output_type": "stream",
          "text": [
            "/usr/local/lib/python3.6/dist-packages/tensorflow/python/keras/engine/sequential.py:450: UserWarning: `model.predict_classes()` is deprecated and will be removed after 2021-01-01. Please use instead:* `np.argmax(model.predict(x), axis=-1)`,   if your model does multi-class classification   (e.g. if it uses a `softmax` last-layer activation).* `(model.predict(x) > 0.5).astype(\"int32\")`,   if your model does binary classification   (e.g. if it uses a `sigmoid` last-layer activation).\n",
            "  warnings.warn('`model.predict_classes()` is deprecated and '\n"
          ],
          "name": "stderr"
        },
        {
          "output_type": "stream",
          "text": [
            "TP:  83\n",
            "FP:  110\n",
            "TN:  109\n",
            "FN:  34\n"
          ],
          "name": "stdout"
        },
        {
          "output_type": "execute_result",
          "data": {
            "text/plain": [
              "(0.7094017094017094, 0.502283105022831)"
            ]
          },
          "metadata": {
            "tags": []
          },
          "execution_count": 101
        }
      ]
    },
    {
      "cell_type": "code",
      "metadata": {
        "colab": {
          "base_uri": "https://localhost:8080/",
          "height": 295
        },
        "id": "yoLXese6agpf",
        "outputId": "4b57735d-3e17-4e60-e736-c0953e5c0b39"
      },
      "source": [
        "\r\n",
        "plot_AUC(model_6, test_images, test_labels)"
      ],
      "execution_count": null,
      "outputs": [
        {
          "output_type": "display_data",
          "data": {
            "image/png": "[encoded data removed]",
            "text/plain": [
              "<Figure size 432x288 with 1 Axes>"
            ]
          },
          "metadata": {
            "tags": [],
            "needs_background": "light"
          }
        }
      ]
    },
    {
      "cell_type": "markdown",
      "metadata": {
        "id": "x2eVcDXjf6E8"
      },
      "source": [
        "##7.SMOTE."
      ]
    },
    {
      "cell_type": "code",
      "metadata": {
        "colab": {
          "base_uri": "https://localhost:8080/"
        },
        "id": "4MXTA_LKgTxu",
        "outputId": "fc27bdc2-ba6c-49ba-8b4d-8b7655810c52"
      },
      "source": [
        "# split dataset into training and validation set 70-30\r\n",
        "train_images_split, valid_images_split, train_labels_split, valid_labels_split = split_train_val(train_images, train_labels)  "
      ],
      "execution_count": null,
      "outputs": [
        {
          "output_type": "stream",
          "text": [
            "(1873, 150, 150, 1)\n",
            "(803, 150, 150, 1)\n",
            "(1873,)\n",
            "(803,)\n"
          ],
          "name": "stdout"
        }
      ]
    },
    {
      "cell_type": "code",
      "metadata": {
        "colab": {
          "base_uri": "https://localhost:8080/",
          "height": 198
        },
        "id": "73E2aVl0pBOw",
        "outputId": "804d45c4-1f10-40a2-c6fe-70843139269c"
      },
      "source": [
        "#reshape tensors: (num_samples, 150*150*1)\r\n",
        "train_images_SMOTE = train_images.reshape(train_images.shape[0] + (train_images.shape[1]*train_images.shape[2],)) \r\n",
        "print(train_images_SMOTE.shape)"
      ],
      "execution_count": null,
      "outputs": [
        {
          "output_type": "error",
          "ename": "TypeError",
          "evalue": "ignored",
          "traceback": [
            "\u001b[0;31m---------------------------------------------------------------------------\u001b[0m",
            "\u001b[0;31mTypeError\u001b[0m                                 Traceback (most recent call last)",
            "\u001b[0;32m<ipython-input-142-52249cabdd8b>\u001b[0m in \u001b[0;36m<module>\u001b[0;34m()\u001b[0m\n\u001b[1;32m      1\u001b[0m \u001b[0;31m#reshape tensors: (num_samples, 150*150*1)\u001b[0m\u001b[0;34m\u001b[0m\u001b[0;34m\u001b[0m\u001b[0;34m\u001b[0m\u001b[0m\n\u001b[0;32m----> 2\u001b[0;31m \u001b[0mtrain_images_SMOTE\u001b[0m \u001b[0;34m=\u001b[0m \u001b[0mtrain_images\u001b[0m\u001b[0;34m.\u001b[0m\u001b[0mreshape\u001b[0m\u001b[0;34m(\u001b[0m\u001b[0mtrain_images\u001b[0m\u001b[0;34m.\u001b[0m\u001b[0mshape\u001b[0m\u001b[0;34m[\u001b[0m\u001b[0;36m0\u001b[0m\u001b[0;34m]\u001b[0m \u001b[0;34m+\u001b[0m \u001b[0;34m(\u001b[0m\u001b[0mtrain_images\u001b[0m\u001b[0;34m.\u001b[0m\u001b[0mshape\u001b[0m\u001b[0;34m[\u001b[0m\u001b[0;36m1\u001b[0m\u001b[0;34m]\u001b[0m\u001b[0;34m*\u001b[0m\u001b[0mtrain_images\u001b[0m\u001b[0;34m.\u001b[0m\u001b[0mshape\u001b[0m\u001b[0;34m[\u001b[0m\u001b[0;36m2\u001b[0m\u001b[0;34m]\u001b[0m\u001b[0;34m,\u001b[0m\u001b[0;34m)\u001b[0m\u001b[0;34m)\u001b[0m\u001b[0;34m\u001b[0m\u001b[0;34m\u001b[0m\u001b[0m\n\u001b[0m\u001b[1;32m      3\u001b[0m \u001b[0mprint\u001b[0m\u001b[0;34m(\u001b[0m\u001b[0mtrain_images_SMOTE\u001b[0m\u001b[0;34m.\u001b[0m\u001b[0mshape\u001b[0m\u001b[0;34m)\u001b[0m\u001b[0;34m\u001b[0m\u001b[0;34m\u001b[0m\u001b[0m\n",
            "\u001b[0;31mTypeError\u001b[0m: unsupported operand type(s) for +: 'int' and 'tuple'"
          ]
        }
      ]
    },
    {
      "cell_type": "code",
      "metadata": {
        "id": "xujFjP53iDwt"
      },
      "source": [
        "# Oversample with SMOTE and random undersample for imbalanced dataset\r\n",
        "from collections import Counter\r\n",
        "from imblearn.over_sampling import SMOTE\r\n",
        "from imblearn.under_sampling import RandomUnderSampler\r\n",
        "from imblearn.pipeline import Pipeline\r\n",
        "from matplotlib import pyplot\r\n",
        "\r\n",
        "\r\n",
        "# define dataset\r\n",
        "#X, y = make_classification(n_samples=10000, n_features=2, n_redundant=0,\r\n",
        "#\tn_clusters_per_class=1, weights=[0.99], flip_y=0, random_state=1)\r\n",
        "\r\n",
        "# summarize class distribution\r\n",
        "counter = Counter(train_labels)\r\n",
        "print(counter)\r\n",
        "\r\n",
        "# define pipeline\r\n",
        "over = SMOTE(sampling_strategy=0.1)\r\n",
        "under = RandomUnderSampler(sampling_strategy=0.5)\r\n",
        "steps = [('o', over), ('u', under)]\r\n",
        "pipeline = Pipeline(steps=steps)\r\n",
        "\r\n",
        "# transform the dataset\r\n",
        "X, y = pipeline.fit_resample(train_images_split, train_labels_split)\r\n",
        "\r\n",
        "# summarize the new class distribution\r\n",
        "counter = Counter(y)\r\n",
        "print(counter)\r\n",
        "\r\n",
        "# scatter plot of examples by class label\r\n",
        "for label, _ in counter.items():\r\n",
        "\trow_ix = where(y == label)[0]\r\n",
        "\tpyplot.scatter(X[row_ix, 0], X[row_ix, 1], label=str(label))\r\n",
        "pyplot.legend()\r\n",
        "pyplot.show()"
      ],
      "execution_count": null,
      "outputs": []
    },
    {
      "cell_type": "code",
      "metadata": {
        "colab": {
          "base_uri": "https://localhost:8080/",
          "height": 446
        },
        "id": "zuzgAf5mgFEL",
        "outputId": "67d07c61-106b-4cac-8d6a-5c5b51d24bda"
      },
      "source": [
        "from imblearn.over_sampling import SMOTE\r\n",
        "\r\n",
        "sm = SMOTE(random_state=42)\r\n",
        "X_smote, y_smote = sm.fit_resample(train_images_split, train_labels_split)"
      ],
      "execution_count": null,
      "outputs": [
        {
          "output_type": "stream",
          "text": [
            "/usr/local/lib/python3.6/dist-packages/sklearn/externals/six.py:31: FutureWarning: The module is deprecated in version 0.21 and will be removed in version 0.23 since we've dropped support for Python 2.7. Please rely on the official version of six (https://pypi.org/project/six/).\n",
            "  \"(https://pypi.org/project/six/).\", FutureWarning)\n",
            "/usr/local/lib/python3.6/dist-packages/sklearn/utils/deprecation.py:144: FutureWarning: The sklearn.neighbors.base module is  deprecated in version 0.22 and will be removed in version 0.24. The corresponding classes / functions should instead be imported from sklearn.neighbors. Anything that cannot be imported from sklearn.neighbors is now part of the private API.\n",
            "  warnings.warn(message, FutureWarning)\n"
          ],
          "name": "stderr"
        },
        {
          "output_type": "error",
          "ename": "ValueError",
          "evalue": "ignored",
          "traceback": [
            "\u001b[0;31m---------------------------------------------------------------------------\u001b[0m",
            "\u001b[0;31mValueError\u001b[0m                                Traceback (most recent call last)",
            "\u001b[0;32m<ipython-input-98-0bd5e46a401d>\u001b[0m in \u001b[0;36m<module>\u001b[0;34m()\u001b[0m\n\u001b[1;32m      2\u001b[0m \u001b[0;34m\u001b[0m\u001b[0m\n\u001b[1;32m      3\u001b[0m \u001b[0msm\u001b[0m \u001b[0;34m=\u001b[0m \u001b[0mSMOTE\u001b[0m\u001b[0;34m(\u001b[0m\u001b[0mrandom_state\u001b[0m\u001b[0;34m=\u001b[0m\u001b[0;36m42\u001b[0m\u001b[0;34m)\u001b[0m\u001b[0;34m\u001b[0m\u001b[0;34m\u001b[0m\u001b[0m\n\u001b[0;32m----> 4\u001b[0;31m \u001b[0mX_smote\u001b[0m\u001b[0;34m,\u001b[0m \u001b[0my_smote\u001b[0m \u001b[0;34m=\u001b[0m \u001b[0msm\u001b[0m\u001b[0;34m.\u001b[0m\u001b[0mfit_resample\u001b[0m\u001b[0;34m(\u001b[0m\u001b[0mtrain_images_split\u001b[0m\u001b[0;34m,\u001b[0m \u001b[0mtrain_labels_split\u001b[0m\u001b[0;34m)\u001b[0m\u001b[0;34m\u001b[0m\u001b[0;34m\u001b[0m\u001b[0m\n\u001b[0m",
            "\u001b[0;32m/usr/local/lib/python3.6/dist-packages/imblearn/base.py\u001b[0m in \u001b[0;36mfit_resample\u001b[0;34m(self, X, y)\u001b[0m\n\u001b[1;32m     78\u001b[0m         \u001b[0mself\u001b[0m\u001b[0;34m.\u001b[0m\u001b[0m_deprecate_ratio\u001b[0m\u001b[0;34m(\u001b[0m\u001b[0;34m)\u001b[0m\u001b[0;34m\u001b[0m\u001b[0;34m\u001b[0m\u001b[0m\n\u001b[1;32m     79\u001b[0m \u001b[0;34m\u001b[0m\u001b[0m\n\u001b[0;32m---> 80\u001b[0;31m         \u001b[0mX\u001b[0m\u001b[0;34m,\u001b[0m \u001b[0my\u001b[0m\u001b[0;34m,\u001b[0m \u001b[0mbinarize_y\u001b[0m \u001b[0;34m=\u001b[0m \u001b[0mself\u001b[0m\u001b[0;34m.\u001b[0m\u001b[0m_check_X_y\u001b[0m\u001b[0;34m(\u001b[0m\u001b[0mX\u001b[0m\u001b[0;34m,\u001b[0m \u001b[0my\u001b[0m\u001b[0;34m)\u001b[0m\u001b[0;34m\u001b[0m\u001b[0;34m\u001b[0m\u001b[0m\n\u001b[0m\u001b[1;32m     81\u001b[0m \u001b[0;34m\u001b[0m\u001b[0m\n\u001b[1;32m     82\u001b[0m         self.sampling_strategy_ = check_sampling_strategy(\n",
            "\u001b[0;32m/usr/local/lib/python3.6/dist-packages/imblearn/base.py\u001b[0m in \u001b[0;36m_check_X_y\u001b[0;34m(X, y)\u001b[0m\n\u001b[1;32m    136\u001b[0m     \u001b[0;32mdef\u001b[0m \u001b[0m_check_X_y\u001b[0m\u001b[0;34m(\u001b[0m\u001b[0mX\u001b[0m\u001b[0;34m,\u001b[0m \u001b[0my\u001b[0m\u001b[0;34m)\u001b[0m\u001b[0;34m:\u001b[0m\u001b[0;34m\u001b[0m\u001b[0;34m\u001b[0m\u001b[0m\n\u001b[1;32m    137\u001b[0m         \u001b[0my\u001b[0m\u001b[0;34m,\u001b[0m \u001b[0mbinarize_y\u001b[0m \u001b[0;34m=\u001b[0m \u001b[0mcheck_target_type\u001b[0m\u001b[0;34m(\u001b[0m\u001b[0my\u001b[0m\u001b[0;34m,\u001b[0m \u001b[0mindicate_one_vs_all\u001b[0m\u001b[0;34m=\u001b[0m\u001b[0;32mTrue\u001b[0m\u001b[0;34m)\u001b[0m\u001b[0;34m\u001b[0m\u001b[0;34m\u001b[0m\u001b[0m\n\u001b[0;32m--> 138\u001b[0;31m         \u001b[0mX\u001b[0m\u001b[0;34m,\u001b[0m \u001b[0my\u001b[0m \u001b[0;34m=\u001b[0m \u001b[0mcheck_X_y\u001b[0m\u001b[0;34m(\u001b[0m\u001b[0mX\u001b[0m\u001b[0;34m,\u001b[0m \u001b[0my\u001b[0m\u001b[0;34m,\u001b[0m \u001b[0maccept_sparse\u001b[0m\u001b[0;34m=\u001b[0m\u001b[0;34m[\u001b[0m\u001b[0;34m'csr'\u001b[0m\u001b[0;34m,\u001b[0m \u001b[0;34m'csc'\u001b[0m\u001b[0;34m]\u001b[0m\u001b[0;34m)\u001b[0m\u001b[0;34m\u001b[0m\u001b[0;34m\u001b[0m\u001b[0m\n\u001b[0m\u001b[1;32m    139\u001b[0m         \u001b[0;32mreturn\u001b[0m \u001b[0mX\u001b[0m\u001b[0;34m,\u001b[0m \u001b[0my\u001b[0m\u001b[0;34m,\u001b[0m \u001b[0mbinarize_y\u001b[0m\u001b[0;34m\u001b[0m\u001b[0;34m\u001b[0m\u001b[0m\n\u001b[1;32m    140\u001b[0m \u001b[0;34m\u001b[0m\u001b[0m\n",
            "\u001b[0;32m/usr/local/lib/python3.6/dist-packages/sklearn/utils/validation.py\u001b[0m in \u001b[0;36mcheck_X_y\u001b[0;34m(X, y, accept_sparse, accept_large_sparse, dtype, order, copy, force_all_finite, ensure_2d, allow_nd, multi_output, ensure_min_samples, ensure_min_features, y_numeric, warn_on_dtype, estimator)\u001b[0m\n\u001b[1;32m    753\u001b[0m                     \u001b[0mensure_min_features\u001b[0m\u001b[0;34m=\u001b[0m\u001b[0mensure_min_features\u001b[0m\u001b[0;34m,\u001b[0m\u001b[0;34m\u001b[0m\u001b[0;34m\u001b[0m\u001b[0m\n\u001b[1;32m    754\u001b[0m                     \u001b[0mwarn_on_dtype\u001b[0m\u001b[0;34m=\u001b[0m\u001b[0mwarn_on_dtype\u001b[0m\u001b[0;34m,\u001b[0m\u001b[0;34m\u001b[0m\u001b[0;34m\u001b[0m\u001b[0m\n\u001b[0;32m--> 755\u001b[0;31m                     estimator=estimator)\n\u001b[0m\u001b[1;32m    756\u001b[0m     \u001b[0;32mif\u001b[0m \u001b[0mmulti_output\u001b[0m\u001b[0;34m:\u001b[0m\u001b[0;34m\u001b[0m\u001b[0;34m\u001b[0m\u001b[0m\n\u001b[1;32m    757\u001b[0m         y = check_array(y, 'csr', force_all_finite=True, ensure_2d=False,\n",
            "\u001b[0;32m/usr/local/lib/python3.6/dist-packages/sklearn/utils/validation.py\u001b[0m in \u001b[0;36mcheck_array\u001b[0;34m(array, accept_sparse, accept_large_sparse, dtype, order, copy, force_all_finite, ensure_2d, allow_nd, ensure_min_samples, ensure_min_features, warn_on_dtype, estimator)\u001b[0m\n\u001b[1;32m    572\u001b[0m         \u001b[0;32mif\u001b[0m \u001b[0;32mnot\u001b[0m \u001b[0mallow_nd\u001b[0m \u001b[0;32mand\u001b[0m \u001b[0marray\u001b[0m\u001b[0;34m.\u001b[0m\u001b[0mndim\u001b[0m \u001b[0;34m>=\u001b[0m \u001b[0;36m3\u001b[0m\u001b[0;34m:\u001b[0m\u001b[0;34m\u001b[0m\u001b[0;34m\u001b[0m\u001b[0m\n\u001b[1;32m    573\u001b[0m             raise ValueError(\"Found array with dim %d. %s expected <= 2.\"\n\u001b[0;32m--> 574\u001b[0;31m                              % (array.ndim, estimator_name))\n\u001b[0m\u001b[1;32m    575\u001b[0m \u001b[0;34m\u001b[0m\u001b[0m\n\u001b[1;32m    576\u001b[0m         \u001b[0;32mif\u001b[0m \u001b[0mforce_all_finite\u001b[0m\u001b[0;34m:\u001b[0m\u001b[0;34m\u001b[0m\u001b[0;34m\u001b[0m\u001b[0m\n",
            "\u001b[0;31mValueError\u001b[0m: Found array with dim 4. Estimator expected <= 2."
          ]
        }
      ]
    }
  ]
}