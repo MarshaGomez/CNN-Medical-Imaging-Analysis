{
  "nbformat": 4,
  "nbformat_minor": 0,
  "metadata": {
    "accelerator": "GPU",
    "colab": {
      "name": "Scratch_CNN.ipynb",
      "provenance": [],
      "collapsed_sections": [],
      "include_colab_link": true
    },
    "kernelspec": {
      "display_name": "Python 3",
      "name": "python3"
    }
  },
  "cells": [
    {
      "cell_type": "markdown",
      "metadata": {
        "id": "view-in-github",
        "colab_type": "text"
      },
      "source": [
        "<a href=\"https://colab.research.google.com/github/MarshaGomez/CNN-Medical-Imaging-Analysis/blob/main/Code/Scratch_CNN.ipynb\" target=\"_parent\"><img src=\"https://colab.research.google.com/assets/colab-badge.svg\" alt=\"Open In Colab\"/></a>"
      ]
    },
    {
      "cell_type": "markdown",
      "metadata": {
        "id": "UPQ8gkXb0NY0"
      },
      "source": [
        "# **Scratch CNN**\r\n",
        "---\r\n",
        "Classification model for discriminating between 2 classes: **masses and calcification**. *Ad-hoc CNN architecture*.\r\n",
        "\r\n",
        "**Students:**   *A. Schiavo - M. Gómez - M. Daole*\r\n",
        "\r\n"
      ]
    },
    {
      "cell_type": "code",
      "metadata": {
        "colab": {
          "base_uri": "https://localhost:8080/"
        },
        "id": "95hM4MvWjwfO",
        "outputId": "87c047a7-c152-4c37-e749-b1c0b7c7687f"
      },
      "source": [
        "from google.colab import drive\r\n",
        "drive.mount('/content/gdrive', force_remount=True) "
      ],
      "execution_count": null,
      "outputs": [
        {
          "output_type": "stream",
          "text": [
            "Mounted at /content/gdrive\n"
          ],
          "name": "stdout"
        }
      ]
    },
    {
      "cell_type": "code",
      "metadata": {
        "colab": {
          "base_uri": "https://localhost:8080/"
        },
        "id": "iduaD281krFD",
        "outputId": "f81dd88d-36e9-4862-ec9a-f17a8d03de74"
      },
      "source": [
        "import tensorflow as tf\r\n",
        "print(tf.__version__)\r\n",
        "import numpy as np\r\n",
        "import os \r\n",
        "\r\n",
        "base_path = \"/content/gdrive/My Drive/Colab_Notebooks/CIDL/DL Project/numpy data\"\r\n",
        "train_img_path = os.path.join(base_path, 'train_tensor.npy')\r\n",
        "train_label_path = os.path.join(base_path, 'train_labels.npy')\r\n",
        "test_img_path = os.path.join(base_path, 'public_test_tensor.npy')\r\n",
        "test_label_path = os.path.join(base_path, 'public_test_labels.npy')"
      ],
      "execution_count": null,
      "outputs": [
        {
          "output_type": "stream",
          "text": [
            "2.4.0\n"
          ],
          "name": "stdout"
        }
      ]
    },
    {
      "cell_type": "code",
      "metadata": {
        "id": "ek9JMlmD6GsU"
      },
      "source": [
        "# Load Arrays from Numpy Files\r\n",
        "def load_training():\r\n",
        "  train_images = np.load(train_img_path)\r\n",
        "  train_labels = np.load(train_label_path)\r\n",
        "  test_images = np.load(test_img_path)\r\n",
        "  test_labels = np.load(test_label_path)\r\n",
        "\r\n",
        "  return train_images, train_labels, test_images, test_labels\r\n",
        "\r\n",
        "# Remove baseline samples\r\n",
        "def remove_baseline(tensor): \r\n",
        "  max_ind = int(len(tensor)/2)\r\n",
        "  indexes = [2*i + 1 for i in range(0, max_ind)]\r\n",
        "\r\n",
        "  return tensor[indexes]\r\n",
        "\r\n",
        "# Interchange the dataset index\r\n",
        "def shuffle_dataset(x, y):\r\n",
        "  indices = tf.range(start=0, limit=tf.shape(x)[0], dtype=tf.int32)\r\n",
        "  shuffled_indices = tf.random.shuffle(indices)\r\n",
        "\r\n",
        "  x = tf.gather(x, shuffled_indices)\r\n",
        "  y = tf.gather(y, shuffled_indices)\r\n",
        "\r\n",
        "  x = x.numpy()\r\n",
        "  y = y.numpy()\r\n",
        "\r\n",
        "  return x, y"
      ],
      "execution_count": null,
      "outputs": []
    },
    {
      "cell_type": "code",
      "metadata": {
        "colab": {
          "base_uri": "https://localhost:8080/"
        },
        "id": "Gowt9JUQ6sdj",
        "outputId": "f8868cc5-6a63-4794-a77d-cfd1d64f00c6"
      },
      "source": [
        "# Get images and labels (test, train)\r\n",
        "train_images, train_labels, test_images, test_labels = load_training()\r\n",
        "\r\n",
        "# Get abnormalities only \r\n",
        "train_images = remove_baseline(train_images)\r\n",
        "train_labels = remove_baseline(train_labels)\r\n",
        "test_images = remove_baseline(test_images)\r\n",
        "test_labels = remove_baseline(test_labels)\r\n",
        "\r\n",
        "# Suffle index (Previous dataset is ordered)\r\n",
        "train_images, train_labels = shuffle_dataset(train_images, train_labels)\r\n",
        "\r\n",
        "print(\"Train shape: \", train_images.shape)\r\n",
        "print(\"Test shape: \", test_images.shape)\r\n"
      ],
      "execution_count": null,
      "outputs": [
        {
          "output_type": "stream",
          "text": [
            "Train shape:  (2676, 150, 150)\n",
            "Test shape:  (336, 150, 150)\n"
          ],
          "name": "stdout"
        }
      ]
    },
    {
      "cell_type": "markdown",
      "metadata": {
        "id": "5t4iLd0ExZho"
      },
      "source": [
        "## Data preprocessing\r\n",
        "\r\n",
        "Currently, our data sits on a drive as numpy files (**.npy**), so the steps for getting it into our network are roughly:\r\n",
        "\r\n"
      ]
    },
    {
      "cell_type": "code",
      "metadata": {
        "id": "I2peY8SWutuA"
      },
      "source": [
        "# Unify masses and calcifications \r\n",
        "def labels_mapping(labels):\r\n",
        "  labels_local = np.zeros(shape=labels.shape, dtype=\"float32\")\r\n",
        "  idx = 0\r\n",
        "  for label in labels:\r\n",
        "    # masses\r\n",
        "    if label == 1 or label == 2:\r\n",
        "      labels_local[idx] = 0\r\n",
        "    # calcifications\r\n",
        "    else:\r\n",
        "      labels_local[idx] = 1\r\n",
        "    idx += 1\r\n",
        "\r\n",
        "  return labels_local\r\n",
        "\r\n",
        "labels = labels_mapping(train_labels)\r\n",
        "test_labels = labels_mapping(test_labels)"
      ],
      "execution_count": null,
      "outputs": []
    },
    {
      "cell_type": "code",
      "metadata": {
        "colab": {
          "base_uri": "https://localhost:8080/"
        },
        "id": "CQJRM4Kc33Nf",
        "outputId": "fd46a541-8545-4c01-c2e2-030d1473a551"
      },
      "source": [
        "#print(train_labels[2000])\r\n",
        "#print(labels[:10])\r\n",
        "print(train_images.shape)\r\n",
        "\r\n",
        "# verify values range: getting max value \r\n",
        "print(max([np.max(image) for image in train_images])) # max is 65'535 \r\n"
      ],
      "execution_count": null,
      "outputs": [
        {
          "output_type": "stream",
          "text": [
            "(2676, 150, 150)\n",
            "65535\n"
          ],
          "name": "stdout"
        }
      ]
    },
    {
      "cell_type": "code",
      "metadata": {
        "colab": {
          "base_uri": "https://localhost:8080/"
        },
        "id": "GMdDBt9N3tBU",
        "outputId": "c8f65072-d947-4799-f31b-1df9dd47510b"
      },
      "source": [
        "train_images = train_images.reshape(train_images.shape + (1,)) #(2676, 150, 150, 1)\r\n",
        "test_images = test_images.reshape(test_images.shape + (1,)) #(2676, 150, 150, 1)\r\n",
        "print(train_images.shape)\r\n",
        "print(test_images.shape)"
      ],
      "execution_count": null,
      "outputs": [
        {
          "output_type": "stream",
          "text": [
            "(2676, 150, 150, 1)\n",
            "(336, 150, 150, 1)\n"
          ],
          "name": "stdout"
        }
      ]
    },
    {
      "cell_type": "code",
      "metadata": {
        "colab": {
          "base_uri": "https://localhost:8080/"
        },
        "id": "TfMviUsBn-gX",
        "outputId": "6f834ddb-208c-45cf-942a-c8cb7e4cf680"
      },
      "source": [
        "# split dataset into training and validation set 70-30\r\n",
        "train_images_split = train_images[:int(0.7*len(train_images))]\r\n",
        "valid_images_split = train_images[int(0.7*len(train_images)):]\r\n",
        "train_labels_split = labels[:int(0.7*len(labels))]\r\n",
        "valid_labels_split = labels[int(0.7*len(labels)):]\r\n",
        "\r\n",
        "print(train_images_split.shape)\r\n",
        "print(valid_images_split.shape)                                       "
      ],
      "execution_count": null,
      "outputs": [
        {
          "output_type": "stream",
          "text": [
            "(1873, 150, 150, 1)\n",
            "(803, 150, 150, 1)\n"
          ],
          "name": "stdout"
        }
      ]
    },
    {
      "cell_type": "code",
      "metadata": {
        "id": "cvBDEjKBOiFV"
      },
      "source": [
        "BATCH_SIZE = 20\r\n",
        "EPOCHS = 100\r\n",
        "IMAGE_HEIGHT = 150\r\n",
        "IMAGE_WIDTH = 150"
      ],
      "execution_count": null,
      "outputs": []
    },
    {
      "cell_type": "code",
      "metadata": {
        "colab": {
          "base_uri": "https://localhost:8080/"
        },
        "id": "hm9x-21nzEoE",
        "outputId": "8a2c35e9-933c-4311-af80-f881797e4dd6"
      },
      "source": [
        "from tensorflow.keras.preprocessing.image import ImageDataGenerator\r\n",
        "\r\n",
        "# All images will be rescaled by 1./65535\r\n",
        "train_datagen = ImageDataGenerator(rescale=1./65535)\r\n",
        "valid_datagen = ImageDataGenerator(rescale=1./65535)\r\n",
        "test_datagen = ImageDataGenerator(rescale=1./65535) \r\n",
        "\r\n",
        "for batch, labels_batch in train_datagen.flow(train_images, labels, batch_size=BATCH_SIZE):\r\n",
        "  print(batch.shape)\r\n",
        "  print(labels_batch.shape)\r\n",
        "  break\r\n",
        "\r\n"
      ],
      "execution_count": null,
      "outputs": [
        {
          "output_type": "stream",
          "text": [
            "(20, 150, 150, 1)\n",
            "(20,)\n"
          ],
          "name": "stdout"
        }
      ]
    },
    {
      "cell_type": "markdown",
      "metadata": {
        "id": "Mi0ZJVf1vA31"
      },
      "source": [
        "## Defining CNN \r\n"
      ]
    },
    {
      "cell_type": "code",
      "metadata": {
        "id": "kwQTeDPEvKql"
      },
      "source": [
        "from keras import layers\r\n",
        "from keras import optimizers \r\n",
        "from keras import models\r\n",
        "from keras import regularizers\r\n",
        "\r\n",
        "def build_model(loss_function, eval_metric):\r\n",
        "  model = models.Sequential()\r\n",
        "  model.add(layers.Conv2D(32, (3, 3), activation='relu', input_shape=(150, 150, 1)))\r\n",
        "  model.add(layers.MaxPooling2D((2, 2)))\r\n",
        "  model.add(layers.Conv2D(64, (3, 3), activation='relu'))\r\n",
        "  model.add(layers.MaxPooling2D((2, 2)))\r\n",
        "  model.add(layers.Conv2D(128, (3, 3), activation='relu'))\r\n",
        "  model.add(layers.MaxPooling2D((2, 2)))\r\n",
        "  model.add(layers.Conv2D(128, (3, 3), activation='relu'))\r\n",
        "  model.add(layers.MaxPooling2D((2, 2)))\r\n",
        "  model.add(layers.Flatten())\r\n",
        "  #model.add(layers.Dense(512, activation='relu'))\r\n",
        "  #model.add(layers.Dropout(0.5))\r\n",
        "  model.add(layers.Dense(512, kernel_regularizer=regularizers.l2(0.001), activation=\"relu\"))\r\n",
        "  model.add(layers.Dense(1, activation='sigmoid'))\r\n",
        "\r\n",
        "  model.compile(loss=loss_function,\r\n",
        "              optimizer=optimizers.RMSprop(lr=1e-4), # lr = 0.0001\r\n",
        "              metrics=[\"acc\"]) \r\n",
        "  \r\n",
        "  return model "
      ],
      "execution_count": null,
      "outputs": []
    },
    {
      "cell_type": "markdown",
      "metadata": {
        "id": "fZIemXxawWLm"
      },
      "source": [
        "## CNN Compilation:\r\n",
        "\r\n"
      ]
    },
    {
      "cell_type": "code",
      "metadata": {
        "colab": {
          "base_uri": "https://localhost:8080/"
        },
        "id": "5iumGmf1whk1",
        "outputId": "b1a3debe-e980-4e97-aab2-f077eae71ee8"
      },
      "source": [
        "from keras import optimizers \r\n",
        "\r\n",
        "model = build_model(\"binary_crossentropy\", \"acc\")\r\n",
        "\r\n",
        "model.summary()"
      ],
      "execution_count": null,
      "outputs": [
        {
          "output_type": "stream",
          "text": [
            "Model: \"sequential_14\"\n",
            "_________________________________________________________________\n",
            "Layer (type)                 Output Shape              Param #   \n",
            "=================================================================\n",
            "conv2d_56 (Conv2D)           (None, 148, 148, 32)      320       \n",
            "_________________________________________________________________\n",
            "max_pooling2d_56 (MaxPooling (None, 74, 74, 32)        0         \n",
            "_________________________________________________________________\n",
            "conv2d_57 (Conv2D)           (None, 72, 72, 64)        18496     \n",
            "_________________________________________________________________\n",
            "max_pooling2d_57 (MaxPooling (None, 36, 36, 64)        0         \n",
            "_________________________________________________________________\n",
            "conv2d_58 (Conv2D)           (None, 34, 34, 128)       73856     \n",
            "_________________________________________________________________\n",
            "max_pooling2d_58 (MaxPooling (None, 17, 17, 128)       0         \n",
            "_________________________________________________________________\n",
            "conv2d_59 (Conv2D)           (None, 15, 15, 128)       147584    \n",
            "_________________________________________________________________\n",
            "max_pooling2d_59 (MaxPooling (None, 7, 7, 128)         0         \n",
            "_________________________________________________________________\n",
            "flatten_14 (Flatten)         (None, 6272)              0         \n",
            "_________________________________________________________________\n",
            "dense_29 (Dense)             (None, 512)               3211776   \n",
            "_________________________________________________________________\n",
            "dense_30 (Dense)             (None, 512)               262656    \n",
            "_________________________________________________________________\n",
            "dense_31 (Dense)             (None, 1)                 513       \n",
            "=================================================================\n",
            "Total params: 3,715,201\n",
            "Trainable params: 3,715,201\n",
            "Non-trainable params: 0\n",
            "_________________________________________________________________\n"
          ],
          "name": "stdout"
        }
      ]
    },
    {
      "cell_type": "code",
      "metadata": {
        "id": "H-V8cw96y_3Q"
      },
      "source": [
        "history = model.fit(train_datagen.flow(train_images_split,\r\n",
        "                                       train_labels_split,\r\n",
        "                                       batch_size=BATCH_SIZE,\r\n",
        "                                       shuffle=False),\r\n",
        "                    steps_per_epoch=len(train_images_split) // BATCH_SIZE, \r\n",
        "                    epochs=EPOCHS,\r\n",
        "                    validation_data=valid_datagen.flow(valid_images_split,\r\n",
        "                                       valid_labels_split,\r\n",
        "                                       batch_size=BATCH_SIZE,\r\n",
        "                                       shuffle=False),\r\n",
        "                    validation_steps=len(valid_labels_split) // BATCH_SIZE)\r\n"
      ],
      "execution_count": null,
      "outputs": []
    },
    {
      "cell_type": "code",
      "metadata": {
        "colab": {
          "base_uri": "https://localhost:8080/",
          "height": 545
        },
        "id": "nI8FjTjY4KIe",
        "outputId": "b2d5332b-1001-4341-ce68-de922a30d6ca"
      },
      "source": [
        "import matplotlib.pyplot as plt\r\n",
        "\r\n",
        "acc = history.history['acc']\r\n",
        "val_acc = history.history['val_acc']\r\n",
        "loss = history.history['loss']\r\n",
        "val_loss = history.history['val_loss']\r\n",
        "\r\n",
        "epochs = range(len(acc))\r\n",
        "\r\n",
        "plt.plot(epochs, acc, 'bo', label='Training accuracy')\r\n",
        "plt.plot(epochs, val_acc, 'b', label='Validation accuracy')\r\n",
        "plt.title('Training and validation accuracy')\r\n",
        "plt.legend()\r\n",
        "\r\n",
        "plt.figure()\r\n",
        "\r\n",
        "plt.plot(epochs, loss, 'bo', label='Training loss')\r\n",
        "plt.plot(epochs, val_loss, 'b', label='Validation loss')\r\n",
        "plt.title('Training and validation loss')\r\n",
        "plt.legend()\r\n",
        "\r\n",
        "plt.show()"
      ],
      "execution_count": null,
      "outputs": [
        {
          "output_type": "display_data",
          "data": {
            "image/png": "[encoded data removed]",
            "text/plain": [
              "<Figure size 432x288 with 1 Axes>"
            ]
          },
          "metadata": {
            "tags": [],
            "needs_background": "light"
          }
        },
        {
          "output_type": "display_data",
          "data": {
            "image/png": "[encoded data removed]",
            "text/plain": [
              "<Figure size 432x288 with 1 Axes>"
            ]
          },
          "metadata": {
            "tags": [],
            "needs_background": "light"
          }
        }
      ]
    },
    {
      "cell_type": "code",
      "metadata": {
        "colab": {
          "base_uri": "https://localhost:8080/"
        },
        "id": "pH89us9R_o_F",
        "outputId": "a58edf42-b963-4962-9a45-1eec56c6828c"
      },
      "source": [
        "test_loss, test_acc = model.evaluate(test_datagen.flow(test_images,\r\n",
        "                                                       test_labels,\r\n",
        "                                                       batch_size=BATCH_SIZE,\r\n",
        "                                                       shuffle=False),\r\n",
        "                                     steps=len(test_images) // BATCH_SIZE\r\n",
        ")\r\n",
        "\r\n",
        "print(test_acc)"
      ],
      "execution_count": null,
      "outputs": [
        {
          "output_type": "stream",
          "text": [
            "16/16 [==============================] - 0s 8ms/step - loss: 2.1569 - acc: 0.7625\n",
            "0.762499988079071\n"
          ],
          "name": "stdout"
        }
      ]
    },
    {
      "cell_type": "markdown",
      "metadata": {
        "id": "e2v_-h75Z3aZ"
      },
      "source": [
        "These plots are characteristic of **overfitting**. Training accuracy keeps increasing linearly while validation accuracy stalls around **82%**.\r\n",
        "\r\n",
        "##Fighting overfitting: 1. Data Augmentation:\r\n"
      ]
    },
    {
      "cell_type": "code",
      "metadata": {
        "colab": {
          "base_uri": "https://localhost:8080/",
          "height": 52
        },
        "id": "ojvyPceIaunR",
        "outputId": "c3ca22ac-e799-41f1-f1e8-7547715cd717"
      },
      "source": [
        "from tensorflow.keras.preprocessing import image\r\n",
        "\r\n",
        "# train data augmentation \r\n",
        "train_datagen = ImageDataGenerator(\r\n",
        "    rescale=1./65535,\r\n",
        "    rotation_range=40,\r\n",
        "    width_shift_range=0.2,\r\n",
        "    height_shift_range=0.2,\r\n",
        "    shear_range=20,\r\n",
        "    zoom_range=0.2,\r\n",
        "    horizontal_flip=True,\r\n",
        "    fill_mode='nearest')\r\n",
        "\r\n",
        "valid_datagen = ImageDataGenerator(rescale=1./65535)\r\n",
        "test_datagen = ImageDataGenerator(rescale=1./65535) \r\n",
        "\r\n",
        "\"\"\"\r\n",
        "x = train_images[0].reshape((1,) + train_images[0].shape)\r\n",
        "\r\n",
        "i = 0\r\n",
        "for batch in train_datagen.flow(x, batch_size=1):\r\n",
        "  plt.figure(i)\r\n",
        "  imgplot = plt.imshow(image.array_to_img(batch[0]))\r\n",
        "  i += 1\r\n",
        "  if i % 4 == 0:\r\n",
        "    break\r\n",
        "\r\n",
        "plt.show()\r\n",
        "\"\"\""
      ],
      "execution_count": null,
      "outputs": [
        {
          "output_type": "execute_result",
          "data": {
            "application/vnd.google.colaboratory.intrinsic+json": {
              "type": "string"
            },
            "text/plain": [
              "'\\nx = train_images[0].reshape((1,) + train_images[0].shape)\\n\\ni = 0\\nfor batch in train_datagen.flow(x, batch_size=1):\\n  plt.figure(i)\\n  imgplot = plt.imshow(image.array_to_img(batch[0]))\\n  i += 1\\n  if i % 4 == 0:\\n    break\\n\\nplt.show()\\n'"
            ]
          },
          "metadata": {
            "tags": []
          },
          "execution_count": 36
        }
      ]
    },
    {
      "cell_type": "code",
      "metadata": {
        "colab": {
          "base_uri": "https://localhost:8080/"
        },
        "id": "8ex5WyyOwir4",
        "outputId": "0bdaaddc-59d3-4249-84fb-1e865b3e448d"
      },
      "source": [
        "model = build_model(\"binary_crossentropy\", \"acc\")\r\n",
        "\r\n",
        "model.summary()"
      ],
      "execution_count": null,
      "outputs": [
        {
          "output_type": "stream",
          "text": [
            "Model: \"sequential_10\"\n",
            "_________________________________________________________________\n",
            "Layer (type)                 Output Shape              Param #   \n",
            "=================================================================\n",
            "conv2d_40 (Conv2D)           (None, 148, 148, 32)      320       \n",
            "_________________________________________________________________\n",
            "max_pooling2d_40 (MaxPooling (None, 74, 74, 32)        0         \n",
            "_________________________________________________________________\n",
            "conv2d_41 (Conv2D)           (None, 72, 72, 64)        18496     \n",
            "_________________________________________________________________\n",
            "max_pooling2d_41 (MaxPooling (None, 36, 36, 64)        0         \n",
            "_________________________________________________________________\n",
            "conv2d_42 (Conv2D)           (None, 34, 34, 128)       73856     \n",
            "_________________________________________________________________\n",
            "max_pooling2d_42 (MaxPooling (None, 17, 17, 128)       0         \n",
            "_________________________________________________________________\n",
            "conv2d_43 (Conv2D)           (None, 15, 15, 128)       147584    \n",
            "_________________________________________________________________\n",
            "max_pooling2d_43 (MaxPooling (None, 7, 7, 128)         0         \n",
            "_________________________________________________________________\n",
            "flatten_10 (Flatten)         (None, 6272)              0         \n",
            "_________________________________________________________________\n",
            "dense_20 (Dense)             (None, 512)               3211776   \n",
            "_________________________________________________________________\n",
            "dropout_3 (Dropout)          (None, 512)               0         \n",
            "_________________________________________________________________\n",
            "dense_21 (Dense)             (None, 1)                 513       \n",
            "=================================================================\n",
            "Total params: 3,452,545\n",
            "Trainable params: 3,452,545\n",
            "Non-trainable params: 0\n",
            "_________________________________________________________________\n"
          ],
          "name": "stdout"
        }
      ]
    },
    {
      "cell_type": "code",
      "metadata": {
        "colab": {
          "base_uri": "https://localhost:8080/"
        },
        "id": "T_LVsSUEj0Vx",
        "outputId": "3810f7a7-8a7f-4af0-a244-5ce76882c648"
      },
      "source": [
        "history = model.fit(train_datagen.flow(train_images_split,\r\n",
        "                                       train_labels_split,\r\n",
        "                                       batch_size=BATCH_SIZE,\r\n",
        "                                       shuffle=False),\r\n",
        "                    steps_per_epoch=len(train_images_split) // BATCH_SIZE, \r\n",
        "                    epochs=EPOCHS,\r\n",
        "                    validation_data=valid_datagen.flow(valid_images_split,\r\n",
        "                                       valid_labels_split,\r\n",
        "                                       batch_size=BATCH_SIZE,\r\n",
        "                                       shuffle=False),\r\n",
        "                    validation_steps=len(valid_labels_split) // BATCH_SIZE)"
      ],
      "execution_count": null,
      "outputs": [
        {
          "output_type": "stream",
          "text": [
            "Epoch 1/100\n",
            "93/93 [==============================] - 5s 47ms/step - loss: 0.6919 - acc: 0.5495 - val_loss: 0.6902 - val_acc: 0.5362\n",
            "Epoch 2/100\n",
            "93/93 [==============================] - 4s 44ms/step - loss: 0.6885 - acc: 0.5487 - val_loss: 0.6680 - val_acc: 0.5362\n",
            "Epoch 3/100\n",
            "93/93 [==============================] - 4s 43ms/step - loss: 0.6726 - acc: 0.5703 - val_loss: 0.6351 - val_acc: 0.6925\n",
            "Epoch 4/100\n",
            "93/93 [==============================] - 4s 44ms/step - loss: 0.6428 - acc: 0.6235 - val_loss: 0.5710 - val_acc: 0.7800\n",
            "Epoch 5/100\n",
            "93/93 [==============================] - 4s 44ms/step - loss: 0.6074 - acc: 0.6837 - val_loss: 0.5163 - val_acc: 0.8175\n",
            "Epoch 6/100\n",
            "93/93 [==============================] - 4s 44ms/step - loss: 0.5903 - acc: 0.7037 - val_loss: 0.5499 - val_acc: 0.6825\n",
            "Epoch 7/100\n",
            "93/93 [==============================] - 4s 44ms/step - loss: 0.5758 - acc: 0.7104 - val_loss: 0.4816 - val_acc: 0.8075\n",
            "Epoch 8/100\n",
            "93/93 [==============================] - 4s 45ms/step - loss: 0.5538 - acc: 0.7258 - val_loss: 0.4562 - val_acc: 0.8238\n",
            "Epoch 9/100\n",
            "93/93 [==============================] - 4s 45ms/step - loss: 0.5506 - acc: 0.7255 - val_loss: 0.4971 - val_acc: 0.7750\n",
            "Epoch 10/100\n",
            "93/93 [==============================] - 4s 44ms/step - loss: 0.5283 - acc: 0.7435 - val_loss: 0.4541 - val_acc: 0.7650\n",
            "Epoch 11/100\n",
            "93/93 [==============================] - 4s 43ms/step - loss: 0.5554 - acc: 0.7332 - val_loss: 0.4341 - val_acc: 0.8250\n",
            "Epoch 12/100\n",
            "93/93 [==============================] - 4s 44ms/step - loss: 0.5346 - acc: 0.7269 - val_loss: 0.4144 - val_acc: 0.8325\n",
            "Epoch 13/100\n",
            "93/93 [==============================] - 4s 44ms/step - loss: 0.5471 - acc: 0.7280 - val_loss: 0.4407 - val_acc: 0.7738\n",
            "Epoch 14/100\n",
            "93/93 [==============================] - 4s 44ms/step - loss: 0.5413 - acc: 0.7540 - val_loss: 0.4098 - val_acc: 0.8363\n",
            "Epoch 15/100\n",
            "93/93 [==============================] - 4s 44ms/step - loss: 0.5100 - acc: 0.7533 - val_loss: 0.4403 - val_acc: 0.8087\n",
            "Epoch 16/100\n",
            "93/93 [==============================] - 4s 45ms/step - loss: 0.5046 - acc: 0.7680 - val_loss: 0.4012 - val_acc: 0.8425\n",
            "Epoch 17/100\n",
            "93/93 [==============================] - 4s 43ms/step - loss: 0.4861 - acc: 0.7707 - val_loss: 0.4628 - val_acc: 0.7437\n",
            "Epoch 18/100\n",
            "93/93 [==============================] - 4s 44ms/step - loss: 0.4927 - acc: 0.7602 - val_loss: 0.4411 - val_acc: 0.7912\n",
            "Epoch 19/100\n",
            "93/93 [==============================] - 4s 44ms/step - loss: 0.4836 - acc: 0.7671 - val_loss: 0.3778 - val_acc: 0.8587\n",
            "Epoch 20/100\n",
            "93/93 [==============================] - 4s 44ms/step - loss: 0.4973 - acc: 0.7653 - val_loss: 0.3717 - val_acc: 0.8487\n",
            "Epoch 21/100\n",
            "93/93 [==============================] - 4s 44ms/step - loss: 0.4752 - acc: 0.7752 - val_loss: 0.3755 - val_acc: 0.8537\n",
            "Epoch 22/100\n",
            "93/93 [==============================] - 4s 44ms/step - loss: 0.4724 - acc: 0.7944 - val_loss: 0.3994 - val_acc: 0.8525\n",
            "Epoch 23/100\n",
            "93/93 [==============================] - 4s 44ms/step - loss: 0.4523 - acc: 0.7945 - val_loss: 0.3787 - val_acc: 0.8400\n",
            "Epoch 24/100\n",
            "93/93 [==============================] - 4s 44ms/step - loss: 0.4666 - acc: 0.7953 - val_loss: 0.3696 - val_acc: 0.8487\n",
            "Epoch 25/100\n",
            "93/93 [==============================] - 4s 43ms/step - loss: 0.4496 - acc: 0.7952 - val_loss: 0.3594 - val_acc: 0.8500\n",
            "Epoch 26/100\n",
            "93/93 [==============================] - 4s 44ms/step - loss: 0.4415 - acc: 0.8041 - val_loss: 0.4016 - val_acc: 0.8112\n",
            "Epoch 27/100\n",
            "93/93 [==============================] - 4s 44ms/step - loss: 0.4591 - acc: 0.7988 - val_loss: 0.3452 - val_acc: 0.8625\n",
            "Epoch 28/100\n",
            "93/93 [==============================] - 4s 44ms/step - loss: 0.4282 - acc: 0.8144 - val_loss: 0.3399 - val_acc: 0.8650\n",
            "Epoch 29/100\n",
            "93/93 [==============================] - 4s 45ms/step - loss: 0.4513 - acc: 0.8102 - val_loss: 0.3677 - val_acc: 0.8575\n",
            "Epoch 30/100\n",
            "93/93 [==============================] - 4s 44ms/step - loss: 0.4622 - acc: 0.8021 - val_loss: 0.3657 - val_acc: 0.8413\n",
            "Epoch 31/100\n",
            "93/93 [==============================] - 4s 44ms/step - loss: 0.4360 - acc: 0.7950 - val_loss: 0.3771 - val_acc: 0.8637\n",
            "Epoch 32/100\n",
            "93/93 [==============================] - 4s 45ms/step - loss: 0.4431 - acc: 0.8220 - val_loss: 0.3434 - val_acc: 0.8650\n",
            "Epoch 33/100\n",
            "93/93 [==============================] - 4s 44ms/step - loss: 0.4447 - acc: 0.7973 - val_loss: 0.3713 - val_acc: 0.8375\n",
            "Epoch 34/100\n",
            "93/93 [==============================] - 4s 44ms/step - loss: 0.4372 - acc: 0.8121 - val_loss: 0.3508 - val_acc: 0.8425\n",
            "Epoch 35/100\n",
            "93/93 [==============================] - 4s 44ms/step - loss: 0.4222 - acc: 0.8206 - val_loss: 0.3138 - val_acc: 0.8737\n",
            "Epoch 36/100\n",
            "93/93 [==============================] - 4s 44ms/step - loss: 0.4449 - acc: 0.8089 - val_loss: 0.3668 - val_acc: 0.8313\n",
            "Epoch 37/100\n",
            "93/93 [==============================] - 4s 44ms/step - loss: 0.4262 - acc: 0.8193 - val_loss: 0.3899 - val_acc: 0.8100\n",
            "Epoch 38/100\n",
            "93/93 [==============================] - 4s 44ms/step - loss: 0.4218 - acc: 0.8142 - val_loss: 0.3518 - val_acc: 0.8637\n",
            "Epoch 39/100\n",
            "93/93 [==============================] - 4s 44ms/step - loss: 0.4168 - acc: 0.8010 - val_loss: 0.3274 - val_acc: 0.8637\n",
            "Epoch 40/100\n",
            "93/93 [==============================] - 4s 44ms/step - loss: 0.3962 - acc: 0.8285 - val_loss: 0.3233 - val_acc: 0.8800\n",
            "Epoch 41/100\n",
            "93/93 [==============================] - 4s 44ms/step - loss: 0.4160 - acc: 0.8287 - val_loss: 0.3169 - val_acc: 0.8662\n",
            "Epoch 42/100\n",
            "93/93 [==============================] - 4s 44ms/step - loss: 0.4020 - acc: 0.8365 - val_loss: 0.3387 - val_acc: 0.8600\n",
            "Epoch 43/100\n",
            "93/93 [==============================] - 4s 44ms/step - loss: 0.4293 - acc: 0.8252 - val_loss: 0.4101 - val_acc: 0.8562\n",
            "Epoch 44/100\n",
            "93/93 [==============================] - 4s 44ms/step - loss: 0.4333 - acc: 0.8125 - val_loss: 0.3865 - val_acc: 0.8263\n",
            "Epoch 45/100\n",
            "93/93 [==============================] - 4s 44ms/step - loss: 0.4125 - acc: 0.8246 - val_loss: 0.3566 - val_acc: 0.8425\n",
            "Epoch 46/100\n",
            "93/93 [==============================] - 4s 45ms/step - loss: 0.4229 - acc: 0.8173 - val_loss: 0.3366 - val_acc: 0.8788\n",
            "Epoch 47/100\n",
            "93/93 [==============================] - 4s 44ms/step - loss: 0.3922 - acc: 0.8300 - val_loss: 0.3093 - val_acc: 0.8662\n",
            "Epoch 48/100\n",
            "93/93 [==============================] - 4s 44ms/step - loss: 0.3830 - acc: 0.8366 - val_loss: 0.4671 - val_acc: 0.7788\n",
            "Epoch 49/100\n",
            "93/93 [==============================] - 4s 44ms/step - loss: 0.4049 - acc: 0.8404 - val_loss: 0.3153 - val_acc: 0.8687\n",
            "Epoch 50/100\n",
            "93/93 [==============================] - 4s 44ms/step - loss: 0.3726 - acc: 0.8391 - val_loss: 0.4444 - val_acc: 0.8037\n",
            "Epoch 51/100\n",
            "93/93 [==============================] - 4s 44ms/step - loss: 0.3972 - acc: 0.8398 - val_loss: 0.3249 - val_acc: 0.8600\n",
            "Epoch 52/100\n",
            "93/93 [==============================] - 4s 44ms/step - loss: 0.3893 - acc: 0.8383 - val_loss: 0.3982 - val_acc: 0.8587\n",
            "Epoch 53/100\n",
            "93/93 [==============================] - 4s 44ms/step - loss: 0.3576 - acc: 0.8563 - val_loss: 0.3174 - val_acc: 0.8775\n",
            "Epoch 54/100\n",
            "93/93 [==============================] - 4s 44ms/step - loss: 0.3624 - acc: 0.8452 - val_loss: 0.3273 - val_acc: 0.8650\n",
            "Epoch 55/100\n",
            "93/93 [==============================] - 4s 44ms/step - loss: 0.3601 - acc: 0.8576 - val_loss: 0.3616 - val_acc: 0.8600\n",
            "Epoch 56/100\n",
            "93/93 [==============================] - 4s 44ms/step - loss: 0.3779 - acc: 0.8425 - val_loss: 0.3149 - val_acc: 0.8863\n",
            "Epoch 57/100\n",
            "93/93 [==============================] - 4s 44ms/step - loss: 0.3959 - acc: 0.8259 - val_loss: 0.2968 - val_acc: 0.8763\n",
            "Epoch 58/100\n",
            "93/93 [==============================] - 4s 46ms/step - loss: 0.3677 - acc: 0.8489 - val_loss: 0.2872 - val_acc: 0.8850\n",
            "Epoch 59/100\n",
            "93/93 [==============================] - 4s 44ms/step - loss: 0.3732 - acc: 0.8493 - val_loss: 0.2924 - val_acc: 0.8788\n",
            "Epoch 60/100\n",
            "93/93 [==============================] - 4s 45ms/step - loss: 0.3621 - acc: 0.8446 - val_loss: 0.2919 - val_acc: 0.8838\n",
            "Epoch 61/100\n",
            "93/93 [==============================] - 4s 45ms/step - loss: 0.3793 - acc: 0.8394 - val_loss: 0.2909 - val_acc: 0.8763\n",
            "Epoch 62/100\n",
            "93/93 [==============================] - 4s 46ms/step - loss: 0.3414 - acc: 0.8703 - val_loss: 0.2834 - val_acc: 0.8863\n",
            "Epoch 63/100\n",
            "93/93 [==============================] - 4s 45ms/step - loss: 0.3474 - acc: 0.8535 - val_loss: 0.3324 - val_acc: 0.8450\n",
            "Epoch 64/100\n",
            "93/93 [==============================] - 4s 45ms/step - loss: 0.3848 - acc: 0.8391 - val_loss: 0.2904 - val_acc: 0.8788\n",
            "Epoch 65/100\n",
            "93/93 [==============================] - 4s 46ms/step - loss: 0.3389 - acc: 0.8487 - val_loss: 0.3286 - val_acc: 0.8725\n",
            "Epoch 66/100\n",
            "93/93 [==============================] - 4s 47ms/step - loss: 0.3630 - acc: 0.8333 - val_loss: 0.2758 - val_acc: 0.8838\n",
            "Epoch 67/100\n",
            "93/93 [==============================] - 4s 47ms/step - loss: 0.3372 - acc: 0.8553 - val_loss: 0.3098 - val_acc: 0.8737\n",
            "Epoch 68/100\n",
            "93/93 [==============================] - 4s 46ms/step - loss: 0.3644 - acc: 0.8339 - val_loss: 0.2914 - val_acc: 0.8838\n",
            "Epoch 69/100\n",
            "93/93 [==============================] - 4s 46ms/step - loss: 0.3245 - acc: 0.8654 - val_loss: 0.2932 - val_acc: 0.8737\n",
            "Epoch 70/100\n",
            "93/93 [==============================] - 4s 44ms/step - loss: 0.3612 - acc: 0.8481 - val_loss: 0.2925 - val_acc: 0.8737\n",
            "Epoch 71/100\n",
            "93/93 [==============================] - 4s 43ms/step - loss: 0.3705 - acc: 0.8530 - val_loss: 0.2996 - val_acc: 0.8763\n",
            "Epoch 72/100\n",
            "93/93 [==============================] - 4s 44ms/step - loss: 0.3571 - acc: 0.8224 - val_loss: 0.3808 - val_acc: 0.8375\n",
            "Epoch 73/100\n",
            "93/93 [==============================] - 4s 44ms/step - loss: 0.3643 - acc: 0.8504 - val_loss: 0.3447 - val_acc: 0.8562\n",
            "Epoch 74/100\n",
            "93/93 [==============================] - 4s 44ms/step - loss: 0.3524 - acc: 0.8451 - val_loss: 0.2835 - val_acc: 0.8850\n",
            "Epoch 75/100\n",
            "93/93 [==============================] - 4s 44ms/step - loss: 0.3506 - acc: 0.8566 - val_loss: 0.2961 - val_acc: 0.8763\n",
            "Epoch 76/100\n",
            "93/93 [==============================] - 4s 44ms/step - loss: 0.3462 - acc: 0.8489 - val_loss: 0.3204 - val_acc: 0.8763\n",
            "Epoch 77/100\n",
            "93/93 [==============================] - 4s 44ms/step - loss: 0.3560 - acc: 0.8470 - val_loss: 0.2992 - val_acc: 0.8650\n",
            "Epoch 78/100\n",
            "93/93 [==============================] - 4s 44ms/step - loss: 0.3337 - acc: 0.8615 - val_loss: 0.3340 - val_acc: 0.8750\n",
            "Epoch 79/100\n",
            "93/93 [==============================] - 4s 44ms/step - loss: 0.3410 - acc: 0.8518 - val_loss: 0.3102 - val_acc: 0.8750\n",
            "Epoch 80/100\n",
            "93/93 [==============================] - 4s 44ms/step - loss: 0.3694 - acc: 0.8470 - val_loss: 0.2783 - val_acc: 0.8875\n",
            "Epoch 81/100\n",
            "93/93 [==============================] - 4s 45ms/step - loss: 0.3395 - acc: 0.8676 - val_loss: 0.2743 - val_acc: 0.8913\n",
            "Epoch 82/100\n",
            "93/93 [==============================] - 4s 45ms/step - loss: 0.3546 - acc: 0.8569 - val_loss: 0.2806 - val_acc: 0.8950\n",
            "Epoch 83/100\n",
            "93/93 [==============================] - 4s 44ms/step - loss: 0.3622 - acc: 0.8552 - val_loss: 0.4031 - val_acc: 0.8050\n",
            "Epoch 84/100\n",
            "93/93 [==============================] - 4s 45ms/step - loss: 0.3277 - acc: 0.8681 - val_loss: 0.2898 - val_acc: 0.8737\n",
            "Epoch 85/100\n",
            "93/93 [==============================] - 4s 45ms/step - loss: 0.3118 - acc: 0.8627 - val_loss: 0.3092 - val_acc: 0.8650\n",
            "Epoch 86/100\n",
            "93/93 [==============================] - 4s 45ms/step - loss: 0.3255 - acc: 0.8634 - val_loss: 0.2819 - val_acc: 0.8788\n",
            "Epoch 87/100\n",
            "93/93 [==============================] - 4s 44ms/step - loss: 0.3652 - acc: 0.8438 - val_loss: 0.2763 - val_acc: 0.8863\n",
            "Epoch 88/100\n",
            "93/93 [==============================] - 4s 45ms/step - loss: 0.3796 - acc: 0.8434 - val_loss: 0.2674 - val_acc: 0.8850\n",
            "Epoch 89/100\n",
            "93/93 [==============================] - 4s 44ms/step - loss: 0.3386 - acc: 0.8514 - val_loss: 0.2943 - val_acc: 0.8788\n",
            "Epoch 90/100\n",
            "93/93 [==============================] - 4s 44ms/step - loss: 0.3409 - acc: 0.8524 - val_loss: 0.2748 - val_acc: 0.8850\n",
            "Epoch 91/100\n",
            "93/93 [==============================] - 4s 44ms/step - loss: 0.2973 - acc: 0.8723 - val_loss: 0.3109 - val_acc: 0.8800\n",
            "Epoch 92/100\n",
            "93/93 [==============================] - 4s 44ms/step - loss: 0.3595 - acc: 0.8514 - val_loss: 0.4027 - val_acc: 0.8188\n",
            "Epoch 93/100\n",
            "93/93 [==============================] - 4s 44ms/step - loss: 0.3299 - acc: 0.8647 - val_loss: 0.3648 - val_acc: 0.8562\n",
            "Epoch 94/100\n",
            "93/93 [==============================] - 4s 44ms/step - loss: 0.3522 - acc: 0.8456 - val_loss: 0.2667 - val_acc: 0.8950\n",
            "Epoch 95/100\n",
            "93/93 [==============================] - 4s 44ms/step - loss: 0.3219 - acc: 0.8711 - val_loss: 0.2822 - val_acc: 0.8863\n",
            "Epoch 96/100\n",
            "93/93 [==============================] - 4s 44ms/step - loss: 0.3248 - acc: 0.8636 - val_loss: 0.3847 - val_acc: 0.8338\n",
            "Epoch 97/100\n",
            "93/93 [==============================] - 4s 44ms/step - loss: 0.3549 - acc: 0.8591 - val_loss: 0.3018 - val_acc: 0.8850\n",
            "Epoch 98/100\n",
            "93/93 [==============================] - 4s 44ms/step - loss: 0.3275 - acc: 0.8656 - val_loss: 0.3295 - val_acc: 0.8600\n",
            "Epoch 99/100\n",
            "93/93 [==============================] - 4s 44ms/step - loss: 0.3155 - acc: 0.8674 - val_loss: 0.2691 - val_acc: 0.8888\n",
            "Epoch 100/100\n",
            "93/93 [==============================] - 4s 44ms/step - loss: 0.3209 - acc: 0.8660 - val_loss: 0.3047 - val_acc: 0.8888\n"
          ],
          "name": "stdout"
        }
      ]
    },
    {
      "cell_type": "code",
      "metadata": {
        "colab": {
          "base_uri": "https://localhost:8080/",
          "height": 545
        },
        "id": "DNJBV5khoFEA",
        "outputId": "52ba77cc-c4fd-4cb2-bf69-8ba4fa9f6802"
      },
      "source": [
        "acc = history.history['acc']\r\n",
        "val_acc = history.history['val_acc']\r\n",
        "loss = history.history['loss']\r\n",
        "val_loss = history.history['val_loss']\r\n",
        "\r\n",
        "epochs = range(len(acc))\r\n",
        "\r\n",
        "plt.plot(epochs, acc, 'bo', label='Training accuracy')\r\n",
        "plt.plot(epochs, val_acc, 'b', label='Validation accuracy')\r\n",
        "plt.title('Training and validation accuracy')\r\n",
        "plt.legend()\r\n",
        "\r\n",
        "plt.figure()\r\n",
        "\r\n",
        "plt.plot(epochs, loss, 'bo', label='Training loss')\r\n",
        "plt.plot(epochs, val_loss, 'b', label='Validation loss')\r\n",
        "plt.title('Training and validation loss')\r\n",
        "plt.legend()\r\n",
        "\r\n",
        "plt.show()"
      ],
      "execution_count": null,
      "outputs": [
        {
          "output_type": "display_data",
          "data": {
            "image/png": "[encoded data removed]",
            "text/plain": [
              "<Figure size 432x288 with 1 Axes>"
            ]
          },
          "metadata": {
            "tags": [],
            "needs_background": "light"
          }
        },
        {
          "output_type": "display_data",
          "data": {
            "image/png": "[encoded data removed]",
            "text/plain": [
              "<Figure size 432x288 with 1 Axes>"
            ]
          },
          "metadata": {
            "tags": [],
            "needs_background": "light"
          }
        }
      ]
    },
    {
      "cell_type": "code",
      "metadata": {
        "colab": {
          "base_uri": "https://localhost:8080/"
        },
        "id": "YYDj_8GquRRh",
        "outputId": "42ce8ffd-7e3a-469d-9609-00a6f49bacd6"
      },
      "source": [
        "test_loss, test_acc = model.evaluate(test_datagen.flow(test_images,\r\n",
        "                                                       test_labels,\r\n",
        "                                                       batch_size=BATCH_SIZE,\r\n",
        "                                                       shuffle=False),\r\n",
        "                                     steps=len(test_images) // BATCH_SIZE\r\n",
        ")\r\n",
        "\r\n",
        "print(test_acc)"
      ],
      "execution_count": null,
      "outputs": [
        {
          "output_type": "stream",
          "text": [
            "16/16 [==============================] - 0s 8ms/step - loss: 0.3545 - acc: 0.8500\n",
            "0.8500000238418579\n"
          ],
          "name": "stdout"
        }
      ]
    },
    {
      "cell_type": "markdown",
      "metadata": {
        "id": "UrLD4fBGtc6k"
      },
      "source": [
        "##K-fold cross validation.\r\n"
      ]
    },
    {
      "cell_type": "code",
      "metadata": {
        "colab": {
          "base_uri": "https://localhost:8080/"
        },
        "id": "YuiUODCT97Bq",
        "outputId": "363138a4-791b-4b18-bdb0-7f2c6724ae17"
      },
      "source": [
        "print(train_images.shape)\r\n",
        "\r\n",
        "# train data augmentation for k-fold-cross-validation \r\n",
        "train_datagen = ImageDataGenerator(\r\n",
        "    rescale=1./65535,\r\n",
        "    rotation_range=40,\r\n",
        "    width_shift_range=0.2,\r\n",
        "    height_shift_range=0.2,\r\n",
        "    shear_range=20,\r\n",
        "    zoom_range=0.2,\r\n",
        "    horizontal_flip=True,\r\n",
        "    fill_mode='nearest')\r\n",
        "\r\n",
        "valid_datagen = ImageDataGenerator(rescale=1./65535)"
      ],
      "execution_count": null,
      "outputs": [
        {
          "output_type": "stream",
          "text": [
            "(2676, 150, 150, 1)\n"
          ],
          "name": "stdout"
        }
      ]
    },
    {
      "cell_type": "code",
      "metadata": {
        "id": "DgdAZtZ1wMf3"
      },
      "source": [
        "def cross_validate(k, batch_size, num_epochs, dataset, targets, verbosity):\r\n",
        "  #10-Fold-Cross-Validation\r\n",
        "  num_val_samples = len(dataset) // k \r\n",
        "  validation_accuracies = []\r\n",
        "  validation_losses = []\r\n",
        "\r\n",
        "  for i in range(k):\r\n",
        "    # rigen augmented data \r\n",
        "    \r\n",
        "    print(\"processing fold #\", i)\r\n",
        "    validation_data = dataset[i * num_val_samples : (i + 1) * num_val_samples]\r\n",
        "    validation_labels = targets[i * num_val_samples : (i + 1) * num_val_samples]\r\n",
        "\r\n",
        "    partial_train_data = np.concatenate(\r\n",
        "        [dataset[:i * num_val_samples],\r\n",
        "        dataset[(i + 1) * num_val_samples:]], \r\n",
        "        axis=0)\r\n",
        "\r\n",
        "    partial_train_targets = np.concatenate(\r\n",
        "        [targets[:i * num_val_samples],\r\n",
        "        targets[(i + 1) * num_val_samples:]], \r\n",
        "        axis=0)\r\n",
        "\r\n",
        "    model = build_model(\"binary_crossentropy\", \"acc\")\r\n",
        "    \r\n",
        "    history = model.fit(train_datagen.flow(partial_train_data, \r\n",
        "                                          partial_train_targets,\r\n",
        "                                          batch_size=batch_size,\r\n",
        "                                          shuffle=False),\r\n",
        "                        epochs=num_epochs,\r\n",
        "                        steps_per_epoch=len(partial_train_data) // batch_size,\r\n",
        "                        verbose=verbosity)\r\n",
        "    \r\n",
        "    val_loss, val_acc = model.evaluate(valid_datagen.flow(validation_data,\r\n",
        "                                                          validation_labels,\r\n",
        "                                                          batch_size=batch_size,\r\n",
        "                                                          shuffle=False),\r\n",
        "                                      steps=len(validation_data) // batch_size)\r\n",
        "    \r\n",
        "    validation_accuracies.append(val_acc)\r\n",
        "    validation_losses.append(val_loss)\r\n",
        "\r\n",
        "  return validation_accuracies, validation_losses \r\n",
        "  "
      ],
      "execution_count": null,
      "outputs": []
    },
    {
      "cell_type": "code",
      "metadata": {
        "id": "MdmZ-0dKuKlG"
      },
      "source": [
        "acc, loss = cross_validate(k=10, batch_size=20, num_epochs=100, dataset=train_images, targets=labels, verbosity=1)"
      ],
      "execution_count": null,
      "outputs": []
    },
    {
      "cell_type": "code",
      "metadata": {
        "id": "M3hbM3c6RxTq"
      },
      "source": [
        "print(len(acc))\r\n",
        "print(len(loss))\r\n",
        "print()\r\n",
        "print(np.mean(acc))\r\n",
        "print(np.mean(loss))"
      ],
      "execution_count": null,
      "outputs": []
    },
    {
      "cell_type": "markdown",
      "metadata": {
        "id": "DqQKeyLVTVi7"
      },
      "source": [
        "##Hyperparameters Tuning:\r\n",
        "\r\n",
        "*   add Dropout or L2 Regularization\r\n",
        "*   varying of convolutional layers: [3, 5, 7]\r\n",
        "*   varying # of units per layer:\r\n",
        "\r\n",
        "| Layer  | Unit per Layer  |  \r\n",
        "|---|---|\r\n",
        "| 1  | [32,32,64,128]  |\r\n",
        "| 2  | [32,64,128,128]  |\r\n",
        "| 3  | [32,64,128,256]  |\r\n",
        "| 4  | [64,64,128,256]  |\r\n",
        "\r\n",
        "*   change Optimizer (try Adam)\r\n",
        "*   varying batch size: [20, 32, 64, 128]\r\n",
        "*   varying learning rate \r\n",
        "\r\n"
      ]
    },
    {
      "cell_type": "code",
      "metadata": {
        "id": "fQgC-nrCTcn7"
      },
      "source": [
        "from keras import optimizers\r\n",
        "\r\n",
        "#Parameters Grid \r\n",
        "dropout_regularization = [False, True]                                      # provare prima \r\n",
        "batch_sizes = [20, 32, 64, 128]                                             # 4 \r\n",
        "layers_number = 4                                                           # 1\r\n",
        "units_per_layer_dict = [[32,64,128,128], [32,64,128,256]]                   # 2\r\n",
        "learning_rates = [1e-2, 1e-3, 1e-4]                                         # 3\r\n",
        "opts = [optimizers.RMSprop(lr=1e-4), optimizers.Adam(learning_rate=0.01)]   # 2\r\n",
        "num_epochs = 100\r\n",
        "num_folds = 5\r\n",
        "\r\n",
        "def build_custom_model(layers_number, units_per_layer, batch_size, dropout, optimizer):\r\n",
        "  model = models.Sequential()\r\n",
        "\r\n",
        "  for i in range(layers_number):\r\n",
        "    model.add(layers.Conv2D(units_per_layer[i], (3, 3), activation='relu', input_shape=(150, 150, 1)))\r\n",
        "    model.add(layers.MaxPooling2D((2, 2)))\r\n",
        "  \r\n",
        "  model.add(layers.Flatten())\r\n",
        "  model.add(layers.Dense(512, activation='relu'))\r\n",
        "  \r\n",
        "  if dropout:\r\n",
        "    model.add(layers.Dropout(0.5))\r\n",
        "\r\n",
        "  model.add(layers.Dense(1, activation='sigmoid'))\r\n",
        "\r\n",
        "  #model.summary()\r\n",
        "  model.compile(loss=\"binary_crossentropy\",\r\n",
        "              optimizer=optimizer,\r\n",
        "              metrics=[\"acc\"]) \r\n",
        "  \r\n",
        "  return model \r\n",
        "\r\n",
        "def CNN_tuning(num_folds, batch_sizes, num_epochs, layers_number, units_per_layer_dict, learning_rates, dropout_reg, dataset, targets):\r\n",
        "  lr = learning_rates[0]  \r\n",
        "  opts = [optimizers.RMSprop(lr=lr), optimizers.Adam(learning_rate=lr)]\r\n",
        "\r\n",
        "  with open(file_path, 'w') as f:\r\n",
        "    header = \"batch_size, num_epochs, units_per_layer, optimizer, learning_rate, mean_val_loss, mean_val_acc, num_folds \\n\"\r\n",
        "    f.write(header)\r\n",
        "\r\n",
        "  for batch_size in batch_sizes:                # 4\r\n",
        "    for opt in opts:                            # 2\r\n",
        "      for values_set in units_per_layer_dict:   # 2\r\n",
        "        #build CNN model \r\n",
        "        model = build_custom_model(layers_number, values_set, batch_size, dropout_reg, opt)\r\n",
        "\r\n",
        "        if \"RMSprop\" in str(opt):\r\n",
        "          str_opt = \"RMSprop\"  \r\n",
        "        else:\r\n",
        "          str_opt = \"Adam\"\r\n",
        "\r\n",
        "        #print info \r\n",
        "        print(\"-----------------------------------------------------\")\r\n",
        "        print(\"batch_size: \\t\", batch_size)\r\n",
        "        print(\"num_epochs: \\t\", num_epochs)\r\n",
        "        print(\"units_per_layer:\", str(values_set).replace(\",\", \" \"))\r\n",
        "        print(\"optimizer: \\t\", str_opt)\r\n",
        "        print(\"learning_rate: \\t\", str(lr))\r\n",
        "        print(\"num_folds CV: \\t\", num_folds)\r\n",
        "        print(\"-----------------------------------------------------\")\r\n",
        "\r\n",
        "        #cross validate CNN model\r\n",
        "        val_loss, val_acc = cross_validate(num_folds, batch_size, num_epochs, dataset, targets, 1)\r\n",
        "\r\n",
        "        #save results on csv file \r\n",
        "        with open(file_path, 'a') as f:\r\n",
        "          row = str(batch_size) + \",\" \\\r\n",
        "              + str(num_epochs) + \",\" \\\r\n",
        "              + str(values_set).replace(\",\", \" \") + \",\" \\\r\n",
        "              + str_opt + \",\" \\\r\n",
        "              + str(lr) + \",\" \\\r\n",
        "              + str(round(np.mean(val_loss), 4)) + \",\" \\\r\n",
        "              + str(round(np.mean(val_acc), 4)) + \",\" \\\r\n",
        "              + str(num_folds) + \"\\n\"\r\n",
        "          f.write(row)\r\n"
      ],
      "execution_count": null,
      "outputs": []
    },
    {
      "cell_type": "code",
      "metadata": {
        "id": "u0fLlSfbPOWB"
      },
      "source": [
        "file_path = \"/content/gdrive/My Drive/Colab_Notebooks/CIDL/DL Project/try.csv\"\r\n",
        "\r\n",
        "CNN_tuning(num_folds, batch_sizes, num_epochs, layers_number, units_per_layer_dict, learning_rates, dropout_regularization, train_images, labels)"
      ],
      "execution_count": null,
      "outputs": []
    }
  ]
}