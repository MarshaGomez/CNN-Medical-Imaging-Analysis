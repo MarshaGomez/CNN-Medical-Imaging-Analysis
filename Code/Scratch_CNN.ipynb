{
  "nbformat": 4,
  "nbformat_minor": 0,
  "metadata": {
    "colab": {
      "name": "Scratch_CNN.ipynb",
      "provenance": [],
      "collapsed_sections": [],
      "include_colab_link": true
    },
    "kernelspec": {
      "name": "python3",
      "display_name": "Python 3"
    },
    "accelerator": "GPU"
  },
  "cells": [
    {
      "cell_type": "markdown",
      "metadata": {
        "id": "view-in-github",
        "colab_type": "text"
      },
      "source": [
        "<a href=\"https://colab.research.google.com/github/MarshaGomez/CNN-Medical-Imaging-Analysis/blob/main/Code/Scratch_CNN.ipynb\" target=\"_parent\"><img src=\"https://colab.research.google.com/assets/colab-badge.svg\" alt=\"Open In Colab\"/></a>"
      ]
    },
    {
      "cell_type": "markdown",
      "metadata": {
        "id": "UPQ8gkXb0NY0"
      },
      "source": [
        "# **Scratch CNN**\r\n",
        "---\r\n",
        "Classification model for discriminating between 2 classes: **masses and calcification**. *Ad-hoc CNN architecture*.\r\n",
        "\r\n",
        "**Students:**   *A. Schiavo - M. Gómez - M. Daole*\r\n",
        "\r\n"
      ]
    },
    {
      "cell_type": "code",
      "metadata": {
        "colab": {
          "base_uri": "https://localhost:8080/"
        },
        "id": "95hM4MvWjwfO",
        "outputId": "273c2ba5-c4e2-4f0c-c687-9f6fac8651e2"
      },
      "source": [
        "from google.colab import drive\r\n",
        "drive.mount('/content/gdrive', force_remount=True)"
      ],
      "execution_count": null,
      "outputs": [
        {
          "output_type": "stream",
          "text": [
            "Mounted at /content/gdrive\n"
          ],
          "name": "stdout"
        }
      ]
    },
    {
      "cell_type": "code",
      "metadata": {
        "id": "iduaD281krFD",
        "colab": {
          "base_uri": "https://localhost:8080/"
        },
        "outputId": "268117f2-ef57-41b5-86c7-9410b0d38557"
      },
      "source": [
        "import tensorflow as tf\r\n",
        "print(tf.__version__)\r\n",
        "import numpy as np\r\n",
        "import os \r\n",
        "\r\n",
        "base_path = \"/content/gdrive/My Drive/Colab_Notebooks/CIDL/DL Project/numpy data\"\r\n",
        "train_img_path = os.path.join(base_path, 'train_tensor.npy')\r\n",
        "train_label_path = os.path.join(base_path, 'train_labels.npy')\r\n",
        "test_img_path = os.path.join(base_path, 'public_test_tensor.npy')\r\n",
        "test_label_path = os.path.join(base_path, 'public_test_labels.npy')"
      ],
      "execution_count": null,
      "outputs": [
        {
          "output_type": "stream",
          "text": [
            "2.4.0\n"
          ],
          "name": "stdout"
        }
      ]
    },
    {
      "cell_type": "code",
      "metadata": {
        "id": "ek9JMlmD6GsU"
      },
      "source": [
        "# Load Arrays from Numpy Files\r\n",
        "def load_training():\r\n",
        "  train_images = np.load(train_img_path)\r\n",
        "  train_labels = np.load(train_label_path)\r\n",
        "  test_images = np.load(test_img_path)\r\n",
        "  test_labels = np.load(test_label_path)\r\n",
        "\r\n",
        "  return train_images, train_labels, test_images, test_labels\r\n",
        "\r\n",
        "# Remove baseline samples\r\n",
        "def remove_baseline(tensor): \r\n",
        "  max_ind = int(len(tensor)/2)\r\n",
        "  indexes = [2*i + 1 for i in range(0, max_ind)]\r\n",
        "\r\n",
        "  return tensor[indexes]\r\n",
        "\r\n",
        "# Interchange the dataset index\r\n",
        "def shuffle_dataset(x, y):\r\n",
        "  indices = tf.range(start=0, limit=tf.shape(x)[0], dtype=tf.int32)\r\n",
        "  shuffled_indices = tf.random.shuffle(indices)\r\n",
        "\r\n",
        "  x = tf.gather(x, shuffled_indices)\r\n",
        "  y = tf.gather(y, shuffled_indices)\r\n",
        "\r\n",
        "  x = x.numpy()\r\n",
        "  y = y.numpy()\r\n",
        "\r\n",
        "  return x, y"
      ],
      "execution_count": null,
      "outputs": []
    },
    {
      "cell_type": "code",
      "metadata": {
        "colab": {
          "base_uri": "https://localhost:8080/"
        },
        "id": "Gowt9JUQ6sdj",
        "outputId": "8099c6e3-522f-4b37-e693-8f130d1e8247"
      },
      "source": [
        "# Get images and labels (test, train)\r\n",
        "train_images, train_labels, test_images, test_labels = load_training()\r\n",
        "\r\n",
        "# Get abnormalities only \r\n",
        "train_images = remove_baseline(train_images)\r\n",
        "train_labels = remove_baseline(train_labels)\r\n",
        "test_images = remove_baseline(test_images)\r\n",
        "test_labels = remove_baseline(test_labels)\r\n",
        "\r\n",
        "# Suffle index (Previous dataset is ordered)\r\n",
        "train_images, train_labels = shuffle_dataset(train_images, train_labels)\r\n",
        "\r\n",
        "print(\"Train shape: \", train_images.shape)\r\n",
        "print(\"Test shape: \", test_images.shape)\r\n"
      ],
      "execution_count": null,
      "outputs": [
        {
          "output_type": "stream",
          "text": [
            "Train shape:  (2676, 150, 150)\n",
            "Test shape:  (336, 150, 150)\n"
          ],
          "name": "stdout"
        }
      ]
    },
    {
      "cell_type": "markdown",
      "metadata": {
        "id": "5t4iLd0ExZho"
      },
      "source": [
        "## Data preprocessing\r\n",
        "\r\n",
        "Currently, our data sits on a drive as numpy files (**.npy**), so the steps for getting it into our network are roughly:\r\n",
        "\r\n"
      ]
    },
    {
      "cell_type": "code",
      "metadata": {
        "id": "I2peY8SWutuA"
      },
      "source": [
        "# Unify masses and calcifications \r\n",
        "def labels_mapping(labels):\r\n",
        "  labels_local = np.zeros(shape=labels.shape, dtype=\"float32\")\r\n",
        "  idx = 0\r\n",
        "  for label in labels:\r\n",
        "    # masses\r\n",
        "    if label == 1 or label == 2:\r\n",
        "      labels_local[idx] = 0\r\n",
        "    # calcifications\r\n",
        "    else:\r\n",
        "      labels_local[idx] = 1\r\n",
        "    idx += 1\r\n",
        "\r\n",
        "  return labels_local\r\n",
        "\r\n",
        "labels = labels_mapping(train_labels)\r\n",
        "test_labels = labels_mapping(test_labels)"
      ],
      "execution_count": null,
      "outputs": []
    },
    {
      "cell_type": "code",
      "metadata": {
        "colab": {
          "base_uri": "https://localhost:8080/"
        },
        "id": "CQJRM4Kc33Nf",
        "outputId": "ca338b78-3fb4-448b-af4a-7a42cf82f2b5"
      },
      "source": [
        "#print(train_labels[2000])\r\n",
        "#print(labels[:10])\r\n",
        "print(train_images.shape)\r\n",
        "\r\n",
        "# verify values range: getting max value \r\n",
        "print(max([np.max(image) for image in train_images])) # max is 65'535 \r\n"
      ],
      "execution_count": null,
      "outputs": [
        {
          "output_type": "stream",
          "text": [
            "(2676, 150, 150)\n",
            "65535\n"
          ],
          "name": "stdout"
        }
      ]
    },
    {
      "cell_type": "code",
      "metadata": {
        "colab": {
          "base_uri": "https://localhost:8080/"
        },
        "id": "GMdDBt9N3tBU",
        "outputId": "8ecbc30e-1c1c-48d1-8f85-4abe743464c1"
      },
      "source": [
        "train_images = train_images.reshape(train_images.shape + (1,)) #(2676, 150, 150, 1)\r\n",
        "test_images = test_images.reshape(test_images.shape + (1,)) #(2676, 150, 150, 1)\r\n",
        "print(train_images.shape)\r\n",
        "print(test_images.shape)"
      ],
      "execution_count": null,
      "outputs": [
        {
          "output_type": "stream",
          "text": [
            "(2676, 150, 150, 1)\n",
            "(336, 150, 150, 1)\n"
          ],
          "name": "stdout"
        }
      ]
    },
    {
      "cell_type": "code",
      "metadata": {
        "id": "TfMviUsBn-gX",
        "colab": {
          "base_uri": "https://localhost:8080/"
        },
        "outputId": "772465fc-c3b5-483c-ee88-cf73102a208e"
      },
      "source": [
        "# split dataset into training and validation set 70-30\r\n",
        "train_images_split = train_images[:int(0.7*len(train_images))]\r\n",
        "valid_images_split = train_images[int(0.7*len(train_images)):]\r\n",
        "train_labels_split = labels[:int(0.7*len(labels))]\r\n",
        "valid_labels_split = labels[int(0.7*len(labels)):]\r\n",
        "\r\n",
        "print(train_images_split.shape)\r\n",
        "print(valid_images_split.shape)                                       "
      ],
      "execution_count": null,
      "outputs": [
        {
          "output_type": "stream",
          "text": [
            "(1873, 150, 150, 1)\n",
            "(803, 150, 150, 1)\n"
          ],
          "name": "stdout"
        }
      ]
    },
    {
      "cell_type": "code",
      "metadata": {
        "id": "hm9x-21nzEoE",
        "colab": {
          "base_uri": "https://localhost:8080/"
        },
        "outputId": "c58cd2cf-9e9c-4efe-9e96-c7f53309f031"
      },
      "source": [
        "from tensorflow.keras.preprocessing.image import ImageDataGenerator\r\n",
        "\r\n",
        "# All images will be rescaled by 1./65535\r\n",
        "train_datagen = ImageDataGenerator(rescale=1./65535)\r\n",
        "valid_datagen = ImageDataGenerator(rescale=1./65535)\r\n",
        "test_datagen = ImageDataGenerator(rescale=1./65535) \r\n",
        "\r\n",
        "for batch, labels_batch in train_datagen.flow(train_images, labels, batch_size=BATCH_SIZE):\r\n",
        "  print(batch.shape)\r\n",
        "  print(labels_batch.shape)\r\n",
        "  break\r\n",
        "\r\n"
      ],
      "execution_count": null,
      "outputs": [
        {
          "output_type": "stream",
          "text": [
            "(20, 150, 150, 1)\n",
            "(20,)\n"
          ],
          "name": "stdout"
        }
      ]
    },
    {
      "cell_type": "markdown",
      "metadata": {
        "id": "Mi0ZJVf1vA31"
      },
      "source": [
        "## Defining CNN \r\n"
      ]
    },
    {
      "cell_type": "code",
      "metadata": {
        "id": "kwQTeDPEvKql"
      },
      "source": [
        "from keras import layers\r\n",
        "from keras import optimizers \r\n",
        "from keras import models\r\n",
        "\r\n",
        "def build_model(loss_function, eval_metric):\r\n",
        "  model = models.Sequential()\r\n",
        "  model.add(layers.Conv2D(32, (3, 3), activation='relu', input_shape=(150, 150, 1)))\r\n",
        "  model.add(layers.MaxPooling2D((2, 2)))\r\n",
        "  model.add(layers.Conv2D(64, (3, 3), activation='relu'))\r\n",
        "  model.add(layers.MaxPooling2D((2, 2)))\r\n",
        "  model.add(layers.Conv2D(128, (3, 3), activation='relu'))\r\n",
        "  model.add(layers.MaxPooling2D((2, 2)))\r\n",
        "  model.add(layers.Conv2D(128, (3, 3), activation='relu'))\r\n",
        "  model.add(layers.MaxPooling2D((2, 2)))\r\n",
        "  model.add(layers.Flatten())\r\n",
        "  model.add(layers.Dense(512, activation='relu'))\r\n",
        "  model.add(layers.Dense(1, activation='sigmoid'))\r\n",
        "\r\n",
        "  #model.summary()\r\n",
        "\r\n",
        "  model.compile(loss=loss_function,\r\n",
        "              optimizer=optimizers.RMSprop(lr=1e-4), # lr = 0.0001\r\n",
        "              metrics=[eval_metric]) "
      ],
      "execution_count": null,
      "outputs": []
    },
    {
      "cell_type": "code",
      "metadata": {
        "id": "QpVvPyxjxRn8"
      },
      "source": [
        "BATCH_SIZE = 20\r\n",
        "EPOCHS = 100\r\n",
        "IMAGE_HEIGHT = 150\r\n",
        "IMAGE_WIDTH = 150"
      ],
      "execution_count": null,
      "outputs": []
    },
    {
      "cell_type": "markdown",
      "metadata": {
        "id": "fZIemXxawWLm"
      },
      "source": [
        "## CNN Compilation:\r\n",
        "\r\n"
      ]
    },
    {
      "cell_type": "code",
      "metadata": {
        "id": "5iumGmf1whk1",
        "colab": {
          "base_uri": "https://localhost:8080/",
          "height": 35
        },
        "outputId": "33a34e3d-ac46-4614-f31b-b69254a2f11a"
      },
      "source": [
        "from keras import optimizers \r\n",
        "\r\n",
        "model = build_model(\"binary_crossentropy\", \"acc\")"
      ],
      "execution_count": null,
      "outputs": [
        {
          "output_type": "execute_result",
          "data": {
            "application/vnd.google.colaboratory.intrinsic+json": {
              "type": "string"
            },
            "text/plain": [
              "'\\nmodel.compile(loss=\"binary_crossentropy\",\\n              optimizer=optimizers.RMSprop(lr=1e-4), # lr = 0.0001\\n              metrics=[\"acc\"]) \\n'"
            ]
          },
          "metadata": {
            "tags": []
          },
          "execution_count": 23
        }
      ]
    },
    {
      "cell_type": "code",
      "metadata": {
        "id": "H-V8cw96y_3Q",
        "colab": {
          "base_uri": "https://localhost:8080/"
        },
        "outputId": "915086ff-a9d3-49e7-f9fa-4c3371934661"
      },
      "source": [
        "history = model.fit(train_datagen.flow(train_images_split,\r\n",
        "                                       train_labels_split,\r\n",
        "                                       batch_size=BATCH_SIZE,\r\n",
        "                                       shuffle=False),\r\n",
        "                    steps_per_epoch=len(train_images_split) // BATCH_SIZE, \r\n",
        "                    epochs=EPOCHS,\r\n",
        "                    validation_data=valid_datagen.flow(valid_images_split,\r\n",
        "                                       valid_labels_split,\r\n",
        "                                       batch_size=BATCH_SIZE,\r\n",
        "                                       shuffle=False),\r\n",
        "                    validation_steps=len(valid_labels_split) // BATCH_SIZE)\r\n"
      ],
      "execution_count": null,
      "outputs": [
        {
          "output_type": "stream",
          "text": [
            "Epoch 1/100\n",
            "93/93 [==============================] - 10s 23ms/step - loss: 0.7000 - acc: 0.5354 - val_loss: 0.6897 - val_acc: 0.5412\n",
            "Epoch 2/100\n",
            "93/93 [==============================] - 2s 19ms/step - loss: 0.6756 - acc: 0.5850 - val_loss: 0.6481 - val_acc: 0.5437\n",
            "Epoch 3/100\n",
            "93/93 [==============================] - 2s 19ms/step - loss: 0.6204 - acc: 0.6681 - val_loss: 0.5625 - val_acc: 0.6500\n",
            "Epoch 4/100\n",
            "93/93 [==============================] - 2s 20ms/step - loss: 0.5096 - acc: 0.7716 - val_loss: 0.5009 - val_acc: 0.7525\n",
            "Epoch 5/100\n",
            "93/93 [==============================] - 2s 19ms/step - loss: 0.4617 - acc: 0.7993 - val_loss: 0.4876 - val_acc: 0.7862\n",
            "Epoch 6/100\n",
            "93/93 [==============================] - 2s 20ms/step - loss: 0.4341 - acc: 0.8186 - val_loss: 0.4694 - val_acc: 0.7725\n",
            "Epoch 7/100\n",
            "93/93 [==============================] - 2s 20ms/step - loss: 0.4318 - acc: 0.8126 - val_loss: 0.5124 - val_acc: 0.7763\n",
            "Epoch 8/100\n",
            "93/93 [==============================] - 2s 20ms/step - loss: 0.4304 - acc: 0.8000 - val_loss: 0.4390 - val_acc: 0.8037\n",
            "Epoch 9/100\n",
            "93/93 [==============================] - 2s 20ms/step - loss: 0.4083 - acc: 0.8282 - val_loss: 0.4678 - val_acc: 0.7862\n",
            "Epoch 10/100\n",
            "93/93 [==============================] - 2s 20ms/step - loss: 0.4060 - acc: 0.8285 - val_loss: 0.4884 - val_acc: 0.7700\n",
            "Epoch 11/100\n",
            "93/93 [==============================] - 2s 20ms/step - loss: 0.4002 - acc: 0.8370 - val_loss: 0.4286 - val_acc: 0.8087\n",
            "Epoch 12/100\n",
            "93/93 [==============================] - 2s 20ms/step - loss: 0.3959 - acc: 0.8413 - val_loss: 0.4356 - val_acc: 0.8062\n",
            "Epoch 13/100\n",
            "93/93 [==============================] - 2s 20ms/step - loss: 0.3910 - acc: 0.8337 - val_loss: 0.4346 - val_acc: 0.8037\n",
            "Epoch 14/100\n",
            "93/93 [==============================] - 2s 20ms/step - loss: 0.3545 - acc: 0.8566 - val_loss: 0.4352 - val_acc: 0.8062\n",
            "Epoch 15/100\n",
            "93/93 [==============================] - 2s 20ms/step - loss: 0.3619 - acc: 0.8586 - val_loss: 0.4070 - val_acc: 0.8350\n",
            "Epoch 16/100\n",
            "93/93 [==============================] - 2s 20ms/step - loss: 0.3753 - acc: 0.8461 - val_loss: 0.4402 - val_acc: 0.8062\n",
            "Epoch 17/100\n",
            "93/93 [==============================] - 2s 20ms/step - loss: 0.3572 - acc: 0.8432 - val_loss: 0.4144 - val_acc: 0.8100\n",
            "Epoch 18/100\n",
            "93/93 [==============================] - 2s 20ms/step - loss: 0.3578 - acc: 0.8558 - val_loss: 0.4138 - val_acc: 0.8388\n",
            "Epoch 19/100\n",
            "93/93 [==============================] - 2s 20ms/step - loss: 0.3478 - acc: 0.8520 - val_loss: 0.4072 - val_acc: 0.8200\n",
            "Epoch 20/100\n",
            "93/93 [==============================] - 2s 20ms/step - loss: 0.3596 - acc: 0.8514 - val_loss: 0.3897 - val_acc: 0.8263\n",
            "Epoch 21/100\n",
            "93/93 [==============================] - 2s 20ms/step - loss: 0.3466 - acc: 0.8574 - val_loss: 0.4100 - val_acc: 0.8163\n",
            "Epoch 22/100\n",
            "93/93 [==============================] - 2s 20ms/step - loss: 0.3566 - acc: 0.8558 - val_loss: 0.4122 - val_acc: 0.8225\n",
            "Epoch 23/100\n",
            "93/93 [==============================] - 2s 20ms/step - loss: 0.3419 - acc: 0.8510 - val_loss: 0.3924 - val_acc: 0.8288\n",
            "Epoch 24/100\n",
            "93/93 [==============================] - 2s 21ms/step - loss: 0.3424 - acc: 0.8619 - val_loss: 0.4107 - val_acc: 0.8275\n",
            "Epoch 25/100\n",
            "93/93 [==============================] - 2s 20ms/step - loss: 0.3492 - acc: 0.8386 - val_loss: 0.3763 - val_acc: 0.8288\n",
            "Epoch 26/100\n",
            "93/93 [==============================] - 2s 20ms/step - loss: 0.3359 - acc: 0.8568 - val_loss: 0.4167 - val_acc: 0.8225\n",
            "Epoch 27/100\n",
            "93/93 [==============================] - 2s 20ms/step - loss: 0.3320 - acc: 0.8639 - val_loss: 0.3741 - val_acc: 0.8425\n",
            "Epoch 28/100\n",
            "93/93 [==============================] - 2s 20ms/step - loss: 0.3397 - acc: 0.8560 - val_loss: 0.4289 - val_acc: 0.8200\n",
            "Epoch 29/100\n",
            "93/93 [==============================] - 2s 20ms/step - loss: 0.3144 - acc: 0.8742 - val_loss: 0.3761 - val_acc: 0.8438\n",
            "Epoch 30/100\n",
            "93/93 [==============================] - 2s 20ms/step - loss: 0.2924 - acc: 0.8727 - val_loss: 0.3933 - val_acc: 0.8338\n",
            "Epoch 31/100\n",
            "93/93 [==============================] - 2s 20ms/step - loss: 0.2858 - acc: 0.8653 - val_loss: 0.3470 - val_acc: 0.8625\n",
            "Epoch 32/100\n",
            "93/93 [==============================] - 2s 20ms/step - loss: 0.2961 - acc: 0.8861 - val_loss: 0.4596 - val_acc: 0.8075\n",
            "Epoch 33/100\n",
            "93/93 [==============================] - 2s 20ms/step - loss: 0.2762 - acc: 0.8800 - val_loss: 0.4149 - val_acc: 0.8062\n",
            "Epoch 34/100\n",
            "93/93 [==============================] - 2s 20ms/step - loss: 0.2730 - acc: 0.8841 - val_loss: 0.3609 - val_acc: 0.8575\n",
            "Epoch 35/100\n",
            "93/93 [==============================] - 2s 20ms/step - loss: 0.2822 - acc: 0.8744 - val_loss: 0.3484 - val_acc: 0.8625\n",
            "Epoch 36/100\n",
            "93/93 [==============================] - 2s 20ms/step - loss: 0.2743 - acc: 0.8965 - val_loss: 0.3527 - val_acc: 0.8587\n",
            "Epoch 37/100\n",
            "93/93 [==============================] - 2s 20ms/step - loss: 0.2682 - acc: 0.8951 - val_loss: 0.3841 - val_acc: 0.8462\n",
            "Epoch 38/100\n",
            "93/93 [==============================] - 2s 20ms/step - loss: 0.2900 - acc: 0.8902 - val_loss: 0.3532 - val_acc: 0.8512\n",
            "Epoch 39/100\n",
            "93/93 [==============================] - 2s 20ms/step - loss: 0.2495 - acc: 0.8990 - val_loss: 0.3838 - val_acc: 0.8413\n",
            "Epoch 40/100\n",
            "93/93 [==============================] - 2s 20ms/step - loss: 0.2583 - acc: 0.8888 - val_loss: 0.3634 - val_acc: 0.8600\n",
            "Epoch 41/100\n",
            "93/93 [==============================] - 2s 20ms/step - loss: 0.2716 - acc: 0.8803 - val_loss: 0.3527 - val_acc: 0.8612\n",
            "Epoch 42/100\n",
            "93/93 [==============================] - 2s 20ms/step - loss: 0.2433 - acc: 0.8994 - val_loss: 0.3730 - val_acc: 0.8537\n",
            "Epoch 43/100\n",
            "93/93 [==============================] - 2s 20ms/step - loss: 0.2440 - acc: 0.8998 - val_loss: 0.3315 - val_acc: 0.8612\n",
            "Epoch 44/100\n",
            "93/93 [==============================] - 2s 20ms/step - loss: 0.2242 - acc: 0.9166 - val_loss: 0.3338 - val_acc: 0.8612\n",
            "Epoch 45/100\n",
            "93/93 [==============================] - 2s 20ms/step - loss: 0.2473 - acc: 0.9090 - val_loss: 0.3504 - val_acc: 0.8587\n",
            "Epoch 46/100\n",
            "93/93 [==============================] - 2s 20ms/step - loss: 0.2376 - acc: 0.9085 - val_loss: 0.4603 - val_acc: 0.8250\n",
            "Epoch 47/100\n",
            "93/93 [==============================] - 2s 20ms/step - loss: 0.2312 - acc: 0.9012 - val_loss: 0.3352 - val_acc: 0.8687\n",
            "Epoch 48/100\n",
            "93/93 [==============================] - 2s 20ms/step - loss: 0.2083 - acc: 0.9233 - val_loss: 0.3938 - val_acc: 0.8637\n",
            "Epoch 49/100\n",
            "93/93 [==============================] - 2s 20ms/step - loss: 0.2152 - acc: 0.9123 - val_loss: 0.3380 - val_acc: 0.8687\n",
            "Epoch 50/100\n",
            "93/93 [==============================] - 2s 20ms/step - loss: 0.2095 - acc: 0.9149 - val_loss: 0.3764 - val_acc: 0.8500\n",
            "Epoch 51/100\n",
            "93/93 [==============================] - 2s 20ms/step - loss: 0.2065 - acc: 0.9206 - val_loss: 0.3765 - val_acc: 0.8600\n",
            "Epoch 52/100\n",
            "93/93 [==============================] - 2s 20ms/step - loss: 0.2093 - acc: 0.9224 - val_loss: 0.3998 - val_acc: 0.8612\n",
            "Epoch 53/100\n",
            "93/93 [==============================] - 2s 20ms/step - loss: 0.2046 - acc: 0.9254 - val_loss: 0.3733 - val_acc: 0.8600\n",
            "Epoch 54/100\n",
            "93/93 [==============================] - 2s 20ms/step - loss: 0.1909 - acc: 0.9368 - val_loss: 0.3746 - val_acc: 0.8512\n",
            "Epoch 55/100\n",
            "93/93 [==============================] - 2s 20ms/step - loss: 0.1879 - acc: 0.9264 - val_loss: 0.3561 - val_acc: 0.8487\n",
            "Epoch 56/100\n",
            "93/93 [==============================] - 2s 20ms/step - loss: 0.2074 - acc: 0.9105 - val_loss: 0.4240 - val_acc: 0.8487\n",
            "Epoch 57/100\n",
            "93/93 [==============================] - 2s 20ms/step - loss: 0.1909 - acc: 0.9232 - val_loss: 0.4741 - val_acc: 0.8450\n",
            "Epoch 58/100\n",
            "93/93 [==============================] - 2s 20ms/step - loss: 0.1807 - acc: 0.9359 - val_loss: 0.3593 - val_acc: 0.8737\n",
            "Epoch 59/100\n",
            "93/93 [==============================] - 2s 20ms/step - loss: 0.1682 - acc: 0.9344 - val_loss: 0.3985 - val_acc: 0.8512\n",
            "Epoch 60/100\n",
            "93/93 [==============================] - 2s 20ms/step - loss: 0.1666 - acc: 0.9426 - val_loss: 0.3694 - val_acc: 0.8675\n",
            "Epoch 61/100\n",
            "93/93 [==============================] - 2s 20ms/step - loss: 0.1654 - acc: 0.9316 - val_loss: 0.4766 - val_acc: 0.8438\n",
            "Epoch 62/100\n",
            "93/93 [==============================] - 2s 20ms/step - loss: 0.1692 - acc: 0.9362 - val_loss: 0.7323 - val_acc: 0.6575\n",
            "Epoch 63/100\n",
            "93/93 [==============================] - 2s 20ms/step - loss: 0.1658 - acc: 0.9419 - val_loss: 0.3759 - val_acc: 0.8637\n",
            "Epoch 64/100\n",
            "93/93 [==============================] - 2s 20ms/step - loss: 0.1349 - acc: 0.9516 - val_loss: 0.4252 - val_acc: 0.8600\n",
            "Epoch 65/100\n",
            "93/93 [==============================] - 2s 20ms/step - loss: 0.1385 - acc: 0.9516 - val_loss: 0.4598 - val_acc: 0.8300\n",
            "Epoch 66/100\n",
            "93/93 [==============================] - 2s 20ms/step - loss: 0.1326 - acc: 0.9482 - val_loss: 0.3798 - val_acc: 0.8600\n",
            "Epoch 67/100\n",
            "93/93 [==============================] - 2s 20ms/step - loss: 0.1345 - acc: 0.9526 - val_loss: 0.4127 - val_acc: 0.8625\n",
            "Epoch 68/100\n",
            "93/93 [==============================] - 2s 20ms/step - loss: 0.1197 - acc: 0.9590 - val_loss: 0.4287 - val_acc: 0.8600\n",
            "Epoch 69/100\n",
            "93/93 [==============================] - 2s 20ms/step - loss: 0.1364 - acc: 0.9508 - val_loss: 0.4703 - val_acc: 0.8612\n",
            "Epoch 70/100\n",
            "93/93 [==============================] - 2s 20ms/step - loss: 0.1249 - acc: 0.9564 - val_loss: 0.4339 - val_acc: 0.8687\n",
            "Epoch 71/100\n",
            "93/93 [==============================] - 2s 21ms/step - loss: 0.1083 - acc: 0.9601 - val_loss: 0.4782 - val_acc: 0.8650\n",
            "Epoch 72/100\n",
            "93/93 [==============================] - 2s 20ms/step - loss: 0.1132 - acc: 0.9537 - val_loss: 0.5075 - val_acc: 0.8500\n",
            "Epoch 73/100\n",
            "93/93 [==============================] - 2s 20ms/step - loss: 0.1032 - acc: 0.9608 - val_loss: 0.4561 - val_acc: 0.8625\n",
            "Epoch 74/100\n",
            "93/93 [==============================] - 2s 20ms/step - loss: 0.0920 - acc: 0.9715 - val_loss: 0.4948 - val_acc: 0.8625\n",
            "Epoch 75/100\n",
            "93/93 [==============================] - 2s 20ms/step - loss: 0.0918 - acc: 0.9737 - val_loss: 0.4621 - val_acc: 0.8612\n",
            "Epoch 76/100\n",
            "93/93 [==============================] - 2s 20ms/step - loss: 0.0932 - acc: 0.9643 - val_loss: 0.4830 - val_acc: 0.8662\n",
            "Epoch 77/100\n",
            "93/93 [==============================] - 2s 20ms/step - loss: 0.0853 - acc: 0.9734 - val_loss: 0.6242 - val_acc: 0.8462\n",
            "Epoch 78/100\n",
            "93/93 [==============================] - 2s 20ms/step - loss: 0.0992 - acc: 0.9641 - val_loss: 0.4906 - val_acc: 0.8525\n",
            "Epoch 79/100\n",
            "93/93 [==============================] - 2s 20ms/step - loss: 0.0804 - acc: 0.9754 - val_loss: 0.5069 - val_acc: 0.8612\n",
            "Epoch 80/100\n",
            "93/93 [==============================] - 2s 20ms/step - loss: 0.0747 - acc: 0.9740 - val_loss: 0.5320 - val_acc: 0.8625\n",
            "Epoch 81/100\n",
            "93/93 [==============================] - 2s 20ms/step - loss: 0.0770 - acc: 0.9753 - val_loss: 0.5594 - val_acc: 0.8425\n",
            "Epoch 82/100\n",
            "93/93 [==============================] - 2s 20ms/step - loss: 0.0741 - acc: 0.9747 - val_loss: 0.5522 - val_acc: 0.8625\n",
            "Epoch 83/100\n",
            "93/93 [==============================] - 2s 20ms/step - loss: 0.0595 - acc: 0.9808 - val_loss: 0.5960 - val_acc: 0.8662\n",
            "Epoch 84/100\n",
            "93/93 [==============================] - 2s 20ms/step - loss: 0.0629 - acc: 0.9740 - val_loss: 0.5459 - val_acc: 0.8525\n",
            "Epoch 85/100\n",
            "93/93 [==============================] - 2s 20ms/step - loss: 0.0589 - acc: 0.9794 - val_loss: 0.5921 - val_acc: 0.8687\n",
            "Epoch 86/100\n",
            "93/93 [==============================] - 2s 20ms/step - loss: 0.0514 - acc: 0.9834 - val_loss: 0.5917 - val_acc: 0.8425\n",
            "Epoch 87/100\n",
            "93/93 [==============================] - 2s 20ms/step - loss: 0.0534 - acc: 0.9841 - val_loss: 0.6025 - val_acc: 0.8625\n",
            "Epoch 88/100\n",
            "93/93 [==============================] - 2s 20ms/step - loss: 0.0540 - acc: 0.9805 - val_loss: 0.6875 - val_acc: 0.8600\n",
            "Epoch 89/100\n",
            "93/93 [==============================] - 2s 20ms/step - loss: 0.0496 - acc: 0.9904 - val_loss: 0.6453 - val_acc: 0.8600\n",
            "Epoch 90/100\n",
            "93/93 [==============================] - 2s 20ms/step - loss: 0.0552 - acc: 0.9775 - val_loss: 0.5810 - val_acc: 0.8687\n",
            "Epoch 91/100\n",
            "93/93 [==============================] - 2s 20ms/step - loss: 0.0347 - acc: 0.9922 - val_loss: 0.6997 - val_acc: 0.8562\n",
            "Epoch 92/100\n",
            "93/93 [==============================] - 2s 20ms/step - loss: 0.0396 - acc: 0.9868 - val_loss: 0.7381 - val_acc: 0.8562\n",
            "Epoch 93/100\n",
            "93/93 [==============================] - 2s 20ms/step - loss: 0.0338 - acc: 0.9932 - val_loss: 0.7269 - val_acc: 0.8562\n",
            "Epoch 94/100\n",
            "93/93 [==============================] - 2s 20ms/step - loss: 0.0286 - acc: 0.9930 - val_loss: 0.7333 - val_acc: 0.8675\n",
            "Epoch 95/100\n",
            "93/93 [==============================] - 2s 20ms/step - loss: 0.0357 - acc: 0.9896 - val_loss: 0.7885 - val_acc: 0.8562\n",
            "Epoch 96/100\n",
            "93/93 [==============================] - 2s 20ms/step - loss: 0.0423 - acc: 0.9911 - val_loss: 0.7847 - val_acc: 0.8612\n",
            "Epoch 97/100\n",
            "93/93 [==============================] - 2s 20ms/step - loss: 0.0218 - acc: 0.9955 - val_loss: 0.8031 - val_acc: 0.8562\n",
            "Epoch 98/100\n",
            "93/93 [==============================] - 2s 20ms/step - loss: 0.0261 - acc: 0.9945 - val_loss: 0.7475 - val_acc: 0.8500\n",
            "Epoch 99/100\n",
            "93/93 [==============================] - 2s 20ms/step - loss: 0.0260 - acc: 0.9927 - val_loss: 0.8579 - val_acc: 0.8612\n",
            "Epoch 100/100\n",
            "93/93 [==============================] - 2s 20ms/step - loss: 0.0216 - acc: 0.9938 - val_loss: 0.8967 - val_acc: 0.8612\n"
          ],
          "name": "stdout"
        }
      ]
    },
    {
      "cell_type": "code",
      "metadata": {
        "colab": {
          "base_uri": "https://localhost:8080/",
          "height": 545
        },
        "id": "nI8FjTjY4KIe",
        "outputId": "06796bfb-3420-4787-818b-b3f636fa6791"
      },
      "source": [
        "import matplotlib.pyplot as plt\r\n",
        "\r\n",
        "acc = history.history['acc']\r\n",
        "val_acc = history.history['val_acc']\r\n",
        "loss = history.history['loss']\r\n",
        "val_loss = history.history['val_loss']\r\n",
        "\r\n",
        "epochs = range(len(acc))\r\n",
        "\r\n",
        "plt.plot(epochs, acc, 'bo', label='Training accuracy')\r\n",
        "plt.plot(epochs, val_acc, 'b', label='Validation accuracy')\r\n",
        "plt.title('Training and validation accuracy')\r\n",
        "plt.legend()\r\n",
        "\r\n",
        "plt.figure()\r\n",
        "\r\n",
        "plt.plot(epochs, loss, 'bo', label='Training loss')\r\n",
        "plt.plot(epochs, val_loss, 'b', label='Validation loss')\r\n",
        "plt.title('Training and validation loss')\r\n",
        "plt.legend()\r\n",
        "\r\n",
        "plt.show()"
      ],
      "execution_count": null,
      "outputs": [
        {
          "output_type": "display_data",
          "data": {
            "image/png": "[encoded data removed]",
            "text/plain": [
              "<Figure size 432x288 with 1 Axes>"
            ]
          },
          "metadata": {
            "tags": [],
            "needs_background": "light"
          }
        },
        {
          "output_type": "display_data",
          "data": {
            "image/png": "[encoded data removed]",
            "text/plain": [
              "<Figure size 432x288 with 1 Axes>"
            ]
          },
          "metadata": {
            "tags": [],
            "needs_background": "light"
          }
        }
      ]
    },
    {
      "cell_type": "code",
      "metadata": {
        "colab": {
          "base_uri": "https://localhost:8080/"
        },
        "id": "pH89us9R_o_F",
        "outputId": "2a1a917a-cec1-4316-b979-6a4f137487bf"
      },
      "source": [
        "test_loss, test_acc = model.evaluate(test_datagen.flow(test_images,\r\n",
        "                                                       test_labels,\r\n",
        "                                                       batch_size=BATCH_SIZE,\r\n",
        "                                                       shuffle=False),\r\n",
        "                                     steps=len(test_images) // BATCH_SIZE\r\n",
        ")\r\n",
        "\r\n",
        "print(test_acc)"
      ],
      "execution_count": null,
      "outputs": [
        {
          "output_type": "stream",
          "text": [
            "16/16 [==============================] - 0s 8ms/step - loss: 1.1820 - acc: 0.8250\n",
            "0.824999988079071\n"
          ],
          "name": "stdout"
        }
      ]
    },
    {
      "cell_type": "markdown",
      "metadata": {
        "id": "e2v_-h75Z3aZ"
      },
      "source": [
        "These plots are characteristic of **overfitting**. Training accuracy keeps increasing linearly while validation accuracy stalls around **82%**.\r\n",
        "\r\n",
        "##Fighting overfitting: 1. Data Augmentation:\r\n"
      ]
    },
    {
      "cell_type": "code",
      "metadata": {
        "colab": {
          "base_uri": "https://localhost:8080/",
          "height": 52
        },
        "id": "ojvyPceIaunR",
        "outputId": "3f9445a2-039a-4e7b-b04a-ec295a3d0302"
      },
      "source": [
        "from tensorflow.keras.preprocessing import image\r\n",
        "\r\n",
        "# train data augmentation \r\n",
        "train_datagen = ImageDataGenerator(\r\n",
        "    rescale=1./65535,\r\n",
        "    rotation_range=40,\r\n",
        "    width_shift_range=0.2,\r\n",
        "    height_shift_range=0.2,\r\n",
        "    shear_range=20,\r\n",
        "    zoom_range=0.2,\r\n",
        "    horizontal_flip=True,\r\n",
        "    fill_mode='nearest')\r\n",
        "\r\n",
        "valid_datagen = ImageDataGenerator(rescale=1./65535)\r\n",
        "test_datagen = ImageDataGenerator(rescale=1./65535) \r\n",
        "\r\n",
        "\"\"\"\r\n",
        "x = train_images[0].reshape((1,) + train_images[0].shape)\r\n",
        "\r\n",
        "i = 0\r\n",
        "for batch in train_datagen.flow(x, batch_size=1):\r\n",
        "  plt.figure(i)\r\n",
        "  imgplot = plt.imshow(image.array_to_img(batch[0]))\r\n",
        "  i += 1\r\n",
        "  if i % 4 == 0:\r\n",
        "    break\r\n",
        "\r\n",
        "plt.show()\r\n",
        "\"\"\""
      ],
      "execution_count": null,
      "outputs": [
        {
          "output_type": "execute_result",
          "data": {
            "application/vnd.google.colaboratory.intrinsic+json": {
              "type": "string"
            },
            "text/plain": [
              "'\\nx = train_images[0].reshape((1,) + train_images[0].shape)\\n\\ni = 0\\nfor batch in train_datagen.flow(x, batch_size=1):\\n  plt.figure(i)\\n  imgplot = plt.imshow(image.array_to_img(batch[0]))\\n  i += 1\\n  if i % 4 == 0:\\n    break\\n\\nplt.show()\\n'"
            ]
          },
          "metadata": {
            "tags": []
          },
          "execution_count": 17
        }
      ]
    },
    {
      "cell_type": "code",
      "metadata": {
        "colab": {
          "base_uri": "https://localhost:8080/"
        },
        "id": "8ex5WyyOwir4",
        "outputId": "f4781e28-9fc3-4a89-d25d-202b5b0c989d"
      },
      "source": [
        "model = build_model(\"binary_crossentropy\", \"acc\")\r\n",
        "\r\n",
        "model.summary()"
      ],
      "execution_count": null,
      "outputs": [
        {
          "output_type": "stream",
          "text": [
            "Model: \"sequential_1\"\n",
            "_________________________________________________________________\n",
            "Layer (type)                 Output Shape              Param #   \n",
            "=================================================================\n",
            "conv2d_4 (Conv2D)            (None, 148, 148, 32)      320       \n",
            "_________________________________________________________________\n",
            "max_pooling2d_4 (MaxPooling2 (None, 74, 74, 32)        0         \n",
            "_________________________________________________________________\n",
            "conv2d_5 (Conv2D)            (None, 72, 72, 64)        18496     \n",
            "_________________________________________________________________\n",
            "max_pooling2d_5 (MaxPooling2 (None, 36, 36, 64)        0         \n",
            "_________________________________________________________________\n",
            "conv2d_6 (Conv2D)            (None, 34, 34, 128)       73856     \n",
            "_________________________________________________________________\n",
            "max_pooling2d_6 (MaxPooling2 (None, 17, 17, 128)       0         \n",
            "_________________________________________________________________\n",
            "conv2d_7 (Conv2D)            (None, 15, 15, 128)       147584    \n",
            "_________________________________________________________________\n",
            "max_pooling2d_7 (MaxPooling2 (None, 7, 7, 128)         0         \n",
            "_________________________________________________________________\n",
            "flatten_1 (Flatten)          (None, 6272)              0         \n",
            "_________________________________________________________________\n",
            "dense_2 (Dense)              (None, 512)               3211776   \n",
            "_________________________________________________________________\n",
            "dense_3 (Dense)              (None, 1)                 513       \n",
            "=================================================================\n",
            "Total params: 3,452,545\n",
            "Trainable params: 3,452,545\n",
            "Non-trainable params: 0\n",
            "_________________________________________________________________\n"
          ],
          "name": "stdout"
        }
      ]
    },
    {
      "cell_type": "code",
      "metadata": {
        "colab": {
          "base_uri": "https://localhost:8080/"
        },
        "id": "T_LVsSUEj0Vx",
        "outputId": "27ca3e20-d7df-4845-e559-55b509679cba"
      },
      "source": [
        "history = model.fit(train_datagen.flow(train_images_split,\r\n",
        "                                       train_labels_split,\r\n",
        "                                       batch_size=BATCH_SIZE,\r\n",
        "                                       shuffle=False),\r\n",
        "                    steps_per_epoch=len(train_images_split) // BATCH_SIZE, \r\n",
        "                    epochs=EPOCHS,\r\n",
        "                    validation_data=valid_datagen.flow(valid_images_split,\r\n",
        "                                       valid_labels_split,\r\n",
        "                                       batch_size=BATCH_SIZE,\r\n",
        "                                       shuffle=False),\r\n",
        "                    validation_steps=len(valid_labels_split) // BATCH_SIZE)"
      ],
      "execution_count": null,
      "outputs": [
        {
          "output_type": "stream",
          "text": [
            "Epoch 1/100\n",
            "93/93 [==============================] - 5s 44ms/step - loss: 0.6955 - acc: 0.5130 - val_loss: 0.6879 - val_acc: 0.5412\n",
            "Epoch 2/100\n",
            "93/93 [==============================] - 4s 41ms/step - loss: 0.6901 - acc: 0.5454 - val_loss: 0.6691 - val_acc: 0.6800\n",
            "Epoch 3/100\n",
            "93/93 [==============================] - 4s 41ms/step - loss: 0.6728 - acc: 0.5767 - val_loss: 0.6263 - val_acc: 0.7725\n",
            "Epoch 4/100\n",
            "93/93 [==============================] - 4s 41ms/step - loss: 0.6195 - acc: 0.7073 - val_loss: 0.5396 - val_acc: 0.7987\n",
            "Epoch 5/100\n",
            "93/93 [==============================] - 4s 41ms/step - loss: 0.5931 - acc: 0.7009 - val_loss: 0.5582 - val_acc: 0.7650\n",
            "Epoch 6/100\n",
            "93/93 [==============================] - 4s 41ms/step - loss: 0.5327 - acc: 0.7640 - val_loss: 0.5157 - val_acc: 0.7738\n",
            "Epoch 7/100\n",
            "93/93 [==============================] - 4s 41ms/step - loss: 0.5451 - acc: 0.7612 - val_loss: 0.4915 - val_acc: 0.8050\n",
            "Epoch 8/100\n",
            "93/93 [==============================] - 4s 41ms/step - loss: 0.5168 - acc: 0.7546 - val_loss: 0.5001 - val_acc: 0.7950\n",
            "Epoch 9/100\n",
            "93/93 [==============================] - 4s 41ms/step - loss: 0.5168 - acc: 0.7688 - val_loss: 0.4892 - val_acc: 0.8012\n",
            "Epoch 10/100\n",
            "93/93 [==============================] - 4s 40ms/step - loss: 0.5178 - acc: 0.7578 - val_loss: 0.4651 - val_acc: 0.8125\n",
            "Epoch 11/100\n",
            "93/93 [==============================] - 4s 41ms/step - loss: 0.5114 - acc: 0.7687 - val_loss: 0.4760 - val_acc: 0.8050\n",
            "Epoch 12/100\n",
            "93/93 [==============================] - 4s 41ms/step - loss: 0.5010 - acc: 0.7800 - val_loss: 0.4529 - val_acc: 0.8100\n",
            "Epoch 13/100\n",
            "93/93 [==============================] - 4s 41ms/step - loss: 0.4870 - acc: 0.7667 - val_loss: 0.4777 - val_acc: 0.7850\n",
            "Epoch 14/100\n",
            "93/93 [==============================] - 4s 41ms/step - loss: 0.4855 - acc: 0.7803 - val_loss: 0.4642 - val_acc: 0.7962\n",
            "Epoch 15/100\n",
            "93/93 [==============================] - 4s 41ms/step - loss: 0.5033 - acc: 0.7708 - val_loss: 0.4765 - val_acc: 0.7962\n",
            "Epoch 16/100\n",
            "93/93 [==============================] - 4s 41ms/step - loss: 0.5059 - acc: 0.7697 - val_loss: 0.4937 - val_acc: 0.7675\n",
            "Epoch 17/100\n",
            "93/93 [==============================] - 4s 41ms/step - loss: 0.4696 - acc: 0.7957 - val_loss: 0.5142 - val_acc: 0.6675\n",
            "Epoch 18/100\n",
            "93/93 [==============================] - 4s 41ms/step - loss: 0.4586 - acc: 0.7788 - val_loss: 0.5359 - val_acc: 0.7638\n",
            "Epoch 19/100\n",
            "93/93 [==============================] - 4s 41ms/step - loss: 0.4532 - acc: 0.7964 - val_loss: 0.3924 - val_acc: 0.8413\n",
            "Epoch 20/100\n",
            "93/93 [==============================] - 4s 41ms/step - loss: 0.4770 - acc: 0.7856 - val_loss: 0.4581 - val_acc: 0.8012\n",
            "Epoch 21/100\n",
            "93/93 [==============================] - 4s 41ms/step - loss: 0.4318 - acc: 0.8034 - val_loss: 0.4286 - val_acc: 0.8075\n",
            "Epoch 22/100\n",
            "93/93 [==============================] - 4s 41ms/step - loss: 0.4373 - acc: 0.8036 - val_loss: 0.4386 - val_acc: 0.8125\n",
            "Epoch 23/100\n",
            "93/93 [==============================] - 4s 40ms/step - loss: 0.4496 - acc: 0.8008 - val_loss: 0.3678 - val_acc: 0.8400\n",
            "Epoch 24/100\n",
            "93/93 [==============================] - 4s 41ms/step - loss: 0.4305 - acc: 0.8194 - val_loss: 0.4310 - val_acc: 0.8300\n",
            "Epoch 25/100\n",
            "93/93 [==============================] - 4s 41ms/step - loss: 0.4400 - acc: 0.8251 - val_loss: 0.3737 - val_acc: 0.8425\n",
            "Epoch 26/100\n",
            "93/93 [==============================] - 4s 41ms/step - loss: 0.4706 - acc: 0.7958 - val_loss: 0.4546 - val_acc: 0.7975\n",
            "Epoch 27/100\n",
            "93/93 [==============================] - 4s 42ms/step - loss: 0.4177 - acc: 0.8254 - val_loss: 0.3465 - val_acc: 0.8525\n",
            "Epoch 28/100\n",
            "93/93 [==============================] - 4s 42ms/step - loss: 0.4389 - acc: 0.7989 - val_loss: 0.3894 - val_acc: 0.8250\n",
            "Epoch 29/100\n",
            "93/93 [==============================] - 4s 42ms/step - loss: 0.4341 - acc: 0.8154 - val_loss: 0.3897 - val_acc: 0.8300\n",
            "Epoch 30/100\n",
            "93/93 [==============================] - 4s 41ms/step - loss: 0.4323 - acc: 0.8093 - val_loss: 0.3400 - val_acc: 0.8625\n",
            "Epoch 31/100\n",
            "93/93 [==============================] - 4s 40ms/step - loss: 0.3953 - acc: 0.8384 - val_loss: 0.3759 - val_acc: 0.8462\n",
            "Epoch 32/100\n",
            "93/93 [==============================] - 4s 40ms/step - loss: 0.4197 - acc: 0.8253 - val_loss: 0.3430 - val_acc: 0.8612\n",
            "Epoch 33/100\n",
            "93/93 [==============================] - 4s 41ms/step - loss: 0.4231 - acc: 0.8221 - val_loss: 0.3520 - val_acc: 0.8350\n",
            "Epoch 34/100\n",
            "93/93 [==============================] - 4s 41ms/step - loss: 0.3957 - acc: 0.8426 - val_loss: 0.3450 - val_acc: 0.8450\n",
            "Epoch 35/100\n",
            "93/93 [==============================] - 4s 41ms/step - loss: 0.4115 - acc: 0.8264 - val_loss: 0.3436 - val_acc: 0.8475\n",
            "Epoch 36/100\n",
            "93/93 [==============================] - 4s 40ms/step - loss: 0.3897 - acc: 0.8396 - val_loss: 0.3219 - val_acc: 0.8575\n",
            "Epoch 37/100\n",
            "93/93 [==============================] - 4s 41ms/step - loss: 0.3864 - acc: 0.8346 - val_loss: 0.4050 - val_acc: 0.8062\n",
            "Epoch 38/100\n",
            "93/93 [==============================] - 4s 41ms/step - loss: 0.3915 - acc: 0.8256 - val_loss: 0.3338 - val_acc: 0.8537\n",
            "Epoch 39/100\n",
            "93/93 [==============================] - 4s 41ms/step - loss: 0.3810 - acc: 0.8436 - val_loss: 0.3143 - val_acc: 0.8612\n",
            "Epoch 40/100\n",
            "93/93 [==============================] - 4s 41ms/step - loss: 0.4148 - acc: 0.8255 - val_loss: 0.3195 - val_acc: 0.8587\n",
            "Epoch 41/100\n",
            "93/93 [==============================] - 4s 41ms/step - loss: 0.3822 - acc: 0.8368 - val_loss: 0.3264 - val_acc: 0.8537\n",
            "Epoch 42/100\n",
            "93/93 [==============================] - 4s 40ms/step - loss: 0.4199 - acc: 0.8156 - val_loss: 0.3489 - val_acc: 0.8475\n",
            "Epoch 43/100\n",
            "93/93 [==============================] - 4s 41ms/step - loss: 0.4359 - acc: 0.8191 - val_loss: 0.3284 - val_acc: 0.8575\n",
            "Epoch 44/100\n",
            "93/93 [==============================] - 4s 41ms/step - loss: 0.3989 - acc: 0.8300 - val_loss: 0.3135 - val_acc: 0.8725\n",
            "Epoch 45/100\n",
            "93/93 [==============================] - 4s 41ms/step - loss: 0.3720 - acc: 0.8434 - val_loss: 0.3190 - val_acc: 0.8700\n",
            "Epoch 46/100\n",
            "93/93 [==============================] - 4s 41ms/step - loss: 0.4168 - acc: 0.8198 - val_loss: 0.3425 - val_acc: 0.8475\n",
            "Epoch 47/100\n",
            "93/93 [==============================] - 4s 41ms/step - loss: 0.3648 - acc: 0.8584 - val_loss: 0.3100 - val_acc: 0.8600\n",
            "Epoch 48/100\n",
            "93/93 [==============================] - 4s 41ms/step - loss: 0.3739 - acc: 0.8340 - val_loss: 0.3141 - val_acc: 0.8600\n",
            "Epoch 49/100\n",
            "93/93 [==============================] - 4s 40ms/step - loss: 0.3932 - acc: 0.8413 - val_loss: 0.3287 - val_acc: 0.8637\n",
            "Epoch 50/100\n",
            "93/93 [==============================] - 4s 41ms/step - loss: 0.3708 - acc: 0.8279 - val_loss: 0.3199 - val_acc: 0.8587\n",
            "Epoch 51/100\n",
            "93/93 [==============================] - 4s 41ms/step - loss: 0.3623 - acc: 0.8449 - val_loss: 0.3394 - val_acc: 0.8537\n",
            "Epoch 52/100\n",
            "93/93 [==============================] - 4s 40ms/step - loss: 0.3984 - acc: 0.8258 - val_loss: 0.3020 - val_acc: 0.8675\n",
            "Epoch 53/100\n",
            "93/93 [==============================] - 4s 42ms/step - loss: 0.3896 - acc: 0.8391 - val_loss: 0.2947 - val_acc: 0.8712\n",
            "Epoch 54/100\n",
            "93/93 [==============================] - 4s 41ms/step - loss: 0.3786 - acc: 0.8378 - val_loss: 0.3132 - val_acc: 0.8675\n",
            "Epoch 55/100\n",
            "93/93 [==============================] - 4s 41ms/step - loss: 0.3790 - acc: 0.8372 - val_loss: 0.3495 - val_acc: 0.8475\n",
            "Epoch 56/100\n",
            "93/93 [==============================] - 4s 41ms/step - loss: 0.3468 - acc: 0.8555 - val_loss: 0.3373 - val_acc: 0.8512\n",
            "Epoch 57/100\n",
            "93/93 [==============================] - 4s 40ms/step - loss: 0.3918 - acc: 0.8327 - val_loss: 0.2922 - val_acc: 0.8750\n",
            "Epoch 58/100\n",
            "93/93 [==============================] - 4s 41ms/step - loss: 0.3652 - acc: 0.8426 - val_loss: 0.3055 - val_acc: 0.8712\n",
            "Epoch 59/100\n",
            "93/93 [==============================] - 4s 41ms/step - loss: 0.3569 - acc: 0.8482 - val_loss: 0.2983 - val_acc: 0.8675\n",
            "Epoch 60/100\n",
            "93/93 [==============================] - 4s 41ms/step - loss: 0.3340 - acc: 0.8700 - val_loss: 0.3008 - val_acc: 0.8750\n",
            "Epoch 61/100\n",
            "93/93 [==============================] - 4s 41ms/step - loss: 0.3451 - acc: 0.8428 - val_loss: 0.3414 - val_acc: 0.8525\n",
            "Epoch 62/100\n",
            "93/93 [==============================] - 4s 41ms/step - loss: 0.3449 - acc: 0.8556 - val_loss: 0.3355 - val_acc: 0.8575\n",
            "Epoch 63/100\n",
            "93/93 [==============================] - 4s 40ms/step - loss: 0.3293 - acc: 0.8589 - val_loss: 0.3302 - val_acc: 0.8600\n",
            "Epoch 64/100\n",
            "93/93 [==============================] - 4s 40ms/step - loss: 0.3811 - acc: 0.8424 - val_loss: 0.3247 - val_acc: 0.8537\n",
            "Epoch 65/100\n",
            "93/93 [==============================] - 4s 41ms/step - loss: 0.3891 - acc: 0.8486 - val_loss: 0.3222 - val_acc: 0.8575\n",
            "Epoch 66/100\n",
            "93/93 [==============================] - 4s 41ms/step - loss: 0.3812 - acc: 0.8291 - val_loss: 0.2883 - val_acc: 0.8825\n",
            "Epoch 67/100\n",
            "93/93 [==============================] - 4s 41ms/step - loss: 0.3532 - acc: 0.8389 - val_loss: 0.3388 - val_acc: 0.8562\n",
            "Epoch 68/100\n",
            "93/93 [==============================] - 4s 41ms/step - loss: 0.3692 - acc: 0.8320 - val_loss: 0.2962 - val_acc: 0.8725\n",
            "Epoch 69/100\n",
            "93/93 [==============================] - 4s 41ms/step - loss: 0.3360 - acc: 0.8475 - val_loss: 0.3450 - val_acc: 0.8525\n",
            "Epoch 70/100\n",
            "93/93 [==============================] - 4s 41ms/step - loss: 0.3208 - acc: 0.8766 - val_loss: 0.3200 - val_acc: 0.8650\n",
            "Epoch 71/100\n",
            "93/93 [==============================] - 4s 41ms/step - loss: 0.3337 - acc: 0.8625 - val_loss: 0.3305 - val_acc: 0.8750\n",
            "Epoch 72/100\n",
            "93/93 [==============================] - 4s 41ms/step - loss: 0.3381 - acc: 0.8554 - val_loss: 0.2888 - val_acc: 0.8825\n",
            "Epoch 73/100\n",
            "93/93 [==============================] - 4s 41ms/step - loss: 0.3291 - acc: 0.8645 - val_loss: 0.4358 - val_acc: 0.8012\n",
            "Epoch 74/100\n",
            "93/93 [==============================] - 4s 41ms/step - loss: 0.3138 - acc: 0.8757 - val_loss: 0.2799 - val_acc: 0.8750\n",
            "Epoch 75/100\n",
            "93/93 [==============================] - 4s 41ms/step - loss: 0.3321 - acc: 0.8500 - val_loss: 0.3044 - val_acc: 0.8775\n",
            "Epoch 76/100\n",
            "93/93 [==============================] - 4s 41ms/step - loss: 0.3347 - acc: 0.8619 - val_loss: 0.2879 - val_acc: 0.8700\n",
            "Epoch 77/100\n",
            "93/93 [==============================] - 4s 41ms/step - loss: 0.3485 - acc: 0.8534 - val_loss: 0.3024 - val_acc: 0.8662\n",
            "Epoch 78/100\n",
            "93/93 [==============================] - 4s 41ms/step - loss: 0.3156 - acc: 0.8642 - val_loss: 0.2946 - val_acc: 0.8712\n",
            "Epoch 79/100\n",
            "93/93 [==============================] - 4s 41ms/step - loss: 0.3132 - acc: 0.8698 - val_loss: 0.2781 - val_acc: 0.8850\n",
            "Epoch 80/100\n",
            "93/93 [==============================] - 4s 41ms/step - loss: 0.3191 - acc: 0.8690 - val_loss: 0.2950 - val_acc: 0.8750\n",
            "Epoch 81/100\n",
            "93/93 [==============================] - 4s 41ms/step - loss: 0.2983 - acc: 0.8758 - val_loss: 0.2784 - val_acc: 0.8725\n",
            "Epoch 82/100\n",
            "93/93 [==============================] - 4s 41ms/step - loss: 0.3228 - acc: 0.8659 - val_loss: 0.5193 - val_acc: 0.7713\n",
            "Epoch 83/100\n",
            "93/93 [==============================] - 4s 41ms/step - loss: 0.2997 - acc: 0.8638 - val_loss: 0.2824 - val_acc: 0.8800\n",
            "Epoch 84/100\n",
            "93/93 [==============================] - 4s 41ms/step - loss: 0.3037 - acc: 0.8832 - val_loss: 0.2910 - val_acc: 0.8813\n",
            "Epoch 85/100\n",
            "93/93 [==============================] - 4s 41ms/step - loss: 0.3070 - acc: 0.8692 - val_loss: 0.3233 - val_acc: 0.8637\n",
            "Epoch 86/100\n",
            "93/93 [==============================] - 4s 41ms/step - loss: 0.3032 - acc: 0.8753 - val_loss: 0.2879 - val_acc: 0.8800\n",
            "Epoch 87/100\n",
            "93/93 [==============================] - 4s 41ms/step - loss: 0.3407 - acc: 0.8535 - val_loss: 0.3005 - val_acc: 0.8763\n",
            "Epoch 88/100\n",
            "93/93 [==============================] - 4s 41ms/step - loss: 0.3068 - acc: 0.8779 - val_loss: 0.3406 - val_acc: 0.8487\n",
            "Epoch 89/100\n",
            "93/93 [==============================] - 4s 41ms/step - loss: 0.3419 - acc: 0.8601 - val_loss: 0.4196 - val_acc: 0.8350\n",
            "Epoch 90/100\n",
            "93/93 [==============================] - 4s 41ms/step - loss: 0.3453 - acc: 0.8633 - val_loss: 0.2818 - val_acc: 0.8775\n",
            "Epoch 91/100\n",
            "93/93 [==============================] - 4s 41ms/step - loss: 0.3359 - acc: 0.8532 - val_loss: 0.2826 - val_acc: 0.8763\n",
            "Epoch 92/100\n",
            "93/93 [==============================] - 4s 41ms/step - loss: 0.3006 - acc: 0.8681 - val_loss: 0.2909 - val_acc: 0.8712\n",
            "Epoch 93/100\n",
            "93/93 [==============================] - 4s 41ms/step - loss: 0.3029 - acc: 0.8727 - val_loss: 0.2747 - val_acc: 0.8763\n",
            "Epoch 94/100\n",
            "93/93 [==============================] - 4s 42ms/step - loss: 0.3061 - acc: 0.8677 - val_loss: 0.2692 - val_acc: 0.8788\n",
            "Epoch 95/100\n",
            "93/93 [==============================] - 4s 41ms/step - loss: 0.3181 - acc: 0.8713 - val_loss: 0.2748 - val_acc: 0.8788\n",
            "Epoch 96/100\n",
            "93/93 [==============================] - 4s 41ms/step - loss: 0.2957 - acc: 0.8765 - val_loss: 0.2723 - val_acc: 0.8813\n",
            "Epoch 97/100\n",
            "93/93 [==============================] - 4s 41ms/step - loss: 0.3141 - acc: 0.8714 - val_loss: 0.3304 - val_acc: 0.8725\n",
            "Epoch 98/100\n",
            "93/93 [==============================] - 4s 41ms/step - loss: 0.3018 - acc: 0.8764 - val_loss: 0.2834 - val_acc: 0.8863\n",
            "Epoch 99/100\n",
            "93/93 [==============================] - 4s 41ms/step - loss: 0.3249 - acc: 0.8590 - val_loss: 0.3261 - val_acc: 0.8700\n",
            "Epoch 100/100\n",
            "93/93 [==============================] - 4s 41ms/step - loss: 0.3175 - acc: 0.8570 - val_loss: 0.3556 - val_acc: 0.8587\n"
          ],
          "name": "stdout"
        }
      ]
    },
    {
      "cell_type": "code",
      "metadata": {
        "id": "DNJBV5khoFEA",
        "colab": {
          "base_uri": "https://localhost:8080/",
          "height": 545
        },
        "outputId": "12170fd8-ff18-4a93-af2e-b29cbf2fe9d1"
      },
      "source": [
        "acc = history.history['acc']\r\n",
        "val_acc = history.history['val_acc']\r\n",
        "loss = history.history['loss']\r\n",
        "val_loss = history.history['val_loss']\r\n",
        "\r\n",
        "epochs = range(len(acc))\r\n",
        "\r\n",
        "plt.plot(epochs, acc, 'bo', label='Training accuracy')\r\n",
        "plt.plot(epochs, val_acc, 'b', label='Validation accuracy')\r\n",
        "plt.title('Training and validation accuracy')\r\n",
        "plt.legend()\r\n",
        "\r\n",
        "plt.figure()\r\n",
        "\r\n",
        "plt.plot(epochs, loss, 'bo', label='Training loss')\r\n",
        "plt.plot(epochs, val_loss, 'b', label='Validation loss')\r\n",
        "plt.title('Training and validation loss')\r\n",
        "plt.legend()\r\n",
        "\r\n",
        "plt.show()"
      ],
      "execution_count": null,
      "outputs": [
        {
          "output_type": "display_data",
          "data": {
            "image/png": "[encoded data removed]",
            "text/plain": [
              "<Figure size 432x288 with 1 Axes>"
            ]
          },
          "metadata": {
            "tags": [],
            "needs_background": "light"
          }
        },
        {
          "output_type": "display_data",
          "data": {
            "image/png": "[encoded data removed]",
            "text/plain": [
              "<Figure size 432x288 with 1 Axes>"
            ]
          },
          "metadata": {
            "tags": [],
            "needs_background": "light"
          }
        }
      ]
    },
    {
      "cell_type": "code",
      "metadata": {
        "colab": {
          "base_uri": "https://localhost:8080/"
        },
        "id": "YYDj_8GquRRh",
        "outputId": "7e4aea77-700d-41ab-b6fd-4f71c6b23df0"
      },
      "source": [
        "test_loss, test_acc = model.evaluate(test_datagen.flow(test_images,\r\n",
        "                                                       test_labels,\r\n",
        "                                                       batch_size=BATCH_SIZE,\r\n",
        "                                                       shuffle=False),\r\n",
        "                                     steps=len(test_images) // BATCH_SIZE\r\n",
        ")\r\n",
        "\r\n",
        "print(test_acc)"
      ],
      "execution_count": null,
      "outputs": [
        {
          "output_type": "stream",
          "text": [
            "16/16 [==============================] - 0s 8ms/step - loss: 0.3443 - acc: 0.8531\n",
            "0.8531249761581421\n"
          ],
          "name": "stdout"
        }
      ]
    },
    {
      "cell_type": "markdown",
      "metadata": {
        "id": "UrLD4fBGtc6k"
      },
      "source": [
        "##K-fold cross validation.\r\n"
      ]
    }
  ]
}