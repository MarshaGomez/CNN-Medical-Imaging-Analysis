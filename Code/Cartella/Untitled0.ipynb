{
  "nbformat": 4,
  "nbformat_minor": 0,
  "metadata": {
    "colab": {
      "name": "Untitled0.ipynb",
      "provenance": [],
      "collapsed_sections": [],
      "include_colab_link": true
    },
    "kernelspec": {
      "name": "python3",
      "display_name": "Python 3"
    }
  },
  "cells": [
    {
      "cell_type": "markdown",
      "metadata": {
        "id": "view-in-github",
        "colab_type": "text"
      },
      "source": [
        "<a href=\"https://colab.research.google.com/github/MarshaGomez/CNN-Medical-Imaging-Analysis/blob/main/Code/Untitled0.ipynb\" target=\"_parent\"><img src=\"https://colab.research.google.com/assets/colab-badge.svg\" alt=\"Open In Colab\"/></a>"
      ]
    },
    {
      "cell_type": "code",
      "metadata": {
        "colab": {
          "base_uri": "https://localhost:8080/",
          "height": 296
        },
        "id": "72rU7v_UW37E",
        "outputId": "69601306-488c-435e-afd4-6168169d4be4"
      },
      "source": [
        "import matplotlib\r\n",
        "import matplotlib.pyplot as plt\r\n",
        "import numpy as np\r\n",
        "\r\n",
        "labels = ['M1', 'M2', 'M3']\r\n",
        "zero_ft = [20, 34, 30]\r\n",
        "one_ft = [20, 34, 30]\r\n",
        "two_ft = [25, 32, 34]\r\n",
        "three_ft = [25, 32, 34]\r\n",
        "all_ft = [25, 32, 34]\r\n",
        "\r\n",
        "x = 3*np.arange(len(labels))  # the label locations\r\n",
        "width = 0.42  # the width of the bars\r\n",
        "\r\n",
        "fig, ax = plt.subplots()\r\n",
        "\r\n",
        "rects1 = ax.bar(x - 2*1.2*width, zero_ft, width, label='0FT')\r\n",
        "rects2 = ax.bar(x - 1.2*width, one_ft, width, label='1FT')\r\n",
        "rects3 = ax.bar(x, two_ft, width, label='2FT')\r\n",
        "rects4 = ax.bar(x + 2*1.2*width, three_ft, width, label='3FT')\r\n",
        "rects5 = ax.bar(x + 1.2*width, all_ft, width, label='AllFT')\r\n",
        "\r\n",
        "# Add some text for labels, title and custom x-axis tick labels, etc.\r\n",
        "#ax.set_ylabel('Scores')\r\n",
        "ax.set_title('Scores by group and gender')\r\n",
        "ax.set_xticks(x)\r\n",
        "ax.set_xticklabels(labels)\r\n",
        "# Put a legend below current axis\r\n",
        "ax.legend(loc='upper center', bbox_to_anchor=(0.5, -0.1),\r\n",
        "          fancybox=False, shadow=False, ncol=5)\r\n",
        "ax.spines['top'].set_visible(False)\r\n",
        "ax.spines['right'].set_visible(False)\r\n",
        "ax.spines['left'].set_visible(False)\r\n",
        "ax.spines['bottom'].set_visible(False)\r\n",
        "\r\n",
        "\r\n",
        "def autolabel(rects):\r\n",
        "    \"\"\"Attach a text label above each bar in *rects*, displaying its height.\"\"\"\r\n",
        "    for rect in rects:\r\n",
        "        height = rect.get_height()\r\n",
        "        ax.annotate('{}'.format(height),\r\n",
        "                    xy=(rect.get_x() + rect.get_width() / 2, height),\r\n",
        "                    xytext=(0, 3),  # 3 points vertical offset\r\n",
        "                    textcoords=\"offset points\",\r\n",
        "                    ha='center', va='bottom')\r\n",
        "\r\n",
        "autolabel(rects1)\r\n",
        "autolabel(rects2)\r\n",
        "autolabel(rects3)\r\n",
        "autolabel(rects4)\r\n",
        "autolabel(rects5)\r\n",
        "\r\n",
        "fig.tight_layout()\r\n",
        "plt.grid(axis='y')\r\n",
        "plt.show()"
      ],
      "execution_count": null,
      "outputs": [
        {
          "output_type": "display_data",
          "data": {
            "image/png": "[encoded data removed]",
            "text/plain": [
              "<Figure size 432x288 with 1 Axes>"
            ]
          },
          "metadata": {
            "tags": [],
            "needs_background": "light"
          }
        }
      ]
    }
  ]
}