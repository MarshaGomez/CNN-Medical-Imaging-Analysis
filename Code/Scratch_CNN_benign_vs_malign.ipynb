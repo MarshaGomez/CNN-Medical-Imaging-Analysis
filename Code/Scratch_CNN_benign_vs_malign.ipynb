{
  "nbformat": 4,
  "nbformat_minor": 0,
  "metadata": {
    "accelerator": "GPU",
    "colab": {
      "name": "Scratch_CNN_benign_vs_malign.ipynb",
      "provenance": [],
      "collapsed_sections": [],
      "include_colab_link": true
    },
    "kernelspec": {
      "name": "python3",
      "display_name": "Python 3.8.5 64-bit",
      "metadata": {
        "interpreter": {
          "hash": "14e7478b47274acca8712c9b0b8544ff5329b698c01bb681f36d15b2a0cb8390"
        }
      }
    }
  },
  "cells": [
    {
      "cell_type": "markdown",
      "metadata": {
        "id": "view-in-github",
        "colab_type": "text"
      },
      "source": [
        "<a href=\"https://colab.research.google.com/github/MarshaGomez/CNN-Medical-Imaging-Analysis/blob/main/Code/Scratch_CNN_benign_vs_malign.ipynb\" target=\"_parent\"><img src=\"https://colab.research.google.com/assets/colab-badge.svg\" alt=\"Open In Colab\"/></a>"
      ]
    },
    {
      "cell_type": "markdown",
      "metadata": {
        "id": "UPQ8gkXb0NY0"
      },
      "source": [
        "# **Scratch CNN**\r\n",
        "---\r\n",
        "Classification model for discriminating between 2 classes: **benign vs malign samples**. *Ad-hoc CNN architecture*.\r\n",
        "\r\n",
        "**Students:**   *A. Schiavo - M. Gómez - M. Daole*\r\n",
        "\r\n"
      ]
    },
    {
      "cell_type": "code",
      "metadata": {
        "colab": {
          "base_uri": "https://localhost:8080/"
        },
        "id": "95hM4MvWjwfO",
        "outputId": "3319834f-7ecf-4382-caf4-27d3477ef5ca"
      },
      "source": [
        "from google.colab import drive\r\n",
        "drive.mount('/content/gdrive', force_remount=True) "
      ],
      "execution_count": null,
      "outputs": [
        {
          "output_type": "stream",
          "text": [
            "Mounted at /content/gdrive\n"
          ],
          "name": "stdout"
        }
      ]
    },
    {
      "cell_type": "code",
      "metadata": {
        "colab": {
          "base_uri": "https://localhost:8080/"
        },
        "id": "iduaD281krFD",
        "outputId": "f9b91af6-5b25-43f3-bad8-94c997663847"
      },
      "source": [
        "import matplotlib.pyplot as plt\n",
        "import tensorflow as tf\n",
        "import numpy as np\n",
        "import pandas as pd \n",
        "import ast #Abstract Syntax Trees\n",
        "import os \n",
        "\n",
        "from tensorflow.keras import backend as K # Useful to free GPU and memory\n",
        "from tensorflow.keras.preprocessing.image import ImageDataGenerator\n",
        "from tensorflow.keras.preprocessing import image\n",
        "from keras import layers\n",
        "from keras import optimizers \n",
        "from keras import models\n",
        "from keras import regularizers\n",
        "\n",
        "BATCH_SIZE = 20\n",
        "EPOCHS = 100\n",
        "IMAGE_HEIGHT = 150\n",
        "IMAGE_WIDTH = 150\n",
        "\n",
        "base_path = \"/content/gdrive/My Drive/Colab_Notebooks/CIDL/DL Project/numpy data\"\n",
        "train_img_path = os.path.join(base_path, 'train_tensor.npy')\n",
        "train_label_path = os.path.join(base_path, 'train_labels.npy')\n",
        "test_img_path = os.path.join(base_path, 'public_test_tensor.npy')\n",
        "test_label_path = os.path.join(base_path, 'public_test_labels.npy')\n",
        "\n",
        "print(\"Done\")"
      ],
      "execution_count": null,
      "outputs": [
        {
          "output_type": "stream",
          "text": [
            "Done\n"
          ],
          "name": "stdout"
        }
      ]
    },
    {
      "cell_type": "code",
      "metadata": {
        "colab": {
          "base_uri": "https://localhost:8080/"
        },
        "id": "Gowt9JUQ6sdj",
        "outputId": "147fe53b-8747-4b0e-af39-13250ebf1292"
      },
      "source": [
        "# Get images and labels (test, train)\r\n",
        "train_images, train_labels, test_images, test_labels = load_training()\r\n",
        "\r\n",
        "# Get abnormalities only \r\n",
        "train_images = remove_baseline(train_images)\r\n",
        "train_labels = remove_baseline(train_labels)\r\n",
        "test_images = remove_baseline(test_images)\r\n",
        "test_labels = remove_baseline(test_labels)\r\n",
        "\r\n",
        "# Suffle index (Previous dataset is ordered)\r\n",
        "train_images, train_labels = shuffle_dataset(train_images, train_labels)\r\n",
        "\r\n",
        "print(\"Train shape: \", train_images.shape)\r\n",
        "print(\"Test shape: \", test_images.shape)\r\n"
      ],
      "execution_count": null,
      "outputs": [
        {
          "output_type": "stream",
          "text": [
            "Train shape:  (2676, 150, 150)\n",
            "Test shape:  (336, 150, 150)\n"
          ],
          "name": "stdout"
        }
      ]
    },
    {
      "cell_type": "markdown",
      "metadata": {
        "id": "5t4iLd0ExZho"
      },
      "source": [
        "## Data preprocessing\r\n",
        "\r\n",
        "Currently, our data sits on a drive as numpy files (**.npy**), so the steps for getting it into our network are roughly:\r\n",
        "\r\n"
      ]
    },
    {
      "cell_type": "code",
      "metadata": {
        "colab": {
          "base_uri": "https://localhost:8080/"
        },
        "id": "4QXFrENlLr_F",
        "outputId": "5beb05d0-725d-4d7b-dfde-e7fd90dd9094"
      },
      "source": [
        "#1: Mass, benign\r\n",
        "#2: Mass, malignant\r\n",
        "#3: Calcification, benign\r\n",
        "#4: Calcification, malignant\r\n",
        "\r\n",
        "#count #of masses and #of calcifications\r\n",
        "unique, counts = np.unique(train_labels, return_counts=True)\r\n",
        "#print(unique, counts)\r\n",
        "\r\n",
        "print(\"Benign Masses samples: \\t\", counts[0])\r\n",
        "print(\"Malign Masses samples: \\t\", counts[1])\r\n",
        "print(\"Benign Calc samples: \\t\", counts[2])\r\n",
        "print(\"Malign Calc samples: \\t\", counts[3])"
      ],
      "execution_count": null,
      "outputs": [
        {
          "output_type": "stream",
          "text": [
            "Benign Masses samples: \t 620\n",
            "Malign Masses samples: \t 598\n",
            "Benign Calc samples: \t 948\n",
            "Malign Calc samples: \t 510\n"
          ],
          "name": "stdout"
        }
      ]
    },
    {
      "cell_type": "code",
      "metadata": {
        "id": "I2peY8SWutuA"
      },
      "source": [
        "# Unify benign and malign cases \n",
        "def labels_mapping(labels):\n",
        "  labels_local = np.zeros(shape=labels.shape, dtype=\"float32\")\n",
        "  idx = 0\n",
        "  for label in labels:\n",
        "    # benign\n",
        "    if label == 1 or label == 3:\n",
        "      labels_local[idx] = 0\n",
        "    # malign\n",
        "    else:\n",
        "      labels_local[idx] = 1\n",
        "    idx += 1\n",
        "\n",
        "  return labels_local\n",
        "\n",
        "# Visualization Data Histogram\n",
        "def plot(history):\n",
        "  acc = history.history['acc']\n",
        "  val_acc = history.history['val_acc']\n",
        "  loss = history.history['loss']\n",
        "  val_loss = history.history['val_loss']\n",
        "\n",
        "  epochs = range(len(acc))\n",
        "\n",
        "  plt.plot(epochs, acc, 'bo', label='Training accuracy')\n",
        "  plt.plot(epochs, val_acc, 'b', label='Validation accuracy')\n",
        "  plt.title('Training and validation accuracy')\n",
        "  plt.legend()\n",
        "\n",
        "  plt.figure()\n",
        "\n",
        "  plt.plot(epochs, loss, 'bo', label='Training loss')\n",
        "  plt.plot(epochs, val_loss, 'b', label='Validation loss')\n",
        "  plt.title('Training and validation loss')\n",
        "  plt.legend()\n",
        "\n",
        "  return plt\n",
        "\n",
        "#print confusion matrix\n",
        "from sklearn.metrics import confusion_matrix, classification_report\n",
        "import itertools\n",
        "import matplotlib.pyplot as plt\n",
        "\n",
        "\n",
        "def plot_confusion_matrix(classes,\n",
        "                          dataset, \n",
        "                          labels,\n",
        "                          title='Confusion matrix',\n",
        "                          cmap=plt.cm.Blues):\n",
        "    \"\"\"\n",
        "    This function prints and plots the confusion matrix.\n",
        "    Normalization can be applied by setting `normalize=True`.\n",
        "    \"\"\"\n",
        "    Y_pred = model.predict(test_datagen.flow(dataset,\n",
        "                                            labels,\n",
        "                                            batch_size=21,\n",
        "                                            shuffle=False),\n",
        "                          steps=len(dataset) // BATCH_SIZE)\n",
        "\n",
        "    np.where(Y_pred < 0.5, 0, 1)\n",
        "    y_pred = np.where(Y_pred < 0.5, 0, 1)\n",
        "\n",
        "    print('Confusion Matrix')\n",
        "    cm = confusion_matrix(labels, y_pred)\n",
        "\n",
        "    #print(cm)\n",
        "    #print('Classification Report')\n",
        "    print(classification_report(labels, y_pred))\n",
        "\n",
        "\n",
        "    plt.imshow(cm, interpolation='nearest', cmap=cmap)\n",
        "    plt.title(title)\n",
        "    plt.colorbar()\n",
        "    tick_marks = np.arange(len(classes))\n",
        "    plt.xticks(tick_marks, classes, rotation=45)\n",
        "    plt.yticks(tick_marks, classes)\n",
        "\n",
        "    #print(cm)\n",
        "\n",
        "    thresh = cm.max() / 2.\n",
        "    for i, j in itertools.product(range(cm.shape[0]), range(cm.shape[1])):\n",
        "        plt.text(j, i, cm[i, j],\n",
        "            horizontalalignment=\"center\",\n",
        "            color=\"white\" if cm[i, j] > thresh else \"black\")\n",
        "\n",
        "    plt.tight_layout()\n",
        "    plt.ylabel('True label')\n",
        "    plt.xlabel('Predicted label')"
      ],
      "execution_count": null,
      "outputs": []
    },
    {
      "cell_type": "code",
      "metadata": {
        "colab": {
          "base_uri": "https://localhost:8080/"
        },
        "id": "GMdDBt9N3tBU",
        "outputId": "1ad46425-14b9-417e-95a5-9ec05919b8c1"
      },
      "source": [
        "train_labels = labels_mapping(train_labels)\r\n",
        "test_labels = labels_mapping(test_labels)\r\n",
        "\r\n",
        "#check if training dataset is balanced  \r\n",
        "unique, counts = np.unique(train_labels, return_counts=True)\r\n",
        "print(\"Benign samples: \", counts[0])\r\n",
        "print(\"Malign samples: \", counts[1])\r\n",
        "\r\n",
        "train_images = train_images.reshape(train_images.shape + (1,)) #(2676, 150, 150, 1)\r\n",
        "test_images = test_images.reshape(test_images.shape + (1,)) #(2676, 150, 150, 1)\r\n",
        "print(train_images.shape)\r\n",
        "print(test_images.shape)"
      ],
      "execution_count": null,
      "outputs": [
        {
          "output_type": "stream",
          "text": [
            "(2676, 150, 150, 1)\n",
            "(336, 150, 150, 1)\n"
          ],
          "name": "stdout"
        }
      ]
    },
    {
      "cell_type": "code",
      "metadata": {
        "colab": {
          "base_uri": "https://localhost:8080/"
        },
        "id": "TfMviUsBn-gX",
        "outputId": "2537e295-9df2-4b3d-bbca-d288813a79be"
      },
      "source": [
        "# split dataset into training and validation set 70-30\r\n",
        "train_images_split = train_images[:int(0.7*len(train_images))]\r\n",
        "valid_images_split = train_images[int(0.7*len(train_images)):]\r\n",
        "train_labels_split = train_labels[:int(0.7*len(train_labels))]\r\n",
        "valid_labels_split = train_labels[int(0.7*len(train_labels)):]\r\n",
        "\r\n",
        "print(train_images_split.shape)\r\n",
        "print(valid_images_split.shape)                                       "
      ],
      "execution_count": null,
      "outputs": [
        {
          "output_type": "stream",
          "text": [
            "(1873, 150, 150, 1)\n",
            "(803, 150, 150, 1)\n"
          ],
          "name": "stdout"
        }
      ]
    },
    {
      "cell_type": "code",
      "metadata": {
        "colab": {
          "base_uri": "https://localhost:8080/"
        },
        "id": "hm9x-21nzEoE",
        "outputId": "a999ace6-7ec4-413b-f559-dfacbbb96108"
      },
      "source": [
        "from tensorflow.keras.preprocessing.image import ImageDataGenerator\r\n",
        "\r\n",
        "# All images will be rescaled by 1./65535\r\n",
        "train_datagen = ImageDataGenerator(rescale=1./65535)\r\n",
        "valid_datagen = ImageDataGenerator(rescale=1./65535)\r\n",
        "test_datagen = ImageDataGenerator(rescale=1./65535) \r\n",
        "\r\n",
        "for batch, labels_batch in train_datagen.flow(train_images, labels, batch_size=BATCH_SIZE):\r\n",
        "  print(batch.shape)\r\n",
        "  print(labels_batch.shape)\r\n",
        "  break\r\n",
        "\r\n"
      ],
      "execution_count": null,
      "outputs": [
        {
          "output_type": "stream",
          "text": [
            "(20, 150, 150, 1)\n",
            "(20,)\n"
          ],
          "name": "stdout"
        }
      ]
    },
    {
      "cell_type": "markdown",
      "metadata": {
        "id": "Mi0ZJVf1vA31"
      },
      "source": [
        "## Defining CNN \r\n"
      ]
    },
    {
      "cell_type": "code",
      "metadata": {
        "id": "kwQTeDPEvKql"
      },
      "source": [
        "from keras import layers\n",
        "from keras import optimizers \n",
        "from keras import models\n",
        "from keras import regularizers\n",
        "\n",
        "def build_model(loss_function, eval_metric):\n",
        "  model = models.Sequential()\n",
        "  model.add(layers.Conv2D(32, (3, 3), activation='relu', input_shape=(150, 150, 1)))\n",
        "  model.add(layers.MaxPooling2D((2, 2)))\n",
        "  model.add(layers.Conv2D(64, (3, 3), activation='relu'))\n",
        "  model.add(layers.MaxPooling2D((2, 2)))\n",
        "  model.add(layers.Conv2D(128, (3, 3), activation='relu'))\n",
        "  model.add(layers.MaxPooling2D((2, 2)))\n",
        "  model.add(layers.Conv2D(128, (3, 3), activation='relu'))\n",
        "  model.add(layers.MaxPooling2D((2, 2)))\n",
        "  model.add(layers.Flatten())\n",
        "  model.add(layers.Dense(512, activation='relu'))\n",
        "  #model.add(layers.Dropout(0.5))\n",
        "  #model.add(layers.Dense(512, kernel_regularizer=regularizers.l2(0.001), activation=\"relu\"))\n",
        "  model.add(layers.Dense(1, activation='sigmoid'))\n",
        "\n",
        "  model.compile(loss=loss_function,\n",
        "              optimizer=optimizers.RMSprop(lr=1e-4), # lr = 0.0001\n",
        "              metrics=[\"acc\"]) \n",
        "  \n",
        "  return model "
      ],
      "execution_count": null,
      "outputs": []
    },
    {
      "cell_type": "markdown",
      "metadata": {
        "id": "fZIemXxawWLm"
      },
      "source": [
        "## CNN Compilation:\r\n",
        "\r\n"
      ]
    },
    {
      "cell_type": "code",
      "metadata": {
        "colab": {
          "base_uri": "https://localhost:8080/"
        },
        "id": "5iumGmf1whk1",
        "outputId": "19a0caea-8ddd-44bf-aadf-a1df19df6638"
      },
      "source": [
        "from keras import optimizers \r\n",
        "\r\n",
        "model = build_model(\"binary_crossentropy\", \"acc\")\r\n",
        "\r\n",
        "model.summary()"
      ],
      "execution_count": null,
      "outputs": [
        {
          "output_type": "stream",
          "text": [
            "Model: \"sequential_3\"\n",
            "_________________________________________________________________\n",
            "Layer (type)                 Output Shape              Param #   \n",
            "=================================================================\n",
            "conv2d_12 (Conv2D)           (None, 148, 148, 32)      320       \n",
            "_________________________________________________________________\n",
            "max_pooling2d_12 (MaxPooling (None, 74, 74, 32)        0         \n",
            "_________________________________________________________________\n",
            "conv2d_13 (Conv2D)           (None, 72, 72, 64)        18496     \n",
            "_________________________________________________________________\n",
            "max_pooling2d_13 (MaxPooling (None, 36, 36, 64)        0         \n",
            "_________________________________________________________________\n",
            "conv2d_14 (Conv2D)           (None, 34, 34, 128)       73856     \n",
            "_________________________________________________________________\n",
            "max_pooling2d_14 (MaxPooling (None, 17, 17, 128)       0         \n",
            "_________________________________________________________________\n",
            "conv2d_15 (Conv2D)           (None, 15, 15, 128)       147584    \n",
            "_________________________________________________________________\n",
            "max_pooling2d_15 (MaxPooling (None, 7, 7, 128)         0         \n",
            "_________________________________________________________________\n",
            "flatten_3 (Flatten)          (None, 6272)              0         \n",
            "_________________________________________________________________\n",
            "dense_6 (Dense)              (None, 512)               3211776   \n",
            "_________________________________________________________________\n",
            "dense_7 (Dense)              (None, 1)                 513       \n",
            "=================================================================\n",
            "Total params: 3,452,545\n",
            "Trainable params: 3,452,545\n",
            "Non-trainable params: 0\n",
            "_________________________________________________________________\n"
          ],
          "name": "stdout"
        }
      ]
    },
    {
      "cell_type": "code",
      "metadata": {
        "id": "H-V8cw96y_3Q",
        "colab": {
          "base_uri": "https://localhost:8080/"
        },
        "outputId": "8153cc98-5f7f-40f8-90ee-f0fb8e0d9050"
      },
      "source": [
        "history = model.fit(train_datagen.flow(train_images_split,\r\n",
        "                                       train_labels_split,\r\n",
        "                                       batch_size=BATCH_SIZE,\r\n",
        "                                       shuffle=False),\r\n",
        "                    steps_per_epoch=len(train_images_split) // BATCH_SIZE, \r\n",
        "                    epochs=EPOCHS,\r\n",
        "                    validation_data=valid_datagen.flow(valid_images_split,\r\n",
        "                                       valid_labels_split,\r\n",
        "                                       batch_size=BATCH_SIZE,\r\n",
        "                                       shuffle=False),\r\n",
        "                    validation_steps=len(valid_labels_split) // BATCH_SIZE)\r\n"
      ],
      "execution_count": null,
      "outputs": [
        {
          "output_type": "stream",
          "text": [
            "Epoch 1/100\n",
            "93/93 [==============================] - 3s 22ms/step - loss: 0.6921 - acc: 0.5683 - val_loss: 0.6833 - val_acc: 0.5850\n",
            "Epoch 2/100\n",
            "93/93 [==============================] - 2s 20ms/step - loss: 0.6827 - acc: 0.5826 - val_loss: 0.6690 - val_acc: 0.6150\n",
            "Epoch 3/100\n",
            "93/93 [==============================] - 2s 20ms/step - loss: 0.6618 - acc: 0.6169 - val_loss: 0.6448 - val_acc: 0.6300\n",
            "Epoch 4/100\n",
            "93/93 [==============================] - 2s 20ms/step - loss: 0.6460 - acc: 0.6306 - val_loss: 0.6371 - val_acc: 0.6463\n",
            "Epoch 5/100\n",
            "93/93 [==============================] - 2s 20ms/step - loss: 0.6448 - acc: 0.5996 - val_loss: 0.6405 - val_acc: 0.6338\n",
            "Epoch 6/100\n",
            "93/93 [==============================] - 2s 20ms/step - loss: 0.6318 - acc: 0.6406 - val_loss: 0.6301 - val_acc: 0.6575\n",
            "Epoch 7/100\n",
            "93/93 [==============================] - 2s 20ms/step - loss: 0.6284 - acc: 0.6298 - val_loss: 0.6249 - val_acc: 0.6125\n",
            "Epoch 8/100\n",
            "93/93 [==============================] - 2s 20ms/step - loss: 0.6182 - acc: 0.6430 - val_loss: 0.6306 - val_acc: 0.6288\n",
            "Epoch 9/100\n",
            "93/93 [==============================] - 2s 20ms/step - loss: 0.6121 - acc: 0.6494 - val_loss: 0.6180 - val_acc: 0.6587\n",
            "Epoch 10/100\n",
            "93/93 [==============================] - 2s 20ms/step - loss: 0.6152 - acc: 0.6572 - val_loss: 0.6274 - val_acc: 0.6450\n",
            "Epoch 11/100\n",
            "93/93 [==============================] - 2s 20ms/step - loss: 0.6137 - acc: 0.6412 - val_loss: 0.6333 - val_acc: 0.6300\n",
            "Epoch 12/100\n",
            "93/93 [==============================] - 2s 20ms/step - loss: 0.5948 - acc: 0.6673 - val_loss: 0.6179 - val_acc: 0.6675\n",
            "Epoch 13/100\n",
            "93/93 [==============================] - 2s 20ms/step - loss: 0.5948 - acc: 0.6608 - val_loss: 0.6163 - val_acc: 0.6313\n",
            "Epoch 14/100\n",
            "93/93 [==============================] - 2s 20ms/step - loss: 0.6082 - acc: 0.6188 - val_loss: 0.6228 - val_acc: 0.6612\n",
            "Epoch 15/100\n",
            "93/93 [==============================] - 2s 20ms/step - loss: 0.6045 - acc: 0.6450 - val_loss: 0.6712 - val_acc: 0.5800\n",
            "Epoch 16/100\n",
            "93/93 [==============================] - 2s 20ms/step - loss: 0.5996 - acc: 0.6518 - val_loss: 0.6055 - val_acc: 0.6513\n",
            "Epoch 17/100\n",
            "93/93 [==============================] - 2s 20ms/step - loss: 0.5832 - acc: 0.6611 - val_loss: 0.6088 - val_acc: 0.6388\n",
            "Epoch 18/100\n",
            "93/93 [==============================] - 2s 20ms/step - loss: 0.5910 - acc: 0.6448 - val_loss: 0.6081 - val_acc: 0.6812\n",
            "Epoch 19/100\n",
            "93/93 [==============================] - 2s 20ms/step - loss: 0.5837 - acc: 0.6656 - val_loss: 0.6014 - val_acc: 0.6475\n",
            "Epoch 20/100\n",
            "93/93 [==============================] - 2s 20ms/step - loss: 0.5713 - acc: 0.6896 - val_loss: 0.6054 - val_acc: 0.6687\n",
            "Epoch 21/100\n",
            "93/93 [==============================] - 2s 20ms/step - loss: 0.5632 - acc: 0.7007 - val_loss: 0.6021 - val_acc: 0.6525\n",
            "Epoch 22/100\n",
            "93/93 [==============================] - 2s 20ms/step - loss: 0.5628 - acc: 0.6913 - val_loss: 0.6018 - val_acc: 0.6612\n",
            "Epoch 23/100\n",
            "93/93 [==============================] - 2s 20ms/step - loss: 0.5691 - acc: 0.6783 - val_loss: 0.6042 - val_acc: 0.6650\n",
            "Epoch 24/100\n",
            "93/93 [==============================] - 2s 20ms/step - loss: 0.5728 - acc: 0.6585 - val_loss: 0.6157 - val_acc: 0.6500\n",
            "Epoch 25/100\n",
            "93/93 [==============================] - 2s 21ms/step - loss: 0.5596 - acc: 0.6886 - val_loss: 0.5989 - val_acc: 0.6812\n",
            "Epoch 26/100\n",
            "93/93 [==============================] - 2s 20ms/step - loss: 0.5425 - acc: 0.7195 - val_loss: 0.5954 - val_acc: 0.6762\n",
            "Epoch 27/100\n",
            "93/93 [==============================] - 2s 20ms/step - loss: 0.5409 - acc: 0.7152 - val_loss: 0.6043 - val_acc: 0.6637\n",
            "Epoch 28/100\n",
            "93/93 [==============================] - 2s 20ms/step - loss: 0.5402 - acc: 0.7334 - val_loss: 0.6010 - val_acc: 0.6762\n",
            "Epoch 29/100\n",
            "93/93 [==============================] - 2s 20ms/step - loss: 0.5132 - acc: 0.7417 - val_loss: 0.5976 - val_acc: 0.6812\n",
            "Epoch 30/100\n",
            "93/93 [==============================] - 2s 20ms/step - loss: 0.5266 - acc: 0.7254 - val_loss: 0.6160 - val_acc: 0.6837\n",
            "Epoch 31/100\n",
            "93/93 [==============================] - 2s 20ms/step - loss: 0.5347 - acc: 0.7333 - val_loss: 0.6103 - val_acc: 0.6675\n",
            "Epoch 32/100\n",
            "93/93 [==============================] - 2s 20ms/step - loss: 0.5184 - acc: 0.7196 - val_loss: 0.6049 - val_acc: 0.6762\n",
            "Epoch 33/100\n",
            "93/93 [==============================] - 2s 20ms/step - loss: 0.4941 - acc: 0.7494 - val_loss: 0.6044 - val_acc: 0.6862\n",
            "Epoch 34/100\n",
            "93/93 [==============================] - 2s 20ms/step - loss: 0.4993 - acc: 0.7663 - val_loss: 0.6100 - val_acc: 0.6712\n",
            "Epoch 35/100\n",
            "93/93 [==============================] - 2s 22ms/step - loss: 0.4854 - acc: 0.7527 - val_loss: 0.6010 - val_acc: 0.6825\n",
            "Epoch 36/100\n",
            "93/93 [==============================] - 2s 20ms/step - loss: 0.4792 - acc: 0.7671 - val_loss: 0.6312 - val_acc: 0.6625\n",
            "Epoch 37/100\n",
            "93/93 [==============================] - 2s 20ms/step - loss: 0.4654 - acc: 0.7587 - val_loss: 0.6463 - val_acc: 0.6500\n",
            "Epoch 38/100\n",
            "93/93 [==============================] - 2s 20ms/step - loss: 0.4602 - acc: 0.7736 - val_loss: 0.6853 - val_acc: 0.6475\n",
            "Epoch 39/100\n",
            "93/93 [==============================] - 2s 20ms/step - loss: 0.4556 - acc: 0.7724 - val_loss: 0.6296 - val_acc: 0.6787\n",
            "Epoch 40/100\n",
            "93/93 [==============================] - 2s 20ms/step - loss: 0.4564 - acc: 0.7616 - val_loss: 0.6405 - val_acc: 0.6825\n",
            "Epoch 41/100\n",
            "93/93 [==============================] - 2s 20ms/step - loss: 0.4441 - acc: 0.7882 - val_loss: 0.6569 - val_acc: 0.6737\n",
            "Epoch 42/100\n",
            "93/93 [==============================] - 2s 20ms/step - loss: 0.4300 - acc: 0.8030 - val_loss: 0.6478 - val_acc: 0.6950\n",
            "Epoch 43/100\n",
            "93/93 [==============================] - 2s 20ms/step - loss: 0.4083 - acc: 0.8089 - val_loss: 0.6717 - val_acc: 0.6938\n",
            "Epoch 44/100\n",
            "93/93 [==============================] - 2s 20ms/step - loss: 0.4081 - acc: 0.7955 - val_loss: 0.6843 - val_acc: 0.6825\n",
            "Epoch 45/100\n",
            "93/93 [==============================] - 2s 20ms/step - loss: 0.3847 - acc: 0.8192 - val_loss: 0.6870 - val_acc: 0.6625\n",
            "Epoch 46/100\n",
            "93/93 [==============================] - 2s 20ms/step - loss: 0.3794 - acc: 0.8305 - val_loss: 0.6848 - val_acc: 0.6737\n",
            "Epoch 47/100\n",
            "93/93 [==============================] - 2s 20ms/step - loss: 0.3829 - acc: 0.8313 - val_loss: 0.7539 - val_acc: 0.6525\n",
            "Epoch 48/100\n",
            "93/93 [==============================] - 2s 20ms/step - loss: 0.3490 - acc: 0.8397 - val_loss: 0.7215 - val_acc: 0.6787\n",
            "Epoch 49/100\n",
            "93/93 [==============================] - 2s 20ms/step - loss: 0.3496 - acc: 0.8438 - val_loss: 0.7185 - val_acc: 0.6900\n",
            "Epoch 50/100\n",
            "93/93 [==============================] - 2s 20ms/step - loss: 0.3149 - acc: 0.8643 - val_loss: 0.7470 - val_acc: 0.6650\n",
            "Epoch 51/100\n",
            "93/93 [==============================] - 2s 20ms/step - loss: 0.3225 - acc: 0.8643 - val_loss: 0.7521 - val_acc: 0.6787\n",
            "Epoch 52/100\n",
            "93/93 [==============================] - 2s 20ms/step - loss: 0.3001 - acc: 0.8740 - val_loss: 0.8042 - val_acc: 0.6787\n",
            "Epoch 53/100\n",
            "93/93 [==============================] - 2s 20ms/step - loss: 0.2935 - acc: 0.8762 - val_loss: 0.9145 - val_acc: 0.6413\n",
            "Epoch 54/100\n",
            "93/93 [==============================] - 2s 20ms/step - loss: 0.2819 - acc: 0.8858 - val_loss: 0.8023 - val_acc: 0.6687\n",
            "Epoch 55/100\n",
            "93/93 [==============================] - 2s 20ms/step - loss: 0.2612 - acc: 0.8870 - val_loss: 0.8196 - val_acc: 0.6812\n",
            "Epoch 56/100\n",
            "93/93 [==============================] - 2s 20ms/step - loss: 0.2508 - acc: 0.9057 - val_loss: 0.9299 - val_acc: 0.6700\n",
            "Epoch 57/100\n",
            "93/93 [==============================] - 2s 20ms/step - loss: 0.2412 - acc: 0.9136 - val_loss: 0.8551 - val_acc: 0.6737\n",
            "Epoch 58/100\n",
            "93/93 [==============================] - 2s 20ms/step - loss: 0.2326 - acc: 0.9119 - val_loss: 0.9057 - val_acc: 0.6750\n",
            "Epoch 59/100\n",
            "93/93 [==============================] - 2s 20ms/step - loss: 0.2116 - acc: 0.9193 - val_loss: 0.9295 - val_acc: 0.6675\n",
            "Epoch 60/100\n",
            "93/93 [==============================] - 2s 20ms/step - loss: 0.2045 - acc: 0.9220 - val_loss: 0.9123 - val_acc: 0.6587\n",
            "Epoch 61/100\n",
            "93/93 [==============================] - 2s 21ms/step - loss: 0.2045 - acc: 0.9219 - val_loss: 1.0919 - val_acc: 0.6237\n",
            "Epoch 62/100\n",
            "93/93 [==============================] - 2s 21ms/step - loss: 0.1880 - acc: 0.9289 - val_loss: 1.0364 - val_acc: 0.6662\n",
            "Epoch 63/100\n",
            "93/93 [==============================] - 2s 20ms/step - loss: 0.1802 - acc: 0.9303 - val_loss: 1.0405 - val_acc: 0.6525\n",
            "Epoch 64/100\n",
            "93/93 [==============================] - 2s 20ms/step - loss: 0.1556 - acc: 0.9472 - val_loss: 1.0107 - val_acc: 0.6750\n",
            "Epoch 65/100\n",
            "93/93 [==============================] - 2s 20ms/step - loss: 0.1394 - acc: 0.9606 - val_loss: 1.1268 - val_acc: 0.6700\n",
            "Epoch 66/100\n",
            "93/93 [==============================] - 2s 20ms/step - loss: 0.1450 - acc: 0.9493 - val_loss: 1.1325 - val_acc: 0.6812\n",
            "Epoch 67/100\n",
            "93/93 [==============================] - 2s 21ms/step - loss: 0.1195 - acc: 0.9625 - val_loss: 1.2932 - val_acc: 0.6488\n",
            "Epoch 68/100\n",
            "93/93 [==============================] - 2s 20ms/step - loss: 0.1307 - acc: 0.9594 - val_loss: 1.3917 - val_acc: 0.6100\n",
            "Epoch 69/100\n",
            "93/93 [==============================] - 2s 20ms/step - loss: 0.1153 - acc: 0.9647 - val_loss: 1.2814 - val_acc: 0.6625\n",
            "Epoch 70/100\n",
            "93/93 [==============================] - 2s 20ms/step - loss: 0.1007 - acc: 0.9704 - val_loss: 1.1882 - val_acc: 0.6812\n",
            "Epoch 71/100\n",
            "93/93 [==============================] - 2s 20ms/step - loss: 0.0881 - acc: 0.9823 - val_loss: 1.4094 - val_acc: 0.6737\n",
            "Epoch 72/100\n",
            "93/93 [==============================] - 2s 20ms/step - loss: 0.0900 - acc: 0.9764 - val_loss: 1.2992 - val_acc: 0.6812\n",
            "Epoch 73/100\n",
            "93/93 [==============================] - 2s 20ms/step - loss: 0.0758 - acc: 0.9811 - val_loss: 1.3394 - val_acc: 0.6800\n",
            "Epoch 74/100\n",
            "93/93 [==============================] - 2s 21ms/step - loss: 0.0747 - acc: 0.9821 - val_loss: 1.3460 - val_acc: 0.6575\n",
            "Epoch 75/100\n",
            "93/93 [==============================] - 2s 21ms/step - loss: 0.0667 - acc: 0.9864 - val_loss: 1.4082 - val_acc: 0.6700\n",
            "Epoch 76/100\n",
            "93/93 [==============================] - 2s 20ms/step - loss: 0.0756 - acc: 0.9758 - val_loss: 1.4787 - val_acc: 0.6775\n",
            "Epoch 77/100\n",
            "93/93 [==============================] - 2s 20ms/step - loss: 0.0519 - acc: 0.9894 - val_loss: 1.5464 - val_acc: 0.6500\n",
            "Epoch 78/100\n",
            "93/93 [==============================] - 2s 20ms/step - loss: 0.0618 - acc: 0.9779 - val_loss: 1.5261 - val_acc: 0.6562\n",
            "Epoch 79/100\n",
            "93/93 [==============================] - 2s 20ms/step - loss: 0.0437 - acc: 0.9916 - val_loss: 1.5865 - val_acc: 0.6812\n",
            "Epoch 80/100\n",
            "93/93 [==============================] - 2s 20ms/step - loss: 0.0401 - acc: 0.9926 - val_loss: 1.5619 - val_acc: 0.6600\n",
            "Epoch 81/100\n",
            "93/93 [==============================] - 2s 21ms/step - loss: 0.0341 - acc: 0.9936 - val_loss: 1.7298 - val_acc: 0.6775\n",
            "Epoch 82/100\n",
            "93/93 [==============================] - 2s 22ms/step - loss: 0.0333 - acc: 0.9946 - val_loss: 1.6814 - val_acc: 0.6562\n",
            "Epoch 83/100\n",
            "93/93 [==============================] - 2s 20ms/step - loss: 0.0329 - acc: 0.9934 - val_loss: 1.8074 - val_acc: 0.6413\n",
            "Epoch 84/100\n",
            "93/93 [==============================] - 2s 21ms/step - loss: 0.0306 - acc: 0.9934 - val_loss: 1.7549 - val_acc: 0.6612\n",
            "Epoch 85/100\n",
            "93/93 [==============================] - 2s 21ms/step - loss: 0.0277 - acc: 0.9946 - val_loss: 2.1927 - val_acc: 0.6750\n",
            "Epoch 86/100\n",
            "93/93 [==============================] - 2s 20ms/step - loss: 0.0231 - acc: 0.9953 - val_loss: 1.9229 - val_acc: 0.6662\n",
            "Epoch 87/100\n",
            "93/93 [==============================] - 2s 20ms/step - loss: 0.0195 - acc: 0.9979 - val_loss: 1.9699 - val_acc: 0.6600\n",
            "Epoch 88/100\n",
            "93/93 [==============================] - 2s 20ms/step - loss: 0.0200 - acc: 0.9945 - val_loss: 1.9742 - val_acc: 0.6675\n",
            "Epoch 89/100\n",
            "93/93 [==============================] - 2s 20ms/step - loss: 0.0152 - acc: 0.9966 - val_loss: 2.0288 - val_acc: 0.6650\n",
            "Epoch 90/100\n",
            "93/93 [==============================] - 2s 21ms/step - loss: 0.0118 - acc: 0.9981 - val_loss: 2.1199 - val_acc: 0.6612\n",
            "Epoch 91/100\n",
            "93/93 [==============================] - 2s 20ms/step - loss: 0.0171 - acc: 0.9965 - val_loss: 2.0625 - val_acc: 0.6675\n",
            "Epoch 92/100\n",
            "93/93 [==============================] - 2s 20ms/step - loss: 0.0189 - acc: 0.9942 - val_loss: 2.1759 - val_acc: 0.6662\n",
            "Epoch 93/100\n",
            "93/93 [==============================] - 2s 20ms/step - loss: 0.0094 - acc: 0.9985 - val_loss: 2.1945 - val_acc: 0.6775\n",
            "Epoch 94/100\n",
            "93/93 [==============================] - 2s 20ms/step - loss: 0.0178 - acc: 0.9948 - val_loss: 2.2365 - val_acc: 0.6725\n",
            "Epoch 95/100\n",
            "93/93 [==============================] - 2s 20ms/step - loss: 0.0120 - acc: 0.9970 - val_loss: 2.3793 - val_acc: 0.6725\n",
            "Epoch 96/100\n",
            "93/93 [==============================] - 2s 20ms/step - loss: 0.0164 - acc: 0.9949 - val_loss: 2.2760 - val_acc: 0.6712\n",
            "Epoch 97/100\n",
            "93/93 [==============================] - 2s 20ms/step - loss: 0.0074 - acc: 0.9982 - val_loss: 2.3196 - val_acc: 0.6762\n",
            "Epoch 98/100\n",
            "93/93 [==============================] - 2s 21ms/step - loss: 0.0278 - acc: 0.9926 - val_loss: 2.4551 - val_acc: 0.6775\n",
            "Epoch 99/100\n",
            "93/93 [==============================] - 2s 21ms/step - loss: 0.0167 - acc: 0.9956 - val_loss: 2.2331 - val_acc: 0.6687\n",
            "Epoch 100/100\n",
            "93/93 [==============================] - 2s 20ms/step - loss: 0.0090 - acc: 0.9976 - val_loss: 2.9855 - val_acc: 0.6562\n"
          ],
          "name": "stdout"
        }
      ]
    },
    {
      "cell_type": "code",
      "metadata": {
        "colab": {
          "base_uri": "https://localhost:8080/",
          "height": 545
        },
        "id": "nI8FjTjY4KIe",
        "outputId": "27f396ca-1000-4179-df6a-c6c24ac9a803"
      },
      "source": [
        "plt = plot(history)\r\n",
        "plt.show()"
      ],
      "execution_count": null,
      "outputs": [
        {
          "output_type": "display_data",
          "data": {
            "image/png": "[encoded data removed]",
            "text/plain": [
              "<Figure size 432x288 with 1 Axes>"
            ]
          },
          "metadata": {
            "tags": [],
            "needs_background": "light"
          }
        },
        {
          "output_type": "display_data",
          "data": {
            "image/png": "[encoded data removed]",
            "text/plain": [
              "<Figure size 432x288 with 1 Axes>"
            ]
          },
          "metadata": {
            "tags": [],
            "needs_background": "light"
          }
        }
      ]
    },
    {
      "cell_type": "code",
      "metadata": {
        "colab": {
          "base_uri": "https://localhost:8080/"
        },
        "id": "pH89us9R_o_F",
        "outputId": "084e85c6-5401-459a-b641-fe299223f365"
      },
      "source": [
        "test_loss, test_acc = model.evaluate(test_datagen.flow(test_images,\r\n",
        "                                                       test_labels,\r\n",
        "                                                       batch_size=BATCH_SIZE,\r\n",
        "                                                       shuffle=False),\r\n",
        "                                     steps=len(test_images) // BATCH_SIZE\r\n",
        ")\r\n",
        "\r\n",
        "print(test_acc)"
      ],
      "execution_count": null,
      "outputs": [
        {
          "output_type": "stream",
          "text": [
            "16/16 [==============================] - 0s 8ms/step - loss: 2.7742 - acc: 0.6469\n",
            "0.6468750238418579\n"
          ],
          "name": "stdout"
        }
      ]
    },
    {
      "cell_type": "code",
      "metadata": {
        "colab": {
          "base_uri": "https://localhost:8080/",
          "height": 481
        },
        "id": "dVAYIwa30-07",
        "outputId": "f9080732-0220-4772-a9db-22957de6a09e"
      },
      "source": [
        "#print confusion matrix\r\n",
        "plot_confusion_matrix(classes,\r\n",
        "                      test_images,\r\n",
        "                      test_labels,\r\n",
        "                      title='Confusion matrix',\r\n",
        "                      cmap=plt.cm.Blues)  "
      ],
      "execution_count": null,
      "outputs": [
        {
          "output_type": "stream",
          "text": [
            "Confusion Matrix\n",
            "              precision    recall  f1-score   support\n",
            "\n",
            "         0.0       0.68      0.84      0.75       219\n",
            "         1.0       0.47      0.26      0.34       117\n",
            "\n",
            "    accuracy                           0.64       336\n",
            "   macro avg       0.58      0.55      0.55       336\n",
            "weighted avg       0.61      0.64      0.61       336\n",
            "\n"
          ],
          "name": "stdout"
        },
        {
          "output_type": "display_data",
          "data": {
            "image/png": "[encoded data removed]",
            "text/plain": [
              "<Figure size 432x288 with 2 Axes>"
            ]
          },
          "metadata": {
            "tags": [],
            "needs_background": "light"
          }
        }
      ]
    },
    {
      "cell_type": "code",
      "metadata": {
        "id": "d-UNxbiA1DRh"
      },
      "source": [
        "#ROC-AUC "
      ],
      "execution_count": null,
      "outputs": []
    },
    {
      "cell_type": "markdown",
      "metadata": {
        "id": "rDiilxUVIXkZ"
      },
      "source": [
        "## Dealing with imbalanced dataset: \r\n",
        "**1.Weighted Class Approah**"
      ]
    },
    {
      "cell_type": "code",
      "metadata": {
        "colab": {
          "base_uri": "https://localhost:8080/"
        },
        "id": "aMLh90d2ITDz",
        "outputId": "d92808d3-61f0-4866-834c-cf9f341d8788"
      },
      "source": [
        "from sklearn.utils import class_weight\r\n",
        "\r\n",
        "#compute class_weights\r\n",
        "class_weights = class_weight.compute_class_weight('balanced',\r\n",
        "                                                 np.unique(train_labels_split),\r\n",
        "                                                 train_labels_split)\r\n",
        "\r\n",
        "class_weights = {0: class_weights[0],\r\n",
        "                 1: class_weights[1]}\r\n",
        "\r\n",
        "print(class_weights)"
      ],
      "execution_count": null,
      "outputs": [
        {
          "output_type": "stream",
          "text": [
            "{0: 0.8521383075523203, 1: 1.2099483204134367}\n"
          ],
          "name": "stdout"
        }
      ]
    },
    {
      "cell_type": "code",
      "metadata": {
        "colab": {
          "base_uri": "https://localhost:8080/"
        },
        "id": "FCOJuULvX_pt",
        "outputId": "44c91b97-feed-4591-fe0b-4a9f190a074e"
      },
      "source": [
        "model = build_model(\"binary_crossentropy\", \"acc\")\r\n",
        "\r\n",
        "#model.summary()\r\n",
        "\r\n",
        "history = model.fit(train_datagen.flow(train_images_split,\r\n",
        "                                       train_labels_split,\r\n",
        "                                       batch_size=BATCH_SIZE,\r\n",
        "                                       shuffle=False),\r\n",
        "                    steps_per_epoch=len(train_images_split) // BATCH_SIZE, \r\n",
        "                    epochs=EPOCHS,\r\n",
        "                    validation_data=valid_datagen.flow(valid_images_split,\r\n",
        "                                       valid_labels_split,\r\n",
        "                                       batch_size=BATCH_SIZE,\r\n",
        "                                       shuffle=False),\r\n",
        "                    validation_steps=len(valid_labels_split) // BATCH_SIZE,\r\n",
        "                    class_weight=class_weights)\r\n"
      ],
      "execution_count": null,
      "outputs": [
        {
          "output_type": "stream",
          "text": [
            "Epoch 1/100\n",
            "93/93 [==============================] - 3s 22ms/step - loss: 0.6965 - acc: 0.5101 - val_loss: 0.6894 - val_acc: 0.5713\n",
            "Epoch 2/100\n",
            "68/93 [====================>.........] - ETA: 0s - loss: 0.6893 - acc: 0.5177"
          ],
          "name": "stdout"
        }
      ]
    },
    {
      "cell_type": "code",
      "metadata": {
        "colab": {
          "base_uri": "https://localhost:8080/",
          "height": 545
        },
        "id": "Ka_L9arWagZi",
        "outputId": "1ba906c1-943f-4151-ed93-a296f82a279b"
      },
      "source": [
        "plt = plot(history)\r\n",
        "plt.show()"
      ],
      "execution_count": null,
      "outputs": [
        {
          "output_type": "display_data",
          "data": {
            "image/png": "[encoded data removed]",
            "text/plain": [
              "<Figure size 432x288 with 1 Axes>"
            ]
          },
          "metadata": {
            "tags": [],
            "needs_background": "light"
          }
        },
        {
          "output_type": "display_data",
          "data": {
            "image/png": "[encoded data removed]",
            "text/plain": [
              "<Figure size 432x288 with 1 Axes>"
            ]
          },
          "metadata": {
            "tags": [],
            "needs_background": "light"
          }
        }
      ]
    },
    {
      "cell_type": "code",
      "metadata": {
        "colab": {
          "base_uri": "https://localhost:8080/"
        },
        "id": "hBtj_IOxaxa5",
        "outputId": "4b0215ba-996d-4d86-f5aa-1aa3351eb0bb"
      },
      "source": [
        "test_loss, test_acc = model.evaluate(test_datagen.flow(test_images,\r\n",
        "                                                       test_labels,\r\n",
        "                                                       batch_size=BATCH_SIZE,\r\n",
        "                                                       shuffle=False),\r\n",
        "                                     steps=len(test_images) // BATCH_SIZE\r\n",
        ")\r\n",
        "\r\n",
        "print(test_acc)"
      ],
      "execution_count": null,
      "outputs": [
        {
          "output_type": "stream",
          "text": [
            "16/16 [==============================] - 0s 8ms/step - loss: 3.3172 - acc: 0.6219\n",
            "0.621874988079071\n"
          ],
          "name": "stdout"
        }
      ]
    },
    {
      "cell_type": "code",
      "metadata": {
        "colab": {
          "base_uri": "https://localhost:8080/",
          "height": 481
        },
        "id": "9BLps6lVbHRJ",
        "outputId": "6828301d-2243-42da-f0e6-dee0f5ff04c3"
      },
      "source": [
        "plot_confusion_matrix(classes,\r\n",
        "                      test_images,\r\n",
        "                      test_labels,\r\n",
        "                      title='Confusion matrix',\r\n",
        "                      cmap=plt.cm.Blues)  "
      ],
      "execution_count": null,
      "outputs": [
        {
          "output_type": "stream",
          "text": [
            "Confusion Matrix\n",
            "              precision    recall  f1-score   support\n",
            "\n",
            "         0.0       0.67      0.83      0.74       219\n",
            "         1.0       0.41      0.22      0.29       117\n",
            "\n",
            "    accuracy                           0.62       336\n",
            "   macro avg       0.54      0.53      0.51       336\n",
            "weighted avg       0.58      0.62      0.58       336\n",
            "\n"
          ],
          "name": "stdout"
        },
        {
          "output_type": "display_data",
          "data": {
            "image/png": "[encoded data removed]",
            "text/plain": [
              "<Figure size 432x288 with 2 Axes>"
            ]
          },
          "metadata": {
            "tags": [],
            "needs_background": "light"
          }
        }
      ]
    }
  ]
}